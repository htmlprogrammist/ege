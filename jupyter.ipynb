{
  "nbformat": 4,
  "nbformat_minor": 0,
  "metadata": {
    "colab": {
      "name": "Google Colab ЕГЭ ИКТ.ipynb",
      "provenance": [],
      "collapsed_sections": [],
      "toc_visible": true,
      "include_colab_link": true
    },
    "kernelspec": {
      "name": "python3",
      "display_name": "Python 3.8.5 64-bit",
      "metadata": {
        "interpreter": {
          "hash": "aee8b7b246df8f9039afb4144a1f6fd8d2ca17a180786b69acc140d282b71a49"
        }
      }
    }
  },
  "cells": [
    {
      "cell_type": "markdown",
      "metadata": {
        "id": "view-in-github",
        "colab_type": "text"
      },
      "source": [
        "<a href=\"https://colab.research.google.com/github/htmlprogrammist/unified-state-exam/blob/master/jupyter.ipynb\" target=\"_parent\"><img src=\"https://colab.research.google.com/assets/colab-badge.svg\" alt=\"Open In Colab\"/></a>"
      ]
    },
    {
      "cell_type": "markdown",
      "metadata": {
        "id": "6pOlk2GGcwyJ"
      },
      "source": [
        "# 5 задание\n",
        "---\n"
      ]
    },
    {
      "cell_type": "code",
      "metadata": {
        "id": "VHlOdCI7c0Z8",
        "colab": {
          "base_uri": "https://localhost:8080/"
        },
        "outputId": "b96b41df-d413-480b-959a-0f0fc22a4fd1"
      },
      "source": [
        "answers = []\n",
        "\n",
        "for i in range(0, 256):\n",
        "    binary_i = bin(i)[2:]\n",
        "\n",
        "    counter_zero = 0\n",
        "    counter_one = 0\n",
        "    for j in range(len(binary_i)):\n",
        "        if binary_i[j] == '1':\n",
        "            counter_one += 1\n",
        "        if binary_i[j] == '0':\n",
        "            counter_zero += 1\n",
        "    if counter_one > counter_zero:\n",
        "        binary_i += '0'\n",
        "    else:\n",
        "        binary_i = '11' + binary_i\n",
        "\n",
        "    counter_zero = 0\n",
        "    counter_one = 0\n",
        "    for j in range(len(binary_i)):\n",
        "        if binary_i[j] == '1':\n",
        "            counter_one += 1\n",
        "        if binary_i[j] == '0':\n",
        "            counter_zero += 1\n",
        "    if counter_one > counter_zero:\n",
        "        binary_i += '0'\n",
        "    else:\n",
        "        binary_i = '11' + binary_i\n",
        "    \n",
        "    if int(binary_i, 2) > 500:\n",
        "        # print(int(binary_i, 2))  # 992\n",
        "        # print(binary_i)  # 1111100000\n",
        "        answers.append(i)\n",
        "\n",
        "# print(answers)  # Ответ по смыслу\n",
        "print(min(answers))  # Ответ по заданию\n"
      ],
      "execution_count": null,
      "outputs": [
        {
          "output_type": "stream",
          "text": [
            "32\n"
          ],
          "name": "stdout"
        }
      ]
    },
    {
      "cell_type": "code",
      "metadata": {
        "id": "0qFD6fgdc2ZG"
      },
      "source": [
        "# Условие выше\n",
        "# 350\n",
        "answers = []\n",
        "\n",
        "\n",
        "def how_many_units_and_zeros(binary_i):\n",
        "    global counter_one, counter_zero\n",
        "    counter_zero = 0\n",
        "    counter_one = 0\n",
        "    for j in range(len(binary_i)):\n",
        "        if binary_i[j] == '1':\n",
        "            counter_one += 1\n",
        "        if binary_i[j] == '0':\n",
        "            counter_zero += 1\n",
        "    return counter_one, counter_zero\n",
        "\n",
        "\n",
        "for i in range(0, 256):\n",
        "    binary_i = bin(i)[2:]  # 1) Строится двоичная запись числа N.\n",
        "\n",
        "    how_many_units_and_zeros(binary_i)  # 2) К этой записи дописываются разряды по следующему правилу:\n",
        "    if counter_one > counter_zero:  # а) если единиц больше, чем нулей,\n",
        "        binary_i += '0'  # в конец дописывается 0,\n",
        "    else:  # б) иначе\n",
        "        binary_i = '11' + binary_i  # в начало строки дописывается две 1.\n",
        "\n",
        "    # print('После первого раза, а потом единицы, а потом нули', binary_i, counter_one, counter_zero)\n",
        "\n",
        "    how_many_units_and_zeros(binary_i)  # 3) Повторяется пункт 2\n",
        "    if counter_one > counter_zero:  # а) если единиц больше, чем нулей,\n",
        "        binary_i += '0'  # в конец дописывается 0,\n",
        "    else:  # б) иначе\n",
        "        binary_i = '11' + binary_i  # в начало строки дописывается две 1.\n",
        "\n",
        "    if int(binary_i, 2) > 500:\n",
        "        # print(int(binary_i, 2))  # 992\n",
        "        # print(binary_i)  # 1111100000\n",
        "        answers.append(i)\n",
        "\n",
        "# print(answers)  # Ответ по смыслу\n",
        "print(min(answers))  # Ответ по заданию\n"
      ],
      "execution_count": null,
      "outputs": []
    },
    {
      "cell_type": "code",
      "metadata": {
        "id": "yL8fvD0AdF_F",
        "colab": {
          "base_uri": "https://localhost:8080/"
        },
        "outputId": "2f732f26-27b7-4268-811d-44f3eeed11ea"
      },
      "source": [
        "\"\"\"\n",
        "Задание 5 (№559).\n",
        "На вход алгоритма подаётся натуральное число N.\n",
        "Алгоритм строит по нему новое число следующим образом.\n",
        "1) Строится двоичная запись числа N.\n",
        "2) К этой записи дописываются справа ещё два разряда по следующему правилу:\n",
        "если N чётное, в конец числа (справа) дописываются два нуля,\n",
        "в противном случае справа дописываются две единицы.\n",
        "Например, двоичная запись 1001 числа 9 будет преобразована в 100111.\n",
        "Полученная таким образом запись\n",
        "(в ней на два разряда больше, чем в записи исходного числа N)\n",
        "является двоичной записью числа – результата работы данного алгоритма.\n",
        "Укажите минимальное число N, для которого результат работы алгоритма будет больше 115.\n",
        "В ответе это число запишите в десятичной системе счисления.\n",
        "\n",
        "29\n",
        "\"\"\"\n",
        "# 115 в двоичном представлении будет равняться 1110011\n",
        "# Поскольку длина здесь равняется 7, а прибавляем мы два разряда => максимальное число 31\n",
        "answers = []\n",
        "condition = 115\n",
        "\n",
        "for N in range(32):\n",
        "    binary = bin(N)[2:]\n",
        "    if N % 2 == 0:\n",
        "        binary += '00'\n",
        "    else:\n",
        "        binary += '11'\n",
        "    # print(binary, answer)\n",
        "    if int(binary, 2) > condition:\n",
        "        answers.append(N)\n",
        "\n",
        "print(min(answers))\n"
      ],
      "execution_count": null,
      "outputs": [
        {
          "output_type": "stream",
          "text": [
            "29\n"
          ],
          "name": "stdout"
        }
      ]
    },
    {
      "cell_type": "code",
      "metadata": {
        "id": "bZgi8XbcmCD3"
      },
      "source": [
        "\"\"\"\n",
        "Задание 5 (№262).\n",
        "Автомат обрабатывает натуральное число N < 128 по следующему алгоритму:\n",
        "1) Строится восьмибитная двоичная запись числа N.\n",
        "2) Инвертируются разряды исходного числа (0 заменяется на 1, 1 на 0).\n",
        "3) К полученному двоичному числу прибавляют единицу.\n",
        "4) Полученное число переводится в десятичную систему счисления.\n",
        "Для какого числа N результат работы алгоритма равен 221?\n",
        "\n",
        "35\n",
        "\"\"\"\n",
        "\n",
        "answers = []\n",
        "\n",
        "for i in range(128):\n",
        "    binary = bin(i)[2:]\n",
        "    binary_inverted = ''\n",
        "\n",
        "    if len(binary) < 8:\n",
        "        binary = '0' * (8 - len(binary)) + binary\n",
        "    # print(i, binary)\n",
        "\n",
        "    for j in range(len(binary)):\n",
        "        if binary[j] == '0':\n",
        "            binary_inverted += '1'\n",
        "        else:\n",
        "            binary_inverted += '0'\n",
        "    result = binary_inverted + '1'\n",
        "    # print(binary_inverted)\n",
        "    # print(result)\n",
        "    # print(int(result, 2))\n",
        "    if int(result, 2) == 221:\n",
        "        answers.append(i)\n",
        "\n",
        "# print(bin(221))  # 11011101\n",
        "# По сути, это binary_reversed, а просто binary будет равна 00100010 = 34 в десятичной, но не 35...\n",
        "print(answers)\n"
      ],
      "execution_count": null,
      "outputs": []
    },
    {
      "cell_type": "code",
      "metadata": {
        "id": "afPguV6bxD2k",
        "colab": {
          "base_uri": "https://localhost:8080/"
        },
        "outputId": "36a00bd2-6e52-41ec-a941-2d3487806e0e"
      },
      "source": [
        "\"\"\"\n",
        "Задание 5 (№560).\n",
        "На вход алгоритма подаётся натуральное число N. Алгоритм строит по нему новое число R следующим образом.\n",
        "1) Строится двоичная запись числа N.\n",
        "2) К этой записи дописывается (дублируется) последняя цифра.\n",
        "3) Затем справа дописывается 0, если в двоичном коде числа N чётное число единиц, и 1, если нечётное.\n",
        "4) К полученному результату дописывается ещё один бит чётности так, \n",
        "чтобы количество единиц в двоичной записи полученного числа стало чётным.\n",
        "Полученная таким образом запись (в ней на три разряда больше, чем в записи исходного числа N) \n",
        "является двоичной записью искомого числа R. \n",
        "Укажите минимальное число R, большее 105, \n",
        "которое могло получиться в результате работы автомата. В ответе это число запишите в десятичной системе.\n",
        "\n",
        "111\n",
        "\"\"\"\n",
        "answers = []\n",
        "\n",
        "\n",
        "def how_many_units(binary):\n",
        "    global counter_units\n",
        "    for j in range(len(binary)):\n",
        "        if binary[j] == '1':\n",
        "            counter_units += 1\n",
        "    return counter_units\n",
        "\n",
        "\n",
        "def parity_and_actions(counter_units):\n",
        "    global binary\n",
        "    if counter_units % 2 == 0:\n",
        "        binary += '0'\n",
        "    else:\n",
        "        binary += '1'\n",
        "    return binary\n",
        "\n",
        "\n",
        "for i in range(256):\n",
        "    binary = bin(i)[2:]\n",
        "    binary += binary[-1]\n",
        "    counter_units = 0\n",
        "    \n",
        "    how_many_units(binary)\n",
        "    parity_and_actions(counter_units)\n",
        "    how_many_units(binary)\n",
        "    parity_and_actions(counter_units)\n",
        "    \n",
        "    if int(binary, 2) > 105:\n",
        "        answers.append(int(binary, 2))\n",
        "\n",
        "print(answers)\n"
      ],
      "execution_count": null,
      "outputs": [
        {
          "output_type": "stream",
          "text": [
            "[108, 115, 127, 131, 143, 144, 156, 160, 172, 179, 191, 192, 204, 211, 223, 227, 239, 240, 252, 259, 271, 272, 284, 288, 300, 307, 319, 320, 332, 339, 351, 355, 367, 368, 380, 384, 396, 403, 415, 419, 431, 432, 444, 451, 463, 464, 476, 480, 492, 499, 511, 515, 527, 528, 540, 544, 556, 563, 575, 576, 588, 595, 607, 611, 623, 624, 636, 640, 652, 659, 671, 675, 687, 688, 700, 707, 719, 720, 732, 736, 748, 755, 767, 768, 780, 787, 799, 803, 815, 816, 828, 835, 847, 848, 860, 864, 876, 883, 895, 899, 911, 912, 924, 928, 940, 947, 959, 960, 972, 979, 991, 995, 1007, 1008, 1020, 1027, 1039, 1040, 1052, 1056, 1068, 1075, 1087, 1088, 1100, 1107, 1119, 1123, 1135, 1136, 1148, 1152, 1164, 1171, 1183, 1187, 1199, 1200, 1212, 1219, 1231, 1232, 1244, 1248, 1260, 1267, 1279, 1280, 1292, 1299, 1311, 1315, 1327, 1328, 1340, 1347, 1359, 1360, 1372, 1376, 1388, 1395, 1407, 1411, 1423, 1424, 1436, 1440, 1452, 1459, 1471, 1472, 1484, 1491, 1503, 1507, 1519, 1520, 1532, 1536, 1548, 1555, 1567, 1571, 1583, 1584, 1596, 1603, 1615, 1616, 1628, 1632, 1644, 1651, 1663, 1667, 1679, 1680, 1692, 1696, 1708, 1715, 1727, 1728, 1740, 1747, 1759, 1763, 1775, 1776, 1788, 1795, 1807, 1808, 1820, 1824, 1836, 1843, 1855, 1856, 1868, 1875, 1887, 1891, 1903, 1904, 1916, 1920, 1932, 1939, 1951, 1955, 1967, 1968, 1980, 1987, 1999, 2000, 2012, 2016, 2028, 2035, 2047]\n"
          ],
          "name": "stdout"
        }
      ]
    },
    {
      "cell_type": "code",
      "metadata": {
        "id": "Ct54bOi4x9wO",
        "colab": {
          "base_uri": "https://localhost:8080/"
        },
        "outputId": "89b0671d-ae00-4c93-8104-24d954e5b0a0"
      },
      "source": [
        "\"\"\"\n",
        "Задание 5 (№88).\n",
        "Автомат обрабатывает натуральное число N по следующему алгоритму:  \n",
        "1. Строится двоичная запись числа N.  \n",
        "2. Складываются все цифры полученной двоичной записи. Если сумма получилась нечетной, \n",
        "справа к двоичной записи дописывается две единицы, иначе слева. \n",
        "3. Число переводится в десятичную систему счисления. Полученное число является результатом работы автомата. \n",
        "\n",
        "Пример. Дано число N = 13. Алгоритм работает следующим образом:  \n",
        "1. Двоичная запись числа N: 1101.  \n",
        "2. Сумма цифр двоичной записи 3, число нечетное. Значит получается число 110111  \n",
        "3. 1101112 = 5510 \n",
        "Какое наименьшее число N необходимо дать на обработку автомату, чтобы в итоге получилось число больше 102? \n",
        "\n",
        "17\n",
        "\"\"\"\n",
        "answers = []\n",
        "\n",
        "for i in range(256):\n",
        "    summa = 0\n",
        "    binary = bin(i)[2:]\n",
        "    \n",
        "    for j in range(len(binary)):\n",
        "        if binary[j] == '1':\n",
        "            summa += 1\n",
        "    if summa % 2 != 0:\n",
        "        binary += '11'\n",
        "    else:\n",
        "        binary = '11' + binary\n",
        "    # print(binary)\n",
        "    if int(binary, 2) > 102:\n",
        "        answers.append(i)\n",
        "\n",
        "print(min(answers))\n"
      ],
      "execution_count": null,
      "outputs": [
        {
          "output_type": "stream",
          "text": [
            "17\n"
          ],
          "name": "stdout"
        }
      ]
    },
    {
      "cell_type": "code",
      "metadata": {
        "id": "FB5aA5EQpCNJ",
        "colab": {
          "base_uri": "https://localhost:8080/"
        },
        "outputId": "80707611-8493-4e1a-a938-43c483cd7dfe"
      },
      "source": [
        "\"\"\"\n",
        "Задание 5 (№422).\n",
        "Автомат обрабатывает десятичное натуральное число N по следующему алгоритму.\n",
        "1. В шестеричной записи числа N дублируется последняя цифра\n",
        "2. Получившееся число переводится в двоичное представление.\n",
        "3. В получившейся записи дублируется последняя цифра.\n",
        "4. Полученное в результате этих операций число переводится в десятичную систему счисления.\n",
        "Пример.\n",
        "Дано число 13.\n",
        "1310 -> 216 -> 2116 -> 10011112 -> 100111112 -> 15910\n",
        "Укажите максимальное число, меньшее 344, которое может являться результатом выполнения алгоритма.\n",
        "\n",
        "331\n",
        "\"\"\"\n",
        "mx = 0\n",
        "\n",
        "for i in range(1, 100):\n",
        "    binary = ''\n",
        "    six_inary = ''\n",
        "    number = i\n",
        "    while number > 0:\n",
        "        six_inary = str(number % 6) + six_inary\n",
        "        number //= 6\n",
        "    # if int(six_inary, 6) == i:\n",
        "    #     print(True)\n",
        "    # print(six_inary, type(six_inary))\n",
        "    six_inary += six_inary[-1]\n",
        "    number = int(six_inary, 6)\n",
        "    while number > 0:\n",
        "        binary = str(number % 2) + binary\n",
        "        number //= 2\n",
        "    binary += binary[-1]\n",
        "    if int(binary, 2) < 344:\n",
        "        mx = int(binary, 2)\n",
        "print(mx)\n"
      ],
      "execution_count": null,
      "outputs": [
        {
          "output_type": "stream",
          "text": [
            "331\n"
          ],
          "name": "stdout"
        }
      ]
    },
    {
      "cell_type": "markdown",
      "metadata": {
        "id": "EsJsVKNsVHvC"
      },
      "source": [
        "# 15 задание\n",
        "---\n",
        "**Алгебра логики**  \n",
        "Знаки:  \n",
        "∨ - дизъюнкция  \n",
        "⋀ - конъюнкция  \n",
        "→ - импликация  \n"
      ]
    },
    {
      "cell_type": "markdown",
      "metadata": {
        "id": "UXe3fHGtQEpd"
      },
      "source": [
        "---\n",
        "Р-35  (демо-2021). Обозначим через ДЕЛ(n,m) утверждение «натуральное число n делится без\n",
        "остатка на натуральное число m».  \n",
        "Для какого наибольшего натурального числа А формула  \n",
        "**¬ДЕЛ(x,А) => (ДЕЛ(x,6) => ¬ДЕЛ(x,9))**  \n",
        "тождественно истинна (то есть принимает значение 1 при любом натуральном значении переменной х)? "
      ]
    },
    {
      "cell_type": "code",
      "metadata": {
        "colab": {
          "base_uri": "https://localhost:8080/"
        },
        "id": "HA52I7o_PHwo",
        "outputId": "a876ce7d-d0e8-41ef-e94e-305f4543a6dc"
      },
      "source": [
        "def Del(x, D):  # Проверяет делимость первого аргумента x на второй аргумент D (если x делится на D, возвращается True)\n",
        "    return x % D == 0\n",
        "\n",
        "\n",
        "def F(x, A):  # Функция по заданию\n",
        "    return (not Del(x, A)) <= (Del(x, 6) <= (not Del(x, 9)))\n",
        "\n",
        "\n",
        "# Перебор\n",
        "for A in range(1, 1000):\n",
        "    OK = True\n",
        "    for x in range(1, 1000):\n",
        "        if not F(x, A):\n",
        "            OK = False\n",
        "            break\n",
        "    if OK:\n",
        "        print(A)\n"
      ],
      "execution_count": null,
      "outputs": [
        {
          "output_type": "stream",
          "text": [
            "1\n",
            "2\n",
            "3\n",
            "6\n",
            "9\n",
            "18\n"
          ],
          "name": "stdout"
        }
      ]
    },
    {
      "cell_type": "markdown",
      "metadata": {
        "id": "vA4WgyqNSTZe"
      },
      "source": [
        "---\n",
        "Р-34.  (С.С. Поляков) Укажите наименьшее целое значение А, при котором выражение  \n",
        "**(5k + 6n > 57) ∨ ((k ≤ A) ⋀ (n < A))**  \n",
        "истинно для любых целых положительных значений k и n."
      ]
    },
    {
      "cell_type": "code",
      "metadata": {
        "id": "jE8dBjysSQSJ",
        "colab": {
          "base_uri": "https://localhost:8080/"
        },
        "outputId": "8ac5440d-ac64-4c2a-e514-3f37be4c9d12"
      },
      "source": [
        "def F(k, n, A):\n",
        "    return (5*k + 6*n > 57) or ((k <= A) and (n < A))\n",
        "\n",
        "\n",
        "for A in range(1, 1000):\n",
        "    OK = True\n",
        "    for k in range(1, 1000):\n",
        "        for n in range(1, 1000):\n",
        "            if not F(k, n, A):\n",
        "                OK = False\n",
        "                break\n",
        "    if OK:\n",
        "        print(A)\n",
        "        break  # BREAK НЕОБХОДИМ! Нам нужно искать наименьшее, поэтому break позволит получить лишь одно значение\n",
        "        # Если убрать break, то значения А поползут ещё дальше\n"
      ],
      "execution_count": null,
      "outputs": [
        {
          "output_type": "stream",
          "text": [
            "10\n"
          ],
          "name": "stdout"
        }
      ]
    },
    {
      "cell_type": "markdown",
      "metadata": {
        "id": "0VSnQPEaTm57"
      },
      "source": [
        "---\n",
        "Р-33.  (С.С. Поляков) Укажите наибольшее целое значение А, при котором выражение  \n",
        "**(y – x != 5) ∨ (A < 2x^3 + y) ∨ (A < y^2 + 16)**  \n",
        "истинно для любых целых положительных значений x и y.\n"
      ]
    },
    {
      "cell_type": "code",
      "metadata": {
        "colab": {
          "base_uri": "https://localhost:8080/"
        },
        "id": "98bOzX8-TwBq",
        "outputId": "cbaed36a-7444-4011-b2b5-80629f2062ea"
      },
      "source": [
        "result = []\n",
        "\n",
        "\n",
        "def F(x, y, A):\n",
        "    return (y - x != 5) or (A < 2*(x**3) + y) or (A < y**2 + 16)\n",
        "\n",
        "\n",
        "for A in range(1, 100):\n",
        "    OK = True\n",
        "    for x in range(1, 1000):\n",
        "        for y in range(1, 1000):\n",
        "            if not F(x, y, A):\n",
        "                OK = False\n",
        "                break\n",
        "    if OK:\n",
        "        result.append(A)\n",
        "print(max(result))\n",
        "\n",
        "\"\"\" Перебор А, но в обратную сторону\n",
        "for A in range(100, 0, -1):\n",
        "    OK = True\n",
        "    for k in range(1,1000):\n",
        "        for n in range(1,1000):\n",
        "            if not f(k, n, A):\n",
        "                OK = False\n",
        "                break\n",
        "    if OK:\n",
        "        print(A)\n",
        "        break\n",
        "\"\"\"\n"
      ],
      "execution_count": null,
      "outputs": [
        {
          "output_type": "stream",
          "text": [
            "51\n"
          ],
          "name": "stdout"
        },
        {
          "output_type": "execute_result",
          "data": {
            "application/vnd.google.colaboratory.intrinsic+json": {
              "type": "string"
            },
            "text/plain": [
              "' Перебор А, но в обратную сторону\\nfor A in range(100, 0, -1):\\n    OK = True\\n    for k in range(1,1000):\\n        for n in range(1,1000):\\n            if not f(k, n, A):\\n                OK = False\\n                break\\n    if OK:\\n        print(A)\\n        break\\n'"
            ]
          },
          "metadata": {
            "tags": []
          },
          "execution_count": 3
        }
      ]
    },
    {
      "cell_type": "markdown",
      "metadata": {
        "id": "zat3Bcg-VNwH"
      },
      "source": [
        "---\n",
        "Р-25. Введём выражение M & K, обозначающее поразрядную конъюнкцию M и K (логическое «И» между соответствующими битами двоичной записи). Определите наименьшее натуральное число a, такое что выражение  \n",
        "**(x & 125 != 1) ∨ ((x & 34 = 2) => (x & a = 0))**  \n",
        "тождественно истинно (то есть принимает значение 1 при любом натуральном значении переменной x)?\n"
      ]
    },
    {
      "cell_type": "code",
      "metadata": {
        "colab": {
          "base_uri": "https://localhost:8080/"
        },
        "id": "ObK0td6vVZuH",
        "outputId": "ae1d5248-44a0-468a-c444-ec5b6921bbb6"
      },
      "source": [
        "def F(x, A):\n",
        "    return (x & 125 != 1) or ((x & 34 == 2) <= (x & A == 0))\n",
        "\n",
        "\n",
        "for A in range(1, 1000):\n",
        "    allowance = True\n",
        "    for x in range(1, 1000):\n",
        "        if not F(x, A):\n",
        "            allowance = False\n",
        "            break\n",
        "    if allowance:\n",
        "        print(A)\n",
        "        break\n"
      ],
      "execution_count": null,
      "outputs": [
        {
          "output_type": "stream",
          "text": [
            "4\n"
          ],
          "name": "stdout"
        }
      ]
    },
    {
      "cell_type": "markdown",
      "metadata": {
        "id": "2zR4gijbW6hN"
      },
      "source": [
        "---\n",
        "Р-24. Введём выражение M & K, обозначающее поразрядную конъюнкцию M и K (логическое «И» между соответствующими битами двоичной записи). Определите наименьшее натуральное число a, такое что выражение  \n",
        "**((x & 28 != 0) ∨ (x & 45 != 0)) → ((x & 48 = 0) → (x & A != 0))**  \n",
        "тождественно истинно (то есть принимает значение 1 при любом натуральном значении переменной x)?  \n",
        "*Ответ: 13*\n"
      ]
    },
    {
      "cell_type": "code",
      "metadata": {
        "id": "mkFOXPKHXQJf"
      },
      "source": [
        "def F(x, A):\n",
        "    return ((x * 28 != 0) or (x & 45 != 0)) <= ((x & 48 == 0) <= (x & A != 0))\n",
        "\n",
        "\n",
        "for A in range(1, 100):\n",
        "    allowance = True\n",
        "    for x in range(1, 1000):\n",
        "        if not F(x, A):\n",
        "            allowance = False\n",
        "            break\n",
        "    if allowance:\n",
        "        print(A)\n",
        "        break\n"
      ],
      "execution_count": null,
      "outputs": []
    },
    {
      "cell_type": "markdown",
      "metadata": {
        "id": "gTIjlUyEkpFT"
      },
      "source": [
        "---"
      ]
    },
    {
      "cell_type": "code",
      "metadata": {
        "colab": {
          "base_uri": "https://localhost:8080/"
        },
        "id": "pGmnEQLs_MQF",
        "outputId": "f9757804-5ff4-42e7-ce9a-d470e6c73794"
      },
      "source": [
        "def F(x, y, A):\n",
        "    return ((6*x + 4*y != 34) or (A > 5*x + 3*y) and (A > 4*y + 15*x - 35))\n",
        "\n",
        "\n",
        "for A in range(1, 100):\n",
        "    allowance = True\n",
        "    for x in range(1, 1000):\n",
        "        for y in range(1, 1000):\n",
        "            if not F(x, y, A):\n",
        "                allowance = False\n",
        "                break\n",
        "    if allowance:\n",
        "        print(A)\n",
        "        break\n"
      ],
      "execution_count": null,
      "outputs": [
        {
          "output_type": "stream",
          "text": [
            "45\n"
          ],
          "name": "stdout"
        }
      ]
    },
    {
      "cell_type": "markdown",
      "metadata": {
        "id": "LjTILWTN_8Ua"
      },
      "source": [
        "---\n",
        "Р-20 (М.В. Кузнецова). Обозначим через ДЕЛ(n, m) утверждение «натуральное число n делится без остатка на натуральное число m». Для какого наименьшего натурального числа А формула\n",
        "ДЕЛ(x, А) → ((ДЕЛ(x, 21) + ДЕЛ(x, 35))\n",
        "тождественно истинна (то есть принимает значение 1 при любом натуральном значении переменной х)?  \n",
        "\n",
        "*Ответ: 21*\n"
      ]
    },
    {
      "cell_type": "code",
      "metadata": {
        "colab": {
          "base_uri": "https://localhost:8080/"
        },
        "id": "Z-E0lwMw_whv",
        "outputId": "a1e665e4-f048-4571-8931-073ee7cc5389"
      },
      "source": [
        "def division(m, n):\n",
        "    return m % n == 0\n",
        "\n",
        "\n",
        "def f(x, A):\n",
        "    return division(x, A) <= (division(x, 21) or division(x, 35))\n",
        "\n",
        "\n",
        "for A in range(1, 100):\n",
        "    let = True\n",
        "    for x in range(1, 1000):\n",
        "        if not f(x, A):\n",
        "            let = False\n",
        "    if let:\n",
        "        print(A)\n",
        "        break\n"
      ],
      "execution_count": null,
      "outputs": [
        {
          "output_type": "stream",
          "text": [
            "21\n"
          ],
          "name": "stdout"
        }
      ]
    },
    {
      "cell_type": "markdown",
      "metadata": {
        "id": "i52Syjr4BOP0"
      },
      "source": [
        "---\n",
        "Р-18. Пусть P – множество всех 8-битовых цепочек, начинающихся с 1,  Q – множество всех 8-битовых цепочек, оканчивающихся на 000, а A – некоторое множество произвольных 8-битовых цепочек. Сколько элементов содержит минимальное множество A, при котором для любой 8-битовой цепочки x истинно выражение  \n",
        "\n",
        " ¬(x принадлежит A) → (¬(x принадлежит P) ∨ (x принадлежит Q)) "
      ]
    },
    {
      "cell_type": "code",
      "metadata": {
        "colab": {
          "base_uri": "https://localhost:8080/"
        },
        "id": "veP7tJCZBa8q",
        "outputId": "f7cba506-66f3-4554-d5a6-b3fdd6564ed9"
      },
      "source": [
        "P = {i for i in range(128,256)} # множество Р\n",
        "Q = {i for i in range(0,256,8)} # множество Q\n",
        "print(len(P-Q))\n"
      ],
      "execution_count": null,
      "outputs": [
        {
          "output_type": "stream",
          "text": [
            "112\n"
          ],
          "name": "stdout"
        }
      ]
    },
    {
      "cell_type": "markdown",
      "metadata": {
        "id": "b5q8hBcl2Yyj"
      },
      "source": [
        "# 16 задание\n",
        "---"
      ]
    },
    {
      "cell_type": "code",
      "metadata": {
        "id": "MtyEPmoY2b43"
      },
      "source": [
        "\"\"\"\n",
        "№ 699, Джобс 16.11.2020\n",
        "Алгоритм вычисления функции F(n) задан следующими соотношениями:\n",
        "F(n) = 1 при n ≤ 1;\n",
        "F(n) = n · F(n – 1) при чётных n > 1;\n",
        "F(n) = n + F(n – 2) при нечётных n > 1;\n",
        "Определите значение F(84).\n",
        "\"\"\"\n",
        "\n",
        "\n",
        "def F(n):\n",
        "    if n <= 1:\n",
        "        return 1\n",
        "    if n % 2 == 0 and n > 1:\n",
        "        return n * F(n - 1)\n",
        "    if n % 2 != 0 and n > 1:\n",
        "        return n + F(n - 2)\n",
        "\n",
        "\n",
        "print(F(84))\n"
      ],
      "execution_count": null,
      "outputs": []
    },
    {
      "cell_type": "code",
      "metadata": {
        "id": "-4KPrXuQ24dq"
      },
      "source": [
        "\"\"\"\n",
        "№ 724, Джобс 23.11.2020\n",
        "Алгоритм вычисления функций F(n) и G(n) задан следующими соотношениями:\n",
        "F(n) = G(n) = 1 при n = 1\n",
        "F(n) = F(n–1) – 2 · G(n–1), при n > 1\n",
        "G(n) = F(n–1) + G(n–1) + n, при n > 1\n",
        "Чему равна сумма цифр значения функции G(36)?\n",
        "\n",
        "40\n",
        "\"\"\"\n",
        "\n",
        "\n",
        "def F(n):\n",
        "    if n == 1:\n",
        "        return 1\n",
        "    if n > 1:\n",
        "        return F(n - 1) - 2 * G(n - 1)\n",
        "\n",
        "\n",
        "def G(n):\n",
        "    if n == 1:\n",
        "        return 1\n",
        "    if n > 1:\n",
        "        return F(n - 1) + G(n - 1) + n\n",
        "\n",
        "\n",
        "print(G(36))\n"
      ],
      "execution_count": null,
      "outputs": []
    },
    {
      "cell_type": "code",
      "metadata": {
        "id": "Zi-3X7MY26df"
      },
      "source": [
        "\"\"\"\n",
        "№ 724, Джобс 23.11.2020\n",
        "Алгоритм вычисления функций F(n) и G(n) задан следующими соотношениями:\n",
        "F(n) = G(n) = 1 при n = 1\n",
        "F(n) = F(n–1) – 2 · G(n–1), при n > 1\n",
        "G(n) = F(n–1) + G(n–1) + n, при n > 1\n",
        "Чему равна сумма цифр значения функции G(36)?\n",
        "\n",
        "40\n",
        "\"\"\"\n",
        "F = [1] * 37\n",
        "G = [1] * 37\n",
        "F[1] = G[1] = 1\n",
        "for i in range(2, 36 + 1):\n",
        "    F[i] = F[i - 1] - 2 * G[i - 1]\n",
        "    G[i] = F[i - 1] + G[i - 1] + i\n",
        "\n",
        "\n",
        "summa = 0\n",
        "string = G[36]\n",
        "for number in str(string):\n",
        "    summa += int(number)\n",
        "\n",
        "print(summa)\n"
      ],
      "execution_count": null,
      "outputs": []
    },
    {
      "cell_type": "code",
      "metadata": {
        "id": "D26UkrNl28fX"
      },
      "source": [
        "\"\"\"\n",
        "№ 805, Джобс 07.12.2020\n",
        "Алгоритм вычисления функций F(n)? Где n – натуральное число, задан следующими соотношениями:\n",
        "F(n) = n – 1 при n < 4,\n",
        "F(n) = n + 2*F(n – 1), когда n > 3 и кратно 3\n",
        "F(n) = F(n – 2) + F(n – 3), когда n > 3 и не кратно 3.\n",
        "Чему равна сумма цифр значения функции F(25)?\n",
        "\n",
        "13\n",
        "\"\"\"\n",
        "F = [1] * (25 + 1)\n",
        "\n",
        "for n in range(1, 4):\n",
        "    F[n] = n - 1\n",
        "\n",
        "for n in range(4, 25 + 1):\n",
        "    if n > 3 and n % 3 == 0:\n",
        "        F[n] = n + 2 * F[n - 1]\n",
        "    if n > 3 and n % 3 != 0:\n",
        "        F[n] = F[n - 2] + F[n - 3]\n",
        "\n",
        "string_number = F[25]\n",
        "summa = 0\n",
        "for n in str(string_number):\n",
        "    summa += int(n)\n",
        "\n",
        "print(summa)\n"
      ],
      "execution_count": null,
      "outputs": []
    },
    {
      "cell_type": "code",
      "metadata": {
        "id": "3E6kZZqC2-wY"
      },
      "source": [
        "\"\"\"\n",
        "№ 928, Джобс 08.02.2021\n",
        "Алгоритм вычисления функции F(n) задан следующими соотношениями:\n",
        "F(n) = n + 3, при n ≤ 3\n",
        "F(n) = F(n – 2) + n, при n > 3 и четном значении F(n-1),\n",
        "F(n) = F(n – 2) + 2· n, при n > 3 и нечетном значении F(n-1)\n",
        "Определите сумму значений, являющихся результатом вызова функции для значений в диапазоне [40; 50].\n",
        "\n",
        "8508\n",
        "\"\"\"\n",
        "summa = 0\n",
        "F = [1] * (50 + 1)\n",
        "\n",
        "for n in range(4):\n",
        "    F[n] = n + 3\n",
        "\n",
        "for n in range(4, 50 + 1):\n",
        "    if n > 3 and F[n - 1] % 2 == 0:\n",
        "        F[n] = F[n - 2] + n\n",
        "    if n > 3 and F[n - 1] % 2 != 0:\n",
        "        F[n] = F[n - 2] + 2 * n\n",
        "\n",
        "for n in range(40, 50 + 1):\n",
        "    summa += F[n]\n",
        "\n",
        "print(summa)\n"
      ],
      "execution_count": null,
      "outputs": []
    },
    {
      "cell_type": "code",
      "metadata": {
        "id": "_ZKBRuhp3BRl"
      },
      "source": [
        "\"\"\"\n",
        "№ 606\n",
        "Алгоритм вычисления функции F(n) задан следующими соотношениями:\n",
        "F(n) = 1 при n = 1\n",
        "F(n) = 2·F(n–1) + n + 3, если n > 1\n",
        "Чему равно значение функции F(19)?\n",
        "\n",
        "1834984\n",
        "\"\"\"\n",
        "\n",
        "\n",
        "def F(n):\n",
        "    if n == 1:\n",
        "        return 1\n",
        "    if n > 1:\n",
        "        return 2 * F(n - 1) + n + 3\n",
        "\n",
        "\n",
        "print(F(19))\n"
      ],
      "execution_count": null,
      "outputs": []
    },
    {
      "cell_type": "code",
      "metadata": {
        "id": "HVjR2oqi3DwV"
      },
      "source": [
        "\"\"\"\n",
        "№ 830, Джобс 14.12.2020\n",
        "Алгоритм вычисления функций F(n)? Где n – натуральное число, задан следующими соотношениями:\n",
        "F(n) = n + 1 при n < 3,\n",
        "F(n) = n + 2*F(n + 2), когда n ≥ 3 и четно,\n",
        "F(n) = F(n – 2) + n - 2, когда n ≥ 3 и нечетно.\n",
        "Сколько существует чисел n, для которых значение F(n)  будет трехзначным?\n",
        "\n",
        "22\n",
        "\"\"\"\n",
        "counter = 0\n",
        "F = [1] * (102 + 1)\n",
        "\n",
        "for n in range(3):\n",
        "    F[n] = n + 1\n",
        "\n",
        "for n in range(3, 100 + 1):\n",
        "    if n >= 3 and n % 2 == 0:\n",
        "        F[n] = n + 2 * F[n + 2]\n",
        "    if n >= 3 and n % 2 != 0:\n",
        "        F[n] = F[n - 2] + n - 2\n",
        "\n",
        "for number in F:\n",
        "    if len(str(number)) == 3:\n",
        "        counter += 1\n",
        "\n",
        "print(counter)\n"
      ],
      "execution_count": null,
      "outputs": []
    },
    {
      "cell_type": "code",
      "metadata": {
        "id": "ampuBcPQ3FIS"
      },
      "source": [
        "\"\"\"\n",
        "№ 604\n",
        "Определите сумму чисел, которые выведет процедура при вызове F(50).\n",
        "```\n",
        "def F(n):\n",
        "    print(2 * n + 1)\n",
        "    if n > 1:\n",
        "        print(3 * n - 8)\n",
        "        F(n - 1)\n",
        "        F(n - 4)\n",
        "```\n",
        "\n",
        "170480034\n",
        "\"\"\"\n",
        "summa = 0\n",
        "\n",
        "\n",
        "def F(n):\n",
        "    global summa\n",
        "    summa += 2 * n + 1\n",
        "    if n > 1:\n",
        "        summa += 3 * n - 8\n",
        "        F(n - 1)\n",
        "        F(n - 4)\n",
        "    return summa\n",
        "\n",
        "\n",
        "F(50)\n",
        "print(summa)\n"
      ],
      "execution_count": null,
      "outputs": []
    },
    {
      "cell_type": "markdown",
      "metadata": {
        "id": "Ok7HzNrRbWj-"
      },
      "source": [
        "# 17 задание\n",
        "---\n",
        "Перебор целых чисел на заданном отрезке. Проверка делимости  \n",
        "Если ответ содержится внутри текстового задания, то это задание вызвало трудности"
      ]
    },
    {
      "cell_type": "code",
      "metadata": {
        "colab": {
          "base_uri": "https://localhost:8080/"
        },
        "id": "VnGRJ2IxbkVS",
        "outputId": "7b9a5491-89a4-4605-d8ee-b67161d6b721"
      },
      "source": [
        "\"\"\"\n",
        "Рассматривается множество целых чисел, принадлежащих числовому отрезку [3089; 9715], \n",
        "которые не делятся нацело на 7, 8, 9, 13 и являются четными.\n",
        "Найдите количество таких чисел и максимальное из них.\n",
        "\"\"\"\n",
        "\n",
        "counter = 0\n",
        "mx = 0\n",
        "\n",
        "for i in range(3089, 9715 + 1):\n",
        "    if i % 7 != 0 and i % 8 != 0 and i % 9 != 0 and i % 13 != 0 and i % 2 == 0:\n",
        "        counter += 1\n",
        "        mx = i\n",
        "print(counter, mx)\n"
      ],
      "execution_count": null,
      "outputs": [
        {
          "output_type": "stream",
          "text": [
            "1749 9714\n"
          ],
          "name": "stdout"
        }
      ]
    },
    {
      "cell_type": "code",
      "metadata": {
        "colab": {
          "base_uri": "https://localhost:8080/"
        },
        "id": "vbwDorEMccD7",
        "outputId": "2e9681a1-2a85-446f-9126-ad373be240ea"
      },
      "source": [
        "\"\"\"\n",
        "Рассматривается множество целых чисел, принадлежащих числовому отрезку [3712; 8432],\n",
        "которые удовлетворяют следующим условиям:\n",
        "− запись в двоичной и четверичной системах счисления заканчивается одинаковой цифрой;\n",
        "− кратны 13, 14 или 15.\n",
        "Найдите количество таких чисел и минимальное из них.\n",
        "\"\"\"\n",
        "counter = 0\n",
        "\n",
        "for i in range(8432, 3712 + 1, -1):\n",
        "    current_binary_number_i = i\n",
        "    current_quaternary_number_i = i\n",
        "    binary_number_i = ''\n",
        "    quaternary_number_i = ''\n",
        "    while current_binary_number_i > 0:\n",
        "        binary_number_i = str(current_binary_number_i % 2) + binary_number_i\n",
        "        current_binary_number_i //= 2\n",
        "    while current_quaternary_number_i > 0:\n",
        "        quaternary_number_i = str(current_quaternary_number_i % 4) + quaternary_number_i\n",
        "        current_quaternary_number_i //= 4\n",
        "    if binary_number_i[-1] == quaternary_number_i[-1]:\n",
        "        if i % 13 == 0 or i % 14 == 0 or i % 15 == 0:\n",
        "            counter += 1\n",
        "            min_i = i\n",
        "print(counter, min_i)\n"
      ],
      "execution_count": null,
      "outputs": [
        {
          "output_type": "stream",
          "text": [
            "471 3720\n"
          ],
          "name": "stdout"
        }
      ]
    },
    {
      "cell_type": "code",
      "metadata": {
        "id": "kBzcFJVFiGtG",
        "colab": {
          "base_uri": "https://localhost:8080/"
        },
        "outputId": "75212d7f-4816-4f89-fe6f-676d73fc62cd"
      },
      "source": [
        "\"\"\"\n",
        "Рассматривается множество целых чисел, принадлежащих числовому отрезку [246815; 875621], \n",
        "которые удовлетворяют следующим условиям:\n",
        "− третья и четвертая цифры образуют число меньшее 50;\n",
        "− число, составленное из трех старших разрядов, имеет остаток от деления на 5 такой же, \n",
        "как число, составленное из младших трех разрядов.\n",
        "Найдите наибольшее из таких чисел и их количество.\n",
        "Для выполнения этого задания можно написать программу или воспользоваться редактором электронных таблиц. \n",
        "\"\"\"\n",
        "counter = 0\n",
        "\n",
        "for i in range(246815, 875621 + 1):\n",
        "    if i % 100 < 50:\n",
        "        if ((i // 1000) % 5) == ((i % 1000) % 5):\n",
        "            counter += 1\n",
        "            mx = i\n",
        "\n",
        "print(mx, counter)\n"
      ],
      "execution_count": null,
      "outputs": [
        {
          "output_type": "stream",
          "text": [
            "875620 62882\n"
          ],
          "name": "stdout"
        }
      ]
    },
    {
      "cell_type": "code",
      "metadata": {
        "colab": {
          "base_uri": "https://localhost:8080/"
        },
        "id": "nnPQmv4KYo2k",
        "outputId": "b9ad8a05-fb3b-4411-c0a9-babf6bc745c3"
      },
      "source": [
        "\"\"\"\n",
        "Рассматривается множество целых чисел, принадлежащих числовому отрезку [8800; 55535], которые удовлетворяют следующим условиям:\n",
        "− произведение разрядов больше 35;\n",
        "− один из разрядов равен 7.\n",
        "Найдите наибольшее из таких чисел и их количество.\n",
        "Для выполнения этого задания можно написать программу или воспользоваться редактором электронных таблиц. \n",
        "\"\"\"\n",
        "counter = 0\n",
        "\n",
        "for i in range(8800, 55535 + 1):\n",
        "    number = i\n",
        "    seven = False\n",
        "    multiplication = 1\n",
        "    while number > 0:\n",
        "        number_last = number % 10\n",
        "        if number_last == 7:\n",
        "            seven = True\n",
        "        multiplication *= number_last\n",
        "        number //= 10\n",
        "    if seven and multiplication > 35:\n",
        "        counter += 1\n",
        "        mx = i\n",
        "print(mx, counter)\n"
      ],
      "execution_count": null,
      "outputs": [
        {
          "output_type": "stream",
          "text": [
            "55527 10958\n"
          ],
          "name": "stdout"
        }
      ]
    },
    {
      "cell_type": "code",
      "metadata": {
        "colab": {
          "base_uri": "https://localhost:8080/"
        },
        "id": "kGHB3zzrbFVg",
        "outputId": "63f59cf7-0b4a-4735-9eed-53f7cf38d5b8"
      },
      "source": [
        "\"\"\"\n",
        "Рассматривается множество целых чисел, принадлежащих числовому отрезку [1016; 7937], \n",
        "которые делятся на 3 и не делятся на 7, 17, 19, 27. \n",
        "Найдите количество таких чисел и максимальное из них. \n",
        "В ответе запишите два целых числа: сначала количество, затем максимальное число. \n",
        "Для выполнения этого задания можно написать программу или воспользоваться редактором электронных таблиц. \n",
        "\"\"\"\n",
        "counter = 0\n",
        "\n",
        "for i in range(1016, 7937 + 1):\n",
        "    if i % 3 == 0 and i % 7 != 0 and i % 17 != 0 and i % 19 != 0 and i % 27 != 0:\n",
        "        counter += 1\n",
        "        mx = i\n",
        "print(counter, mx)\n"
      ],
      "execution_count": null,
      "outputs": [
        {
          "output_type": "stream",
          "text": [
            "1568 7935\n"
          ],
          "name": "stdout"
        }
      ]
    },
    {
      "cell_type": "code",
      "metadata": {
        "colab": {
          "base_uri": "https://localhost:8080/"
        },
        "id": "YI1Z8FNJbooP",
        "outputId": "226c1911-0ae1-4e52-fcde-b0b5e47c0269"
      },
      "source": [
        "\"\"\"\n",
        "Рассматривается множество целых чисел, принадлежащих числовому отрезку [9999; 99999], \n",
        "которые кратны сумме своих цифр. Найдите количество таких чисел и максимальное из них. \n",
        "В ответе запишите два целых числа: сначала количество, затем – максимальное число.\n",
        "Для выполнения этого задания можно написать программу или воспользоваться редактором электронных таблиц.\n",
        "\"\"\"\n",
        "counter = 0\n",
        "\n",
        "for i in range(9999, 99999 + 1):\n",
        "    number = i\n",
        "    summa = 0\n",
        "    while number > 0:\n",
        "        number_last = number % 10\n",
        "        summa += number_last\n",
        "        number //= 10\n",
        "    if i % summa == 0:\n",
        "        counter += 1\n",
        "        mx = i\n",
        "\n",
        "print(counter, mx)\n"
      ],
      "execution_count": null,
      "outputs": [
        {
          "output_type": "stream",
          "text": [
            "10334 99972\n"
          ],
          "name": "stdout"
        }
      ]
    },
    {
      "cell_type": "code",
      "metadata": {
        "colab": {
          "base_uri": "https://localhost:8080/"
        },
        "id": "yWv7j4F5cdxA",
        "outputId": "a52bdbf2-b0b6-4187-bc9b-87fe552b22bf"
      },
      "source": [
        "\"\"\"\n",
        "Рассматривается множество целых чисел, принадлежащих числовому отрезку [1000; 9999], \n",
        "запись которых в пятеричной системе имеет не менее 6 цифр и заканчивается на 21 или 23. \n",
        "Найдите количество таких чисел и минимальное из них.\n",
        "\"\"\"\n",
        "counter = 0\n",
        "\n",
        "for i in range(9999, 1000 + 1, -1):\n",
        "    number = i\n",
        "    fivefold = ''\n",
        "    while number > 0:\n",
        "        fivefold = str(number % 5) + fivefold\n",
        "        number //= 5\n",
        "    # if len(fivefold) >= 6 and (filefold[-1] == '1' or filefold[-1] == '3') and filefold[-2] == '2': \n",
        "    # NameError: name 'filefold' is not defined\n",
        "    if len(fivefold) >= 6:\n",
        "        if (fivefold[-1] == '1' or fivefold[-1] == '3') and fivefold[-2] == '2':\n",
        "            counter += 1\n",
        "            mx = i\n",
        "\n",
        "print(counter, mx)\n"
      ],
      "execution_count": null,
      "outputs": [
        {
          "output_type": "stream",
          "text": [
            "550 3136\n"
          ],
          "name": "stdout"
        }
      ]
    },
    {
      "cell_type": "code",
      "metadata": {
        "colab": {
          "base_uri": "https://localhost:8080/"
        },
        "id": "hiSPO7b7mYtx",
        "outputId": "509c0b93-804f-4865-c3a4-99487aba068f"
      },
      "source": [
        "\"\"\"\n",
        "Рассматривается множество целых чисел, принадлежащих числовому отрезку [1000, 70000],\n",
        "которые имеют 5 знаков в восьмеричной и 6 знаков в пятеричной записи,\n",
        "а их запись в шестнадцатеричной системе счисления заканчивается на 'FA'.\n",
        "Найдите количество таких чисел и максимальное из них.\n",
        "В ответе запишите два целых числа: сначала количество, затем максимальное число.\n",
        "\n",
        "45 15610\n",
        "\"\"\"\n",
        "counter = 0\n",
        "mx = 0\n",
        "\n",
        "for i in range(1000, 70000 + 1):\n",
        "    fivefold = ''\n",
        "    fivefold_i = i\n",
        "    while fivefold_i > 0:\n",
        "        fivefold = str(fivefold_i % 5) + fivefold\n",
        "        fivefold_i //= 5\n",
        "    if len(oct(i)) == 7 and len(fivefold) == 6:\n",
        "        if hex(i)[-2] == 'f' and hex(i)[-1] == 'a':\n",
        "            counter += 1\n",
        "            mx = i\n",
        "print(counter, mx)\n"
      ],
      "execution_count": null,
      "outputs": [
        {
          "output_type": "stream",
          "text": [
            "45 15610\n"
          ],
          "name": "stdout"
        }
      ]
    },
    {
      "cell_type": "code",
      "metadata": {
        "colab": {
          "base_uri": "https://localhost:8080/"
        },
        "id": "Crcya2gcm3QQ",
        "outputId": "3e80328e-454e-416a-cf97-8fc88700e7a4"
      },
      "source": [
        "\"\"\"\n",
        "Рассматривается множество целых чисел, принадлежащих числовому отрезку [2568; 7858],\n",
        "которые удовлетворяют следующим условиям:\n",
        "− делятся на 4 или на 5;\n",
        "− не делятся на 11, 20, 27.\n",
        "Найдите минимальное и максимальное из таких чисел.\n",
        "\n",
        "2568 7856\n",
        "\"\"\"\n",
        "numbers = []\n",
        "\n",
        "for i in range(2568, 7858 + 1):\n",
        "    if i % 4 == 0 or i % 5 == 0:\n",
        "        if i % 11 != 0 and i % 20 != 0 and i % 27 != 0:\n",
        "            numbers.append(i)\n",
        "\n",
        "print(min(numbers), max(numbers))\n"
      ],
      "execution_count": null,
      "outputs": [
        {
          "output_type": "stream",
          "text": [
            "2568 7856\n"
          ],
          "name": "stdout"
        }
      ]
    },
    {
      "cell_type": "code",
      "metadata": {
        "colab": {
          "base_uri": "https://localhost:8080/"
        },
        "id": "mJSl-agSm56k",
        "outputId": "170639e3-ede0-4729-abdb-533a97b10c55"
      },
      "source": [
        "\"\"\"\n",
        "Рассматривается множество целых чисел, принадлежащих числовому отрезку [1234567; 7654321],\n",
        "которые кратны разнице двух чисел, полученных из двух старших и двух младших разрядов.\n",
        "Например, для числа 2435467 два числа будут 24 и 67.\n",
        "Соответствующая разница – 43.\n",
        "\n",
        "Найдите количество таких чисел и максимальное из них.\n",
        "В ответе запишите два целых числа:\n",
        "сначала количество, затем – максимальное число.\n",
        "\"\"\"\n",
        "counter = 0\n",
        "mx = 0\n",
        "\n",
        "for i in range(1234567, 7654321 + 1):\n",
        "    first_two = i // 100000\n",
        "    last_two = i % 100\n",
        "    difference = abs(last_two - first_two)\n",
        "    if difference != 0 and i % difference == 0:\n",
        "        counter += 1\n",
        "        mx = i\n",
        "\n",
        "print(counter, mx)  # 565701 7654318\n"
      ],
      "execution_count": null,
      "outputs": [
        {
          "output_type": "stream",
          "text": [
            "565701 7654318\n"
          ],
          "name": "stdout"
        }
      ]
    },
    {
      "cell_type": "code",
      "metadata": {
        "colab": {
          "base_uri": "https://localhost:8080/"
        },
        "id": "vPvjF8B2m8ce",
        "outputId": "dbf5e611-4e91-4264-cbbe-f515de0a352b"
      },
      "source": [
        "\"\"\"\n",
        "Рассматривается множество целых чисел, принадлежащих числовому отрезку [1476; 7039],\n",
        "которые удовлетворяют следующим условиям:\n",
        "− кратны 2, но не кратны 16;\n",
        "− цифра в разряде десятков не менее 4.\n",
        "Найдите количество таких чисел и\n",
        "среднее арифметическое минимального и максимального из них.\n",
        "Обратите внимание на то, что второе число не должно содержать десятичной запятой.\n",
        "\n",
        "1455 4237\n",
        "\"\"\"\n",
        "counter = 0\n",
        "numbers = []\n",
        "\n",
        "for i in range(1476, 7039 + 1):\n",
        "    number = i\n",
        "    digits = []\n",
        "    while number > 0:\n",
        "        last_digit = number % 10\n",
        "        digits.append(last_digit)\n",
        "        number //= 10\n",
        "    if i % 2 == 0 and i % 16 != 0 and digits[1] >= 4:\n",
        "        counter += 1\n",
        "        numbers.append(i)\n",
        "\n",
        "print(counter, (max(numbers) + min(numbers)) // 2)\n"
      ],
      "execution_count": null,
      "outputs": [
        {
          "output_type": "stream",
          "text": [
            "1455 4237\n"
          ],
          "name": "stdout"
        }
      ]
    },
    {
      "cell_type": "code",
      "metadata": {
        "colab": {
          "base_uri": "https://localhost:8080/"
        },
        "id": "g5XHSN8Vm-Ve",
        "outputId": "3614b99b-17e0-4867-8bc3-a60cd313eab7"
      },
      "source": [
        "\"\"\"\n",
        "Рассматривается множество целых чисел, принадлежащих числовому\n",
        "отрезку [4563; 7912], которые удовлетворяют следующим условиям:\n",
        "− число кратно 7;\n",
        "− сумма старшего и младшего разрядов больше 10.\n",
        "Найдите наибольшее из таких чисел и их количество.\n",
        "\"\"\"\n",
        "counter = 0\n",
        "mx = 0\n",
        "\n",
        "for i in range(4563, 7912 + 1):\n",
        "    first = i // 1000\n",
        "    last = i % 10\n",
        "    if i % 7 == 0 and (first + last) > 10:\n",
        "        counter += 1\n",
        "        mx = i\n",
        "\n",
        "print(mx, counter)\n"
      ],
      "execution_count": null,
      "outputs": [
        {
          "output_type": "stream",
          "text": [
            "7896 225\n"
          ],
          "name": "stdout"
        }
      ]
    },
    {
      "cell_type": "code",
      "metadata": {
        "colab": {
          "base_uri": "https://localhost:8080/"
        },
        "id": "2oAkPbcQf7OP",
        "outputId": "965622ff-0486-4e9e-c6aa-17d37a163cc3"
      },
      "source": [
        "\"\"\"\n",
        "Назовём натуральное число подходящим, если у него больше 17 различных\n",
        "делителей (включая единицу и само число). Определите количество\n",
        "подходящих чисел, принадлежащих отрезку [10 001; 50 000], а также\n",
        "наименьшее из таких чисел. В ответе запишите два целых числа: сначала\n",
        "количество, затем наименьшее число.\n",
        "\"\"\"\n",
        "counter = 0\n",
        "min_number = 0\n",
        "for i in range(50000, 10001 + 1, -1):\n",
        "    divider = 2  # Начинаем с 2, поскольку так и так на единицу делится, и на само себя тоже\n",
        "    for j in range(2, i // 2):  # ...поэтому здесь мы тоже эти числа выкалываем\n",
        "        if i % j == 0:\n",
        "            divider += 1\n",
        "    if divider > 17:\n",
        "        counter += 1\n",
        "        min_number = i\n",
        "print(counter, min_number)\n"
      ],
      "execution_count": null,
      "outputs": [
        {
          "output_type": "stream",
          "text": [
            "6180 10008\n"
          ],
          "name": "stdout"
        }
      ]
    },
    {
      "cell_type": "markdown",
      "metadata": {
        "id": "Wij4hIIztInZ"
      },
      "source": [
        "# 19 - 21 задания"
      ]
    },
    {
      "cell_type": "code",
      "metadata": {
        "id": "-Q9LBWYltMUk"
      },
      "source": [
        "\"\"\"\n",
        "№ 1266\n",
        "Два игрока, Петя и Ваня, играют в следующую игру. Перед игроками лежит две кучи камней.\n",
        "Игроки ходят по очереди, первый ход делает Петя. За один ход игрок может добавить в любую кучу один камень\n",
        "или увеличить количество камней в любой куче в четыре раза. Игра завершается в тот момент,\n",
        "когда суммарное количество камней в кучах становится не менее 133.\n",
        "В начальный момент в первой куче было 7 камней, а во второй – S камней, 1 ≤ S ≤ 125.\n",
        "Назовите минимальное значение S, при котором Петя может выиграть своим первым ходом.\n",
        "32\n",
        "\n",
        "Задание 20.\n",
        "Для игры из задания 19 определите минимальное и максимальное значение S, при котором у\n",
        "Пети есть выигрышная стратегия, причём одновременно выполняются два условия:\n",
        "− Петя не может выиграть за один ход;\n",
        "− Петя может выиграть своим вторым ходом независимо от того, как будет ходить Ваня.\n",
        "Найденные значения запишите в ответе в порядке возрастания.\n",
        "20 31\n",
        "\n",
        "Задание 21.\n",
        "Для игры из задания 19 определите значение S, при котором одновременно выполняются два условия:\n",
        "– у Вани есть выигрышная стратегия, позволяющая ему выиграть первым или вторым ходом при любой игре Пети;\n",
        "– у Вани нет стратегии, которая позволит ему гарантированно выиграть первым ходом.\n",
        "30\n",
        "\"\"\"\n",
        "from functools import lru_cache\n",
        "\n",
        "\n",
        "def moves(h):\n",
        "    a, b = h\n",
        "    return (a + 1, b), (a * 4, b), (a, b + 1), (a, b * 4)\n",
        "\n",
        "\n",
        "@lru_cache(None)\n",
        "def game(h):\n",
        "    a, b = h\n",
        "    if a + b >= 133:\n",
        "        return \"W\"\n",
        "\n",
        "    if any(game(m) == 'W' for m in moves(h)):\n",
        "        return 'P1'\n",
        "    if all(game(m) == 'P1' for m in moves(h)):\n",
        "        return 'V1'\n",
        "    if any(game(m) == 'V1' for m in moves(h)):\n",
        "        return 'P2'\n",
        "    if all(game(m) == 'P1' or game(m) == 'P2' for m in moves(h)):\n",
        "        return 'V2'\n",
        "\n",
        "\n",
        "for s in range(1, 125 + 1):\n",
        "    h = 7, s\n",
        "    print(s, game(h))\n"
      ],
      "execution_count": null,
      "outputs": []
    },
    {
      "cell_type": "markdown",
      "metadata": {
        "id": "XSfwMGWEanCS"
      },
      "source": [
        "# 22 задание\n",
        "---"
      ]
    },
    {
      "cell_type": "markdown",
      "metadata": {
        "id": "4_pqkLu2aqUo"
      },
      "source": [
        "**Задание 22 (№703).**\n",
        "\n",
        "Получив на вход натуральное число x, этот алгоритм печатает два числа: a и b.  \n",
        "Укажите наибольшее трёхзначное натуральное число, при вводе которого алгоритм печатает сначала 1, а потом 8.\n",
        "```\n",
        "x = int(input())\n",
        "a = 0\n",
        "b = 1\n",
        "while x > 0:\n",
        "    if x % 2 > 0:\n",
        "        a = a + (x % 11)\n",
        "    else:\n",
        "        b = b * (x % 11)\n",
        "    x = x // 11\n",
        "print(a)\n",
        "print(b)\n",
        "```"
      ]
    },
    {
      "cell_type": "code",
      "metadata": {
        "id": "vxE-8z9zapza",
        "colab": {
          "base_uri": "https://localhost:8080/"
        },
        "outputId": "bda4375c-a187-4308-dd21-8613ce8ab9eb"
      },
      "source": [
        "answer_a = 1\n",
        "answer_b = 8\n",
        "answers = []\n",
        "x = 100\n",
        "while x < 1000:\n",
        "    number = x\n",
        "    a = 0\n",
        "    b = 1\n",
        "    while number > 0:\n",
        "        if number % 2 > 0:\n",
        "            a = a + (number % 11)\n",
        "        else:\n",
        "            b = b * (number % 11)\n",
        "        number = number // 11\n",
        "    if answer_a == a and answer_b == b:\n",
        "        answers.append(x)\n",
        "    x += 1\n",
        "\n",
        "print(answers)\n",
        "print(max(answers))\n"
      ],
      "execution_count": null,
      "outputs": [
        {
          "output_type": "stream",
          "text": [
            "[140, 287, 507, 979, 980]\n",
            "980\n"
          ],
          "name": "stdout"
        }
      ]
    },
    {
      "cell_type": "code",
      "metadata": {
        "id": "xYtkueyv91oK",
        "colab": {
          "base_uri": "https://localhost:8080/"
        },
        "outputId": "ddf9ae84-fb80-4d25-aeb3-7e2790b84dba"
      },
      "source": [
        "# L и М, сначала 4, потом 8\n",
        "\n",
        "# x = int(input())\n",
        "# Q = 7\n",
        "# L = 0\n",
        "# while L < x:\n",
        "#     L = L + Q\n",
        "#\n",
        "# L = Q - L + x\n",
        "# if L == Q:\n",
        "#     L = 0\n",
        "# M = (x - L)\n",
        "#\n",
        "# if M < L:\n",
        "#     M, L = L, M\n",
        "#\n",
        "# print(L)\n",
        "# print(M)\n",
        "\n",
        "x = 0\n",
        "answers = []\n",
        "answer_L = 4\n",
        "answer_M = 8\n",
        "# while x < 10000:\n",
        "while x < 200:\n",
        "    number = x\n",
        "    L = 0\n",
        "    Q = 7\n",
        "    while L < number:\n",
        "        L = L + Q\n",
        "\n",
        "    L = Q - L + number\n",
        "    if L == Q:\n",
        "        L = 0\n",
        "    M = (number - L) // Q\n",
        "\n",
        "    if M < L:\n",
        "        M, L = L, M\n",
        "    if L == answer_L and M == answer_M:\n",
        "        answers.append(x)\n",
        "    x += 1\n",
        "print(answers)\n",
        "print(max(answers))\n"
      ],
      "execution_count": null,
      "outputs": [
        {
          "output_type": "stream",
          "text": [
            "[60]\n",
            "60\n"
          ],
          "name": "stdout"
        }
      ]
    },
    {
      "cell_type": "code",
      "metadata": {
        "id": "jgXGdA0R-BTc",
        "colab": {
          "base_uri": "https://localhost:8080/"
        },
        "outputId": "ae114782-d18c-4670-c2df-914738b6276b"
      },
      "source": [
        "\"\"\"\n",
        "Задание 22 (№585).\n",
        "Ниже на четырех языках программирования записан алгоритм.\n",
        "Получив на вход натуральное десятичное число x, этот алгоритм печатает число S.\n",
        "Укажите наименьшее число x, большее 50,\n",
        "при вводе которого на экран будет выведено число 1.\n",
        "\"\"\"\n",
        "x = int(input())\n",
        "S = 0\n",
        "while x > 0:\n",
        "    if x % 2 > 0:\n",
        "        S = S + (x % 7)\n",
        "    else:\n",
        "        S = S - (x % 7)\n",
        "    x = x // 7\n",
        "print(S)\n",
        "print('Ответ по смыслу', [57, 73, 89, 101, 107, 117, 119, 169, 185])\n",
        "print('Ответ задания: ', 57)\n",
        "\n",
        "\n",
        "x = 50\n",
        "answer = 1\n",
        "answers = []\n",
        "\n",
        "while x < 200:\n",
        "    number = x\n",
        "    S = 0\n",
        "    while number > 0:\n",
        "        if number % 2 > 0:\n",
        "            S = S + (number % 7)\n",
        "        else:\n",
        "            S = S - (number % 7)\n",
        "        number = number // 7\n",
        "    if S == answer:\n",
        "        answers.append(x)\n",
        "    x += 1\n",
        "\n",
        "print(answers)\n",
        "print(min(answers))\n"
      ],
      "execution_count": null,
      "outputs": [
        {
          "output_type": "stream",
          "text": [
            "57\n",
            "1\n",
            "Ответ по смыслу [57, 73, 89, 101, 107, 117, 119, 169, 185]\n",
            "Ответ задания:  57\n",
            "[57, 73, 89, 101, 107, 117, 119, 169, 185]\n",
            "57\n"
          ],
          "name": "stdout"
        }
      ]
    },
    {
      "cell_type": "code",
      "metadata": {
        "id": "IxpxhOBf-HuP",
        "colab": {
          "base_uri": "https://localhost:8080/"
        },
        "outputId": "e0f50a92-1160-4f94-f855-f64c88f4eca5"
      },
      "source": [
        "\"\"\"\n",
        "Задание 22 (№277).\n",
        "Получив на вход число x, эта программа печатает два числа, a и b.\n",
        "Укажите наименьшее натуральное число,\n",
        "при вводе которого эта программа напечатает сначала 2, потом – 9.\n",
        "\"\"\"\n",
        "print('Ответы по смыслу:', [605, 607, 609, 615, 617, 619, 794, 844, 858, 868])\n",
        "print('Ответ по заданию:', 605)\n",
        "x = int(input())\n",
        "a = 0\n",
        "b = 1\n",
        "while x > 0:\n",
        "    if x % 2 > 0:\n",
        "        a += 1\n",
        "    else:\n",
        "        b += x % 5\n",
        "    x = x // 5\n",
        "print(a, b)\n",
        "\n",
        "answer_a = 2\n",
        "answer_b = 9\n",
        "answers = []\n",
        "x = 0\n",
        "\n",
        "while x < 1000:\n",
        "    number = x\n",
        "    a = 0\n",
        "    b = 1\n",
        "    while number > 0:\n",
        "        if number % 2 > 0:\n",
        "            a += 1\n",
        "        else:\n",
        "            b += number % 5\n",
        "        number = number // 5\n",
        "    if a == answer_a and b == answer_b:\n",
        "        answers.append(x)\n",
        "    x += 1\n",
        "\n",
        "print(answers)\n",
        "print(min(answers))\n"
      ],
      "execution_count": null,
      "outputs": [
        {
          "output_type": "stream",
          "text": [
            "Ответы по смыслу: [605, 607, 609, 615, 617, 619, 794, 844, 858, 868]\n",
            "Ответ по заданию: 605\n",
            "605\n",
            "2 9\n",
            "[605, 607, 609, 615, 617, 619, 794, 844, 858, 868]\n",
            "605\n"
          ],
          "name": "stdout"
        }
      ]
    },
    {
      "cell_type": "code",
      "metadata": {
        "id": "olNNxy9l-Lj6",
        "colab": {
          "base_uri": "https://localhost:8080/"
        },
        "outputId": "443063e6-a6c9-4454-8613-c130cd636406"
      },
      "source": [
        "\"\"\"\n",
        "Задание 22 (№677).\n",
        "Укажите минимальное натуральное число,\n",
        "при вводе которого этот алгоритм напечатает число, сумма цифр которого равна 15.\n",
        "\"\"\"\n",
        "\n",
        "x = int(input())\n",
        "L = 0\n",
        "M = 1\n",
        "while x > 0:\n",
        "    L = x % 10 * M + L\n",
        "    x = x // 10\n",
        "    M = M * 10\n",
        "print(L)  # Сумма цифр L будет 15\n",
        "\n",
        "sum_of_L = 0\n",
        "answer_sum_of_L = 15\n",
        "number = 0\n",
        "answers = []\n",
        "while number < 500:\n",
        "    x = number\n",
        "    sum_of_L = 0\n",
        "    L = 0\n",
        "    M = 1\n",
        "    while x > 0:\n",
        "        L = x % 10 * M + L\n",
        "        x = x // 10\n",
        "        M = M * 10\n",
        "    number_L = L\n",
        "    while number_L > 0:\n",
        "        sum_of_L += number_L % 10\n",
        "        number_L //= 10\n",
        "    if sum_of_L == answer_sum_of_L:\n",
        "        answers.append(number)\n",
        "    number += 1\n",
        "\n",
        "print(answers)\n",
        "print(min(answers))\n"
      ],
      "execution_count": null,
      "outputs": [
        {
          "output_type": "stream",
          "text": [
            "69\n",
            "69\n",
            "[69, 78, 87, 96, 159, 168, 177, 186, 195, 249, 258, 267, 276, 285, 294, 339, 348, 357, 366, 375, 384, 393, 429, 438, 447, 456, 465, 474, 483, 492]\n",
            "69\n"
          ],
          "name": "stdout"
        }
      ]
    },
    {
      "cell_type": "code",
      "metadata": {
        "id": "M_jO-3hl-W2u",
        "colab": {
          "base_uri": "https://localhost:8080/"
        },
        "outputId": "77afe435-f9ff-46f8-93bd-5d935aa67966"
      },
      "source": [
        "\"\"\"\n",
        "Задание 22 (№632).\n",
        "Ниже приведён алгоритм.\n",
        "Получив на вход число x, этот алгоритм печатает число S.\n",
        "Укажите наибольшее число x, при вводе которого алгоритм печатает 82.\n",
        "\"\"\"\n",
        "\n",
        "# x = int(input())\n",
        "# P = 90\n",
        "# S = 6 * (x - x % 22)\n",
        "# K = 0\n",
        "# while P < 181:\n",
        "#     K = K + 1\n",
        "#     P = P + K\n",
        "#     S = S - 2 * K\n",
        "# print(S)  # 82\n",
        "\n",
        "\n",
        "answer = 82\n",
        "answers = []\n",
        "x = 0\n",
        "while x < 500:\n",
        "    number = x\n",
        "    P = 90\n",
        "    S = 6 * (number - number % 22)\n",
        "    K = 0\n",
        "    while P < 181:\n",
        "        K = K + 1\n",
        "        P = P + K\n",
        "        S = S - 2 * K\n",
        "    if S == answer:\n",
        "        answers.append(x)\n",
        "    x += 1\n",
        "\n",
        "print(answers)\n",
        "print(max(answers))\n"
      ],
      "execution_count": null,
      "outputs": [
        {
          "output_type": "stream",
          "text": [
            "[44, 45, 46, 47, 48, 49, 50, 51, 52, 53, 54, 55, 56, 57, 58, 59, 60, 61, 62, 63, 64, 65]\n",
            "65\n"
          ],
          "name": "stdout"
        }
      ]
    },
    {
      "cell_type": "code",
      "metadata": {
        "id": "zgjeAWF1-apV",
        "colab": {
          "base_uri": "https://localhost:8080/"
        },
        "outputId": "2684f841-8777-4537-d9e5-515da7b5d70f"
      },
      "source": [
        "\"\"\"\n",
        "Задание 22 (№784).\n",
        "Получив на вход число d, этот алгоритм печатает число c.\n",
        "Сколько положительных значений d существует таких,\n",
        "что в результате выполнения программы на экран будет выведено число меньше 15?\n",
        "Примечание: abs, iabs – функции, находящие абсолютное значение\n",
        "\"\"\"\n",
        "\n",
        "\n",
        "def F(x):\n",
        "    return abs(x - 4) + abs(x + 6) - 3\n",
        "\n",
        "\n",
        "d = int(input())\n",
        "a = -20\n",
        "b = 20\n",
        "c = 1\n",
        "for t in range(a, b + 1):\n",
        "    if F(t) < d:\n",
        "        c += 1\n",
        "print(c)\n",
        "\n",
        "\n",
        "# d = 1\n",
        "# answers = []\n",
        "# answer = 15\n",
        "# while d < 500:\n",
        "#     a = -20\n",
        "#     b = 20\n",
        "#     c = 1\n",
        "#     for t in range(a, b + 1):\n",
        "#         if F(t) < d:\n",
        "#             c += 1\n",
        "#     if c < answer:\n",
        "#         answers.append(d)\n",
        "#     d += 1\n",
        "#\n",
        "# print(answers)\n",
        "# print(len(answers))\n"
      ],
      "execution_count": null,
      "outputs": [
        {
          "output_type": "stream",
          "text": [
            "11\n",
            "14\n"
          ],
          "name": "stdout"
        }
      ]
    },
    {
      "cell_type": "code",
      "metadata": {
        "id": "hbhKjRjw-0Zo",
        "colab": {
          "base_uri": "https://localhost:8080/"
        },
        "outputId": "933ddc14-70b1-4790-a343-d2a3dc9a80fa"
      },
      "source": [
        "\"\"\"\n",
        "Задание 22 (№503).\n",
        "Ниже на четырех языках программирования записан алгоритм.\n",
        "Получив на вход натуральное десятичное число x, этот алгоритм печатает число S.\n",
        "Сколько существует чисел x, не превышающих 500,\n",
        "при вводе которых результате работы программы на экране будет выведено число 13.\n",
        "\"\"\"\n",
        "\n",
        "# x = int(1input())\n",
        "# S = 0\n",
        "# while x > 0:\n",
        "#     if x % 5 > 0:\n",
        "#         S = S + (x % 5)\n",
        "#     else:\n",
        "#         S = S * (x % 5)\n",
        "#     x = x // 5\n",
        "# print(S)\n",
        "\n",
        "\n",
        "# def task(x):\n",
        "#     while x > 0:\n",
        "#         if x % 5 > 0:\n",
        "#             S = S + (x % 5)\n",
        "#         else:\n",
        "#             S = S * (x % 5)\n",
        "#         x = x // 5\n",
        "#     return S\n",
        "\n",
        "\n",
        "answer = 13\n",
        "x = 0\n",
        "a = []\n",
        "while x <= 500:\n",
        "    number = x\n",
        "    S = 0\n",
        "    # task(number)\n",
        "    while number > 0:\n",
        "        if number % 5 > 0:\n",
        "            S = S + (number % 5)\n",
        "        else:\n",
        "            S = S * (number % 5)\n",
        "        number = number // 5\n",
        "    if S == answer:\n",
        "        a.append(x)\n",
        "    x += 1\n",
        "print(len(a))\n"
      ],
      "execution_count": null,
      "outputs": [
        {
          "output_type": "stream",
          "text": [
            "10\n"
          ],
          "name": "stdout"
        }
      ]
    },
    {
      "cell_type": "code",
      "metadata": {
        "id": "jEnEEOgW-1pc",
        "colab": {
          "base_uri": "https://localhost:8080/"
        },
        "outputId": "b7798c8a-8344-47af-b115-4ed1ba327bb7"
      },
      "source": [
        "\"\"\"\n",
        "Задание 22 (№585).\n",
        "Ниже на четырех языках программирования записан алгоритм.\n",
        "Получив на вход натуральное десятичное число x, этот алгоритм печатает число S.\n",
        "Укажите наименьшее число x, большее 50,\n",
        "при вводе которого на экран будет выведено число 1.\n",
        "\"\"\"\n",
        "# x = int(input())\n",
        "# S = 0\n",
        "# while x > 0:\n",
        "#     if x % 2 > 0:\n",
        "#         S = S + (x % 7)\n",
        "#     else:\n",
        "#         S = S - (x % 7)\n",
        "#     x = x // 7\n",
        "# print(S)\n",
        "\n",
        "x = 50\n",
        "answer = 1\n",
        "answers = []\n",
        "\n",
        "while x < 200:\n",
        "    number = x\n",
        "    S = 0\n",
        "    while number > 0:\n",
        "        if number % 2 > 0:\n",
        "            S = S + (number % 7)\n",
        "        else:\n",
        "            S = S - (number % 7)\n",
        "        number = number // 7\n",
        "    if S == answer:\n",
        "        answers.append(x)\n",
        "    x += 1\n",
        "\n",
        "print(answers)\n",
        "print(min(answers))\n",
        "\n"
      ],
      "execution_count": null,
      "outputs": [
        {
          "output_type": "stream",
          "text": [
            "[57, 73, 89, 101, 107, 117, 119, 169, 185]\n",
            "57\n"
          ],
          "name": "stdout"
        }
      ]
    },
    {
      "cell_type": "code",
      "metadata": {
        "id": "gu0gwkUJ-4Wn",
        "colab": {
          "base_uri": "https://localhost:8080/"
        },
        "outputId": "c69fadcc-44a0-4c33-ab14-a05138a60098"
      },
      "source": [
        "\"\"\"\n",
        "Задание 22 (№728).\n",
        "Получив на вход число x, этот алгоритм печатает число M. Известно, что x > 100.\n",
        "Укажите наименьшее такое (т. е. большее 100) число x,\n",
        "при вводе которого алгоритм печатает 9.\n",
        "\"\"\"\n",
        "# x = int(input())\n",
        "# L = x - 18\n",
        "# M = x + 36\n",
        "# while L != M:\n",
        "#     if L > M:\n",
        "#         L = L - M\n",
        "#     else:\n",
        "#         M = M - L\n",
        "# print(M)\n",
        "\n",
        "x = 100\n",
        "answer = 9\n",
        "answers = []\n",
        "\n",
        "while x < 1000:\n",
        "    number = x\n",
        "    L = number - 18\n",
        "    M = number + 36\n",
        "    while L != M:\n",
        "        if L > M:\n",
        "            L = L - M\n",
        "        else:\n",
        "            M = M - L\n",
        "    if M == answer:\n",
        "        answers.append(x)\n",
        "    x += 1\n",
        "\n",
        "print(answers)\n",
        "print(min(answers))\n"
      ],
      "execution_count": null,
      "outputs": [
        {
          "output_type": "stream",
          "text": [
            "[117, 135, 171, 189, 225, 243, 279, 297, 333, 351, 387, 405, 441, 459, 495, 513, 549, 567, 603, 621, 657, 675, 711, 729, 765, 783, 819, 837, 873, 891, 927, 945, 981, 999]\n",
            "117\n"
          ],
          "name": "stdout"
        }
      ]
    },
    {
      "cell_type": "code",
      "metadata": {
        "id": "WmYbESN9-6xC",
        "colab": {
          "base_uri": "https://localhost:8080/"
        },
        "outputId": "aa00f2b3-3489-4ccf-b763-7f8e4f6b54f9"
      },
      "source": [
        "# 22 задание\n",
        "# Сколько существует чисел x, не превышающих 500, при вводе которых программа выведет 13\n",
        "# x = int(input())\n",
        "# S = 0\n",
        "# while x > 0:\n",
        "#     if x % 5 > 0:\n",
        "#         S = S + (x % 5)\n",
        "#     else:\n",
        "#         S = S * (x % 5)\n",
        "#     x = x // 5\n",
        "# print(S)  # 13\n",
        "\n",
        "\n",
        "answer = 13\n",
        "x = 0\n",
        "list_x = []\n",
        "while x <= 500:\n",
        "    S = 0\n",
        "    number = x\n",
        "    while number > 0:\n",
        "        if number % 5 > 0:\n",
        "            S = S + (number % 5)\n",
        "        else:\n",
        "            S = S * (number % 5)\n",
        "        number = number // 5\n",
        "    if S == answer:\n",
        "        list_x.append(x)\n",
        "    x += 1\n",
        "# print(S)  # 13\n",
        "print(list_x)\n",
        "print(len(list_x))\n"
      ],
      "execution_count": null,
      "outputs": [
        {
          "output_type": "stream",
          "text": [
            "[249, 349, 369, 373, 449, 469, 473, 489, 493, 497]\n",
            "10\n"
          ],
          "name": "stdout"
        }
      ]
    },
    {
      "cell_type": "code",
      "metadata": {
        "id": "LExr2HTq--Yo",
        "colab": {
          "base_uri": "https://localhost:8080/"
        },
        "outputId": "be0069ce-7225-48b4-adc4-94306c130b3a"
      },
      "source": [
        "\"\"\"\n",
        "**Задание 22 (№703).**\n",
        "\n",
        "Получив на вход натуральное число x, этот алгоритм печатает два числа: a и b.\n",
        "Укажите наибольшее трёхзначное натуральное число, при вводе которого алгоритм печатает сначала 1, а потом 8.\n",
        "```\n",
        "x = int(input())\n",
        "a = 0\n",
        "b = 1\n",
        "while x > 0:\n",
        "    if x % 2 > 0:\n",
        "        a = a + (x % 11)\n",
        "    else:\n",
        "        b = b * (x % 11)\n",
        "    x = x // 11\n",
        "print(a)\n",
        "print(b)\n",
        "```\n",
        "\"\"\"\n",
        "\n",
        "\n",
        "answer_a = 1\n",
        "answer_b = 8\n",
        "answers = []\n",
        "x = 0\n",
        "while x < 1000:\n",
        "    number = x\n",
        "    a = 0\n",
        "    b = 1\n",
        "    while number > 0:\n",
        "        if number % 2 > 0:\n",
        "            a = a + (number % 11)\n",
        "        else:\n",
        "            b = b * (number % 11)\n",
        "        number = number // 11\n",
        "    if answer_a == a and answer_b == b:\n",
        "        answers.append(x)\n",
        "    x += 1\n",
        "\n",
        "print(answers)\n",
        "print(max(answers))\n"
      ],
      "execution_count": null,
      "outputs": [
        {
          "output_type": "stream",
          "text": [
            "[89, 140, 287, 507, 979, 980]\n",
            "980\n"
          ],
          "name": "stdout"
        }
      ]
    },
    {
      "cell_type": "code",
      "metadata": {
        "id": "dHQRdx9mPVKG",
        "colab": {
          "base_uri": "https://localhost:8080/"
        },
        "outputId": "468f0024-e4c7-4d7c-99da-37dd1cf1a969"
      },
      "source": [
        "\"\"\"\n",
        "Задание 22 (№834).\n",
        "Ниже на четырёх языках программирования записан алгоритм.\n",
        "Получив на вход число x, этот алгоритм печатает два числа: L и M.\n",
        "Укажите наибольшее число x, не содержащее нулей,\n",
        "при вводе которого алгоритм печатает сначала 14, а потом 3.\n",
        "\n",
        "999419, а у меня ответ 999509\n",
        "\"\"\"\n",
        "x = int(input())\n",
        "L, M, R = 0, 0, 0\n",
        "while x > 0:\n",
        "    R = R * 10 + x % 10\n",
        "    x //= 10\n",
        "    if x <= R:\n",
        "        M += 1\n",
        "    else:\n",
        "        L += x % 10\n",
        "print(L)\n",
        "print(M)"
      ],
      "execution_count": null,
      "outputs": [
        {
          "output_type": "stream",
          "text": [
            "999419\n",
            "14\n",
            "3\n"
          ],
          "name": "stdout"
        }
      ]
    },
    {
      "cell_type": "code",
      "metadata": {
        "id": "hijbwJ6fPR1C",
        "colab": {
          "base_uri": "https://localhost:8080/"
        },
        "outputId": "5708c8e4-5445-4eb9-a033-0ebef0dd0056"
      },
      "source": [
        "answers = []\n",
        "number = 0\n",
        "answer_L = 14\n",
        "answer_M = 3\n",
        "while number < 1000000:\n",
        "    x = number\n",
        "    L, M, R = 0, 0, 0\n",
        "    while x > 0:\n",
        "        R = R * 10 + x % 10\n",
        "        x //= 10\n",
        "        if x <= R:\n",
        "            M += 1\n",
        "        else:\n",
        "            L += x % 10\n",
        "    if answer_L == L and answer_M == M:\n",
        "        answers.append(number)\n",
        "    number += 1\n",
        "\n",
        "# print(answers) - причина описана ниже\n",
        "print(max(answers))\n"
      ],
      "execution_count": null,
      "outputs": [
        {
          "output_type": "stream",
          "text": [
            "999509\n"
          ],
          "name": "stdout"
        }
      ]
    },
    {
      "cell_type": "code",
      "metadata": {
        "id": "ypo7sPYjRc3Z",
        "colab": {
          "base_uri": "https://localhost:8080/",
          "height": 232
        },
        "outputId": "4f1473d3-5620-4f05-b98a-8a05c815d333"
      },
      "source": [
        "for number in range(1, 10000000):\n",
        "    L, M, R = 0, 0, 0\n",
        "    x = number\n",
        "    while x > 0:\n",
        "        R = R * 10 + x % 10\n",
        "        x //= 10\n",
        "        if x <= R:\n",
        "            M += 1\n",
        "        else:\n",
        "            L += x % 10\n",
        "    if answer_L == L and answer_M == M:\n",
        "        answers.append(number)\n",
        "print(answers)\n",
        "print(max(answers))\n"
      ],
      "execution_count": null,
      "outputs": [
        {
          "output_type": "error",
          "ename": "KeyboardInterrupt",
          "evalue": "ignored",
          "traceback": [
            "\u001b[0;31m---------------------------------------------------------------------------\u001b[0m",
            "\u001b[0;31mKeyboardInterrupt\u001b[0m                         Traceback (most recent call last)",
            "\u001b[0;32m<ipython-input-36-58e104ffa137>\u001b[0m in \u001b[0;36m<module>\u001b[0;34m()\u001b[0m\n\u001b[1;32m      3\u001b[0m     \u001b[0mx\u001b[0m \u001b[0;34m=\u001b[0m \u001b[0mnumber\u001b[0m\u001b[0;34m\u001b[0m\u001b[0;34m\u001b[0m\u001b[0m\n\u001b[1;32m      4\u001b[0m     \u001b[0;32mwhile\u001b[0m \u001b[0mx\u001b[0m \u001b[0;34m>\u001b[0m \u001b[0;36m0\u001b[0m\u001b[0;34m:\u001b[0m\u001b[0;34m\u001b[0m\u001b[0;34m\u001b[0m\u001b[0m\n\u001b[0;32m----> 5\u001b[0;31m         \u001b[0mR\u001b[0m \u001b[0;34m=\u001b[0m \u001b[0mR\u001b[0m \u001b[0;34m*\u001b[0m \u001b[0;36m10\u001b[0m \u001b[0;34m+\u001b[0m \u001b[0mx\u001b[0m \u001b[0;34m%\u001b[0m \u001b[0;36m10\u001b[0m\u001b[0;34m\u001b[0m\u001b[0;34m\u001b[0m\u001b[0m\n\u001b[0m\u001b[1;32m      6\u001b[0m         \u001b[0mx\u001b[0m \u001b[0;34m//=\u001b[0m \u001b[0;36m10\u001b[0m\u001b[0;34m\u001b[0m\u001b[0;34m\u001b[0m\u001b[0m\n\u001b[1;32m      7\u001b[0m         \u001b[0;32mif\u001b[0m \u001b[0mx\u001b[0m \u001b[0;34m<=\u001b[0m \u001b[0mR\u001b[0m\u001b[0;34m:\u001b[0m\u001b[0;34m\u001b[0m\u001b[0;34m\u001b[0m\u001b[0m\n",
            "\u001b[0;31mKeyboardInterrupt\u001b[0m: "
          ]
        }
      ]
    },
    {
      "cell_type": "code",
      "metadata": {
        "id": "yE7kBKW8S4nG",
        "colab": {
          "base_uri": "https://localhost:8080/"
        },
        "outputId": "c23ffc8e-b48d-4c33-c34a-c59fad168c6d"
      },
      "source": [
        "999509 > 999419"
      ],
      "execution_count": null,
      "outputs": [
        {
          "output_type": "execute_result",
          "data": {
            "text/plain": [
              "True"
            ]
          },
          "metadata": {
            "tags": []
          },
          "execution_count": 37
        }
      ]
    },
    {
      "cell_type": "markdown",
      "metadata": {
        "id": "EYXApXX2Ha6l"
      },
      "source": [
        "**ПРАВИЛЬНОЕ РЕШЕНИЕ.** В ЗАДАНИИ, ЧИСЛО *НЕ ДОЛЖНО СОДЕРЖАТЬ НУЛЕЙ*"
      ]
    },
    {
      "cell_type": "code",
      "metadata": {
        "id": "dUGuhw9cHaqa",
        "colab": {
          "base_uri": "https://localhost:8080/"
        },
        "outputId": "4e3994f2-21b1-4b24-8618-1045cf2c50dc"
      },
      "source": [
        "\"\"\"\n",
        "Задание 22 (№834).\n",
        "Ниже на четырёх языках программирования записан алгоритм.\n",
        "Получив на вход число x, этот алгоритм печатает два числа: L и M.\n",
        "Укажите наибольшее число x, не содержащее нулей,\n",
        "при вводе которого алгоритм печатает сначала 14, а потом 3.\n",
        "\"\"\"\n",
        "\n",
        "# x = int(input())\n",
        "# L, M, R = 0, 0, 0\n",
        "# while x > 0:\n",
        "#     R = R * 10 + x % 10\n",
        "#     x //= 10\n",
        "#     if x <= R:\n",
        "#         M += 1\n",
        "#     else:\n",
        "#         L += x % 10\n",
        "# print(L)\n",
        "# print(M)\n",
        "\n",
        "answers = []\n",
        "number = 0\n",
        "answer_L = 14\n",
        "answer_M = 3\n",
        "while number < 10000000:\n",
        "    x = number\n",
        "    zero = False\n",
        "    L, M, R = 0, 0, 0\n",
        "    while x > 0:\n",
        "        R = R * 10 + x % 10\n",
        "        x //= 10\n",
        "        if x <= R:\n",
        "            M += 1\n",
        "        else:\n",
        "            L += x % 10\n",
        "    if answer_L == L and answer_M == M:\n",
        "        check_number = number\n",
        "        while check_number > 0:\n",
        "            last_digit = check_number % 10\n",
        "            if last_digit == 0:\n",
        "                zero = True\n",
        "            check_number //= 10\n",
        "        if not zero:\n",
        "            answers.append(number)\n",
        "    number += 1\n",
        "\n",
        "# print(answers) - не надо. А то Юпитер Ноутбук жрёт 90% проекта\n",
        "print(max(answers))\n"
      ],
      "execution_count": null,
      "outputs": [
        {
          "output_type": "stream",
          "text": [
            "999419\n"
          ],
          "name": "stdout"
        }
      ]
    },
    {
      "cell_type": "code",
      "metadata": {
        "id": "hjzH8J-3nNYI"
      },
      "source": [
        "# x = int(input())\n",
        "# m = 0\n",
        "# s = 0\n",
        "# while x > 0:\n",
        "#     d = x % 8\n",
        "#     s += d\n",
        "#     if d > m:\n",
        "#         m = d\n",
        "#     x //= 8\n",
        "# print(m, s)\n",
        "\n",
        "answer_m = 5\n",
        "answer_s = 12\n",
        "number = 0\n",
        "while number < 100:\n",
        "    x = number\n",
        "    m = 0\n",
        "    s = 0\n",
        "    while x > 0:\n",
        "        d = x % 8\n",
        "        s += d\n",
        "        if d > m:\n",
        "            m = d\n",
        "        x //= 8\n",
        "    if s == answer_s and m == answer_m:\n",
        "        print(number)\n",
        "        break\n"
      ],
      "execution_count": null,
      "outputs": []
    },
    {
      "cell_type": "markdown",
      "metadata": {
        "id": "MJp3EEfVFjAm"
      },
      "source": [
        "# 24 задание\n",
        "---"
      ]
    },
    {
      "cell_type": "code",
      "metadata": {
        "id": "oZgEHYUec2pm",
        "colab": {
          "base_uri": "https://localhost:8080/",
          "height": 266
        },
        "outputId": "18351a2d-4032-4e2e-8c7a-c3dd6c630adc"
      },
      "source": [
        "\"\"\" OV 24 задание\n",
        "Текстовый файл содержит только заглавные буквы латинского алфавита (ABC…Z).\n",
        "Определите символ, который чаще всего встречается в файле сразу после буквы A.\n",
        "Например, в тексте ABCAABADDD после буквы A два раза стоит B, по одному разу – A и D.\n",
        "Для этого текста ответом будет B.\n",
        "AB, AA, AB, AD считаются\n",
        "\"\"\"\n",
        "# https://github.com/htmlprogrammist/unified-state-exam/blob/master/EGE/online-olimpiada-OV/22.txt\n",
        "document = open('22.txt')\n",
        "a = document.read()\n",
        "alphabet = []\n",
        "max_counter = 0\n",
        "max_counter_index = 0\n",
        "\n",
        "# chr[65:90]\n",
        "\n",
        "# Создаю массив с нулями для каждой буквы алфавита\n",
        "for j in range(26):\n",
        "    alphabet.append(0)\n",
        "\n",
        "for i in range(len(a) - 1):\n",
        "    if a[i] == 'A':\n",
        "        symbol = ord(a[i + 1])  # Определяю символ\n",
        "        index = symbol - 65  # Место в алфавите\n",
        "        alphabet[index] += 1  # Счётчик, сколько раз\n",
        "# print(alphabet)\n",
        "\n",
        "# Нахожу максимальное количество и индекс буквы с максимальным количеством\n",
        "for k in range(len(alphabet)):\n",
        "    if alphabet[k] > max_counter:\n",
        "        max_counter_index = k\n",
        "        max_counter = alphabet[k]\n",
        "# Используя индекс вывожу букву\n",
        "print(chr(max_counter_index + 65))\n",
        "# print(max_counter == max(alphabet)) Проверка, совпадают ли значения максимума через функцию Питона\n",
        "# и то, как я нашёл максимум\n"
      ],
      "execution_count": null,
      "outputs": [
        {
          "output_type": "error",
          "ename": "FileNotFoundError",
          "evalue": "ignored",
          "traceback": [
            "\u001b[0;31m---------------------------------------------------------------------------\u001b[0m",
            "\u001b[0;31mFileNotFoundError\u001b[0m                         Traceback (most recent call last)",
            "\u001b[0;32m<ipython-input-41-a2911400b594>\u001b[0m in \u001b[0;36m<module>\u001b[0;34m()\u001b[0m\n\u001b[1;32m      8\u001b[0m \u001b[0;31m# https://github.com/htmlprogrammist/unified-state-exam/blob/master/EGE/online-olimpiada-OV/22.txt\u001b[0m\u001b[0;34m\u001b[0m\u001b[0;34m\u001b[0m\u001b[0;34m\u001b[0m\u001b[0m\n\u001b[1;32m      9\u001b[0m \u001b[0;31m# document = open('22.txt')\u001b[0m\u001b[0;34m\u001b[0m\u001b[0;34m\u001b[0m\u001b[0;34m\u001b[0m\u001b[0m\n\u001b[0;32m---> 10\u001b[0;31m \u001b[0mdocument\u001b[0m \u001b[0;34m=\u001b[0m \u001b[0mopen\u001b[0m\u001b[0;34m(\u001b[0m\u001b[0;34m'https://github.com/htmlprogrammist/unified-state-exam/blob/master/EGE/online-olimpiada-OV/22.txt'\u001b[0m\u001b[0;34m)\u001b[0m\u001b[0;34m\u001b[0m\u001b[0;34m\u001b[0m\u001b[0m\n\u001b[0m\u001b[1;32m     11\u001b[0m \u001b[0ma\u001b[0m \u001b[0;34m=\u001b[0m \u001b[0mdocument\u001b[0m\u001b[0;34m.\u001b[0m\u001b[0mread\u001b[0m\u001b[0;34m(\u001b[0m\u001b[0;34m)\u001b[0m\u001b[0;34m\u001b[0m\u001b[0;34m\u001b[0m\u001b[0m\n\u001b[1;32m     12\u001b[0m \u001b[0malphabet\u001b[0m \u001b[0;34m=\u001b[0m \u001b[0;34m[\u001b[0m\u001b[0;34m]\u001b[0m\u001b[0;34m\u001b[0m\u001b[0;34m\u001b[0m\u001b[0m\n",
            "\u001b[0;31mFileNotFoundError\u001b[0m: [Errno 2] No such file or directory: 'https://github.com/htmlprogrammist/unified-state-exam/blob/master/EGE/online-olimpiada-OV/22.txt'"
          ]
        }
      ]
    },
    {
      "cell_type": "code",
      "metadata": {
        "id": "lyjy_osrymd_"
      },
      "source": [
        "document = open('24/24_6.txt', 'r')\n",
        "# https://github.com/htmlprogrammist/unified-state-exam/blob/master/tasks_24/24/24_6.txt\n",
        "print(document)\n",
        "content_in_lines = document.readlines()\n",
        "print(content_in_lines)\n",
        "counter = 0\n",
        "\n",
        "for line in content_in_lines:\n",
        "    counter_X = 0\n",
        "    counter_S = 0\n",
        "    for i in range(len(line)):\n",
        "        if line[i] == 'S':\n",
        "            counter_S += 1\n",
        "    for i in range(len(line)):\n",
        "        if line[i] == 'X':\n",
        "            counter_X += 1\n",
        "    if counter_S == counter_X:\n",
        "        counter += 1\n",
        "print(counter)\n",
        "\n",
        "# feat: update from 15.02.2021\n",
        "for line in content_in_lines:\n",
        "    if line.count('S') == line.count('X'):\n",
        "        counter += 1\n",
        "print(counter)\n",
        "\n",
        "# Тоже правильное решение, но with взят из интернета\n",
        "counter = 0\n",
        "\n",
        "with open('24/24_6.txt') as file:\n",
        "    for line in file:\n",
        "        counter_X = 0\n",
        "        counter_S = 0\n",
        "        for i in range(len(line)):\n",
        "            if line[i] == 'S':\n",
        "                counter_S += 1\n",
        "        for i in range(len(line)):\n",
        "            if line[i] == 'X':\n",
        "                counter_X += 1\n",
        "        if counter_S == counter_X:\n",
        "            counter += 1\n",
        "\n",
        "print(counter)  # 48"
      ],
      "execution_count": null,
      "outputs": []
    },
    {
      "cell_type": "code",
      "metadata": {
        "id": "ybK1YlFqKEM2"
      },
      "source": [
        "\"\"\"\n",
        "Текстовый файл содержит только заглавные буквы латинского алфавита (ABC...Z).\n",
        "Определите символ, который чаще всего встречается в файле между двумя одинаковыми символами.\n",
        "Например, в тексте CBCABABACCC есть комбинации CBC, ABA (два раза), BAB и CCC.\n",
        "Чаще всего – 3 раза – между двумя одинаковыми символами стоит B,\n",
        "в ответе для этого случая надо написать B.\n",
        "\"\"\"\n",
        "\n",
        "document = open('Faily_IN11_02022021/24/24_2010301_statgrad.txt')\n",
        "# https://github.com/htmlprogrammist/unified-state-exam/blob/master/EGE/statgrad_2010301_02.02.2021/Faily_IN11_02022021/24/24_2010301_statgrad.txt\n",
        "a = document.read()\n",
        "alphabet = []\n",
        "max_k = 0\n",
        "max_k_index = 0\n",
        "\n",
        "for i in range(26):\n",
        "    alphabet.append(0)\n",
        "\n",
        "for i in range(1, len(a) - 1):\n",
        "    if a[i-1] == a[i + 1]:\n",
        "        index = ord(a[i]) - 65\n",
        "        alphabet[index] += 1\n",
        "\n",
        "for i in range(len(alphabet)):\n",
        "    if alphabet[i] > max_k:\n",
        "        max_k = alphabet[i]\n",
        "        max_k_index = i\n",
        "\n",
        "print(chr(max_k_index + 65))\n"
      ],
      "execution_count": null,
      "outputs": []
    },
    {
      "cell_type": "markdown",
      "metadata": {
        "id": "iglCtjTkFd3W"
      },
      "source": [
        "# 25 задание\n",
        "---"
      ]
    },
    {
      "cell_type": "markdown",
      "metadata": {
        "id": "Pmm_q6CjCfzD"
      },
      "source": [
        "**Неправильное решение**. Комментарий с \"#!\" фиксит это задание и оно станет правильным\n",
        "* [Ссылка на правильное решение](https://colab.research.google.com/github/htmlprogrammist/unified-state-exam/blob/master/google.colab.ipynb?#scrollTo=miyfNQFUOkCg&line=4&uniqifier=1)"
      ]
    },
    {
      "cell_type": "code",
      "metadata": {
        "id": "5gcJCad9SJvV"
      },
      "source": [
        "\"\"\"\n",
        "Напишите программу, которая ищет среди целых чисел, принадлежащих числовому отрезку [326496; 649632],\n",
        "числа, у которых количество четных делителей равно количеству нечетных делителей. При этом\n",
        "в каждой из таких групп делителей не менее 70 элементов. Для каждого найденного числа запишите само число и\n",
        "минимальный делитель, больший 1000.\n",
        "\n",
        "Например, для числа 2018 имеем следующие делители 2 и 1009. Поэтому результатом\n",
        "(не принимая во внимание количества делителей) будет пара чисел 2018 1009\n",
        "\n",
        "450450 1001\n",
        "589050 1050\n",
        "630630 1001\n",
        "\"\"\"\n",
        "\n",
        "counter1 = 0\n",
        "counter2 = 0\n",
        "a = []\n",
        "for i in range(326496, 649632 + 1):\n",
        "    #! counter1 = 0\n",
        "    #! counter2 = 0\n",
        "    for j in range(2, i // 2 + 1):\n",
        "        if i % j == 0:\n",
        "            if j % 2 == 0:\n",
        "                counter1 += 1\n",
        "            else:\n",
        "                counter2 += 1\n",
        "    if counter1 == counter2 and counter1 >= 70:\n",
        "        k = 1001\n",
        "        while i % k != 0:\n",
        "            k += 1\n",
        "        print(i, k)\n",
        "        # print('Есть 70 делитетей')\n",
        "        # if i == 450450 or i == 589050 or i == 630630:\n",
        "        #     print('Ура, есть одно из трёх чисел.')\n",
        "print(a)\n"
      ],
      "execution_count": null,
      "outputs": []
    },
    {
      "cell_type": "markdown",
      "metadata": {
        "id": "UW3tn4kkC57h"
      },
      "source": [
        "*Правильное решение*. Оптимизированное решение [ниже](https://colab.research.google.com/github/htmlprogrammist/unified-state-exam/blob/master/google.colab.ipynb?authuser=1#scrollTo=EfZvOdLVNjnB&line=3&uniqifier=1)."
      ]
    },
    {
      "cell_type": "code",
      "metadata": {
        "id": "DYKtKohg8EPs",
        "colab": {
          "base_uri": "https://localhost:8080/"
        },
        "outputId": "8f0a7a71-e87d-4d80-ef6c-3e333a520ea4"
      },
      "source": [
        "\"\"\"\n",
        "Напишите программу, которая ищет среди целых чисел, принадлежащих числовому отрезку [135790; 163228],\n",
        "числа, сумма натуральных делителей которых больше 460000. Для каждого найденного числа запишите количество\n",
        "делителей и их сумму. В качестве делителей не рассматривать числа 1 и исследуемое число.\n",
        "Так, например, для числа 8 учитываются только делители 2 и 4.\n",
        "Например, для числа 36 имеем следующие делители 2, 3, 4, 6, 9, 12, 18.\n",
        "Следовательно для него необходимо вывести два числа: 7 54\n",
        "\n",
        "Ответы:\n",
        "142 473759\n",
        "118 462767\n",
        "126 464999\n",
        "118 461969\n",
        "118 477071\n",
        "\"\"\"\n",
        "total = 0\n",
        "counter = 0\n",
        "# a = []\n",
        "for i in range(135790, 163228 + 1):\n",
        "    # a = []\n",
        "    counter = 0\n",
        "    total = 0\n",
        "    for j in range(2, i // 2 + 1):\n",
        "        # total = 0\n",
        "        # counter = 0\n",
        "        if i % j == 0:\n",
        "            total += j\n",
        "            counter += 1\n",
        "    # print('total', total)\n",
        "    # print(counter, total)\n",
        "    if total > 460000:\n",
        "        print(counter, total)\n",
        "        # print(a)\n"
      ],
      "execution_count": null,
      "outputs": [
        {
          "output_type": "stream",
          "text": [
            "142 473759\n",
            "118 462767\n",
            "126 464999\n",
            "118 461969\n",
            "118 477071\n"
          ],
          "name": "stdout"
        }
      ]
    },
    {
      "cell_type": "markdown",
      "metadata": {
        "id": "plIagpUZC0jY"
      },
      "source": [
        "*Правильное решение*"
      ]
    },
    {
      "cell_type": "code",
      "metadata": {
        "id": "QHtw7G9BHnFv",
        "colab": {
          "base_uri": "https://localhost:8080/"
        },
        "outputId": "433b1f51-9615-4267-b0c2-c6290da5227f"
      },
      "source": [
        "\"\"\"\n",
        "Задание 25 (№67).\n",
        "Напишите программу, которая ищет среди целых чисел, принадлежащих числовому отрезку [81234; 134689], \n",
        "числа, имеющие ровно три различных натуральных делителя, не считая единицы и самого числа. \n",
        "Для каждого найденного числа запишите эти два делителя в таблицу на экране \n",
        "с новой строки в порядке возрастания произведения этих трех делителей. \n",
        "Делители в строке таблицы также должны следовать в порядке возрастания.\n",
        "\n",
        "17 289 4913 83521\n",
        "19 361 6859 130321\n",
        "\"\"\"\n",
        "import math\n",
        "a = []\n",
        "counter = 0\n",
        "for i in range(81234, 134689+1):\n",
        "    counter = 0\n",
        "    a = []\n",
        "    # for j in range(2, int(math.sqrt(i)) + 1):\n",
        "    for j in range(2, i // 2 + 1):\n",
        "        if i % j == 0:\n",
        "            a.append(j)\n",
        "            # a.append(i // j)\n",
        "            counter += 1\n",
        "    if counter == 3:\n",
        "        print(a[0], a[1], a[2], i)\n"
      ],
      "execution_count": null,
      "outputs": [
        {
          "output_type": "stream",
          "text": [
            "17 289 4913 83521\n",
            "19 361 6859 130321\n"
          ],
          "name": "stdout"
        }
      ]
    },
    {
      "cell_type": "markdown",
      "metadata": {
        "id": "sH14Ypd-K6Ab"
      },
      "source": [
        "Тест. Нечетное количество делителей и int(sqrt(i)). (Оно не работает с нечетным количеством делитетей, поэтому решение, представленное ниже - **неправильное**)"
      ]
    },
    {
      "cell_type": "code",
      "metadata": {
        "id": "tdFaRUiCK2Pz",
        "colab": {
          "base_uri": "https://localhost:8080/"
        },
        "outputId": "d974a5fc-e26f-40f9-ff26-7d05726c1a53"
      },
      "source": [
        "import math\n",
        "a = []\n",
        "counter = 0\n",
        "for i in range(81234, 134689+1):\n",
        "    counter = 0\n",
        "    a = []\n",
        "    for j in range(2, int(math.sqrt(i)) + 1):\n",
        "    # for j in range(2, i // 2 + 1):\n",
        "        if i % j == 0:\n",
        "            a.append(j)\n",
        "            a.append(i // j)\n",
        "            counter += 2\n",
        "    if i == int(math.sqrt(i)) ** 2:\n",
        "        counter += 1\n",
        "        a.append(int(math.sqrt(i)))\n",
        "    if counter == 3:\n",
        "        print(a[0], a[1], a[2])\n",
        "  "
      ],
      "execution_count": null,
      "outputs": [
        {
          "output_type": "stream",
          "text": [
            "293 293 293\n",
            "307 307 307\n",
            "311 311 311\n",
            "313 313 313\n",
            "317 317 317\n",
            "331 331 331\n",
            "337 337 337\n",
            "347 347 347\n",
            "349 349 349\n",
            "353 353 353\n",
            "359 359 359\n",
            "367 367 367\n"
          ],
          "name": "stdout"
        }
      ]
    },
    {
      "cell_type": "markdown",
      "metadata": {
        "id": "0ADBT511DXV0"
      },
      "source": [
        "*Правильное решение* самой первой задачи (+оптимизированное)\n",
        "\n",
        "---\n",
        "\n"
      ]
    },
    {
      "cell_type": "code",
      "metadata": {
        "id": "miyfNQFUOkCg",
        "colab": {
          "base_uri": "https://localhost:8080/"
        },
        "outputId": "23fa5e73-9a8e-4ea7-acff-7ee4079ddd3a"
      },
      "source": [
        "\"\"\"\n",
        "Задание 25 (№315).\n",
        "\n",
        "Напишите программу, которая ищет среди целых чисел, принадлежащих числовому отрезку [326496; 649632],\n",
        "числа, у которых количество четных делителей равно количеству нечетных делителей.\n",
        "При этом в каждой из таких групп делителей не менее 70 элементов.\n",
        "Для каждого найденного числа запишите само число и минимальный делитель, больший 1000.\n",
        "\n",
        "Например, для числа 2018 имеем следующие делители 2 и 1009.\n",
        "Поэтому результатом (не принимая во внимание количества делителей) будет пара чисел 2018 1009\n",
        "\n",
        "450450 1001\n",
        "589050 1050\n",
        "630630 1001\n",
        "\"\"\"\n",
        "import math\n",
        "\n",
        "a = []\n",
        "counter1 = 0\n",
        "counter2 = 0\n",
        "for i in range(326496, 649632 + 1):\n",
        "    sqrt_i = int(math.sqrt(i))\n",
        "    k = 0\n",
        "    counter1 = 0\n",
        "    counter2 = 0\n",
        "    if sqrt_i ** 2 == i:\n",
        "        k += 1\n",
        "    for j in range(2, int(math.sqrt(i)) + 1 - k):\n",
        "        if i % j == 0:\n",
        "            if j % 2 == 0:\n",
        "                counter1 += 1\n",
        "            else:\n",
        "                counter2 += 1\n",
        "            if i // j % 2 == 0:\n",
        "                counter1 += 1\n",
        "            if i // j % 2 != 0:\n",
        "                counter2 += 1\n",
        "    if counter1 == counter2 and counter1 >= 70:\n",
        "        k = 1001\n",
        "        while i % k != 0:\n",
        "            k += 1\n",
        "        print(i, k)\n"
      ],
      "execution_count": null,
      "outputs": [
        {
          "output_type": "stream",
          "text": [
            "450450 1001\n",
            "589050 1050\n",
            "630630 1001\n"
          ],
          "name": "stdout"
        }
      ]
    },
    {
      "cell_type": "markdown",
      "metadata": {
        "id": "7h3pX7lcCE5I"
      },
      "source": [
        "**Неправильное решение.** Правильное будет [ниже](https://colab.research.google.com/github/htmlprogrammist/unified-state-exam/blob/master/google.colab.ipynb?authuser=1#scrollTo=UA0FUlzz3t1j&line=8&uniqifier=1) (от 16 ноября, поэтому лучше просто пролистать)"
      ]
    },
    {
      "cell_type": "code",
      "metadata": {
        "id": "OyRaXsx2qf71"
      },
      "source": [
        "\"\"\"\n",
        "Задание 25 (№506).\n",
        "Напишите программу, которая ищет среди целых чисел, принадлежащих числовому отрезку [25317; 51237],\n",
        "которые имеют хотя бы 6 различных простых делителей. Делители 1 и само число не учитываются.\n",
        "В качестве результата работы программы приведите\n",
        "найденное число и максимальный простой делитель этого числа.\n",
        "\n",
        "30030 13\n",
        "39270 17\n",
        "43890 19\n",
        "46410 17\n",
        "\"\"\"\n",
        "from math import sqrt\n",
        "\n",
        "a = []\n",
        "counter = 0\n",
        "counter_of_simple_numbers = 0\n",
        "\n",
        "for i in range(25317, 51237 + 1):\n",
        "    a = []\n",
        "    counter = 0\n",
        "    # for j in range(2, int(sqrt(i)) + 1):\n",
        "    #     a.append(j)\n",
        "    #     a.append(i // j)\n",
        "    #     counter += 2\n",
        "    for j in range(2, i // 2 + 1):\n",
        "        a.append(j)\n",
        "        counter += 1\n",
        "    if counter >= 6:\n",
        "        for k in range(len(a)):\n",
        "            # print(k, a[k])\n",
        "            # print(a.index(k))\n",
        "            ranger = a[k]\n",
        "            for m in range(1, ranger + 1):\n",
        "                if ranger % m == 0:\n",
        "                    counter_of_simple_numbers += 1\n",
        "    if counter_of_simple_numbers == 2:\n",
        "        print(i, ranger)\n",
        "        # ranger = a[k]\n",
        "        # for k in range(1, ranger + 1):\n",
        "        #     if i % k == 0:\n",
        "        #         counter_of_simple_numbers += 1\n",
        "        # if counter_of_simple_numbers == 2:\n",
        "        #     print(i, k)\n"
      ],
      "execution_count": null,
      "outputs": []
    },
    {
      "cell_type": "markdown",
      "metadata": {
        "id": "VMPO7fSnWycK"
      },
      "source": [
        "16 ноября 2020 года.\n",
        "* *Правильное решение*\n"
      ]
    },
    {
      "cell_type": "code",
      "metadata": {
        "id": "UA0FUlzz3t1j",
        "colab": {
          "base_uri": "https://localhost:8080/"
        },
        "outputId": "f342f281-53ae-4006-8da7-03e8437ad067"
      },
      "source": [
        "\"\"\"\n",
        "Задание 25 (№506).\n",
        "Напишите программу, которая ищет среди целых чисел, принадлежащих числовому отрезку [25317; 51237],\n",
        "которые имеют хотя бы 6 различных простых делителей. Делители 1 и само число не учитываются.\n",
        "В качестве результата работы программы приведите\n",
        "найденное число и максимальный простой делитель этого числа.\n",
        "\n",
        "30030 13\n",
        "39270 17\n",
        "43890 19\n",
        "46410 17\n",
        "\"\"\"\n",
        "import math\n",
        "\n",
        "max_d = 1\n",
        "\n",
        "for i in range(25317, 51237 + 1):\n",
        "    simple_counter = 0\n",
        "    dividers = []\n",
        "    for d in range(2, int(math.sqrt(i)) + 1):\n",
        "        if i % d == 0:\n",
        "            k = 0\n",
        "            for j in range(2, int(math.sqrt(d)) + 1):\n",
        "                if d % j == 0:\n",
        "                    k += 1\n",
        "            if k == 0:\n",
        "                simple_counter += 1\n",
        "                max_d = d\n",
        "    if simple_counter >= 6:\n",
        "        print(i, max_d)\n"
      ],
      "execution_count": null,
      "outputs": [
        {
          "output_type": "stream",
          "text": [
            "30030 13\n",
            "39270 17\n",
            "43890 19\n",
            "46410 17\n"
          ],
          "name": "stdout"
        }
      ]
    },
    {
      "cell_type": "markdown",
      "metadata": {
        "id": "MWh6h2hfXIC9"
      },
      "source": [
        "Домашнее задание: 16 ноября 2020 года"
      ]
    },
    {
      "cell_type": "markdown",
      "metadata": {
        "id": "BU-mCXpyELXO"
      },
      "source": [
        "Тут количество ответов совпало, но числа разные. Причем в их ответах (первые) не принадлежат отрезку [6638225; 6638322], а мои ответы (вторые) - совпадают. Алгоритм верный."
      ]
    },
    {
      "cell_type": "code",
      "metadata": {
        "id": "PgZ2HOYvXNCg",
        "colab": {
          "base_uri": "https://localhost:8080/"
        },
        "outputId": "9cf20bd4-4692-404f-8567-4235b99a4b16"
      },
      "source": [
        "\"\"\"\n",
        "Задание 25 (№706).\n",
        "Напишите программу, которая ищет среди целых чисел,\n",
        "принадлежащих числовому отрезку [6638225; 6638322], простые числа.\n",
        "Выведите все найденные простые числа в порядке возрастания,\n",
        "слева от каждого числа выведите его номер по порядку.\n",
        "\n",
        "1 5336753\n",
        "2 5336761\n",
        "3 5336789\n",
        "4 5336797\n",
        "5 5336801\n",
        "6 5336813\n",
        "7 5336831\n",
        "8 5336833\n",
        "\n",
        "1 6638227\n",
        "2 6638231\n",
        "3 6638249\n",
        "4 6638251\n",
        "5 6638263\n",
        "6 6638273\n",
        "7 6638299\n",
        "8 6638321\n",
        "\"\"\"\n",
        "import math\n",
        "\n",
        "counter_simple = 0\n",
        "number = 0\n",
        "for i in range(6638225, 6638322 + 1):\n",
        "    counter_simple = 0\n",
        "    for j in range(2, int(math.sqrt(i)) + 1):\n",
        "        if i % j == 0:\n",
        "            counter_simple += 1\n",
        "    if counter_simple == 0:\n",
        "        number += 1\n",
        "        print(number, i)\n"
      ],
      "execution_count": null,
      "outputs": [
        {
          "output_type": "stream",
          "text": [
            "1 6638227\n",
            "2 6638231\n",
            "3 6638249\n",
            "4 6638251\n",
            "5 6638263\n",
            "6 6638273\n",
            "7 6638299\n",
            "8 6638321\n"
          ],
          "name": "stdout"
        }
      ]
    },
    {
      "cell_type": "markdown",
      "metadata": {
        "id": "hC857_2FEfQ1"
      },
      "source": [
        "*Правильное решение*"
      ]
    },
    {
      "cell_type": "code",
      "metadata": {
        "id": "dF_nH4xcXPvT",
        "colab": {
          "base_uri": "https://localhost:8080/"
        },
        "outputId": "aa9ebfd5-adda-422c-8ca1-1587cce3f416"
      },
      "source": [
        "\"\"\"\n",
        "Задание 25 (№680).\n",
        "Рассматриваются целые числа, принадлежащих числовому отрезку [485617; 529678],\n",
        "которые представляют собой произведение трёх различных простых делителей,\n",
        "оканчивающихся на одну и ту же цифру. В качестве ответа приведите все числа,\n",
        "разность максимального и минимального простых делителей которого меньше 100.\n",
        "Для каждого такого числа сначала запишите само число,\n",
        "а затем разность максимального и минимального простых делителей\n",
        "\n",
        "487813 60\n",
        "497087 60\n",
        "500477 70\n",
        "502793 90\n",
        "508049 50\n",
        "\"\"\"\n",
        "import math\n",
        "simple_counter = 0\n",
        "dividers = []\n",
        "k, j = 0, 0\n",
        "\n",
        "for i in range(485617, 529678 + 1):\n",
        "    simple_counter = 0\n",
        "    dividers = []\n",
        "    for d in range(2, int(math.sqrt(i)) + 1):\n",
        "        if i % d == 0:\n",
        "            k = 0\n",
        "            for j in range(2, int(math.sqrt(d)) + 1):\n",
        "                if d % j == 0:\n",
        "                    k += 1\n",
        "            if k == 0:\n",
        "                simple_counter += 1\n",
        "                dividers.append(d)\n",
        "    if simple_counter == 3:\n",
        "        # if i == 487813:\n",
        "        #     print('487813', dividers)  # 487813 [47, 97, 107]\n",
        "        # if i == 497087:\n",
        "        #     print('497087', dividers)  # 497087 [53, 83, 113]\n",
        "        # if i == 500477:\n",
        "        #     print('500477', dividers)  # 500477 [43, 103, 113]\n",
        "        # if i == 502793:\n",
        "        #     print('502793', dividers)  # 502793 [37, 107, 127]\n",
        "        # if i == 508049:\n",
        "        #     print('508049', dividers)  # 508049 [59, 79, 109]\n",
        "        if dividers[0] * dividers[1] * dividers[2] == i:\n",
        "            difference = dividers[2] - dividers[0]\n",
        "            if difference < 100:\n",
        "                if dividers[0] % 10 == dividers[1] % 10 == dividers[2] % 10:\n",
        "                    print(i, difference)\n"
      ],
      "execution_count": null,
      "outputs": [
        {
          "output_type": "stream",
          "text": [
            "487813 60\n",
            "497087 60\n",
            "500477 70\n",
            "502793 90\n",
            "508049 50\n"
          ],
          "name": "stdout"
        }
      ]
    },
    {
      "cell_type": "markdown",
      "metadata": {
        "id": "ucHuqxRBNiVT"
      },
      "source": [
        "17 ноября 2020\n",
        "* *Правильное решение*"
      ]
    },
    {
      "cell_type": "code",
      "metadata": {
        "id": "EfZvOdLVNjnB",
        "colab": {
          "base_uri": "https://localhost:8080/"
        },
        "outputId": "e058d626-af6b-404d-ae39-ae33eecdb418"
      },
      "source": [
        "\"\"\"\n",
        "Задание 25 (№106).\n",
        "Напишите программу, которая ищет среди целых чисел, принадлежащих числовому отрезку [135790; 163228], \n",
        "числа, сумма натуральных делителей которых больше 460000. \n",
        "Для каждого найденного числа запишите количество делителей и их сумму.\n",
        "В качестве делителей не рассматривать числа 1 и исследуемое число. \n",
        "Так, например, для числа 8 учитываются только делители 2 и 4.\n",
        "Например, для числа 36 имеем следующие делители 2, 3, 4, 6, 9, 12, 18. \n",
        "Следовательно для него необходимо вывести два числа: 7 54\n",
        "\n",
        "142 473759\n",
        "118 462767\n",
        "126 464999\n",
        "118 461969\n",
        "118 477071\n",
        "\"\"\"\n",
        "import math\n",
        "\n",
        "dividers = []\n",
        "\n",
        "for i in range(135790, 163228 + 1):\n",
        "    dividers = []\n",
        "    for j in range(2, int(math.sqrt(i)) + 1):\n",
        "        if i % j == 0:\n",
        "            dividers.append(j)\n",
        "            dividers.append(i // j)\n",
        "    if sum(dividers) > 460000:\n",
        "        print(len(dividers), sum(dividers))\n"
      ],
      "execution_count": null,
      "outputs": [
        {
          "output_type": "stream",
          "text": [
            "142 473759\n",
            "118 462767\n",
            "126 464999\n",
            "118 461969\n",
            "118 477071\n"
          ],
          "name": "stdout"
        }
      ]
    },
    {
      "cell_type": "markdown",
      "metadata": {
        "id": "Zd1opJplEozs"
      },
      "source": [
        "*Правильное решение* (Алина)"
      ]
    },
    {
      "cell_type": "code",
      "metadata": {
        "id": "61_O8v9MO3wn",
        "colab": {
          "base_uri": "https://localhost:8080/"
        },
        "outputId": "2de3f77a-037d-4447-c24f-6e5aaa56ff9d"
      },
      "source": [
        "'''Задание 25 (№106).\n",
        "\n",
        "Напишите программу, которая ищет среди целых чисел, принадлежащих числовому отрезку [135790; 163228], числа, сумма натуральных делителей \n",
        "которых больше 460000. Для каждого найденного числа запишите количество делителей и их сумму. В качестве делителей не рассматривать числа 1 \n",
        "и исследуемое число. Так, например, для числа 8 учитываются только делители 2 и 4.'''\n",
        "from math import sqrt\n",
        "s=0\n",
        "k=0\n",
        "for i in range(135790,163228+1):\n",
        "    s=0\n",
        "    k=0\n",
        "    for j in range(2,int(sqrt(i))+1):\n",
        "        if i%j==0:\n",
        "            s+=j\n",
        "            s+=i//j\n",
        "            k+=2\n",
        "    if s>460000:\n",
        "        print(k,s)\n"
      ],
      "execution_count": null,
      "outputs": [
        {
          "output_type": "stream",
          "text": [
            "142 473759\n",
            "118 462767\n",
            "126 464999\n",
            "118 461969\n",
            "118 477071\n"
          ],
          "name": "stdout"
        }
      ]
    },
    {
      "cell_type": "markdown",
      "metadata": {
        "id": "DY5bclfyEaKO"
      },
      "source": [
        "21 ноября 2020 года. Немного самодеятельности.\n",
        "* *Правильное решение*\n",
        "\n",
        "---\n",
        "\n"
      ]
    },
    {
      "cell_type": "code",
      "metadata": {
        "id": "hViwRzc-EZ12",
        "colab": {
          "base_uri": "https://localhost:8080/"
        },
        "outputId": "08c1bd08-b144-4875-f86d-46395cb1cd88"
      },
      "source": [
        "\"\"\"\n",
        "Задание 25 (№280).\n",
        "Напишите программу, которая ищет среди целых чисел, принадлежащих числовому отрезку [333555; 777999], \n",
        "числа, среди делителей которых есть ровно 35 двузначных чисел. \n",
        "Для каждого найденного числа запишите наименьший и наибольший из них. \n",
        "Так, например, для числа 36 учитываются только делители 12 и 18.\n",
        "Следовательно, для него необходимо вывести два числа:12 18\n",
        "\n",
        "10 96\n",
        "10 99\n",
        "10 99\n",
        "10 91\n",
        "10 99\n",
        "\"\"\"\n",
        "from math import sqrt\n",
        "\n",
        "k = 0\n",
        "dividers = []\n",
        "\n",
        "for i in range(333555, 777999 + 1):\n",
        "    k = 0\n",
        "    dividers = []\n",
        "    for j in range(2, int(sqrt(i)) + 1):\n",
        "        if i % j == 0:\n",
        "            if 9 < j < 100:\n",
        "                k += 1\n",
        "                dividers.append(j)\n",
        "    if len(dividers) == 35:\n",
        "        print(min(dividers), max(dividers))\n"
      ],
      "execution_count": null,
      "outputs": [
        {
          "output_type": "stream",
          "text": [
            "10 96\n",
            "10 99\n",
            "10 99\n",
            "10 91\n",
            "10 99\n"
          ],
          "name": "stdout"
        }
      ]
    },
    {
      "cell_type": "markdown",
      "metadata": {
        "id": "KIDxxF_RZb6P"
      },
      "source": [
        "---\n",
        "23 ноября 2020\n",
        "* **Неправильное решение**"
      ]
    },
    {
      "cell_type": "code",
      "metadata": {
        "id": "RjpSvZNdZdKH"
      },
      "source": [
        "\"\"\"\n",
        "Задание 25 (№224).\n",
        "Напишите программу, которая ищет среди целых чисел, принадлежащих числовому отрезку [228224; 531135], \n",
        "числа, среди делителей которых есть хотя бы 4 различных куба натуральных нечетных чисел. \n",
        "Для каждого найденного числа запишите количество таких делителей и наибольший из них. \n",
        "В качестве делителей не рассматривать число 1. Так, например, для числа 8 учитываются только делители 2 и 4.\n",
        "Например, для числа 54 имеем следующие делители 2, 3, 6, 9, 18, 27. \n",
        "Следовательно для него необходимо вывести два числа: 1 27\n",
        "\n",
        "5 250047\n",
        "5 91125\n",
        "5 91125\n",
        "5 421875\n",
        "5 91125\n",
        "5 250047\n",
        "\"\"\"\n",
        "import math\n",
        "\n",
        "for i in range(228224, 531135 + 1):\n",
        "    dividers = []\n",
        "    # counter = 0  счётчик количества делителей, потому что вообще не понятно, что не так (1)\n",
        "    for j in range(1, int(math.sqrt(i)) + 1):\n",
        "        if i % j == 0:\n",
        "            cube_j1 = j ** (1/3)\n",
        "            cube_j2 = (i // j) ** (1/3)\n",
        "            # print(cube_j1, cube_j2)\n",
        "            # if j % 2 != 0 and (i // j) % 2 != 0:\n",
        "            #     if cube_j1.is_integer() and cube_j2.is_integer():\n",
        "            #         dividers.append(j)\n",
        "            #         dividers.append(i // j)\n",
        "            if j % 2 != 0:\n",
        "                if cube_j1.is_integer():\n",
        "                    dividers.append(j)\n",
        "                    # counter += 1\n",
        "            if (i // j) % 2 != 0:\n",
        "                if cube_j2.is_integer():\n",
        "                    dividers.append(i // j)\n",
        "                    # counter += 1\n",
        "    # if counter > 2:  (1) выдаёт он в итоге только либо 1, либо 2\n",
        "    #     print(counter)\n",
        "    if len(dividers) >= 4:\n",
        "        print(len(dividers), max(dividers))\n"
      ],
      "execution_count": null,
      "outputs": []
    },
    {
      "cell_type": "code",
      "metadata": {
        "colab": {
          "base_uri": "https://localhost:8080/"
        },
        "id": "wLJcw4sE_4kZ",
        "outputId": "a8996c9e-11bd-4343-a4c9-fa1c25d38917"
      },
      "source": [
        "\"\"\"\n",
        "Рассмотрим произвольное натуральное число, представим его всеми возможными способами в виде произведения\n",
        "двух натуральных чисел и найдём для каждого такого произведения разность сомножителей.\n",
        "Например, для числа 18 получим: 18 = 18*1 = 9*2 = 6*3, множество разностей содержит числа 17, 7 и 3.\n",
        "Подходящей будем называть пару сомножителей, разность между которыми не превышает 110.\n",
        "Найдите все натуральные числа, принадлежащие отрезку [1000000; 1500000],\n",
        "у которых есть не менее трёх подходящих пар сомножителей.\n",
        "В ответе перечислите найденные числа в порядке возрастания,\n",
        "справа от каждого запишите наибольший из всех сомножителей,\n",
        "образующих подходящие пары.\n",
        "\n",
        "1113840 1105\n",
        "1179360 1134\n",
        "1208844 1148\n",
        "1422720 1248\n",
        "1499400 1275\n",
        "\"\"\"\n",
        "import math\n",
        "\n",
        "for i in range(1000000, 1500000 + 1):\n",
        "    counter_pairs = 0\n",
        "    delitels = []\n",
        "    for j in range(500, int(math.sqrt(i)) + 1):\n",
        "        if i % j == 0:\n",
        "            if abs((i // j) - j) <= 110:\n",
        "                counter_pairs += 1\n",
        "                delitels.append(j)\n",
        "                delitels.append(i // j)\n",
        "    if counter_pairs >= 3:\n",
        "        print(i, max(delitels))\n"
      ],
      "execution_count": null,
      "outputs": [
        {
          "output_type": "stream",
          "text": [
            "1113840 1105\n",
            "1179360 1134\n",
            "1208844 1148\n",
            "1422720 1248\n",
            "1499400 1275\n"
          ],
          "name": "stdout"
        }
      ]
    },
    {
      "cell_type": "code",
      "metadata": {
        "colab": {
          "base_uri": "https://localhost:8080/"
        },
        "id": "9Ni2D1ywBTJ8",
        "outputId": "17ea8596-898f-415d-ec21-06e9842fd17a"
      },
      "source": [
        "for i in range(1000000, 1500000 + 1):\n",
        "    counter_pairs = 0\n",
        "    delitels = []\n",
        "    for j in range(500, int(math.sqrt(i)) + 1):\n",
        "        if i % j == 0:\n",
        "            if abs((i // j) - j) <= 110:\n",
        "                counter_pairs += 1\n",
        "                delitels.append(j)\n",
        "    if counter_pairs >= 3:\n",
        "        print(i, i // min(delitels))"
      ],
      "execution_count": null,
      "outputs": [
        {
          "output_type": "stream",
          "text": [
            "1113840 1105\n",
            "1179360 1134\n",
            "1208844 1148\n",
            "1422720 1248\n",
            "1499400 1275\n"
          ],
          "name": "stdout"
        }
      ]
    },
    {
      "cell_type": "code",
      "metadata": {
        "id": "Pdhu5b7PFULz"
      },
      "source": [
        "\"\"\"\n",
        "Назовём нетривиальным делителем натурального числа его делитель, не равный единице и самому числу.\n",
        "Например, у числа 6 есть два нетривиальных делителя: 2 и 3.\n",
        "Напишите программу, которая ищет среди целых чисел,\n",
        "принадлежащих числовому отрезку [159264873; 973146285] каждое двухтысячное число,\n",
        "начиная с первого (1-2001-4001 и т.д.) с нечётным количеством нетривиальных делителей\n",
        "В качестве результата работы программы выведите\n",
        "найденные числа с количеством нетривиальных делителей больше 1 и количество таких делителей.\n",
        "\n",
        "159289641 25\n",
        "276257641 7\n",
        "346741641 13\n",
        "425225641 7\n",
        "606193641 25\n",
        "708677641 7\n",
        "937645641 25\n",
        "\"\"\"\n",
        "\n",
        "import math\n",
        "for i in range(159264873, 973146285 + 1, 2000):\n",
        "\n",
        "# for i in range(1, 973148000, 2000):\n",
        "    counter = 0\n",
        "    # if 159264873 <= i <= 973146285:\n",
        "    for j in range(2, i // 2 + 1):\n",
        "        if i % j == 0:\n",
        "            counter += 1\n",
        "    if counter % 2 != 0:\n",
        "        print(i, counter)\n"
      ],
      "execution_count": null,
      "outputs": []
    },
    {
      "cell_type": "code",
      "metadata": {
        "id": "F3dlrKSoiwpm",
        "colab": {
          "base_uri": "https://localhost:8080/",
          "height": 1000
        },
        "outputId": "d1f8fe2d-82f0-46af-cb9b-dd2004a3d1e3"
      },
      "source": [
        "\"\"\"\n",
        "Найдите все натуральные числа, принадлежащие отрезку\n",
        "[101 000 000; 102 000 000], у которых ровно три различных чётных делителя.\n",
        "В ответе перечислите найденные числа в порядке возрастания.\n",
        "\"\"\"\n",
        "for i in range(101000000, 102000000 + 1):\n",
        "    divider = 0\n",
        "    for j in range(2, i // 2 + 1):\n",
        "        if i % j == 0: \n",
        "            if j % 2 == 0:\n",
        "                divider += 1\n",
        "                if divider > 4:\n",
        "                    break\n",
        "    if divider == 3:\n",
        "        print(i)\n"
      ],
      "execution_count": null,
      "outputs": [
        {
          "output_type": "stream",
          "text": [
            "101000012\n",
            "101000014\n",
            "101000022\n",
            "101000038\n",
            "101000054\n",
            "101000058\n",
            "101000062\n",
            "101000066\n",
            "101000090\n",
            "101000098\n",
            "101000102\n",
            "101000110\n",
            "101000132\n",
            "101000138\n",
            "101000166\n",
            "101000174\n",
            "101000186\n",
            "101000188\n",
            "101000194\n",
            "101000204\n",
            "101000218\n",
            "101000242\n",
            "101000246\n",
            "101000252\n",
            "101000278\n",
            "101000334\n",
            "101000346\n",
            "101000348\n",
            "101000366\n",
            "101000378\n",
            "101000386\n",
            "101000398\n",
            "101000414\n",
            "101000426\n",
            "101000434\n",
            "101000446\n",
            "101000462\n",
            "101000470\n",
            "101000474\n",
            "101000478\n",
            "101000486\n",
            "101000492\n",
            "101000506\n",
            "101000522\n",
            "101000534\n",
            "101000566\n",
            "101000572\n",
            "101000586\n",
            "101000594\n",
            "101000618\n",
            "101000626\n",
            "101000642\n",
            "101000674\n",
            "101000686\n",
            "101000702\n",
            "101000716\n",
            "101000726\n"
          ],
          "name": "stdout"
        },
        {
          "output_type": "error",
          "ename": "KeyboardInterrupt",
          "evalue": "ignored",
          "traceback": [
            "\u001b[0;31m---------------------------------------------------------------------------\u001b[0m",
            "\u001b[0;31mKeyboardInterrupt\u001b[0m                         Traceback (most recent call last)",
            "\u001b[0;32m<ipython-input-9-44b7588c9356>\u001b[0m in \u001b[0;36m<module>\u001b[0;34m()\u001b[0m\n\u001b[1;32m      7\u001b[0m     \u001b[0mdivider\u001b[0m \u001b[0;34m=\u001b[0m \u001b[0;36m0\u001b[0m\u001b[0;34m\u001b[0m\u001b[0;34m\u001b[0m\u001b[0m\n\u001b[1;32m      8\u001b[0m     \u001b[0;32mfor\u001b[0m \u001b[0mj\u001b[0m \u001b[0;32min\u001b[0m \u001b[0mrange\u001b[0m\u001b[0;34m(\u001b[0m\u001b[0;36m2\u001b[0m\u001b[0;34m,\u001b[0m \u001b[0mi\u001b[0m \u001b[0;34m//\u001b[0m \u001b[0;36m2\u001b[0m \u001b[0;34m+\u001b[0m \u001b[0;36m1\u001b[0m\u001b[0;34m)\u001b[0m\u001b[0;34m:\u001b[0m\u001b[0;34m\u001b[0m\u001b[0;34m\u001b[0m\u001b[0m\n\u001b[0;32m----> 9\u001b[0;31m         \u001b[0;32mif\u001b[0m \u001b[0mi\u001b[0m \u001b[0;34m%\u001b[0m \u001b[0mj\u001b[0m \u001b[0;34m==\u001b[0m \u001b[0;36m0\u001b[0m\u001b[0;34m:\u001b[0m\u001b[0;34m\u001b[0m\u001b[0;34m\u001b[0m\u001b[0m\n\u001b[0m\u001b[1;32m     10\u001b[0m             \u001b[0;32mif\u001b[0m \u001b[0mj\u001b[0m \u001b[0;34m%\u001b[0m \u001b[0;36m2\u001b[0m \u001b[0;34m==\u001b[0m \u001b[0;36m0\u001b[0m\u001b[0;34m:\u001b[0m\u001b[0;34m\u001b[0m\u001b[0;34m\u001b[0m\u001b[0m\n\u001b[1;32m     11\u001b[0m                 \u001b[0mdivider\u001b[0m \u001b[0;34m+=\u001b[0m \u001b[0;36m1\u001b[0m\u001b[0;34m\u001b[0m\u001b[0;34m\u001b[0m\u001b[0m\n",
            "\u001b[0;31mKeyboardInterrupt\u001b[0m: "
          ]
        }
      ]
    },
    {
      "cell_type": "code",
      "metadata": {
        "id": "zuz4L9vGIyNG",
        "colab": {
          "base_uri": "https://localhost:8080/"
        },
        "outputId": "0a278759-cc74-40a8-e5fb-01fc96a55992"
      },
      "source": [
        "\"\"\"\n",
        "Найдите все натуральные числа, принадлежащие отрезку [35 000 000; 40 000 000],\n",
        "у которых ровно пять различных нечётных делителей (количество чётных\n",
        "делителей может быть любым). В ответе перечислите найденные числа\n",
        "в порядке возрастания.\n",
        "\"\"\"\n",
        "\n",
        "\n",
        "def is_prime(n):\n",
        "    d = 2\n",
        "    while d * d <= n:\n",
        "        if n % d == 0:\n",
        "            return False\n",
        "        d += 1\n",
        "    return True\n",
        "\n",
        "\n",
        "for i in range(35000000, 40000000 + 1):\n",
        "    a = i\n",
        "    while a % 2 == 0:\n",
        "        a //= 2\n",
        "    if a ** 0.25 == int(a ** 0.25):\n",
        "        if is_prime(a ** 0.25):\n",
        "            print(i)\n"
      ],
      "execution_count": null,
      "outputs": [
        {
          "output_type": "stream",
          "text": [
            "35819648\n",
            "38950081\n",
            "39037448\n",
            "39337984\n"
          ],
          "name": "stdout"
        }
      ]
    },
    {
      "cell_type": "markdown",
      "metadata": {
        "id": "67XahKKfNKc9"
      },
      "source": [
        "# 26 задание\n",
        "---"
      ]
    },
    {
      "cell_type": "code",
      "metadata": {
        "id": "Wy0MaePB5KPG"
      },
      "source": [
        "\"\"\"\n",
        "№ 68, Джобс 31.08.2020\n",
        "Задача робота заполнить как можно большее количество ящиков монетами в количестве 100 штук.\n",
        "Роботу по конвейеру поступают корзины с монетами. В каждой корзине может быть от 1 до 99 монет.\n",
        "Известно, что робот может высыпать в каждый ящик один раз содержимое не более двух корзин.\n",
        "Необходимо написать программу, которая определяет, сколько ящиков можно заполнить ровно 100 монетами.\n",
        "Входные данные представлены в файле следующим образом.\n",
        "В первой строке записано число 1 < N < 10000 – количество корзин,\n",
        "в каждой из последующих N строк целое число 0 < K < 100 – количество монет в каждой корзине.\n",
        "В качестве ответа дать одно число – количество ящиков, заполненных 100 монетами.\n",
        "\n",
        "Пример организации исходных данных во входном файле:\n",
        "7\n",
        "10\n",
        "44\n",
        "66\n",
        "90\n",
        "65\n",
        "47\n",
        "34\n",
        "При таких исходных данных можно заполнить только 2 ящика по 100 монет 10 + 90 и 66 + 34.\n",
        "\n",
        "3845\n",
        "\"\"\"\n",
        "document = open(\"task_26_2_example.txt\")\n",
        "data = document.readlines()\n",
        "amount = int(data[0])\n",
        "counter = 0\n",
        "\n",
        "del data[0]\n",
        "data = sorted(list(map(int, data)))\n",
        "print(data)\n",
        "\n",
        "for i in range(len(data) // 2):\n",
        "    if data[i] + data[len(data) - 1 - i] == 100:\n",
        "        counter += 1\n",
        "        print(data[i], data[len(data) - 1 - i])\n",
        "\n",
        "print(counter)"
      ],
      "execution_count": null,
      "outputs": []
    },
    {
      "cell_type": "markdown",
      "metadata": {
        "id": "vw8MQUif5S6M"
      },
      "source": [
        "Два варианта решения Алтана"
      ]
    },
    {
      "cell_type": "code",
      "metadata": {
        "id": "D2uDfa7H53LL"
      },
      "source": [
        "file = open(\"task_26_2_example.txt\")\n",
        "n = int(file.readline())\n",
        "c = [0] * 100\n",
        "for i in range(n):\n",
        "    c[int(f.readline())] += 1\n",
        "\n",
        "k = c[50] // 2\n",
        "\n",
        "for x in range(1, 50):\n",
        "    k += min(c[x], c[100 - x])\n",
        "\n",
        "print(k)"
      ],
      "execution_count": null,
      "outputs": []
    },
    {
      "cell_type": "code",
      "metadata": {
        "id": "SwnEvbeC5VT1"
      },
      "source": [
        "file = open(\"task_26_2_example.txt\")\n",
        "s = int(file.readline())\n",
        "c = []\n",
        "\n",
        "for i in range(n):\n",
        "    c.append(int(file.readline()))\n",
        "\n",
        "k = 0\n",
        "\n",
        "for x in range(len(c)):\n",
        "    for s in range(x + 1, len(c)):\n",
        "        if c[x] + c[s] == 100:\n",
        "            c[x] = c[s] = 0\n",
        "            k += 1\n",
        "            break\n",
        "print(k)\n"
      ],
      "execution_count": null,
      "outputs": []
    },
    {
      "cell_type": "code",
      "metadata": {
        "id": "_PchRub8e1ir"
      },
      "source": [
        "\"\"\"\n",
        "№ 24\n",
        "Системный администратор раз в неделю создаёт архив пользовательских файлов.\n",
        "Однако объём диска, куда он помещает архив, может быть меньше, чем суммарный объём архивируемых файлов.\n",
        "Известно, какой объём занимает файл каждого пользователя.\n",
        "По заданной информации об объёме файлов пользователей и свободном объёме на архивном диске\n",
        "определите максимальное число пользователей, чьи файлы можно сохранить в архиве,\n",
        "а также максимальный размер имеющегося файла, который может быть сохранён в архиве, при условии,\n",
        "что сохранены файлы максимально возможного числа пользователей.\n",
        "\n",
        "Входные данные.\n",
        "В первой строке входного файла находятся два числа:\n",
        "S – размер свободного места на диске (натуральное число, не превышающее 10 000)\n",
        "N – количество пользователей (натуральное число, не превышающее 1000).\n",
        "В следующих N строках находятся значения объёмов файлов каждого пользователя\n",
        "(все числа натуральные, не превышающие 100), каждое в отдельной строке.\n",
        "\n",
        "Запишите в ответе два числа: сначала наибольшее число пользователей,\n",
        "чьи файлы могут быть помещены в архив, затем максимальный размер имеющегося файла,\n",
        "который может быть сохранён в архиве, при условии, что сохранены файлы максимально возможного числа пользователей.\n",
        "\"\"\"\n",
        "\n",
        "with open(\"task_26_1.txt\") as Fin:\n",
        "    data = Fin.readlines()\n",
        "S, _ = map(int, data[0].split())\n",
        "del data[0]\n",
        "data = sorted(list(map(int, data)))\n",
        "\n",
        "total = 0\n",
        "for i, val in enumerate(data):\n",
        "    if total + val > S: break\n",
        "    total += val\n",
        "print(i)\n",
        "\n",
        "delta = S - total\n",
        "candidates = [x for x in data\n",
        "              if x - data[i - 1] <= delta]\n",
        "print(max(candidates))\n"
      ],
      "execution_count": null,
      "outputs": []
    },
    {
      "cell_type": "code",
      "metadata": {
        "id": "sbg60-6Le7VA"
      },
      "source": [
        "\"\"\"\n",
        "№ 24\n",
        "Системный администратор раз в неделю создаёт архив пользовательских файлов.\n",
        "Однако объём диска, куда он помещает архив, может быть меньше, чем суммарный объём архивируемых файлов.\n",
        "Известно, какой объём занимает файл каждого пользователя.\n",
        "По заданной информации об объёме файлов пользователей и свободном объёме на архивном диске\n",
        "определите максимальное число пользователей, чьи файлы можно сохранить в архиве,\n",
        "а также максимальный размер имеющегося файла, который может быть сохранён в архиве, при условии,\n",
        "что сохранены файлы максимально возможного числа пользователей.\n",
        "\n",
        "Входные данные.\n",
        "В первой строке входного файла находятся два числа:\n",
        "S – размер свободного места на диске (натуральное число, не превышающее 10 000)\n",
        "N – количество пользователей (натуральное число, не превышающее 1000).\n",
        "В следующих N строках находятся значения объёмов файлов каждого пользователя\n",
        "(все числа натуральные, не превышающие 100), каждое в отдельной строке.\n",
        "\n",
        "Запишите в ответе два числа: сначала наибольшее число пользователей,\n",
        "чьи файлы могут быть помещены в архив, затем максимальный размер имеющегося файла,\n",
        "который может быть сохранён в архиве, при условии, что сохранены файлы максимально возможного числа пользователей.\n",
        "\"\"\"\n",
        "\n",
        "document = open(\"task_26_1.txt\")\n",
        "data = document.readlines()\n",
        "S = int(data[0].split()[0])\n",
        "del data[0]\n",
        "total = 0\n",
        "data = sorted(list(map(int, data)))\n",
        "\n",
        "for i in range(len(data)):\n",
        "    if total + data[i] > S:\n",
        "        break\n",
        "    total += data[i]\n",
        "print(i)\n",
        "\n",
        "delta = S - total  # 8200 – 8176 (текущая сумма) = 24\n",
        "# candidates = [x for x in data\n",
        "#               if x - data[i - 1] <= delta]\n",
        "candidates = []\n",
        "for x in data:\n",
        "    if x - data[i - 1] <= delta:\n",
        "        candidates.append(x)\n",
        "        mx = x\n",
        "# data[i - 1] - это значение наибольшего выбранного элемента data[i]\n",
        "print(max(candidates))\n",
        "# 9)\tдля того чтобы ещё увеличить сумму (но сохранить её не превышающей 8200)\n",
        "# мы заменим одно из выделенных значений другим, бо́льшим;\n",
        "# 10)\tдокажем, что нужно заменять именно самое большое из выбранных значений;\n",
        "# пусть мы заменяем значение, равное x, бо́льшим значением, равным X;\n",
        "# чтобы сумма не превысила заданную, их разница не должна быть больше, чем delta, то есть X <= x + delta;\n",
        "# таким образом, при бо́льшем x мы можем взять бо́льшее X\n",
        "# 11)\tнаш запас 8200 – 8176 (текущая сумма) = 24,\n",
        "# поэтому вместо самого большого взятого значения 29 можно добавить 29 + 24 = 53\n",
        "# 12)\tсмотрим в таблицу – значения 53 у нас нет,  сразу за 50 идёт 70\n",
        "print('Delta = {0}; X из data: {1}; Самое большое взятое значение = {2}'.format(delta, mx, data[i - 1]))\n"
      ],
      "execution_count": null,
      "outputs": []
    },
    {
      "cell_type": "markdown",
      "metadata": {
        "id": "M5E1mwWXoong"
      },
      "source": [
        "Сила есть - ума не надо"
      ]
    },
    {
      "cell_type": "code",
      "metadata": {
        "id": "EaG0p896SbRv"
      },
      "source": [
        "\"\"\"\n",
        "В текстовом файле записан набор натуральных чисел, не превышающих 10 ** 9.\n",
        "Гарантируется, что все числа различны. Необходимо определить, сколько в наборе таких пар чисел,\n",
        "что числа в паре имеют разную чётность, а их сумма тоже присутствует в файле,\n",
        "и чему равна наибольшая из сумм таких пар.\n",
        "\n",
        "Входные данные\n",
        "Первая строка входного файла содержит целое число 𝑁 – общее количество чисел в наборе.\n",
        "Каждая из следующих 𝑁 строк содержит одно число.\n",
        "\n",
        "Пример входного файла\n",
        "6\n",
        "3\n",
        "8\n",
        "14\n",
        "11\n",
        "22\n",
        "17\n",
        "\n",
        "В данном случае есть две подходящие пары: 3 и 8 (сумма 11), 3 и 14 (сумма 17). В ответе надо записать числа 2 и 17.\n",
        "\"\"\"\n",
        "document = open('26.txt')\n",
        "n = int(document.readline())\n",
        "a = []\n",
        "for i in range(n):\n",
        "    a.append(int(document.readline()))\n",
        "a.sort()  # все числа различны\n",
        "counter = 0\n",
        "summa = 0\n",
        "\n",
        "for i in range(n - 1):\n",
        "    for j in range(1, n):\n",
        "        if (a[i] + a[j]) % 2 != 0:  # числа в паре имеют разную чётность (1, 2; 3, 4 - все в сумме дают нечетное)\n",
        "            # for number in a:\n",
        "            for k in range(i, len(a)):\n",
        "                if a[i] + a[j] == a[k]:\n",
        "                    counter += 1\n",
        "                    if a[i] + a[j] > summa:\n",
        "                        summa = a[i] + a[j]\n",
        "print(counter, summa)\n"
      ],
      "execution_count": null,
      "outputs": []
    },
    {
      "cell_type": "markdown",
      "metadata": {
        "id": "fUtlonmwNNkk"
      },
      "source": [
        "# 27 задание\n",
        "---"
      ]
    }
  ]
}