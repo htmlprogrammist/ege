{
  "nbformat": 4,
  "nbformat_minor": 0,
  "metadata": {
    "colab": {
      "name": "26 задание.ipynb",
      "provenance": []
    },
    "kernelspec": {
      "name": "python3",
      "display_name": "Python 3"
    },
    "language_info": {
      "name": "python"
    }
  },
  "cells": [
    {
      "cell_type": "markdown",
      "metadata": {
        "id": "L1V52AlVuJAK"
      },
      "source": [
        "# 26 задание\n",
        "### Высокий уровень, время - 35 минут.\n",
        "---\n",
        "**Тема**: обработка массива целых чисел из файла. Сортировка.\n",
        "\n",
        "**Что проверяется:**\n",
        "Умение обрабатывать целочисленную информацию с использованием сортировки.  \n",
        "* Построение алгоритмов и практические вычисления.\n",
        "* Строить информационные модели объектов, систем и процессов в виде алгоритмов.\n",
        "\n",
        "**Что нужно знать при написании программы:**\n"
      ]
    },
    {
      "cell_type": "markdown",
      "metadata": {
        "id": "a2nGwZJ_u78J"
      },
      "source": [
        "### Чтение данных из файла\n",
        "\n",
        "В языке Python для чтения данных удобно использовать менеджер контекста, который открывает файл и закрывает его;\n",
        "\n",
        "Например, код"
      ]
    },
    {
      "cell_type": "code",
      "metadata": {
        "id": "H54LNBDht72y"
      },
      "source": [
        "with open(\"26.txt\") as Fin:\n",
        "    # какие-то операции с файлом"
      ],
      "execution_count": null,
      "outputs": []
    },
    {
      "cell_type": "markdown",
      "metadata": {
        "id": "QyXc4m2gvSIY"
      },
      "source": [
        "равносилен такому"
      ]
    },
    {
      "cell_type": "code",
      "metadata": {
        "id": "0i72p2qyvQnW"
      },
      "source": [
        "Fin = open(\"26.txt\")\n",
        "# какие-то операции с файлом\n",
        "Fin.close()"
      ],
      "execution_count": null,
      "outputs": []
    },
    {
      "cell_type": "markdown",
      "metadata": {
        "id": "kMqisCPTve6Y"
      },
      "source": [
        "Если в строке записаны два числа, после чтения `Fin.readline()` строку нужно разбить на отдельные части по пробелам (каждая часть – символьная запись числа) и затем каждую часть преобразовать в целое число; \n",
        "\n",
        "Например, чтение двух чисел:"
      ]
    },
    {
      "cell_type": "code",
      "metadata": {
        "id": "griWRTxQvq4x"
      },
      "source": [
        "s = Fin.readline()\n",
        "symData = s.split()\n",
        "x, y = map(int, symData)"
      ],
      "execution_count": null,
      "outputs": []
    },
    {
      "cell_type": "markdown",
      "metadata": {
        "id": "yFzRMdhPvxWX"
      },
      "source": [
        "равносилен такому"
      ]
    },
    {
      "cell_type": "code",
      "metadata": {
        "id": "YuyqaMYZvxH_"
      },
      "source": [
        "x, y = map(int, Fin.readline().split())"
      ],
      "execution_count": null,
      "outputs": []
    },
    {
      "cell_type": "markdown",
      "metadata": {
        "id": "fznrXh0Gv4Hv"
      },
      "source": [
        "### Хранение массива данных\n",
        "В языке Python для хранения массива данных используется список; следующая программа показывает чтение массива данных размера N в список `data` из файла «26.txt» (данные записаны в столбик):"
      ]
    },
    {
      "cell_type": "code",
      "metadata": {
        "id": "ftm-L9hMwJ7J"
      },
      "source": [
        "data = [0] * N\n",
        "with open(\"26.txt\") as Fin:\n",
        "    for i in range(N):\n",
        "        data[i] = int(Fin.readline())"
      ],
      "execution_count": null,
      "outputs": []
    },
    {
      "cell_type": "markdown",
      "metadata": {
        "id": "vEzmJeqzwS4x"
      },
      "source": [
        "### Пример задания\n",
        "\n",
        "Р-00 (демо-2021). Системный администратор раз в неделю создаёт архив пользовательских файлов. Однако объём диска, куда он помещает архив, может быть меньше, чем суммарный объём архивируемых файлов. Известно, какой объём занимает файл каждого пользователя. По заданной информации об объёме файлов пользователей и свободном объёме на архивном диске определите максимальное число пользователей, чьи файлы можно сохранить в архиве, а также максимальный размер имеющегося файла, который может быть сохранён в архиве, при условии, что сохранены файлы максимально возможного числа пользователей. \n",
        "\n",
        "\n",
        "**Входные данные.** В первой строке входного файла 26.txt находятся два числа: S – размер свободного места на диске (натуральное число, не превышающее 10 000) и N – количество пользователей (натуральное число, не превышающее 1000). В следующих N строках находятся значения объёмов файлов каждого пользователя (все числа натуральные, не превышающие 100), каждое в отдельной строке. Запишите в ответе два числа: сначала наибольшее число пользователей, чьи файлы могут быть помещены в архив, затем максимальный размер имеющегося файла, который может быть сохранён в архиве, при условии, что сохранены файлы максимально возможного числа пользователей. \n",
        "Пример входного файла:\n",
        "```\n",
        "100 4\n",
        "80\n",
        "30\n",
        "50\n",
        "40\n",
        "```\n",
        "При таких исходных данных можно сохранить файлы максимум двух пользователей. Возможные объёмы этих двух файлов 30 и 40, 30 и 50 или 40 и 50. Наибольший объём файла из перечисленных пар – 50, поэтому ответ для приведённого примера:\n",
        "```\n",
        "2 50\n",
        "```"
      ]
    },
    {
      "cell_type": "markdown",
      "metadata": {
        "id": "rWgNGZUj2Dx6"
      },
      "source": [
        "---\n",
        "\n",
        "Cначала нужно прочитать данные из файла; читаем все строки сразу в массив `data`:"
      ]
    },
    {
      "cell_type": "code",
      "metadata": {
        "id": "i83rCsW8wWI_"
      },
      "source": [
        "with open(\"26.txt\") as Fin:\n",
        "    data = Fin.readlines()"
      ],
      "execution_count": null,
      "outputs": []
    },
    {
      "cell_type": "markdown",
      "metadata": {
        "id": "rTtyC1TZ2Kru"
      },
      "source": [
        "Декодируем два числа из первой строки: первой записываем в переменную `S`, а второе нам *не интересно*, записываем его в переменную с именем `_`; \n",
        "\n",
        "Первую строку сразу *удаляем*"
      ]
    },
    {
      "cell_type": "code",
      "metadata": {
        "id": "3ziu6gwN2Vws"
      },
      "source": [
        "S, _ = map(int, data[0].split())\n",
        "del data[0]"
      ],
      "execution_count": null,
      "outputs": []
    },
    {
      "cell_type": "markdown",
      "metadata": {
        "id": "OVbDaIox2izn"
      },
      "source": [
        "Преобразуем данные в целые числа и сразу сортируем"
      ]
    },
    {
      "cell_type": "code",
      "metadata": {
        "id": "K__-a7bP2mZP"
      },
      "source": [
        "data = sorted(list(map(int, data)))"
      ],
      "execution_count": null,
      "outputs": []
    },
    {
      "cell_type": "markdown",
      "metadata": {
        "id": "f7qLT1hw2uP5"
      },
      "source": [
        "Теперь накапливаем сумму в переменной `total`, пока она остается не больше, чем `S`:"
      ]
    },
    {
      "cell_type": "code",
      "metadata": {
        "id": "czS7ZkLv20gZ"
      },
      "source": [
        "total = 0\n",
        "for i, val in enumerate(data):\n",
        "    if total + val > S:\n",
        "        break\n",
        "    total += val"
      ],
      "execution_count": null,
      "outputs": []
    },
    {
      "cell_type": "markdown",
      "metadata": {
        "id": "QrYuuGsl3CBV"
      },
      "source": [
        "Как только сумма превысила `S`, произойдёт выход из цикла по оператору `break`, а в переменной `i` останется количество добавленных значений; \n",
        "\n",
        "Выводим его на экран: `print(i)`"
      ]
    },
    {
      "cell_type": "code",
      "metadata": {
        "id": "-M4eR84d3MCQ"
      },
      "source": [
        "print(i)"
      ],
      "execution_count": null,
      "outputs": []
    },
    {
      "cell_type": "markdown",
      "metadata": {
        "id": "QwybIlE_3OGd"
      },
      "source": [
        "Вычисляем запас, который мы можем уменьшить с помощью замены одного выбранного значения на другое:"
      ]
    },
    {
      "cell_type": "code",
      "metadata": {
        "id": "J82-oH7Y3Sfe"
      },
      "source": [
        "delta = S - total"
      ],
      "execution_count": null,
      "outputs": []
    },
    {
      "cell_type": "markdown",
      "metadata": {
        "id": "T0I8FIgF3XBK"
      },
      "source": [
        "Теперь выбираем из массива данных те значения, которые могут быть выбраны: разность между таким значением и наибольшим выбранным элементом `data[i]` должна быть не больше, чем `delta`:"
      ]
    },
    {
      "cell_type": "code",
      "metadata": {
        "id": "Iggd12dE3c3d"
      },
      "source": [
        "candidates = [x for x in data \n",
        "                if x - data[i-1] <= delta]"
      ],
      "execution_count": null,
      "outputs": []
    },
    {
      "cell_type": "markdown",
      "metadata": {
        "id": "tZ-88gUp3iTX"
      },
      "source": [
        "Остается найти второй ответ: максимум из чисел-кандидатов:"
      ]
    },
    {
      "cell_type": "code",
      "metadata": {
        "id": "0smtP0LS3kfw"
      },
      "source": [
        "print(max(candidates))"
      ],
      "execution_count": null,
      "outputs": []
    }
  ]
}