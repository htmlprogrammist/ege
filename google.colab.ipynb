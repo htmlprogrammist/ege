{
  "nbformat": 4,
  "nbformat_minor": 0,
  "metadata": {
    "colab": {
      "name": "Пользуюсь мощностью серверов гугл, чтобы свой ноутбук не нагружать (25 задание ЕГЭ).ipynb",
      "provenance": [],
      "collapsed_sections": [],
      "include_colab_link": true
    },
    "kernelspec": {
      "name": "python3",
      "display_name": "Python 3"
    }
  },
  "cells": [
    {
      "cell_type": "markdown",
      "metadata": {
        "id": "view-in-github",
        "colab_type": "text"
      },
      "source": [
        "<a href=\"https://colab.research.google.com/github/htmlprogrammist/unified-state-exam/blob/master/google.colab.ipynb\" target=\"_parent\"><img src=\"https://colab.research.google.com/assets/colab-badge.svg\" alt=\"Open In Colab\"/></a>"
      ]
    },
    {
      "cell_type": "code",
      "metadata": {
        "id": "5gcJCad9SJvV",
        "outputId": "f24debc7-2f8b-40bd-8fc4-fb6c0bce3a5d",
        "colab": {
          "base_uri": "https://localhost:8080/",
          "height": 249
        }
      },
      "source": [
        "\"\"\"\n",
        "Напишите программу, которая ищет среди целых чисел, принадлежащих числовому отрезку [326496; 649632], \\\n",
        "числа, у которых количество четных делителей равно количеству нечетных делителей. При этом\n",
        "в каждой из таких групп делителей не менее 70 элементов. Для каждого найденного числа запишите само число и\n",
        "минимальный делитель, больший 1000.\n",
        "\n",
        "Например, для числа 2018 имеем следующие делители 2 и 1009. Поэтому результатом\n",
        "(не принимая во внимание количества делителей) будет пара чисел 2018 1009\n",
        "\n",
        "450450 1001\n",
        "589050 1050\n",
        "630630 1001\n",
        "\"\"\"\n",
        "\n",
        "counter1 = 1\n",
        "counter2 = 1\n",
        "a = []\n",
        "for i in range(326496, 649632 + 1):\n",
        "    for j in range(2, i // 2 + 1):\n",
        "        if i % j == 0:\n",
        "            if j % 2 == 0:\n",
        "                counter1 += 1\n",
        "            else:\n",
        "                counter2 += 1\n",
        "    if counter1 == counter2 and counter1 >= 70:\n",
        "        k = 1001\n",
        "        if k < 1051:\n",
        "            while i % k != 0:\n",
        "                k += 1\n",
        "        print(i, k)\n",
        "        # print('Есть 70 делитетей')\n",
        "        # if i == 450450 or i == 589050 or i == 630630:\n",
        "        #     print('Ура, есть одно из трёх чисел.')\n",
        "print(a)\n"
      ],
      "execution_count": null,
      "outputs": [
        {
          "output_type": "stream",
          "text": [
            "326535 1979\n"
          ],
          "name": "stdout"
        },
        {
          "output_type": "error",
          "ename": "KeyboardInterrupt",
          "evalue": "ignored",
          "traceback": [
            "\u001b[0;31m---------------------------------------------------------------------------\u001b[0m",
            "\u001b[0;31mKeyboardInterrupt\u001b[0m                         Traceback (most recent call last)",
            "\u001b[0;32m<ipython-input-3-7428d977e5ae>\u001b[0m in \u001b[0;36m<module>\u001b[0;34m()\u001b[0m\n\u001b[1;32m     17\u001b[0m \u001b[0ma\u001b[0m \u001b[0;34m=\u001b[0m \u001b[0;34m[\u001b[0m\u001b[0;34m]\u001b[0m\u001b[0;34m\u001b[0m\u001b[0;34m\u001b[0m\u001b[0m\n\u001b[1;32m     18\u001b[0m \u001b[0;32mfor\u001b[0m \u001b[0mi\u001b[0m \u001b[0;32min\u001b[0m \u001b[0mrange\u001b[0m\u001b[0;34m(\u001b[0m\u001b[0;36m326496\u001b[0m\u001b[0;34m,\u001b[0m \u001b[0;36m649632\u001b[0m \u001b[0;34m+\u001b[0m \u001b[0;36m1\u001b[0m\u001b[0;34m)\u001b[0m\u001b[0;34m:\u001b[0m\u001b[0;34m\u001b[0m\u001b[0;34m\u001b[0m\u001b[0m\n\u001b[0;32m---> 19\u001b[0;31m     \u001b[0;32mfor\u001b[0m \u001b[0mj\u001b[0m \u001b[0;32min\u001b[0m \u001b[0mrange\u001b[0m\u001b[0;34m(\u001b[0m\u001b[0;36m2\u001b[0m\u001b[0;34m,\u001b[0m \u001b[0mi\u001b[0m \u001b[0;34m//\u001b[0m \u001b[0;36m2\u001b[0m \u001b[0;34m+\u001b[0m \u001b[0;36m1\u001b[0m\u001b[0;34m)\u001b[0m\u001b[0;34m:\u001b[0m\u001b[0;34m\u001b[0m\u001b[0;34m\u001b[0m\u001b[0m\n\u001b[0m\u001b[1;32m     20\u001b[0m         \u001b[0;32mif\u001b[0m \u001b[0mi\u001b[0m \u001b[0;34m%\u001b[0m \u001b[0mj\u001b[0m \u001b[0;34m==\u001b[0m \u001b[0;36m0\u001b[0m\u001b[0;34m:\u001b[0m\u001b[0;34m\u001b[0m\u001b[0;34m\u001b[0m\u001b[0m\n\u001b[1;32m     21\u001b[0m             \u001b[0;32mif\u001b[0m \u001b[0mj\u001b[0m \u001b[0;34m%\u001b[0m \u001b[0;36m2\u001b[0m \u001b[0;34m==\u001b[0m \u001b[0;36m0\u001b[0m\u001b[0;34m:\u001b[0m\u001b[0;34m\u001b[0m\u001b[0;34m\u001b[0m\u001b[0m\n",
            "\u001b[0;31mKeyboardInterrupt\u001b[0m: "
          ]
        }
      ]
    },
    {
      "cell_type": "code",
      "metadata": {
        "id": "DYKtKohg8EPs",
        "outputId": "8f0a7a71-e87d-4d80-ef6c-3e333a520ea4",
        "colab": {
          "base_uri": "https://localhost:8080/"
        }
      },
      "source": [
        "\"\"\"\n",
        "Напишите программу, которая ищет среди целых чисел, принадлежащих числовому отрезку [135790; 163228],\n",
        "числа, сумма натуральных делителей которых больше 460000. Для каждого найденного числа запишите количество\n",
        "делителей и их сумму. В качестве делителей не рассматривать числа 1 и исследуемое число.\n",
        "Так, например, для числа 8 учитываются только делители 2 и 4.\n",
        "Например, для числа 36 имеем следующие делители 2, 3, 4, 6, 9, 12, 18.\n",
        "Следовательно для него необходимо вывести два числа: 7 54\n",
        "\n",
        "Ответы:\n",
        "142 473759\n",
        "118 462767\n",
        "126 464999\n",
        "118 461969\n",
        "118 477071\n",
        "\"\"\"\n",
        "total = 0\n",
        "counter = 0\n",
        "# a = []\n",
        "for i in range(135790, 163228 + 1):\n",
        "    # a = []\n",
        "    counter = 0\n",
        "    total = 0\n",
        "    for j in range(2, i // 2 + 1):\n",
        "        # total = 0\n",
        "        # counter = 0\n",
        "        if i % j == 0:\n",
        "            total += j\n",
        "            counter += 1\n",
        "    # print('total', total)\n",
        "    # print(counter, total)\n",
        "    if total > 460000:\n",
        "        print(counter, total)\n",
        "        # print(a)\n"
      ],
      "execution_count": null,
      "outputs": [
        {
          "output_type": "stream",
          "text": [
            "142 473759\n",
            "118 462767\n",
            "126 464999\n",
            "118 461969\n",
            "118 477071\n"
          ],
          "name": "stdout"
        }
      ]
    },
    {
      "cell_type": "code",
      "metadata": {
        "id": "QHtw7G9BHnFv",
        "outputId": "433b1f51-9615-4267-b0c2-c6290da5227f",
        "colab": {
          "base_uri": "https://localhost:8080/"
        }
      },
      "source": [
        "\"\"\"\n",
        "Задание 25 (№67).\n",
        "Напишите программу, которая ищет среди целых чисел, принадлежащих числовому отрезку [81234; 134689], \n",
        "числа, имеющие ровно три различных натуральных делителя, не считая единицы и самого числа. \n",
        "Для каждого найденного числа запишите эти два делителя в таблицу на экране \n",
        "с новой строки в порядке возрастания произведения этих трех делителей. \n",
        "Делители в строке таблицы также должны следовать в порядке возрастания.\n",
        "\"\"\"\n",
        "import math\n",
        "a = []\n",
        "counter = 0\n",
        "for i in range(81234, 134689+1):\n",
        "    counter = 0\n",
        "    a = []\n",
        "    # for j in range(2, int(math.sqrt(i)) + 1):\n",
        "    for j in range(2, i // 2 + 1):\n",
        "        if i % j == 0:\n",
        "            a.append(j)\n",
        "            # a.append(i // j)\n",
        "            counter += 1\n",
        "    if counter == 3:\n",
        "        print(a[0], a[1], a[2], i)\n"
      ],
      "execution_count": null,
      "outputs": [
        {
          "output_type": "stream",
          "text": [
            "17 289 4913 83521\n",
            "19 361 6859 130321\n"
          ],
          "name": "stdout"
        }
      ]
    },
    {
      "cell_type": "markdown",
      "metadata": {
        "id": "sH14Ypd-K6Ab"
      },
      "source": [
        "Тест. Нечетное количество делителей и int(sqrt(i)). (Оно не работает с нечетным количеством делитетей)"
      ]
    },
    {
      "cell_type": "code",
      "metadata": {
        "id": "tdFaRUiCK2Pz",
        "outputId": "d974a5fc-e26f-40f9-ff26-7d05726c1a53",
        "colab": {
          "base_uri": "https://localhost:8080/"
        }
      },
      "source": [
        "import math\n",
        "a = []\n",
        "counter = 0\n",
        "for i in range(81234, 134689+1):\n",
        "    counter = 0\n",
        "    a = []\n",
        "    for j in range(2, int(math.sqrt(i)) + 1):\n",
        "    # for j in range(2, i // 2 + 1):\n",
        "        if i % j == 0:\n",
        "            a.append(j)\n",
        "            a.append(i // j)\n",
        "            counter += 2\n",
        "    if i == int(math.sqrt(i)) ** 2:\n",
        "        counter += 1\n",
        "        a.append(int(math.sqrt(i)))\n",
        "    if counter == 3:\n",
        "        print(a[0], a[1], a[2])\n",
        "  "
      ],
      "execution_count": null,
      "outputs": [
        {
          "output_type": "stream",
          "text": [
            "293 293 293\n",
            "307 307 307\n",
            "311 311 311\n",
            "313 313 313\n",
            "317 317 317\n",
            "331 331 331\n",
            "337 337 337\n",
            "347 347 347\n",
            "349 349 349\n",
            "353 353 353\n",
            "359 359 359\n",
            "367 367 367\n"
          ],
          "name": "stdout"
        }
      ]
    },
    {
      "cell_type": "code",
      "metadata": {
        "id": "miyfNQFUOkCg",
        "outputId": "23fa5e73-9a8e-4ea7-acff-7ee4079ddd3a",
        "colab": {
          "base_uri": "https://localhost:8080/"
        }
      },
      "source": [
        "\"\"\"\n",
        "Задание 25 (№315).\n",
        "\n",
        "Напишите программу, которая ищет среди целых чисел, принадлежащих числовому отрезку [326496; 649632],\n",
        "числа, у которых количество четных делителей равно количеству нечетных делителей.\n",
        "При этом в каждой из таких групп делителей не менее 70 элементов.\n",
        "Для каждого найденного числа запишите само число и минимальный делитель, больший 1000.\n",
        "\n",
        "Например, для числа 2018 имеем следующие делители 2 и 1009.\n",
        "Поэтому результатом (не принимая во внимание количества делителей) будет пара чисел 2018 1009\n",
        "\"\"\"\n",
        "import math\n",
        "\n",
        "a = []\n",
        "counter1 = 0\n",
        "counter2 = 0\n",
        "for i in range(326496, 649632 + 1):\n",
        "    sqrt_i = int(math.sqrt(i))\n",
        "    k = 0\n",
        "    counter1 = 0\n",
        "    counter2 = 0\n",
        "    if sqrt_i ** 2 == i:\n",
        "        k += 1\n",
        "    for j in range(2, int(math.sqrt(i)) + 1 - k):\n",
        "        if counter1 >= 70:\n",
        "            break\n",
        "        # for j in range(2, int(i // 2) + 1):\n",
        "        if i % j == 0:\n",
        "            if j % 2 == 0:\n",
        "                counter1 += 1\n",
        "            else:\n",
        "                counter2 += 1\n",
        "            if i // j % 2 == 0:\n",
        "                counter1 += 1\n",
        "            if i // j % 2 != 0:\n",
        "                counter2 += 1\n",
        "    if counter1 == counter2 and counter1 >= 70:\n",
        "        k = 1001\n",
        "        while i % k != 0:\n",
        "            k += 1\n",
        "        print(i, k)\n"
      ],
      "execution_count": null,
      "outputs": [
        {
          "output_type": "stream",
          "text": [
            "450450 1001\n",
            "589050 1050\n",
            "630630 1001\n"
          ],
          "name": "stdout"
        }
      ]
    },
    {
      "cell_type": "code",
      "metadata": {
        "id": "OyRaXsx2qf71",
        "outputId": "bef00805-baf8-40ce-c8be-6b567fe65222",
        "colab": {
          "base_uri": "https://localhost:8080/",
          "height": 232
        }
      },
      "source": [
        "\"\"\"\n",
        "Задание 25 (№506).\n",
        "Напишите программу, которая ищет среди целых чисел, принадлежащих числовому отрезку [25317; 51237],\n",
        "которые имеют хотя бы 6 различных простых делителей. Делители 1 и само число не учитываются.\n",
        "В качестве результата работы программы приведите\n",
        "найденное число и максимальный простой делитель этого числа.\n",
        "\n",
        "30030 13\n",
        "39270 17\n",
        "43890 19\n",
        "46410 17\n",
        "\"\"\"\n",
        "from math import sqrt\n",
        "\n",
        "a = []\n",
        "counter = 0\n",
        "counter_of_simple_numbers = 0\n",
        "\n",
        "for i in range(25317, 51237 + 1):\n",
        "    a = []\n",
        "    counter = 0\n",
        "    # for j in range(2, int(sqrt(i)) + 1):\n",
        "    #     a.append(j)\n",
        "    #     a.append(i // j)\n",
        "    #     counter += 2\n",
        "    for j in range(2, i // 2 + 1):\n",
        "        a.append(j)\n",
        "        counter += 1\n",
        "    if counter >= 6:\n",
        "        for k in range(len(a)):\n",
        "            # print(k, a[k])\n",
        "            # print(a.index(k))\n",
        "            ranger = a[k]\n",
        "            for m in range(1, ranger + 1):\n",
        "                if ranger % m == 0:\n",
        "                    counter_of_simple_numbers += 1\n",
        "    if counter_of_simple_numbers == 2:\n",
        "        print(i, ranger)\n",
        "        # ranger = a[k]\n",
        "        # for k in range(1, ranger + 1):\n",
        "        #     if i % k == 0:\n",
        "        #         counter_of_simple_numbers += 1\n",
        "        # if counter_of_simple_numbers == 2:\n",
        "        #     print(i, k)\n"
      ],
      "execution_count": null,
      "outputs": [
        {
          "output_type": "error",
          "ename": "KeyboardInterrupt",
          "evalue": "ignored",
          "traceback": [
            "\u001b[0;31m---------------------------------------------------------------------------\u001b[0m",
            "\u001b[0;31mKeyboardInterrupt\u001b[0m                         Traceback (most recent call last)",
            "\u001b[0;32m<ipython-input-1-caab8bf30e34>\u001b[0m in \u001b[0;36m<module>\u001b[0;34m()\u001b[0m\n\u001b[1;32m     32\u001b[0m             \u001b[0;31m# print(a.index(k))\u001b[0m\u001b[0;34m\u001b[0m\u001b[0;34m\u001b[0m\u001b[0;34m\u001b[0m\u001b[0m\n\u001b[1;32m     33\u001b[0m             \u001b[0mranger\u001b[0m \u001b[0;34m=\u001b[0m \u001b[0ma\u001b[0m\u001b[0;34m[\u001b[0m\u001b[0mk\u001b[0m\u001b[0;34m]\u001b[0m\u001b[0;34m\u001b[0m\u001b[0;34m\u001b[0m\u001b[0m\n\u001b[0;32m---> 34\u001b[0;31m             \u001b[0;32mfor\u001b[0m \u001b[0mm\u001b[0m \u001b[0;32min\u001b[0m \u001b[0mrange\u001b[0m\u001b[0;34m(\u001b[0m\u001b[0;36m1\u001b[0m\u001b[0;34m,\u001b[0m \u001b[0mranger\u001b[0m \u001b[0;34m+\u001b[0m \u001b[0;36m1\u001b[0m\u001b[0;34m)\u001b[0m\u001b[0;34m:\u001b[0m\u001b[0;34m\u001b[0m\u001b[0;34m\u001b[0m\u001b[0m\n\u001b[0m\u001b[1;32m     35\u001b[0m                 \u001b[0;32mif\u001b[0m \u001b[0mranger\u001b[0m \u001b[0;34m%\u001b[0m \u001b[0mm\u001b[0m \u001b[0;34m==\u001b[0m \u001b[0;36m0\u001b[0m\u001b[0;34m:\u001b[0m\u001b[0;34m\u001b[0m\u001b[0;34m\u001b[0m\u001b[0m\n\u001b[1;32m     36\u001b[0m                     \u001b[0mcounter_of_simple_numbers\u001b[0m \u001b[0;34m+=\u001b[0m \u001b[0;36m1\u001b[0m\u001b[0;34m\u001b[0m\u001b[0;34m\u001b[0m\u001b[0m\n",
            "\u001b[0;31mKeyboardInterrupt\u001b[0m: "
          ]
        }
      ]
    },
    {
      "cell_type": "code",
      "metadata": {
        "id": "UA0FUlzz3t1j"
      },
      "source": [
        "\"\"\"\n",
        "Задание 25 (№506).\n",
        "Напишите программу, которая ищет среди целых чисел, принадлежащих числовому отрезку [25317; 51237],\n",
        "которые имеют хотя бы 6 различных простых делителей. Делители 1 и само число не учитываются.\n",
        "В качестве результата работы программы приведите\n",
        "найденное число и максимальный простой делитель этого числа.\n",
        "\n",
        "30030 13\n",
        "39270 17\n",
        "43890 19\n",
        "46410 17\n",
        "\"\"\"\n",
        "import math\n",
        "\n",
        "dividers = []\n",
        "dividers_all = []\n",
        "counter = 0\n",
        "simple_counter = 0\n",
        "for i in range(25317, 51237 + 1):\n",
        "    dividers = []\n",
        "    simple_counter = 0\n",
        "    for k in range(2, int(math.sqrt(i)) + 1):\n",
        "        if i % k == 0:\n",
        "            dividers_all.append(k)\n",
        "            dividers_all.append(i // k)\n",
        "    for j in range(1, len(dividers_all)):\n",
        "        if simple_counter > 0:\n",
        "            break\n",
        "        if dividers_all[j] % j == 0:\n",
        "            simple_counter += 1\n",
        "    if simple_counter == 0:\n",
        "        dividers.append(j)\n",
        "    if len(dividers) > 6:\n",
        "        print(dividers)\n"
      ],
      "execution_count": null,
      "outputs": []
    }
  ]
}