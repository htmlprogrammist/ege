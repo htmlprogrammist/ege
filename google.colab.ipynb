{
  "nbformat": 4,
  "nbformat_minor": 0,
  "metadata": {
    "colab": {
      "name": "Google Colab ЕГЭ ИКТ.ipynb",
      "provenance": [],
      "collapsed_sections": [],
      "toc_visible": true,
      "include_colab_link": true
    },
    "kernelspec": {
      "name": "python3",
      "display_name": "Python 3.8.5 64-bit",
      "metadata": {
        "interpreter": {
          "hash": "aee8b7b246df8f9039afb4144a1f6fd8d2ca17a180786b69acc140d282b71a49"
        }
      }
    }
  },
  "cells": [
    {
      "cell_type": "markdown",
      "metadata": {
        "id": "view-in-github",
        "colab_type": "text"
      },
      "source": [
        "<a href=\"https://colab.research.google.com/github/htmlprogrammist/unified-state-exam/blob/master/google.colab.ipynb\" target=\"_parent\"><img src=\"https://colab.research.google.com/assets/colab-badge.svg\" alt=\"Open In Colab\"/></a>"
      ]
    },
    {
      "cell_type": "markdown",
      "metadata": {
        "id": "EsJsVKNsVHvC"
      },
      "source": [
        "# 15 задание\r\n",
        "---\r\n",
        "**Алгебра логики**  \r\n",
        "Знаки:  \r\n",
        "∨ - дизъюнкция  \r\n",
        "⋀ - конъюнкция  \r\n",
        "→ - импликация  \r\n"
      ]
    },
    {
      "cell_type": "markdown",
      "metadata": {
        "id": "UXe3fHGtQEpd"
      },
      "source": [
        "---\n",
        "Р-35  (демо-2021). Обозначим через ДЕЛ(n,m) утверждение «натуральное число n делится без\n",
        "остатка на натуральное число m».  \n",
        "Для какого наибольшего натурального числа А формула  \n",
        "**¬ДЕЛ(x,А) => (ДЕЛ(x,6) => ¬ДЕЛ(x,9))**  \n",
        "тождественно истинна (то есть принимает значение 1 при любом натуральном значении переменной х)? "
      ]
    },
    {
      "cell_type": "code",
      "metadata": {
        "colab": {
          "base_uri": "https://localhost:8080/"
        },
        "id": "HA52I7o_PHwo",
        "outputId": "9ce2f5f2-a766-4dfd-c84c-c42a88e41e2b"
      },
      "source": [
        "def Del(x, D):  # Проверяет делимость первого аргумента x на второй аргумент D (если x делится на D, возвращается True)\n",
        "    return x % D == 0\n",
        "\n",
        "\n",
        "def F(x, A):  # Функция по заданию\n",
        "    return (not Del(x, A)) <= (Del(x, 6) <= (not Del(x, 9)))\n",
        "\n",
        "\n",
        "# Перебор\n",
        "for A in range(1, 1000):\n",
        "    OK = True\n",
        "    for x in range(1, 1000):\n",
        "        if not F(x, A):\n",
        "            OK = False\n",
        "            break\n",
        "    if OK:\n",
        "        print(A)\n"
      ],
      "execution_count": null,
      "outputs": [
        {
          "output_type": "stream",
          "text": [
            "1\n",
            "2\n",
            "3\n",
            "6\n",
            "9\n",
            "18\n"
          ],
          "name": "stdout"
        }
      ]
    },
    {
      "cell_type": "markdown",
      "metadata": {
        "id": "vA4WgyqNSTZe"
      },
      "source": [
        "---\n",
        "Р-34.  (С.С. Поляков) Укажите наименьшее целое значение А, при котором выражение  \n",
        "**(5k + 6n > 57) ∨ ((k ≤ A) ⋀ (n < A))**  \n",
        "истинно для любых целых положительных значений k и n."
      ]
    },
    {
      "cell_type": "code",
      "metadata": {
        "id": "jE8dBjysSQSJ",
        "colab": {
          "base_uri": "https://localhost:8080/"
        },
        "outputId": "27e5189f-4ab9-459b-cf7d-dcfa52c28e8f"
      },
      "source": [
        "def F(k, n, A):\n",
        "    return (5*k + 6*n > 57) or ((k <= A) and (n < A))\n",
        "\n",
        "\n",
        "for A in range(1, 1000):\n",
        "    OK = True\n",
        "    for k in range(1, 1000):\n",
        "        for n in range(1, 1000):\n",
        "            if not F(k, n, A):\n",
        "                OK = False\n",
        "                break\n",
        "    if OK:\n",
        "        print(A)\n",
        "        break  # BREAK НЕОБХОДИМ! Нам нужно искать наименьшее, поэтому break позволит получить лишь одно значение\n",
        "        # Если убрать break, то значения А поползут ещё дальше\n"
      ],
      "execution_count": null,
      "outputs": [
        {
          "output_type": "stream",
          "text": [
            "10\n"
          ],
          "name": "stdout"
        }
      ]
    },
    {
      "cell_type": "markdown",
      "metadata": {
        "id": "0VSnQPEaTm57"
      },
      "source": [
        "---\n",
        "Р-33.  (С.С. Поляков) Укажите наибольшее целое значение А, при котором выражение  \n",
        "**(y – x != 5) ∨ (A < 2x^3 + y) ∨ (A < y^2 + 16)**  \n",
        "истинно для любых целых положительных значений x и y.\n"
      ]
    },
    {
      "cell_type": "code",
      "metadata": {
        "colab": {
          "base_uri": "https://localhost:8080/",
          "height": 86
        },
        "id": "98bOzX8-TwBq",
        "outputId": "97ca072b-d25f-41fb-970e-f1988a821420"
      },
      "source": [
        "result = []\n",
        "\n",
        "\n",
        "def F(x, y, A):\n",
        "    return (y - x != 5) or (A < 2*(x**3) + y) or (A < y**2 + 16)\n",
        "\n",
        "\n",
        "for A in range(1, 100):\n",
        "    OK = True\n",
        "    for x in range(1, 1000):\n",
        "        for y in range(1, 1000):\n",
        "            if not F(x, y, A):\n",
        "                OK = False\n",
        "                break\n",
        "    if OK:\n",
        "        result.append(A)\n",
        "print(max(result))\n",
        "\n",
        "\"\"\" Перебор А, но в обратную сторону\n",
        "for A in range(100, 0, -1):\n",
        "    OK = True\n",
        "    for k in range(1,1000):\n",
        "        for n in range(1,1000):\n",
        "            if not f(k, n, A):\n",
        "                OK = False\n",
        "                break\n",
        "    if OK:\n",
        "        print(A)\n",
        "        break\n",
        "\"\"\"\n"
      ],
      "execution_count": null,
      "outputs": [
        {
          "output_type": "stream",
          "text": [
            "51\n"
          ],
          "name": "stdout"
        },
        {
          "output_type": "execute_result",
          "data": {
            "application/vnd.google.colaboratory.intrinsic+json": {
              "type": "string"
            },
            "text/plain": [
              "' Перебор А, но в обратную сторону\\nfor A in range(100, 0, -1):\\n    OK = True\\n    for k in range(1,1000):\\n        for n in range(1,1000):\\n            if not f(k, n, A):\\n                OK = False\\n                break\\n    if OK:\\n        print(A)\\n        break\\n'"
            ]
          },
          "metadata": {
            "tags": []
          },
          "execution_count": 35
        }
      ]
    },
    {
      "cell_type": "markdown",
      "metadata": {
        "id": "zat3Bcg-VNwH"
      },
      "source": [
        "---\n",
        "Р-25. Введём выражение M & K, обозначающее поразрядную конъюнкцию M и K (логическое «И» между соответствующими битами двоичной записи). Определите наименьшее натуральное число a, такое что выражение  \n",
        "**(x & 125 != 1) ∨ ((x & 34 = 2) => (x & a = 0))**  \n",
        "тождественно истинно (то есть принимает значение 1 при любом натуральном значении переменной x)?\n"
      ]
    },
    {
      "cell_type": "code",
      "metadata": {
        "colab": {
          "base_uri": "https://localhost:8080/"
        },
        "id": "ObK0td6vVZuH",
        "outputId": "19673bf2-7e4a-4953-f604-039bac853f86"
      },
      "source": [
        "def F(x, A):\n",
        "    return (x & 125 != 1) or ((x & 34 == 2) <= (x & A == 0))\n",
        "\n",
        "\n",
        "for A in range(1, 1000):\n",
        "    allowance = True\n",
        "    for x in range(1, 1000):\n",
        "        if not F(x, A):\n",
        "            allowance = False\n",
        "            break\n",
        "    if allowance:\n",
        "        print(A)\n",
        "        break\n"
      ],
      "execution_count": null,
      "outputs": [
        {
          "output_type": "stream",
          "text": [
            "4\n"
          ],
          "name": "stdout"
        }
      ]
    },
    {
      "cell_type": "markdown",
      "metadata": {
        "id": "2zR4gijbW6hN"
      },
      "source": [
        "---\n",
        "Р-24. Введём выражение M & K, обозначающее поразрядную конъюнкцию M и K (логическое «И» между соответствующими битами двоичной записи). Определите наименьшее натуральное число a, такое что выражение  \n",
        "**((x & 28 != 0) ∨ (x & 45 != 0)) → ((x & 48 = 0) → (x & A != 0))**  \n",
        "тождественно истинно (то есть принимает значение 1 при любом натуральном значении переменной x)?  \n",
        "*Ответ: 13*\n"
      ]
    },
    {
      "cell_type": "code",
      "metadata": {
        "id": "mkFOXPKHXQJf"
      },
      "source": [
        "def F(x, A):\n",
        "    return ((x * 28 != 0) or (x & 45 != 0)) <= ((x & 48 == 0) <= (x & A != 0))\n",
        "\n",
        "\n",
        "for A in range(1, 100):\n",
        "    allowance = True\n",
        "    for x in range(1, 1000):\n",
        "        if not F(x, A):\n",
        "            allowance = False\n",
        "            break\n",
        "    if allowance:\n",
        "        print(A)\n",
        "        break\n"
      ],
      "execution_count": null,
      "outputs": []
    },
    {
      "cell_type": "markdown",
      "metadata": {
        "id": "gTIjlUyEkpFT"
      },
      "source": [
        "---"
      ]
    },
    {
      "cell_type": "code",
      "metadata": {
        "colab": {
          "base_uri": "https://localhost:8080/"
        },
        "id": "pGmnEQLs_MQF",
        "outputId": "47e224af-155e-4d77-cc55-49cfadd6a798"
      },
      "source": [
        "def F(x, y, A):\n",
        "    return ((6*x + 4*y != 34) or (A > 5*x + 3*y) and (A > 4*y + 15*x - 35))\n",
        "\n",
        "\n",
        "for A in range(1, 100):\n",
        "    allowance = True\n",
        "    for x in range(1, 1000):\n",
        "        for y in range(1, 1000):\n",
        "            if not F(x, y, A):\n",
        "                allowance = False\n",
        "                break\n",
        "    if allowance:\n",
        "        print(A)\n",
        "        break\n"
      ],
      "execution_count": null,
      "outputs": [
        {
          "output_type": "stream",
          "text": [
            "45\n"
          ],
          "name": "stdout"
        }
      ]
    },
    {
      "cell_type": "markdown",
      "metadata": {
        "id": "LjTILWTN_8Ua"
      },
      "source": [
        "---\n",
        "Р-20 (М.В. Кузнецова). Обозначим через ДЕЛ(n, m) утверждение «натуральное число n делится без остатка на натуральное число m». Для какого наименьшего натурального числа А формула\n",
        "ДЕЛ(x, А) → ((ДЕЛ(x, 21) + ДЕЛ(x, 35))\n",
        "тождественно истинна (то есть принимает значение 1 при любом натуральном значении переменной х)?  \n",
        "\n",
        "*Ответ: 21*\n"
      ]
    },
    {
      "cell_type": "code",
      "metadata": {
        "colab": {
          "base_uri": "https://localhost:8080/"
        },
        "id": "Z-E0lwMw_whv",
        "outputId": "cbbd5d1b-b353-47bc-d5b8-d2a405316169"
      },
      "source": [
        "def division(m, n):\n",
        "    return m % n == 0\n",
        "\n",
        "\n",
        "def f(x, A):\n",
        "    return division(x, A) <= (division(x, 21) or division(x, 35))\n",
        "\n",
        "\n",
        "for A in range(1, 100):\n",
        "    let = True\n",
        "    for x in range(1, 1000):\n",
        "        if not f(x, A):\n",
        "            let = False\n",
        "    if let:\n",
        "        print(A)\n",
        "        break\n"
      ],
      "execution_count": null,
      "outputs": [
        {
          "output_type": "stream",
          "text": [
            "21\n"
          ],
          "name": "stdout"
        }
      ]
    },
    {
      "cell_type": "markdown",
      "metadata": {
        "id": "i52Syjr4BOP0"
      },
      "source": [
        "---\n",
        "Р-18. Пусть P – множество всех 8-битовых цепочек, начинающихся с 1,  Q – множество всех 8-битовых цепочек, оканчивающихся на 000, а A – некоторое множество произвольных 8-битовых цепочек. Сколько элементов содержит минимальное множество A, при котором для любой 8-битовой цепочки x истинно выражение  \n",
        "\n",
        " ¬(x принадлежит A) → (¬(x принадлежит P) ∨ (x принадлежит Q)) "
      ]
    },
    {
      "cell_type": "code",
      "metadata": {
        "colab": {
          "base_uri": "https://localhost:8080/"
        },
        "id": "veP7tJCZBa8q",
        "outputId": "add8ad5f-97f3-4a28-a887-7b8fe0804963"
      },
      "source": [
        "P = {i for i in range(128,256)} # множество Р\n",
        "Q = {i for i in range(0,256,8)} # множество Q\n",
        "print(len(P-Q))\n"
      ],
      "execution_count": null,
      "outputs": [
        {
          "output_type": "stream",
          "text": [
            "112\n"
          ],
          "name": "stdout"
        }
      ]
    },
    {
      "cell_type": "markdown",
      "metadata": {
        "id": "Ok7HzNrRbWj-"
      },
      "source": [
        "# 17 задание\n",
        "---\n",
        "Перебор целых чисел на заданном отрезке. Проверка делимости  \n",
        "Если ответ содержится внутри текстового задания, то это задание вызвало трудности"
      ]
    },
    {
      "cell_type": "code",
      "metadata": {
        "colab": {
          "base_uri": "https://localhost:8080/"
        },
        "id": "VnGRJ2IxbkVS",
        "outputId": "76924029-5668-47df-bd17-0a520c536a4e"
      },
      "source": [
        "\"\"\"\n",
        "Рассматривается множество целых чисел, принадлежащих числовому отрезку [3089; 9715], \n",
        "которые не делятся нацело на 7, 8, 9, 13 и являются четными.\n",
        "Найдите количество таких чисел и максимальное из них.\n",
        "\"\"\"\n",
        "\n",
        "counter = 0\n",
        "mx = 0\n",
        "\n",
        "for i in range(3089, 9715 + 1):\n",
        "    if i % 7 != 0 and i % 8 != 0 and i % 9 != 0 and i % 13 != 0 and i % 2 == 0:\n",
        "        counter += 1\n",
        "        mx = i\n",
        "print(counter, mx)\n"
      ],
      "execution_count": null,
      "outputs": [
        {
          "output_type": "stream",
          "text": [
            "1749 9714\n"
          ],
          "name": "stdout"
        }
      ]
    },
    {
      "cell_type": "code",
      "metadata": {
        "colab": {
          "base_uri": "https://localhost:8080/"
        },
        "id": "vbwDorEMccD7",
        "outputId": "c7777591-1fec-4b69-81b7-b41482a949a0"
      },
      "source": [
        "\"\"\"\n",
        "Рассматривается множество целых чисел, принадлежащих числовому отрезку [3712; 8432],\n",
        "которые удовлетворяют следующим условиям:\n",
        "− запись в двоичной и четверичной системах счисления заканчивается одинаковой цифрой;\n",
        "− кратны 13, 14 или 15.\n",
        "Найдите количество таких чисел и минимальное из них.\n",
        "\"\"\"\n",
        "counter = 0\n",
        "\n",
        "for i in range(8432, 3712 + 1, -1):\n",
        "    current_binary_number_i = i\n",
        "    current_quaternary_number_i = i\n",
        "    binary_number_i = ''\n",
        "    quaternary_number_i = ''\n",
        "    while current_binary_number_i > 0:\n",
        "        binary_number_i = str(current_binary_number_i % 2) + binary_number_i\n",
        "        current_binary_number_i //= 2\n",
        "    while current_quaternary_number_i > 0:\n",
        "        quaternary_number_i = str(current_quaternary_number_i % 4) + quaternary_number_i\n",
        "        current_quaternary_number_i //= 4\n",
        "    if binary_number_i[-1] == quaternary_number_i[-1]:\n",
        "        if i % 13 == 0 or i % 14 == 0 or i % 15 == 0:\n",
        "            counter += 1\n",
        "            min_i = i\n",
        "print(counter, min_i)\n"
      ],
      "execution_count": null,
      "outputs": [
        {
          "output_type": "stream",
          "text": [
            "471 3720\n"
          ],
          "name": "stdout"
        }
      ]
    },
    {
      "cell_type": "code",
      "metadata": {
        "id": "kBzcFJVFiGtG",
        "colab": {
          "base_uri": "https://localhost:8080/"
        },
        "outputId": "ff67c3a2-5404-4fed-8f92-503a75ada714"
      },
      "source": [
        "\"\"\"\n",
        "Рассматривается множество целых чисел, принадлежащих числовому отрезку [246815; 875621], \n",
        "которые удовлетворяют следующим условиям:\n",
        "− третья и четвертая цифры образуют число меньшее 50;\n",
        "− число, составленное из трех старших разрядов, имеет остаток от деления на 5 такой же, \n",
        "как число, составленное из младших трех разрядов.\n",
        "Найдите наибольшее из таких чисел и их количество.\n",
        "Для выполнения этого задания можно написать программу или воспользоваться редактором электронных таблиц. \n",
        "\"\"\"\n",
        "counter = 0\n",
        "\n",
        "for i in range(246815, 875621 + 1):\n",
        "    if i % 100 < 50:\n",
        "        if ((i // 1000) % 5) == ((i % 1000) % 5):\n",
        "            counter += 1\n",
        "            mx = i\n",
        "\n",
        "print(mx, counter)\n"
      ],
      "execution_count": null,
      "outputs": [
        {
          "output_type": "stream",
          "text": [
            "875620 62882\n"
          ],
          "name": "stdout"
        }
      ]
    },
    {
      "cell_type": "code",
      "metadata": {
        "colab": {
          "base_uri": "https://localhost:8080/"
        },
        "id": "nnPQmv4KYo2k",
        "outputId": "83b49c7f-b82f-43b6-859f-571b87c44744"
      },
      "source": [
        "\"\"\"\n",
        "Рассматривается множество целых чисел, принадлежащих числовому отрезку [8800; 55535], которые удовлетворяют следующим условиям:\n",
        "− произведение разрядов больше 35;\n",
        "− один из разрядов равен 7.\n",
        "Найдите наибольшее из таких чисел и их количество.\n",
        "Для выполнения этого задания можно написать программу или воспользоваться редактором электронных таблиц. \n",
        "\"\"\"\n",
        "counter = 0\n",
        "\n",
        "for i in range(8800, 55535 + 1):\n",
        "    number = i\n",
        "    seven = False\n",
        "    multiplication = 1\n",
        "    while number > 0:\n",
        "        number_last = number % 10\n",
        "        if number_last == 7:\n",
        "            seven = True\n",
        "        multiplication *= number_last\n",
        "        number //= 10\n",
        "    if seven and multiplication > 35:\n",
        "        counter += 1\n",
        "        mx = i\n",
        "print(mx, counter)\n"
      ],
      "execution_count": null,
      "outputs": [
        {
          "output_type": "stream",
          "text": [
            "55527 10958\n"
          ],
          "name": "stdout"
        }
      ]
    },
    {
      "cell_type": "code",
      "metadata": {
        "colab": {
          "base_uri": "https://localhost:8080/"
        },
        "id": "kGHB3zzrbFVg",
        "outputId": "0a668f0c-10c2-4a07-a5f9-43721781ec80"
      },
      "source": [
        "\"\"\"\n",
        "Рассматривается множество целых чисел, принадлежащих числовому отрезку [1016; 7937], \n",
        "которые делятся на 3 и не делятся на 7, 17, 19, 27. \n",
        "Найдите количество таких чисел и максимальное из них. \n",
        "В ответе запишите два целых числа: сначала количество, затем максимальное число. \n",
        "Для выполнения этого задания можно написать программу или воспользоваться редактором электронных таблиц. \n",
        "\"\"\"\n",
        "counter = 0\n",
        "\n",
        "for i in range(1016, 7937 + 1):\n",
        "    if i % 3 == 0 and i % 7 != 0 and i % 17 != 0 and i % 19 != 0 and i % 27 != 0:\n",
        "        counter += 1\n",
        "        mx = i\n",
        "print(counter, mx)\n"
      ],
      "execution_count": null,
      "outputs": [
        {
          "output_type": "stream",
          "text": [
            "1568 7935\n"
          ],
          "name": "stdout"
        }
      ]
    },
    {
      "cell_type": "code",
      "metadata": {
        "colab": {
          "base_uri": "https://localhost:8080/"
        },
        "id": "YI1Z8FNJbooP",
        "outputId": "805b3bf1-a9be-4a5b-8e6d-140b92370420"
      },
      "source": [
        "\"\"\"\n",
        "Рассматривается множество целых чисел, принадлежащих числовому отрезку [9999; 99999], \n",
        "которые кратны сумме своих цифр. Найдите количество таких чисел и максимальное из них. \n",
        "В ответе запишите два целых числа: сначала количество, затем – максимальное число.\n",
        "Для выполнения этого задания можно написать программу или воспользоваться редактором электронных таблиц.\n",
        "\"\"\"\n",
        "counter = 0\n",
        "\n",
        "for i in range(9999, 99999 + 1):\n",
        "    number = i\n",
        "    summa = 0\n",
        "    while number > 0:\n",
        "        number_last = number % 10\n",
        "        summa += number_last\n",
        "        number //= 10\n",
        "    if i % summa == 0:\n",
        "        counter += 1\n",
        "        mx = i\n",
        "\n",
        "print(counter, mx)\n"
      ],
      "execution_count": null,
      "outputs": [
        {
          "output_type": "stream",
          "text": [
            "10334 99972\n"
          ],
          "name": "stdout"
        }
      ]
    },
    {
      "cell_type": "code",
      "metadata": {
        "colab": {
          "base_uri": "https://localhost:8080/"
        },
        "id": "yWv7j4F5cdxA",
        "outputId": "42e594f0-f6a9-4866-9543-defee3b10dda"
      },
      "source": [
        "\"\"\"\n",
        "Рассматривается множество целых чисел, принадлежащих числовому отрезку [1000; 9999], \n",
        "запись которых в пятеричной системе имеет не менее 6 цифр и заканчивается на 21 или 23. \n",
        "Найдите количество таких чисел и минимальное из них.\n",
        "\"\"\"\n",
        "counter = 0\n",
        "\n",
        "for i in range(9999, 1000 + 1, -1):\n",
        "    number = i\n",
        "    fivefold = ''\n",
        "    while number > 0:\n",
        "        fivefold = str(number % 5) + fivefold\n",
        "        number //= 5\n",
        "    # if len(fivefold) >= 6 and (filefold[-1] == '1' or filefold[-1] == '3') and filefold[-2] == '2': \n",
        "    # NameError: name 'filefold' is not defined\n",
        "    if len(fivefold) >= 6:\n",
        "        if (fivefold[-1] == '1' or fivefold[-1] == '3') and fivefold[-2] == '2':\n",
        "            counter += 1\n",
        "            mx = i\n",
        "\n",
        "print(counter, mx)\n"
      ],
      "execution_count": null,
      "outputs": [
        {
          "output_type": "stream",
          "text": [
            "550 3136\n"
          ],
          "name": "stdout"
        }
      ]
    },
    {
      "cell_type": "code",
      "metadata": {
        "colab": {
          "base_uri": "https://localhost:8080/"
        },
        "id": "hiSPO7b7mYtx",
        "outputId": "7de6f530-5a29-4ad6-8853-e6a229104486"
      },
      "source": [
        "\"\"\"\n",
        "Рассматривается множество целых чисел, принадлежащих числовому отрезку [1000, 70000],\n",
        "которые имеют 5 знаков в восьмеричной и 6 знаков в пятеричной записи,\n",
        "а их запись в шестнадцатеричной системе счисления заканчивается на 'FA'.\n",
        "Найдите количество таких чисел и максимальное из них.\n",
        "В ответе запишите два целых числа: сначала количество, затем максимальное число.\n",
        "\n",
        "45 15610\n",
        "\"\"\"\n",
        "counter = 0\n",
        "mx = 0\n",
        "\n",
        "for i in range(1000, 70000 + 1):\n",
        "    fivefold = ''\n",
        "    fivefold_i = i\n",
        "    while fivefold_i > 0:\n",
        "        fivefold = str(fivefold_i % 5) + fivefold\n",
        "        fivefold_i //= 5\n",
        "    if len(oct(i)) == 7 and len(fivefold) == 6:\n",
        "        if hex(i)[-2] == 'f' and hex(i)[-1] == 'a':\n",
        "            counter += 1\n",
        "            mx = i\n",
        "print(counter, mx)\n"
      ],
      "execution_count": null,
      "outputs": [
        {
          "output_type": "stream",
          "text": [
            "45 15610\n"
          ],
          "name": "stdout"
        }
      ]
    },
    {
      "cell_type": "code",
      "metadata": {
        "colab": {
          "base_uri": "https://localhost:8080/"
        },
        "id": "Crcya2gcm3QQ",
        "outputId": "bc370095-b592-47b6-d872-c0ace01e4866"
      },
      "source": [
        "\"\"\"\n",
        "Рассматривается множество целых чисел, принадлежащих числовому отрезку [2568; 7858],\n",
        "которые удовлетворяют следующим условиям:\n",
        "− делятся на 4 или на 5;\n",
        "− не делятся на 11, 20, 27.\n",
        "Найдите минимальное и максимальное из таких чисел.\n",
        "\n",
        "2568 7856\n",
        "\"\"\"\n",
        "numbers = []\n",
        "\n",
        "for i in range(2568, 7858 + 1):\n",
        "    if i % 4 == 0 or i % 5 == 0:\n",
        "        if i % 11 != 0 and i % 20 != 0 and i % 27 != 0:\n",
        "            numbers.append(i)\n",
        "\n",
        "print(min(numbers), max(numbers))\n"
      ],
      "execution_count": null,
      "outputs": [
        {
          "output_type": "stream",
          "text": [
            "2568 7856\n"
          ],
          "name": "stdout"
        }
      ]
    },
    {
      "cell_type": "code",
      "metadata": {
        "colab": {
          "base_uri": "https://localhost:8080/"
        },
        "id": "mJSl-agSm56k",
        "outputId": "90a19532-7270-4220-9c92-021ee1066b83"
      },
      "source": [
        "\"\"\"\n",
        "Рассматривается множество целых чисел, принадлежащих числовому отрезку [1234567; 7654321],\n",
        "которые кратны разнице двух чисел, полученных из двух старших и двух младших разрядов.\n",
        "Например, для числа 2435467 два числа будут 24 и 67.\n",
        "Соответствующая разница – 43.\n",
        "\n",
        "Найдите количество таких чисел и максимальное из них.\n",
        "В ответе запишите два целых числа:\n",
        "сначала количество, затем – максимальное число.\n",
        "\"\"\"\n",
        "counter = 0\n",
        "mx = 0\n",
        "\n",
        "for i in range(1234567, 7654321 + 1):\n",
        "    first_two = i // 100000\n",
        "    last_two = i % 100\n",
        "    difference = abs(last_two - first_two)\n",
        "    if difference != 0 and i % difference == 0:\n",
        "        counter += 1\n",
        "        mx = i\n",
        "\n",
        "print(counter, mx)  # 565701 7654318\n"
      ],
      "execution_count": null,
      "outputs": [
        {
          "output_type": "stream",
          "text": [
            "565701 7654318\n"
          ],
          "name": "stdout"
        }
      ]
    },
    {
      "cell_type": "code",
      "metadata": {
        "colab": {
          "base_uri": "https://localhost:8080/"
        },
        "id": "vPvjF8B2m8ce",
        "outputId": "a8b51192-c1a9-4c69-bffd-d30338bb2c3f"
      },
      "source": [
        "\"\"\"\n",
        "Рассматривается множество целых чисел, принадлежащих числовому отрезку [1476; 7039],\n",
        "которые удовлетворяют следующим условиям:\n",
        "− кратны 2, но не кратны 16;\n",
        "− цифра в разряде десятков не менее 4.\n",
        "Найдите количество таких чисел и\n",
        "среднее арифметическое минимального и максимального из них.\n",
        "Обратите внимание на то, что второе число не должно содержать десятичной запятой.\n",
        "\n",
        "1455 4237\n",
        "\"\"\"\n",
        "counter = 0\n",
        "numbers = []\n",
        "\n",
        "for i in range(1476, 7039 + 1):\n",
        "    number = i\n",
        "    digits = []\n",
        "    while number > 0:\n",
        "        last_digit = number % 10\n",
        "        digits.append(last_digit)\n",
        "        number //= 10\n",
        "    if i % 2 == 0 and i % 16 != 0 and digits[1] >= 4:\n",
        "        counter += 1\n",
        "        numbers.append(i)\n",
        "\n",
        "print(counter, (max(numbers) + min(numbers)) // 2)\n"
      ],
      "execution_count": null,
      "outputs": [
        {
          "output_type": "stream",
          "text": [
            "1455 4237\n"
          ],
          "name": "stdout"
        }
      ]
    },
    {
      "cell_type": "code",
      "metadata": {
        "colab": {
          "base_uri": "https://localhost:8080/"
        },
        "id": "g5XHSN8Vm-Ve",
        "outputId": "e5bd470c-43b1-495c-de35-e67df715260a"
      },
      "source": [
        "\"\"\"\n",
        "Рассматривается множество целых чисел, принадлежащих числовому\n",
        "отрезку [4563; 7912], которые удовлетворяют следующим условиям:\n",
        "− число кратно 7;\n",
        "− сумма старшего и младшего разрядов больше 10.\n",
        "Найдите наибольшее из таких чисел и их количество.\n",
        "\"\"\"\n",
        "counter = 0\n",
        "mx = 0\n",
        "\n",
        "for i in range(4563, 7912 + 1):\n",
        "    first = i // 1000\n",
        "    last = i % 10\n",
        "    if i % 7 == 0 and (first + last) > 10:\n",
        "        counter += 1\n",
        "        mx = i\n",
        "\n",
        "print(mx, counter)\n"
      ],
      "execution_count": null,
      "outputs": [
        {
          "output_type": "stream",
          "text": [
            "7896 225\n"
          ],
          "name": "stdout"
        }
      ]
    },
    {
      "cell_type": "markdown",
      "metadata": {
        "id": "XSfwMGWEanCS"
      },
      "source": [
        "# 22 задание\n",
        "---"
      ]
    },
    {
      "cell_type": "markdown",
      "metadata": {
        "id": "4_pqkLu2aqUo"
      },
      "source": [
        "**Задание 22 (№703).**\n",
        "\n",
        "Получив на вход натуральное число x, этот алгоритм печатает два числа: a и b.  \n",
        "Укажите наибольшее трёхзначное натуральное число, при вводе которого алгоритм печатает сначала 1, а потом 8.\n",
        "```\n",
        "x = int(input())\n",
        "a = 0\n",
        "b = 1\n",
        "while x > 0:\n",
        "    if x % 2 > 0:\n",
        "        a = a + (x % 11)\n",
        "    else:\n",
        "        b = b * (x % 11)\n",
        "    x = x // 11\n",
        "print(a)\n",
        "print(b)\n",
        "```"
      ]
    },
    {
      "cell_type": "code",
      "metadata": {
        "id": "vxE-8z9zapza",
        "colab": {
          "base_uri": "https://localhost:8080/"
        },
        "outputId": "7e1c2cb4-85ec-4331-fa9b-c14472927279"
      },
      "source": [
        "answer_a = 1\n",
        "answer_b = 8\n",
        "answers = []\n",
        "x = 0\n",
        "while x < 1000:\n",
        "    number = x\n",
        "    a = 0\n",
        "    b = 1\n",
        "    while number > 0:\n",
        "        if number % 2 > 0:\n",
        "            a = a + (number % 11)\n",
        "        else:\n",
        "            b = b * (number % 11)\n",
        "        number = number // 11\n",
        "    if answer_a == a and answer_b == b:\n",
        "        answers.append(x)\n",
        "    x += 1\n",
        "\n",
        "print(answers)\n",
        "print(max(answers))\n"
      ],
      "execution_count": null,
      "outputs": [
        {
          "output_type": "stream",
          "text": [
            "[89, 140, 287, 507, 979, 980]\n",
            "980\n"
          ],
          "name": "stdout"
        }
      ]
    },
    {
      "cell_type": "code",
      "metadata": {
        "id": "xYtkueyv91oK",
        "colab": {
          "base_uri": "https://localhost:8080/"
        },
        "outputId": "a2135a3a-509e-494c-af6c-8c98f05a48a6"
      },
      "source": [
        "# L и М, сначала 4, потом 8\n",
        "\n",
        "# x = int(input())\n",
        "# Q = 7\n",
        "# L = 0\n",
        "# while L < x:\n",
        "#     L = L + Q\n",
        "#\n",
        "# L = Q - L + x\n",
        "# if L == Q:\n",
        "#     L = 0\n",
        "# M = (x - L)\n",
        "#\n",
        "# if M < L:\n",
        "#     M, L = L, M\n",
        "#\n",
        "# print(L)\n",
        "# print(M)\n",
        "\n",
        "x = 0\n",
        "answers = []\n",
        "answer_L = 4\n",
        "answer_M = 8\n",
        "# while x < 10000:\n",
        "while x < 200:\n",
        "    number = x\n",
        "    L = 0\n",
        "    Q = 7\n",
        "    while L < number:\n",
        "        L = L + Q\n",
        "\n",
        "    L = Q - L + number\n",
        "    if L == Q:\n",
        "        L = 0\n",
        "    M = (number - L) // Q\n",
        "\n",
        "    if M < L:\n",
        "        M, L = L, M\n",
        "    if L == answer_L and M == answer_M:\n",
        "        answers.append(x)\n",
        "    x += 1\n",
        "print(answers)\n",
        "print(max(answers))\n"
      ],
      "execution_count": null,
      "outputs": [
        {
          "output_type": "stream",
          "text": [
            "[60]\n",
            "60\n"
          ],
          "name": "stdout"
        }
      ]
    },
    {
      "cell_type": "code",
      "metadata": {
        "id": "jgXGdA0R-BTc",
        "colab": {
          "base_uri": "https://localhost:8080/"
        },
        "outputId": "1c9726d5-1e06-442f-bcb9-67302077d50c"
      },
      "source": [
        "\"\"\"\n",
        "Задание 22 (№585).\n",
        "Ниже на четырех языках программирования записан алгоритм.\n",
        "Получив на вход натуральное десятичное число x, этот алгоритм печатает число S.\n",
        "Укажите наименьшее число x, большее 50,\n",
        "при вводе которого на экран будет выведено число 1.\n",
        "\"\"\"\n",
        "x = int(input())\n",
        "S = 0\n",
        "while x > 0:\n",
        "    if x % 2 > 0:\n",
        "        S = S + (x % 7)\n",
        "    else:\n",
        "        S = S - (x % 7)\n",
        "    x = x // 7\n",
        "print(S)\n",
        "print('Ответ по смыслу', [57, 73, 89, 101, 107, 117, 119, 169, 185])\n",
        "print('Ответ задания: ', 57)\n",
        "\n",
        "\n",
        "x = 50\n",
        "answer = 1\n",
        "answers = []\n",
        "\n",
        "while x < 200:\n",
        "    number = x\n",
        "    S = 0\n",
        "    while number > 0:\n",
        "        if number % 2 > 0:\n",
        "            S = S + (number % 7)\n",
        "        else:\n",
        "            S = S - (number % 7)\n",
        "        number = number // 7\n",
        "    if S == answer:\n",
        "        answers.append(x)\n",
        "    x += 1\n",
        "\n",
        "print(answers)\n",
        "print(min(answers))\n"
      ],
      "execution_count": null,
      "outputs": [
        {
          "output_type": "stream",
          "text": [
            "57\n",
            "1\n",
            "Ответ по смыслу [57, 73, 89, 101, 107, 117, 119, 169, 185]\n",
            "Ответ задания:  57\n",
            "[57, 73, 89, 101, 107, 117, 119, 169, 185]\n",
            "57\n"
          ],
          "name": "stdout"
        }
      ]
    },
    {
      "cell_type": "code",
      "metadata": {
        "id": "IxpxhOBf-HuP",
        "colab": {
          "base_uri": "https://localhost:8080/"
        },
        "outputId": "79fbd499-dfe9-46fe-e1b8-84f439a85c9c"
      },
      "source": [
        "\"\"\"\n",
        "Задание 22 (№277).\n",
        "Получив на вход число x, эта программа печатает два числа, a и b.\n",
        "Укажите наименьшее натуральное число,\n",
        "при вводе которого эта программа напечатает сначала 2, потом – 9.\n",
        "\"\"\"\n",
        "print('Ответы по смыслу:', [605, 607, 609, 615, 617, 619, 794, 844, 858, 868])\n",
        "print('Ответ по заданию:', 605)\n",
        "x = int(input())\n",
        "a = 0\n",
        "b = 1\n",
        "while x > 0:\n",
        "    if x % 2 > 0:\n",
        "        a += 1\n",
        "    else:\n",
        "        b += x % 5\n",
        "    x = x // 5\n",
        "print(a, b)\n",
        "\n",
        "answer_a = 2\n",
        "answer_b = 9\n",
        "answers = []\n",
        "x = 0\n",
        "\n",
        "while x < 1000:\n",
        "    number = x\n",
        "    a = 0\n",
        "    b = 1\n",
        "    while number > 0:\n",
        "        if number % 2 > 0:\n",
        "            a += 1\n",
        "        else:\n",
        "            b += number % 5\n",
        "        number = number // 5\n",
        "    if a == answer_a and b == answer_b:\n",
        "        answers.append(x)\n",
        "    x += 1\n",
        "\n",
        "print(answers)\n",
        "print(min(answers))\n"
      ],
      "execution_count": null,
      "outputs": [
        {
          "output_type": "stream",
          "text": [
            "Ответы по смыслу: [605, 607, 609, 615, 617, 619, 794, 844, 858, 868]\n",
            "Ответ по заданию: 605\n",
            "607\n",
            "2 9\n",
            "[605, 607, 609, 615, 617, 619, 794, 844, 858, 868]\n",
            "605\n"
          ],
          "name": "stdout"
        }
      ]
    },
    {
      "cell_type": "code",
      "metadata": {
        "id": "olNNxy9l-Lj6",
        "colab": {
          "base_uri": "https://localhost:8080/"
        },
        "outputId": "07ed1476-4c72-41d9-a101-6a7d4ad36382"
      },
      "source": [
        "\"\"\"\n",
        "Задание 22 (№677).\n",
        "Укажите минимальное натуральное число,\n",
        "при вводе которого этот алгоритм напечатает число, сумма цифр которого равна 15.\n",
        "\"\"\"\n",
        "\n",
        "x = int(input())\n",
        "L = 0\n",
        "M = 1\n",
        "while x > 0:\n",
        "    L = x % 10 * M + L\n",
        "    x = x // 10\n",
        "    M = M * 10\n",
        "print(L)  # Сумма цифр L будет 15\n",
        "\n",
        "sum_of_L = 0\n",
        "answer_sum_of_L = 15\n",
        "number = 0\n",
        "answers = []\n",
        "while number < 500:\n",
        "    x = number\n",
        "    sum_of_L = 0\n",
        "    L = 0\n",
        "    M = 1\n",
        "    while x > 0:\n",
        "        L = x % 10 * M + L\n",
        "        x = x // 10\n",
        "        M = M * 10\n",
        "    number_L = L\n",
        "    while number_L > 0:\n",
        "        sum_of_L += number_L % 10\n",
        "        number_L //= 10\n",
        "    if sum_of_L == answer_sum_of_L:\n",
        "        answers.append(number)\n",
        "    number += 1\n",
        "\n",
        "print(answers)\n",
        "print(min(answers))\n"
      ],
      "execution_count": null,
      "outputs": [
        {
          "output_type": "stream",
          "text": [
            "69\n",
            "69\n",
            "[69, 78, 87, 96, 159, 168, 177, 186, 195, 249, 258, 267, 276, 285, 294, 339, 348, 357, 366, 375, 384, 393, 429, 438, 447, 456, 465, 474, 483, 492]\n",
            "69\n"
          ],
          "name": "stdout"
        }
      ]
    },
    {
      "cell_type": "code",
      "metadata": {
        "id": "M_jO-3hl-W2u",
        "colab": {
          "base_uri": "https://localhost:8080/"
        },
        "outputId": "11654c71-8b0c-493c-ab1e-7d8edad70d4b"
      },
      "source": [
        "\"\"\"\n",
        "Задание 22 (№632).\n",
        "Ниже приведён алгоритм.\n",
        "Получив на вход число x, этот алгоритм печатает число S.\n",
        "Укажите наибольшее число x, при вводе которого алгоритм печатает 82.\n",
        "\"\"\"\n",
        "\n",
        "# x = int(input())\n",
        "# P = 90\n",
        "# S = 6 * (x - x % 22)\n",
        "# K = 0\n",
        "# while P < 181:\n",
        "#     K = K + 1\n",
        "#     P = P + K\n",
        "#     S = S - 2 * K\n",
        "# print(S)  # 82\n",
        "\n",
        "\n",
        "answer = 82\n",
        "answers = []\n",
        "x = 0\n",
        "while x < 500:\n",
        "    number = x\n",
        "    P = 90\n",
        "    S = 6 * (number - number % 22)\n",
        "    K = 0\n",
        "    while P < 181:\n",
        "        K = K + 1\n",
        "        P = P + K\n",
        "        S = S - 2 * K\n",
        "    if S == answer:\n",
        "        answers.append(x)\n",
        "    x += 1\n",
        "\n",
        "print(answers)\n",
        "print(max(answers))\n"
      ],
      "execution_count": null,
      "outputs": [
        {
          "output_type": "stream",
          "text": [
            "[44, 45, 46, 47, 48, 49, 50, 51, 52, 53, 54, 55, 56, 57, 58, 59, 60, 61, 62, 63, 64, 65]\n",
            "65\n"
          ],
          "name": "stdout"
        }
      ]
    },
    {
      "cell_type": "code",
      "metadata": {
        "id": "zgjeAWF1-apV",
        "colab": {
          "base_uri": "https://localhost:8080/"
        },
        "outputId": "ba8a72ca-20a5-46e6-ad15-f40352c182bd"
      },
      "source": [
        "\"\"\"\n",
        "Задание 22 (№784).\n",
        "Получив на вход число d, этот алгоритм печатает число c.\n",
        "Сколько положительных значений d существует таких,\n",
        "что в результате выполнения программы на экран будет выведено число меньше 15?\n",
        "Примечание: abs, iabs – функции, находящие абсолютное значение\n",
        "\"\"\"\n",
        "\n",
        "\n",
        "def F(x):\n",
        "    return abs(x - 4) + abs(x + 6) - 3\n",
        "\n",
        "\n",
        "d = int(input())\n",
        "a = -20\n",
        "b = 20\n",
        "c = 1\n",
        "for t in range(a, b + 1):\n",
        "    if F(t) < d:\n",
        "        c += 1\n",
        "print(c)\n",
        "\n",
        "\n",
        "# d = 1\n",
        "# answers = []\n",
        "# answer = 15\n",
        "# while d < 500:\n",
        "#     a = -20\n",
        "#     b = 20\n",
        "#     c = 1\n",
        "#     for t in range(a, b + 1):\n",
        "#         if F(t) < d:\n",
        "#             c += 1\n",
        "#     if c < answer:\n",
        "#         answers.append(d)\n",
        "#     d += 1\n",
        "#\n",
        "# print(answers)\n",
        "# print(len(answers))\n"
      ],
      "execution_count": null,
      "outputs": [
        {
          "output_type": "stream",
          "text": [
            "11\n",
            "14\n"
          ],
          "name": "stdout"
        }
      ]
    },
    {
      "cell_type": "code",
      "metadata": {
        "id": "hbhKjRjw-0Zo",
        "colab": {
          "base_uri": "https://localhost:8080/"
        },
        "outputId": "8f60c595-b578-4821-91c7-4e3eb0c5517f"
      },
      "source": [
        "\"\"\"\n",
        "Задание 22 (№503).\n",
        "Ниже на четырех языках программирования записан алгоритм.\n",
        "Получив на вход натуральное десятичное число x, этот алгоритм печатает число S.\n",
        "Сколько существует чисел x, не превышающих 500,\n",
        "при вводе которых результате работы программы на экране будет выведено число 13.\n",
        "\"\"\"\n",
        "\n",
        "# x = int(input())\n",
        "# S = 0\n",
        "# while x > 0:\n",
        "#     if x % 5 > 0:\n",
        "#         S = S + (x % 5)\n",
        "#     else:\n",
        "#         S = S * (x % 5)\n",
        "#     x = x // 5\n",
        "# print(S)\n",
        "\n",
        "\n",
        "# def task(x):\n",
        "#     while x > 0:\n",
        "#         if x % 5 > 0:\n",
        "#             S = S + (x % 5)\n",
        "#         else:\n",
        "#             S = S * (x % 5)\n",
        "#         x = x // 5\n",
        "#     return S\n",
        "\n",
        "\n",
        "answer = 13\n",
        "x = 0\n",
        "a = []\n",
        "while x <= 500:\n",
        "    number = x\n",
        "    S = 0\n",
        "    # task(number)\n",
        "    while number > 0:\n",
        "        if number % 5 > 0:\n",
        "            S = S + (number % 5)\n",
        "        else:\n",
        "            S = S * (number % 5)\n",
        "        number = number // 5\n",
        "    if S == answer:\n",
        "        a.append(x)\n",
        "    x += 1\n",
        "print(len(a))\n"
      ],
      "execution_count": null,
      "outputs": [
        {
          "output_type": "stream",
          "text": [
            "10\n"
          ],
          "name": "stdout"
        }
      ]
    },
    {
      "cell_type": "code",
      "metadata": {
        "id": "jEnEEOgW-1pc",
        "colab": {
          "base_uri": "https://localhost:8080/"
        },
        "outputId": "e85919bc-a316-44da-877e-e593794f8395"
      },
      "source": [
        "\"\"\"\n",
        "Задание 22 (№585).\n",
        "Ниже на четырех языках программирования записан алгоритм.\n",
        "Получив на вход натуральное десятичное число x, этот алгоритм печатает число S.\n",
        "Укажите наименьшее число x, большее 50,\n",
        "при вводе которого на экран будет выведено число 1.\n",
        "\"\"\"\n",
        "# x = int(input())\n",
        "# S = 0\n",
        "# while x > 0:\n",
        "#     if x % 2 > 0:\n",
        "#         S = S + (x % 7)\n",
        "#     else:\n",
        "#         S = S - (x % 7)\n",
        "#     x = x // 7\n",
        "# print(S)\n",
        "\n",
        "x = 50\n",
        "answer = 1\n",
        "answers = []\n",
        "\n",
        "while x < 200:\n",
        "    number = x\n",
        "    S = 0\n",
        "    while number > 0:\n",
        "        if number % 2 > 0:\n",
        "            S = S + (number % 7)\n",
        "        else:\n",
        "            S = S - (number % 7)\n",
        "        number = number // 7\n",
        "    if S == answer:\n",
        "        answers.append(x)\n",
        "    x += 1\n",
        "\n",
        "print(answers)\n",
        "print(min(answers))\n",
        "\n"
      ],
      "execution_count": null,
      "outputs": [
        {
          "output_type": "stream",
          "text": [
            "[57, 73, 89, 101, 107, 117, 119, 169, 185]\n",
            "57\n"
          ],
          "name": "stdout"
        }
      ]
    },
    {
      "cell_type": "code",
      "metadata": {
        "id": "gu0gwkUJ-4Wn",
        "colab": {
          "base_uri": "https://localhost:8080/"
        },
        "outputId": "dc80d3a0-61db-47b0-aa2f-dca8d7672c13"
      },
      "source": [
        "\"\"\"\n",
        "Задание 22 (№728).\n",
        "Получив на вход число x, этот алгоритм печатает число M. Известно, что x > 100.\n",
        "Укажите наименьшее такое (т. е. большее 100) число x,\n",
        "при вводе которого алгоритм печатает 9.\n",
        "\"\"\"\n",
        "# x = int(input())\n",
        "# L = x - 18\n",
        "# M = x + 36\n",
        "# while L != M:\n",
        "#     if L > M:\n",
        "#         L = L - M\n",
        "#     else:\n",
        "#         M = M - L\n",
        "# print(M)\n",
        "\n",
        "x = 100\n",
        "answer = 9\n",
        "answers = []\n",
        "\n",
        "while x < 1000:\n",
        "    number = x\n",
        "    L = number - 18\n",
        "    M = number + 36\n",
        "    while L != M:\n",
        "        if L > M:\n",
        "            L = L - M\n",
        "        else:\n",
        "            M = M - L\n",
        "    if M == answer:\n",
        "        answers.append(x)\n",
        "    x += 1\n",
        "\n",
        "print(answers)\n",
        "print(min(answers))\n"
      ],
      "execution_count": null,
      "outputs": [
        {
          "output_type": "stream",
          "text": [
            "[117, 135, 171, 189, 225, 243, 279, 297, 333, 351, 387, 405, 441, 459, 495, 513, 549, 567, 603, 621, 657, 675, 711, 729, 765, 783, 819, 837, 873, 891, 927, 945, 981, 999]\n",
            "117\n"
          ],
          "name": "stdout"
        }
      ]
    },
    {
      "cell_type": "code",
      "metadata": {
        "id": "WmYbESN9-6xC",
        "colab": {
          "base_uri": "https://localhost:8080/"
        },
        "outputId": "12685e76-3310-484c-fe14-65ef30e09caa"
      },
      "source": [
        "# 22 задание\n",
        "# Сколько существует чисел x, не превышающих 500, при вводе которых программа выведет 13\n",
        "# x = int(input())\n",
        "# S = 0\n",
        "# while x > 0:\n",
        "#     if x % 5 > 0:\n",
        "#         S = S + (x % 5)\n",
        "#     else:\n",
        "#         S = S * (x % 5)\n",
        "#     x = x // 5\n",
        "# print(S)  # 13\n",
        "\n",
        "\n",
        "answer = 13\n",
        "x = 0\n",
        "list_x = []\n",
        "while x <= 500:\n",
        "    S = 0\n",
        "    number = x\n",
        "    while number > 0:\n",
        "        if number % 5 > 0:\n",
        "            S = S + (number % 5)\n",
        "        else:\n",
        "            S = S * (number % 5)\n",
        "        number = number // 5\n",
        "    if S == answer:\n",
        "        list_x.append(x)\n",
        "    x += 1\n",
        "# print(S)  # 13\n",
        "print(list_x)\n",
        "print(len(list_x))\n"
      ],
      "execution_count": null,
      "outputs": [
        {
          "output_type": "stream",
          "text": [
            "[249, 349, 369, 373, 449, 469, 473, 489, 493, 497]\n",
            "10\n"
          ],
          "name": "stdout"
        }
      ]
    },
    {
      "cell_type": "code",
      "metadata": {
        "id": "LExr2HTq--Yo",
        "colab": {
          "base_uri": "https://localhost:8080/"
        },
        "outputId": "75ffbc01-7f4d-4979-82c4-f63526943e9b"
      },
      "source": [
        "\"\"\"\n",
        "**Задание 22 (№703).**\n",
        "\n",
        "Получив на вход натуральное число x, этот алгоритм печатает два числа: a и b.\n",
        "Укажите наибольшее трёхзначное натуральное число, при вводе которого алгоритм печатает сначала 1, а потом 8.\n",
        "```\n",
        "x = int(input())\n",
        "a = 0\n",
        "b = 1\n",
        "while x > 0:\n",
        "    if x % 2 > 0:\n",
        "        a = a + (x % 11)\n",
        "    else:\n",
        "        b = b * (x % 11)\n",
        "    x = x // 11\n",
        "print(a)\n",
        "print(b)\n",
        "```\n",
        "\"\"\"\n",
        "\n",
        "\n",
        "answer_a = 1\n",
        "answer_b = 8\n",
        "answers = []\n",
        "x = 0\n",
        "while x < 1000:\n",
        "    number = x\n",
        "    a = 0\n",
        "    b = 1\n",
        "    while number > 0:\n",
        "        if number % 2 > 0:\n",
        "            a = a + (number % 11)\n",
        "        else:\n",
        "            b = b * (number % 11)\n",
        "        number = number // 11\n",
        "    if answer_a == a and answer_b == b:\n",
        "        answers.append(x)\n",
        "    x += 1\n",
        "\n",
        "print(answers)\n",
        "print(max(answers))\n"
      ],
      "execution_count": null,
      "outputs": [
        {
          "output_type": "stream",
          "text": [
            "[89, 140, 287, 507, 979, 980]\n",
            "980\n"
          ],
          "name": "stdout"
        }
      ]
    },
    {
      "cell_type": "code",
      "metadata": {
        "id": "dHQRdx9mPVKG",
        "outputId": "34c20025-1ee2-4a35-b745-8eb7e7012a46",
        "colab": {
          "base_uri": "https://localhost:8080/"
        }
      },
      "source": [
        "\"\"\"\n",
        "Задание 22 (№834).\n",
        "Ниже на четырёх языках программирования записан алгоритм.\n",
        "Получив на вход число x, этот алгоритм печатает два числа: L и M.\n",
        "Укажите наибольшее число x, не содержащее нулей,\n",
        "при вводе которого алгоритм печатает сначала 14, а потом 3.\n",
        "\n",
        "999419, а у меня ответ 999509\n",
        "\"\"\"\n",
        "x = int(input())\n",
        "L, M, R = 0, 0, 0\n",
        "while x > 0:\n",
        "    R = R * 10 + x % 10\n",
        "    x //= 10\n",
        "    if x <= R:\n",
        "        M += 1\n",
        "    else:\n",
        "        L += x % 10\n",
        "print(L)\n",
        "print(M)"
      ],
      "execution_count": 14,
      "outputs": [
        {
          "output_type": "stream",
          "text": [
            "999509\n",
            "14\n",
            "3\n"
          ],
          "name": "stdout"
        }
      ]
    },
    {
      "cell_type": "code",
      "metadata": {
        "id": "hijbwJ6fPR1C",
        "outputId": "c190b8dd-e8bd-4140-8a43-a58b41838209",
        "colab": {
          "base_uri": "https://localhost:8080/"
        }
      },
      "source": [
        "answers = []\n",
        "number = 0\n",
        "answer_L = 14\n",
        "answer_M = 3\n",
        "while number < 1000000:\n",
        "    x = number\n",
        "    L, M, R = 0, 0, 0\n",
        "    while x > 0:\n",
        "        R = R * 10 + x % 10\n",
        "        x //= 10\n",
        "        if x <= R:\n",
        "            M += 1\n",
        "        else:\n",
        "            L += x % 10\n",
        "    if answer_L == L and answer_M == M:\n",
        "        answers.append(number)\n",
        "    number += 1\n",
        "\n",
        "print(answers)\n",
        "print(max(answers))\n"
      ],
      "execution_count": 5,
      "outputs": [
        {
          "output_type": "stream",
          "text": [
            "[10590, 10591, 10592, 10593, 10594, 10595, 10596, 10597, 10598, 10599, 10680, 10681, 10682, 10683, 10684, 10685, 10686, 10687, 10688, 10689, 10770, 10771, 10772, 10773, 10774, 10775, 10776, 10777, 10778, 10779, 10860, 10861, 10862, 10863, 10864, 10865, 10866, 10867, 10868, 10869, 10950, 10951, 10952, 10953, 10954, 10955, 10956, 10957, 10958, 10959, 11590, 11591, 11592, 11593, 11594, 11595, 11596, 11597, 11598, 11599, 11680, 11681, 11682, 11683, 11684, 11685, 11686, 11687, 11688, 11689, 11770, 11771, 11772, 11773, 11774, 11775, 11776, 11777, 11778, 11779, 11860, 11861, 11862, 11863, 11864, 11865, 11866, 11867, 11868, 11869, 11950, 11951, 11952, 11953, 11954, 11955, 11956, 11957, 11958, 11959, 12590, 12591, 12592, 12593, 12594, 12595, 12596, 12597, 12598, 12599, 12680, 12681, 12682, 12683, 12684, 12685, 12686, 12687, 12688, 12689, 12770, 12771, 12772, 12773, 12774, 12775, 12776, 12777, 12778, 12779, 12860, 12861, 12862, 12863, 12864, 12865, 12866, 12867, 12868, 12869, 12950, 12951, 12952, 12953, 12954, 12955, 12956, 12957, 12958, 12959, 13590, 13591, 13592, 13593, 13594, 13595, 13596, 13597, 13598, 13599, 13680, 13681, 13682, 13683, 13684, 13685, 13686, 13687, 13688, 13689, 13770, 13771, 13772, 13773, 13774, 13775, 13776, 13777, 13778, 13779, 13860, 13861, 13862, 13863, 13864, 13865, 13866, 13867, 13868, 13869, 13950, 13951, 13952, 13953, 13954, 13955, 13956, 13957, 13958, 13959, 14590, 14591, 14592, 14593, 14594, 14595, 14596, 14597, 14598, 14599, 14680, 14681, 14682, 14683, 14684, 14685, 14686, 14687, 14688, 14689, 14770, 14771, 14772, 14773, 14774, 14775, 14776, 14777, 14778, 14779, 14860, 14861, 14862, 14863, 14864, 14865, 14866, 14867, 14868, 14869, 14950, 14951, 14952, 14953, 14954, 14955, 14956, 14957, 14958, 14959, 15590, 15591, 15592, 15593, 15594, 15595, 15596, 15597, 15598, 15599, 15680, 15681, 15682, 15683, 15684, 15685, 15686, 15687, 15688, 15689, 15770, 15771, 15772, 15773, 15774, 15775, 15776, 15777, 15778, 15779, 15860, 15861, 15862, 15863, 15864, 15865, 15866, 15867, 15868, 15869, 15950, 15951, 15952, 15953, 15954, 15955, 15956, 15957, 15958, 15959, 16590, 16591, 16592, 16593, 16594, 16595, 16596, 16597, 16598, 16599, 16680, 16681, 16682, 16683, 16684, 16685, 16686, 16687, 16688, 16689, 16770, 16771, 16772, 16773, 16774, 16775, 16776, 16777, 16778, 16779, 16860, 16861, 16862, 16863, 16864, 16865, 16866, 16867, 16868, 16869, 16950, 16951, 16952, 16953, 16954, 16955, 16956, 16957, 16958, 16959, 17590, 17591, 17592, 17593, 17594, 17595, 17596, 17597, 17598, 17599, 17680, 17681, 17682, 17683, 17684, 17685, 17686, 17687, 17688, 17689, 17770, 17771, 17772, 17773, 17774, 17775, 17776, 17777, 17778, 17779, 17860, 17861, 17862, 17863, 17864, 17865, 17866, 17867, 17868, 17869, 17950, 17951, 17952, 17953, 17954, 17955, 17956, 17957, 17958, 17959, 18590, 18591, 18592, 18593, 18594, 18595, 18596, 18597, 18598, 18599, 18680, 18681, 18682, 18683, 18684, 18685, 18686, 18687, 18688, 18689, 18770, 18771, 18772, 18773, 18774, 18775, 18776, 18777, 18778, 18779, 18860, 18861, 18862, 18863, 18864, 18865, 18866, 18867, 18868, 18869, 18950, 18951, 18952, 18953, 18954, 18955, 18956, 18957, 18958, 18959, 19590, 19591, 19592, 19593, 19594, 19595, 19596, 19597, 19598, 19599, 19680, 19681, 19682, 19683, 19684, 19685, 19686, 19687, 19688, 19689, 19770, 19771, 19772, 19773, 19774, 19775, 19776, 19777, 19778, 19779, 19860, 19861, 19862, 19863, 19864, 19865, 19866, 19867, 19868, 19869, 19950, 19951, 19952, 19953, 19954, 19955, 19956, 19957, 19958, 19959, 20590, 20591, 20592, 20593, 20594, 20595, 20596, 20597, 20598, 20599, 20680, 20681, 20682, 20683, 20684, 20685, 20686, 20687, 20688, 20689, 20770, 20771, 20772, 20773, 20774, 20775, 20776, 20777, 20778, 20779, 20860, 20861, 20862, 20863, 20864, 20865, 20866, 20867, 20868, 20869, 20950, 20951, 20952, 20953, 20954, 20955, 20956, 20957, 20958, 20959, 21590, 21591, 21592, 21593, 21594, 21595, 21596, 21597, 21598, 21599, 21680, 21681, 21682, 21683, 21684, 21685, 21686, 21687, 21688, 21689, 21770, 21771, 21772, 21773, 21774, 21775, 21776, 21777, 21778, 21779, 21860, 21861, 21862, 21863, 21864, 21865, 21866, 21867, 21868, 21869, 21950, 21951, 21952, 21953, 21954, 21955, 21956, 21957, 21958, 21959, 22590, 22591, 22592, 22593, 22594, 22595, 22596, 22597, 22598, 22599, 22680, 22681, 22682, 22683, 22684, 22685, 22686, 22687, 22688, 22689, 22770, 22771, 22772, 22773, 22774, 22775, 22776, 22777, 22778, 22779, 22860, 22861, 22862, 22863, 22864, 22865, 22866, 22867, 22868, 22869, 22950, 22951, 22952, 22953, 22954, 22955, 22956, 22957, 22958, 22959, 23590, 23591, 23592, 23593, 23594, 23595, 23596, 23597, 23598, 23599, 23680, 23681, 23682, 23683, 23684, 23685, 23686, 23687, 23688, 23689, 23770, 23771, 23772, 23773, 23774, 23775, 23776, 23777, 23778, 23779, 23860, 23861, 23862, 23863, 23864, 23865, 23866, 23867, 23868, 23869, 23950, 23951, 23952, 23953, 23954, 23955, 23956, 23957, 23958, 23959, 24590, 24591, 24592, 24593, 24594, 24595, 24596, 24597, 24598, 24599, 24680, 24681, 24682, 24683, 24684, 24685, 24686, 24687, 24688, 24689, 24770, 24771, 24772, 24773, 24774, 24775, 24776, 24777, 24778, 24779, 24860, 24861, 24862, 24863, 24864, 24865, 24866, 24867, 24868, 24869, 24950, 24951, 24952, 24953, 24954, 24955, 24956, 24957, 24958, 24959, 25590, 25591, 25592, 25593, 25594, 25595, 25596, 25597, 25598, 25599, 25680, 25681, 25682, 25683, 25684, 25685, 25686, 25687, 25688, 25689, 25770, 25771, 25772, 25773, 25774, 25775, 25776, 25777, 25778, 25779, 25860, 25861, 25862, 25863, 25864, 25865, 25866, 25867, 25868, 25869, 25950, 25951, 25952, 25953, 25954, 25955, 25956, 25957, 25958, 25959, 26590, 26591, 26592, 26593, 26594, 26595, 26596, 26597, 26598, 26599, 26680, 26681, 26682, 26683, 26684, 26685, 26686, 26687, 26688, 26689, 26770, 26771, 26772, 26773, 26774, 26775, 26776, 26777, 26778, 26779, 26860, 26861, 26862, 26863, 26864, 26865, 26866, 26867, 26868, 26869, 26950, 26951, 26952, 26953, 26954, 26955, 26956, 26957, 26958, 26959, 27590, 27591, 27592, 27593, 27594, 27595, 27596, 27597, 27598, 27599, 27680, 27681, 27682, 27683, 27684, 27685, 27686, 27687, 27688, 27689, 27770, 27771, 27772, 27773, 27774, 27775, 27776, 27777, 27778, 27779, 27860, 27861, 27862, 27863, 27864, 27865, 27866, 27867, 27868, 27869, 27950, 27951, 27952, 27953, 27954, 27955, 27956, 27957, 27958, 27959, 28590, 28591, 28592, 28593, 28594, 28595, 28596, 28597, 28598, 28599, 28680, 28681, 28682, 28683, 28684, 28685, 28686, 28687, 28688, 28689, 28770, 28771, 28772, 28773, 28774, 28775, 28776, 28777, 28778, 28779, 28860, 28861, 28862, 28863, 28864, 28865, 28866, 28867, 28868, 28869, 28950, 28951, 28952, 28953, 28954, 28955, 28956, 28957, 28958, 28959, 29590, 29591, 29592, 29593, 29594, 29595, 29596, 29597, 29598, 29599, 29680, 29681, 29682, 29683, 29684, 29685, 29686, 29687, 29688, 29689, 29770, 29771, 29772, 29773, 29774, 29775, 29776, 29777, 29778, 29779, 29860, 29861, 29862, 29863, 29864, 29865, 29866, 29867, 29868, 29869, 29950, 29951, 29952, 29953, 29954, 29955, 29956, 29957, 29958, 29959, 30590, 30591, 30592, 30593, 30594, 30595, 30596, 30597, 30598, 30599, 30680, 30681, 30682, 30683, 30684, 30685, 30686, 30687, 30688, 30689, 30770, 30771, 30772, 30773, 30774, 30775, 30776, 30777, 30778, 30779, 30860, 30861, 30862, 30863, 30864, 30865, 30866, 30867, 30868, 30869, 30950, 30951, 30952, 30953, 30954, 30955, 30956, 30957, 30958, 30959, 31590, 31591, 31592, 31593, 31594, 31595, 31596, 31597, 31598, 31599, 31680, 31681, 31682, 31683, 31684, 31685, 31686, 31687, 31688, 31689, 31770, 31771, 31772, 31773, 31774, 31775, 31776, 31777, 31778, 31779, 31860, 31861, 31862, 31863, 31864, 31865, 31866, 31867, 31868, 31869, 31950, 31951, 31952, 31953, 31954, 31955, 31956, 31957, 31958, 31959, 32590, 32591, 32592, 32593, 32594, 32595, 32596, 32597, 32598, 32599, 32680, 32681, 32682, 32683, 32684, 32685, 32686, 32687, 32688, 32689, 32770, 32771, 32772, 32773, 32774, 32775, 32776, 32777, 32778, 32779, 32860, 32861, 32862, 32863, 32864, 32865, 32866, 32867, 32868, 32869, 32950, 32951, 32952, 32953, 32954, 32955, 32956, 32957, 32958, 32959, 33590, 33591, 33592, 33593, 33594, 33595, 33596, 33597, 33598, 33599, 33680, 33681, 33682, 33683, 33684, 33685, 33686, 33687, 33688, 33689, 33770, 33771, 33772, 33773, 33774, 33775, 33776, 33777, 33778, 33779, 33860, 33861, 33862, 33863, 33864, 33865, 33866, 33867, 33868, 33869, 33950, 33951, 33952, 33953, 33954, 33955, 33956, 33957, 33958, 33959, 34590, 34591, 34592, 34593, 34594, 34595, 34596, 34597, 34598, 34599, 34680, 34681, 34682, 34683, 34684, 34685, 34686, 34687, 34688, 34689, 34770, 34771, 34772, 34773, 34774, 34775, 34776, 34777, 34778, 34779, 34860, 34861, 34862, 34863, 34864, 34865, 34866, 34867, 34868, 34869, 34950, 34951, 34952, 34953, 34954, 34955, 34956, 34957, 34958, 34959, 35590, 35591, 35592, 35593, 35594, 35595, 35596, 35597, 35598, 35599, 35680, 35681, 35682, 35683, 35684, 35685, 35686, 35687, 35688, 35689, 35770, 35771, 35772, 35773, 35774, 35775, 35776, 35777, 35778, 35779, 35860, 35861, 35862, 35863, 35864, 35865, 35866, 35867, 35868, 35869, 35950, 35951, 35952, 35953, 35954, 35955, 35956, 35957, 35958, 35959, 36590, 36591, 36592, 36593, 36594, 36595, 36596, 36597, 36598, 36599, 36680, 36681, 36682, 36683, 36684, 36685, 36686, 36687, 36688, 36689, 36770, 36771, 36772, 36773, 36774, 36775, 36776, 36777, 36778, 36779, 36860, 36861, 36862, 36863, 36864, 36865, 36866, 36867, 36868, 36869, 36950, 36951, 36952, 36953, 36954, 36955, 36956, 36957, 36958, 36959, 37590, 37591, 37592, 37593, 37594, 37595, 37596, 37597, 37598, 37599, 37680, 37681, 37682, 37683, 37684, 37685, 37686, 37687, 37688, 37689, 37770, 37771, 37772, 37773, 37774, 37775, 37776, 37777, 37778, 37779, 37860, 37861, 37862, 37863, 37864, 37865, 37866, 37867, 37868, 37869, 37950, 37951, 37952, 37953, 37954, 37955, 37956, 37957, 37958, 37959, 38590, 38591, 38592, 38593, 38594, 38595, 38596, 38597, 38598, 38599, 38680, 38681, 38682, 38683, 38684, 38685, 38686, 38687, 38688, 38689, 38770, 38771, 38772, 38773, 38774, 38775, 38776, 38777, 38778, 38779, 38860, 38861, 38862, 38863, 38864, 38865, 38866, 38867, 38868, 38869, 38950, 38951, 38952, 38953, 38954, 38955, 38956, 38957, 38958, 38959, 39590, 39591, 39592, 39593, 39594, 39595, 39596, 39597, 39598, 39599, 39680, 39681, 39682, 39683, 39684, 39685, 39686, 39687, 39688, 39689, 39770, 39771, 39772, 39773, 39774, 39775, 39776, 39777, 39778, 39779, 39860, 39861, 39862, 39863, 39864, 39865, 39866, 39867, 39868, 39869, 39950, 39951, 39952, 39953, 39954, 39955, 39956, 39957, 39958, 39959, 40590, 40591, 40592, 40593, 40594, 40595, 40596, 40597, 40598, 40599, 40680, 40681, 40682, 40683, 40684, 40685, 40686, 40687, 40688, 40689, 40770, 40771, 40772, 40773, 40774, 40775, 40776, 40777, 40778, 40779, 40860, 40861, 40862, 40863, 40864, 40865, 40866, 40867, 40868, 40869, 40950, 40951, 40952, 40953, 40954, 40955, 40956, 40957, 40958, 40959, 41590, 41591, 41592, 41593, 41594, 41595, 41596, 41597, 41598, 41599, 41680, 41681, 41682, 41683, 41684, 41685, 41686, 41687, 41688, 41689, 41770, 41771, 41772, 41773, 41774, 41775, 41776, 41777, 41778, 41779, 41860, 41861, 41862, 41863, 41864, 41865, 41866, 41867, 41868, 41869, 41950, 41951, 41952, 41953, 41954, 41955, 41956, 41957, 41958, 41959, 42590, 42591, 42592, 42593, 42594, 42595, 42596, 42597, 42598, 42599, 42680, 42681, 42682, 42683, 42684, 42685, 42686, 42687, 42688, 42689, 42770, 42771, 42772, 42773, 42774, 42775, 42776, 42777, 42778, 42779, 42860, 42861, 42862, 42863, 42864, 42865, 42866, 42867, 42868, 42869, 42950, 42951, 42952, 42953, 42954, 42955, 42956, 42957, 42958, 42959, 43590, 43591, 43592, 43593, 43594, 43595, 43596, 43597, 43598, 43599, 43680, 43681, 43682, 43683, 43684, 43685, 43686, 43687, 43688, 43689, 43770, 43771, 43772, 43773, 43774, 43775, 43776, 43777, 43778, 43779, 43860, 43861, 43862, 43863, 43864, 43865, 43866, 43867, 43868, 43869, 43950, 43951, 43952, 43953, 43954, 43955, 43956, 43957, 43958, 43959, 44590, 44591, 44592, 44593, 44594, 44595, 44596, 44597, 44598, 44599, 44680, 44681, 44682, 44683, 44684, 44685, 44686, 44687, 44688, 44689, 44770, 44771, 44772, 44773, 44774, 44775, 44776, 44777, 44778, 44779, 44860, 44861, 44862, 44863, 44864, 44865, 44866, 44867, 44868, 44869, 44950, 44951, 44952, 44953, 44954, 44955, 44956, 44957, 44958, 44959, 45590, 45591, 45592, 45593, 45594, 45595, 45596, 45597, 45598, 45599, 45680, 45681, 45682, 45683, 45684, 45685, 45686, 45687, 45688, 45689, 45770, 45771, 45772, 45773, 45774, 45775, 45776, 45777, 45778, 45779, 45860, 45861, 45862, 45863, 45864, 45865, 45866, 45867, 45868, 45869, 45950, 45951, 45952, 45953, 45954, 45955, 45956, 45957, 45958, 45959, 46590, 46591, 46592, 46593, 46594, 46595, 46596, 46597, 46598, 46599, 46680, 46681, 46682, 46683, 46684, 46685, 46686, 46687, 46688, 46689, 46770, 46771, 46772, 46773, 46774, 46775, 46776, 46777, 46778, 46779, 46860, 46861, 46862, 46863, 46864, 46865, 46866, 46867, 46868, 46869, 46950, 46951, 46952, 46953, 46954, 46955, 46956, 46957, 46958, 46959, 47590, 47591, 47592, 47593, 47594, 47595, 47596, 47597, 47598, 47599, 47680, 47681, 47682, 47683, 47684, 47685, 47686, 47687, 47688, 47689, 47770, 47771, 47772, 47773, 47774, 47775, 47776, 47777, 47778, 47779, 47860, 47861, 47862, 47863, 47864, 47865, 47866, 47867, 47868, 47869, 47950, 47951, 47952, 47953, 47954, 47955, 47956, 47957, 47958, 47959, 48590, 48591, 48592, 48593, 48594, 48595, 48596, 48597, 48598, 48599, 48680, 48681, 48682, 48683, 48684, 48685, 48686, 48687, 48688, 48689, 48770, 48771, 48772, 48773, 48774, 48775, 48776, 48777, 48778, 48779, 48860, 48861, 48862, 48863, 48864, 48865, 48866, 48867, 48868, 48869, 48950, 48951, 48952, 48953, 48954, 48955, 48956, 48957, 48958, 48959, 49590, 49591, 49592, 49593, 49594, 49595, 49596, 49597, 49598, 49599, 49680, 49681, 49682, 49683, 49684, 49685, 49686, 49687, 49688, 49689, 49770, 49771, 49772, 49773, 49774, 49775, 49776, 49777, 49778, 49779, 49860, 49861, 49862, 49863, 49864, 49865, 49866, 49867, 49868, 49869, 49950, 49951, 49952, 49953, 49954, 49955, 49956, 49957, 49958, 49959, 50590, 50591, 50592, 50593, 50594, 50595, 50596, 50597, 50598, 50599, 50680, 50681, 50682, 50683, 50684, 50685, 50686, 50687, 50688, 50689, 50770, 50771, 50772, 50773, 50774, 50775, 50776, 50777, 50778, 50779, 50860, 50861, 50862, 50863, 50864, 50865, 50866, 50867, 50868, 50869, 50950, 50951, 50952, 50953, 50954, 50955, 50956, 50957, 50958, 50959, 51590, 51591, 51592, 51593, 51594, 51595, 51596, 51597, 51598, 51599, 51680, 51681, 51682, 51683, 51684, 51685, 51686, 51687, 51688, 51689, 51770, 51771, 51772, 51773, 51774, 51775, 51776, 51777, 51778, 51779, 51860, 51861, 51862, 51863, 51864, 51865, 51866, 51867, 51868, 51869, 51950, 51951, 51952, 51953, 51954, 51955, 51956, 51957, 51958, 51959, 52590, 52591, 52592, 52593, 52594, 52595, 52596, 52597, 52598, 52599, 52680, 52681, 52682, 52683, 52684, 52685, 52686, 52687, 52688, 52689, 52770, 52771, 52772, 52773, 52774, 52775, 52776, 52777, 52778, 52779, 52860, 52861, 52862, 52863, 52864, 52865, 52866, 52867, 52868, 52869, 52950, 52951, 52952, 52953, 52954, 52955, 52956, 52957, 52958, 52959, 53590, 53591, 53592, 53593, 53594, 53595, 53596, 53597, 53598, 53599, 53680, 53681, 53682, 53683, 53684, 53685, 53686, 53687, 53688, 53689, 53770, 53771, 53772, 53773, 53774, 53775, 53776, 53777, 53778, 53779, 53860, 53861, 53862, 53863, 53864, 53865, 53866, 53867, 53868, 53869, 53950, 53951, 53952, 53953, 53954, 53955, 53956, 53957, 53958, 53959, 54590, 54591, 54592, 54593, 54594, 54595, 54596, 54597, 54598, 54599, 54680, 54681, 54682, 54683, 54684, 54685, 54686, 54687, 54688, 54689, 54770, 54771, 54772, 54773, 54774, 54775, 54776, 54777, 54778, 54779, 54860, 54861, 54862, 54863, 54864, 54865, 54866, 54867, 54868, 54869, 54950, 54951, 54952, 54953, 54954, 54955, 54956, 54957, 54958, 54959, 55590, 55591, 55592, 55593, 55594, 55595, 55596, 55597, 55598, 55599, 55680, 55681, 55682, 55683, 55684, 55685, 55686, 55687, 55688, 55689, 55770, 55771, 55772, 55773, 55774, 55775, 55776, 55777, 55778, 55779, 55860, 55861, 55862, 55863, 55864, 55865, 55866, 55867, 55868, 55869, 55950, 55951, 55952, 55953, 55954, 55955, 55956, 55957, 55958, 55959, 56590, 56591, 56592, 56593, 56594, 56595, 56596, 56597, 56598, 56599, 56680, 56681, 56682, 56683, 56684, 56685, 56686, 56687, 56688, 56689, 56770, 56771, 56772, 56773, 56774, 56775, 56776, 56777, 56778, 56779, 56860, 56861, 56862, 56863, 56864, 56865, 56866, 56867, 56868, 56869, 56950, 56951, 56952, 56953, 56954, 56955, 56956, 56957, 56958, 56959, 57590, 57591, 57592, 57593, 57594, 57595, 57596, 57597, 57598, 57599, 57680, 57681, 57682, 57683, 57684, 57685, 57686, 57687, 57688, 57689, 57770, 57771, 57772, 57773, 57774, 57775, 57776, 57777, 57778, 57779, 57860, 57861, 57862, 57863, 57864, 57865, 57866, 57867, 57868, 57869, 57950, 57951, 57952, 57953, 57954, 57955, 57956, 57957, 57958, 57959, 58590, 58591, 58592, 58593, 58594, 58595, 58596, 58597, 58598, 58599, 58680, 58681, 58682, 58683, 58684, 58685, 58686, 58687, 58688, 58689, 58770, 58771, 58772, 58773, 58774, 58775, 58776, 58777, 58778, 58779, 58860, 58861, 58862, 58863, 58864, 58865, 58866, 58867, 58868, 58869, 58950, 58951, 58952, 58953, 58954, 58955, 58956, 58957, 58958, 58959, 59590, 59591, 59592, 59593, 59594, 59595, 59596, 59597, 59598, 59599, 59680, 59681, 59682, 59683, 59684, 59685, 59686, 59687, 59688, 59689, 59770, 59771, 59772, 59773, 59774, 59775, 59776, 59777, 59778, 59779, 59860, 59861, 59862, 59863, 59864, 59865, 59866, 59867, 59868, 59869, 59950, 59951, 59952, 59953, 59954, 59955, 59956, 59957, 59958, 59959, 60590, 60591, 60592, 60593, 60594, 60595, 60596, 60597, 60598, 60599, 60680, 60681, 60682, 60683, 60684, 60685, 60686, 60687, 60688, 60689, 60770, 60771, 60772, 60773, 60774, 60775, 60776, 60777, 60778, 60779, 60860, 60861, 60862, 60863, 60864, 60865, 60866, 60867, 60868, 60869, 60951, 60952, 60953, 60954, 60955, 60956, 60957, 60958, 60959, 61590, 61591, 61592, 61593, 61594, 61595, 61596, 61597, 61598, 61599, 61680, 61681, 61682, 61683, 61684, 61685, 61686, 61687, 61688, 61689, 61770, 61771, 61772, 61773, 61774, 61775, 61776, 61777, 61778, 61779, 61860, 61861, 61862, 61863, 61864, 61865, 61866, 61867, 61868, 61869, 61951, 61952, 61953, 61954, 61955, 61956, 61957, 61958, 61959, 62590, 62591, 62592, 62593, 62594, 62595, 62596, 62597, 62598, 62599, 62680, 62681, 62682, 62683, 62684, 62685, 62686, 62687, 62688, 62689, 62770, 62771, 62772, 62773, 62774, 62775, 62776, 62777, 62778, 62779, 62860, 62861, 62862, 62863, 62864, 62865, 62866, 62867, 62868, 62869, 62951, 62952, 62953, 62954, 62955, 62956, 62957, 62958, 62959, 63590, 63591, 63592, 63593, 63594, 63595, 63596, 63597, 63598, 63599, 63680, 63681, 63682, 63683, 63684, 63685, 63686, 63687, 63688, 63689, 63770, 63771, 63772, 63773, 63774, 63775, 63776, 63777, 63778, 63779, 63860, 63861, 63862, 63863, 63864, 63865, 63866, 63867, 63868, 63869, 63951, 63952, 63953, 63954, 63955, 63956, 63957, 63958, 63959, 64590, 64591, 64592, 64593, 64594, 64595, 64596, 64597, 64598, 64599, 64680, 64681, 64682, 64683, 64684, 64685, 64686, 64687, 64688, 64689, 64770, 64771, 64772, 64773, 64774, 64775, 64776, 64777, 64778, 64779, 64860, 64861, 64862, 64863, 64864, 64865, 64866, 64867, 64868, 64869, 64951, 64952, 64953, 64954, 64955, 64956, 64957, 64958, 64959, 65590, 65591, 65592, 65593, 65594, 65595, 65596, 65597, 65598, 65599, 65680, 65681, 65682, 65683, 65684, 65685, 65686, 65687, 65688, 65689, 65770, 65771, 65772, 65773, 65774, 65775, 65776, 65777, 65778, 65779, 65860, 65861, 65862, 65863, 65864, 65865, 65866, 65867, 65868, 65869, 65951, 65952, 65953, 65954, 65955, 65956, 65957, 65958, 65959, 66590, 66591, 66592, 66593, 66594, 66595, 66596, 66597, 66598, 66599, 66680, 66681, 66682, 66683, 66684, 66685, 66686, 66687, 66688, 66689, 66770, 66771, 66772, 66773, 66774, 66775, 66776, 66777, 66778, 66779, 66860, 66861, 66862, 66863, 66864, 66865, 66866, 66867, 66868, 66869, 66951, 66952, 66953, 66954, 66955, 66956, 66957, 66958, 66959, 67590, 67591, 67592, 67593, 67594, 67595, 67596, 67597, 67598, 67599, 67680, 67681, 67682, 67683, 67684, 67685, 67686, 67687, 67688, 67689, 67770, 67771, 67772, 67773, 67774, 67775, 67776, 67777, 67778, 67779, 67860, 67861, 67862, 67863, 67864, 67865, 67866, 67867, 67868, 67869, 67951, 67952, 67953, 67954, 67955, 67956, 67957, 67958, 67959, 68590, 68591, 68592, 68593, 68594, 68595, 68596, 68597, 68598, 68599, 68680, 68681, 68682, 68683, 68684, 68685, 68686, 68687, 68688, 68689, 68770, 68771, 68772, 68773, 68774, 68775, 68776, 68777, 68778, 68779, 68860, 68861, 68862, 68863, 68864, 68865, 68866, 68867, 68868, 68869, 68951, 68952, 68953, 68954, 68955, 68956, 68957, 68958, 68959, 69590, 69591, 69592, 69593, 69594, 69595, 69596, 69597, 69598, 69599, 69680, 69681, 69682, 69683, 69684, 69685, 69686, 69687, 69688, 69689, 69770, 69771, 69772, 69773, 69774, 69775, 69776, 69777, 69778, 69779, 69861, 69862, 69863, 69864, 69865, 69866, 69867, 69868, 69869, 69951, 69952, 69953, 69954, 69955, 69956, 69957, 69958, 69959, 70590, 70591, 70592, 70593, 70594, 70595, 70596, 70597, 70598, 70599, 70680, 70681, 70682, 70683, 70684, 70685, 70686, 70687, 70688, 70689, 70770, 70771, 70772, 70773, 70774, 70775, 70776, 70777, 70778, 70779, 70861, 70862, 70863, 70864, 70865, 70866, 70867, 70868, 70869, 70951, 70952, 70953, 70954, 70955, 70956, 70957, 70958, 70959, 71590, 71591, 71592, 71593, 71594, 71595, 71596, 71597, 71598, 71599, 71680, 71681, 71682, 71683, 71684, 71685, 71686, 71687, 71688, 71689, 71770, 71771, 71772, 71773, 71774, 71775, 71776, 71777, 71778, 71779, 71861, 71862, 71863, 71864, 71865, 71866, 71867, 71868, 71869, 71951, 71952, 71953, 71954, 71955, 71956, 71957, 71958, 71959, 72590, 72591, 72592, 72593, 72594, 72595, 72596, 72597, 72598, 72599, 72680, 72681, 72682, 72683, 72684, 72685, 72686, 72687, 72688, 72689, 72770, 72771, 72772, 72773, 72774, 72775, 72776, 72777, 72778, 72779, 72861, 72862, 72863, 72864, 72865, 72866, 72867, 72868, 72869, 72951, 72952, 72953, 72954, 72955, 72956, 72957, 72958, 72959, 73590, 73591, 73592, 73593, 73594, 73595, 73596, 73597, 73598, 73599, 73680, 73681, 73682, 73683, 73684, 73685, 73686, 73687, 73688, 73689, 73770, 73771, 73772, 73773, 73774, 73775, 73776, 73777, 73778, 73779, 73861, 73862, 73863, 73864, 73865, 73866, 73867, 73868, 73869, 73951, 73952, 73953, 73954, 73955, 73956, 73957, 73958, 73959, 74590, 74591, 74592, 74593, 74594, 74595, 74596, 74597, 74598, 74599, 74680, 74681, 74682, 74683, 74684, 74685, 74686, 74687, 74688, 74689, 74770, 74771, 74772, 74773, 74774, 74775, 74776, 74777, 74778, 74779, 74861, 74862, 74863, 74864, 74865, 74866, 74867, 74868, 74869, 74951, 74952, 74953, 74954, 74955, 74956, 74957, 74958, 74959, 75590, 75591, 75592, 75593, 75594, 75595, 75596, 75597, 75598, 75599, 75680, 75681, 75682, 75683, 75684, 75685, 75686, 75687, 75688, 75689, 75770, 75771, 75772, 75773, 75774, 75775, 75776, 75777, 75778, 75779, 75861, 75862, 75863, 75864, 75865, 75866, 75867, 75868, 75869, 75951, 75952, 75953, 75954, 75955, 75956, 75957, 75958, 75959, 76590, 76591, 76592, 76593, 76594, 76595, 76596, 76597, 76598, 76599, 76680, 76681, 76682, 76683, 76684, 76685, 76686, 76687, 76688, 76689, 76770, 76771, 76772, 76773, 76774, 76775, 76776, 76777, 76778, 76779, 76861, 76862, 76863, 76864, 76865, 76866, 76867, 76868, 76869, 76951, 76952, 76953, 76954, 76955, 76956, 76957, 76958, 76959, 77590, 77591, 77592, 77593, 77594, 77595, 77596, 77597, 77598, 77599, 77680, 77681, 77682, 77683, 77684, 77685, 77686, 77687, 77688, 77689, 77770, 77771, 77772, 77773, 77774, 77775, 77776, 77777, 77778, 77779, 77861, 77862, 77863, 77864, 77865, 77866, 77867, 77868, 77869, 77951, 77952, 77953, 77954, 77955, 77956, 77957, 77958, 77959, 78590, 78591, 78592, 78593, 78594, 78595, 78596, 78597, 78598, 78599, 78680, 78681, 78682, 78683, 78684, 78685, 78686, 78687, 78688, 78689, 78771, 78772, 78773, 78774, 78775, 78776, 78777, 78778, 78779, 78861, 78862, 78863, 78864, 78865, 78866, 78867, 78868, 78869, 78951, 78952, 78953, 78954, 78955, 78956, 78957, 78958, 78959, 79590, 79591, 79592, 79593, 79594, 79595, 79596, 79597, 79598, 79599, 79680, 79681, 79682, 79683, 79684, 79685, 79686, 79687, 79688, 79689, 79771, 79772, 79773, 79774, 79775, 79776, 79777, 79778, 79779, 79861, 79862, 79863, 79864, 79865, 79866, 79867, 79868, 79869, 79951, 79952, 79953, 79954, 79955, 79956, 79957, 79958, 79959, 80590, 80591, 80592, 80593, 80594, 80595, 80596, 80597, 80598, 80599, 80680, 80681, 80682, 80683, 80684, 80685, 80686, 80687, 80688, 80689, 80771, 80772, 80773, 80774, 80775, 80776, 80777, 80778, 80779, 80861, 80862, 80863, 80864, 80865, 80866, 80867, 80868, 80869, 80951, 80952, 80953, 80954, 80955, 80956, 80957, 80958, 80959, 81590, 81591, 81592, 81593, 81594, 81595, 81596, 81597, 81598, 81599, 81680, 81681, 81682, 81683, 81684, 81685, 81686, 81687, 81688, 81689, 81771, 81772, 81773, 81774, 81775, 81776, 81777, 81778, 81779, 81861, 81862, 81863, 81864, 81865, 81866, 81867, 81868, 81869, 81951, 81952, 81953, 81954, 81955, 81956, 81957, 81958, 81959, 82590, 82591, 82592, 82593, 82594, 82595, 82596, 82597, 82598, 82599, 82680, 82681, 82682, 82683, 82684, 82685, 82686, 82687, 82688, 82689, 82771, 82772, 82773, 82774, 82775, 82776, 82777, 82778, 82779, 82861, 82862, 82863, 82864, 82865, 82866, 82867, 82868, 82869, 82951, 82952, 82953, 82954, 82955, 82956, 82957, 82958, 82959, 83590, 83591, 83592, 83593, 83594, 83595, 83596, 83597, 83598, 83599, 83680, 83681, 83682, 83683, 83684, 83685, 83686, 83687, 83688, 83689, 83771, 83772, 83773, 83774, 83775, 83776, 83777, 83778, 83779, 83861, 83862, 83863, 83864, 83865, 83866, 83867, 83868, 83869, 83951, 83952, 83953, 83954, 83955, 83956, 83957, 83958, 83959, 84590, 84591, 84592, 84593, 84594, 84595, 84596, 84597, 84598, 84599, 84680, 84681, 84682, 84683, 84684, 84685, 84686, 84687, 84688, 84689, 84771, 84772, 84773, 84774, 84775, 84776, 84777, 84778, 84779, 84861, 84862, 84863, 84864, 84865, 84866, 84867, 84868, 84869, 84951, 84952, 84953, 84954, 84955, 84956, 84957, 84958, 84959, 85590, 85591, 85592, 85593, 85594, 85595, 85596, 85597, 85598, 85599, 85680, 85681, 85682, 85683, 85684, 85685, 85686, 85687, 85688, 85689, 85771, 85772, 85773, 85774, 85775, 85776, 85777, 85778, 85779, 85861, 85862, 85863, 85864, 85865, 85866, 85867, 85868, 85869, 85951, 85952, 85953, 85954, 85955, 85956, 85957, 85958, 85959, 86590, 86591, 86592, 86593, 86594, 86595, 86596, 86597, 86598, 86599, 86680, 86681, 86682, 86683, 86684, 86685, 86686, 86687, 86688, 86689, 86771, 86772, 86773, 86774, 86775, 86776, 86777, 86778, 86779, 86861, 86862, 86863, 86864, 86865, 86866, 86867, 86868, 86869, 86951, 86952, 86953, 86954, 86955, 86956, 86957, 86958, 86959, 87590, 87591, 87592, 87593, 87594, 87595, 87596, 87597, 87598, 87599, 87681, 87682, 87683, 87684, 87685, 87686, 87687, 87688, 87689, 87771, 87772, 87773, 87774, 87775, 87776, 87777, 87778, 87779, 87861, 87862, 87863, 87864, 87865, 87866, 87867, 87868, 87869, 87951, 87952, 87953, 87954, 87955, 87956, 87957, 87958, 87959, 88590, 88591, 88592, 88593, 88594, 88595, 88596, 88597, 88598, 88599, 88681, 88682, 88683, 88684, 88685, 88686, 88687, 88688, 88689, 88771, 88772, 88773, 88774, 88775, 88776, 88777, 88778, 88779, 88861, 88862, 88863, 88864, 88865, 88866, 88867, 88868, 88869, 88951, 88952, 88953, 88954, 88955, 88956, 88957, 88958, 88959, 89590, 89591, 89592, 89593, 89594, 89595, 89596, 89597, 89598, 89599, 89681, 89682, 89683, 89684, 89685, 89686, 89687, 89688, 89689, 89771, 89772, 89773, 89774, 89775, 89776, 89777, 89778, 89779, 89861, 89862, 89863, 89864, 89865, 89866, 89867, 89868, 89869, 89951, 89952, 89953, 89954, 89955, 89956, 89957, 89958, 89959, 90590, 90591, 90592, 90593, 90594, 90595, 90596, 90597, 90598, 90599, 90681, 90682, 90683, 90684, 90685, 90686, 90687, 90688, 90689, 90771, 90772, 90773, 90774, 90775, 90776, 90777, 90778, 90779, 90861, 90862, 90863, 90864, 90865, 90866, 90867, 90868, 90869, 90951, 90952, 90953, 90954, 90955, 90956, 90957, 90958, 90959, 91590, 91591, 91592, 91593, 91594, 91595, 91596, 91597, 91598, 91599, 91681, 91682, 91683, 91684, 91685, 91686, 91687, 91688, 91689, 91771, 91772, 91773, 91774, 91775, 91776, 91777, 91778, 91779, 91861, 91862, 91863, 91864, 91865, 91866, 91867, 91868, 91869, 91951, 91952, 91953, 91954, 91955, 91956, 91957, 91958, 91959, 92590, 92591, 92592, 92593, 92594, 92595, 92596, 92597, 92598, 92599, 92681, 92682, 92683, 92684, 92685, 92686, 92687, 92688, 92689, 92771, 92772, 92773, 92774, 92775, 92776, 92777, 92778, 92779, 92861, 92862, 92863, 92864, 92865, 92866, 92867, 92868, 92869, 92951, 92952, 92953, 92954, 92955, 92956, 92957, 92958, 92959, 93590, 93591, 93592, 93593, 93594, 93595, 93596, 93597, 93598, 93599, 93681, 93682, 93683, 93684, 93685, 93686, 93687, 93688, 93689, 93771, 93772, 93773, 93774, 93775, 93776, 93777, 93778, 93779, 93861, 93862, 93863, 93864, 93865, 93866, 93867, 93868, 93869, 93951, 93952, 93953, 93954, 93955, 93956, 93957, 93958, 93959, 94590, 94591, 94592, 94593, 94594, 94595, 94596, 94597, 94598, 94599, 94681, 94682, 94683, 94684, 94685, 94686, 94687, 94688, 94689, 94771, 94772, 94773, 94774, 94775, 94776, 94777, 94778, 94779, 94861, 94862, 94863, 94864, 94865, 94866, 94867, 94868, 94869, 94951, 94952, 94953, 94954, 94955, 94956, 94957, 94958, 94959, 95590, 95591, 95592, 95593, 95594, 95595, 95596, 95597, 95598, 95599, 95681, 95682, 95683, 95684, 95685, 95686, 95687, 95688, 95689, 95771, 95772, 95773, 95774, 95775, 95776, 95777, 95778, 95779, 95861, 95862, 95863, 95864, 95865, 95866, 95867, 95868, 95869, 95951, 95952, 95953, 95954, 95955, 95956, 95957, 95958, 95959, 96591, 96592, 96593, 96594, 96595, 96596, 96597, 96598, 96599, 96681, 96682, 96683, 96684, 96685, 96686, 96687, 96688, 96689, 96771, 96772, 96773, 96774, 96775, 96776, 96777, 96778, 96779, 96861, 96862, 96863, 96864, 96865, 96866, 96867, 96868, 96869, 96951, 96952, 96953, 96954, 96955, 96956, 96957, 96958, 96959, 97591, 97592, 97593, 97594, 97595, 97596, 97597, 97598, 97599, 97681, 97682, 97683, 97684, 97685, 97686, 97687, 97688, 97689, 97771, 97772, 97773, 97774, 97775, 97776, 97777, 97778, 97779, 97861, 97862, 97863, 97864, 97865, 97866, 97867, 97868, 97869, 97951, 97952, 97953, 97954, 97955, 97956, 97957, 97958, 97959, 98591, 98592, 98593, 98594, 98595, 98596, 98597, 98598, 98599, 98681, 98682, 98683, 98684, 98685, 98686, 98687, 98688, 98689, 98771, 98772, 98773, 98774, 98775, 98776, 98777, 98778, 98779, 98861, 98862, 98863, 98864, 98865, 98866, 98867, 98868, 98869, 98951, 98952, 98953, 98954, 98955, 98956, 98957, 98958, 98959, 99591, 99592, 99593, 99594, 99595, 99596, 99597, 99598, 99599, 99681, 99682, 99683, 99684, 99685, 99686, 99687, 99688, 99689, 99771, 99772, 99773, 99774, 99775, 99776, 99777, 99778, 99779, 99861, 99862, 99863, 99864, 99865, 99866, 99867, 99868, 99869, 99951, 99952, 99953, 99954, 99955, 99956, 99957, 99958, 99959, 100590, 100680, 100770, 100860, 100950, 101490, 101580, 101670, 101760, 101850, 101940, 102390, 102480, 102570, 102660, 102750, 102840, 102930, 103290, 103380, 103470, 103560, 103650, 103740, 103830, 103920, 104190, 104280, 104370, 104460, 104550, 104640, 104730, 104820, 104910, 105090, 105180, 105270, 105360, 105450, 105540, 105630, 105720, 105810, 105900, 106080, 106170, 106260, 106350, 106440, 106530, 106620, 106710, 106800, 107070, 107160, 107250, 107340, 107430, 107520, 107610, 107700, 108060, 108150, 108240, 108330, 108420, 108510, 108600, 108601, 109050, 109140, 109230, 109320, 109410, 109500, 109501, 110590, 110680, 110770, 110860, 110950, 111490, 111580, 111670, 111760, 111850, 111940, 112390, 112480, 112570, 112660, 112750, 112840, 112930, 113290, 113380, 113470, 113560, 113650, 113740, 113830, 113920, 114190, 114280, 114370, 114460, 114550, 114640, 114730, 114820, 114910, 115090, 115180, 115270, 115360, 115450, 115540, 115630, 115720, 115810, 115900, 115901, 116080, 116170, 116260, 116350, 116440, 116530, 116620, 116710, 116800, 116801, 117070, 117160, 117250, 117340, 117430, 117520, 117610, 117611, 117700, 117701, 118060, 118150, 118240, 118330, 118420, 118510, 118511, 118600, 118601, 119050, 119140, 119230, 119320, 119410, 119411, 119500, 119501, 120590, 120680, 120770, 120860, 120950, 121490, 121580, 121670, 121760, 121850, 121940, 122390, 122480, 122570, 122660, 122750, 122840, 122930, 123290, 123380, 123470, 123560, 123650, 123740, 123830, 123920, 124190, 124280, 124370, 124460, 124550, 124640, 124730, 124820, 124910, 124911, 125090, 125180, 125270, 125360, 125450, 125540, 125630, 125720, 125810, 125811, 125900, 125901, 126080, 126170, 126260, 126350, 126440, 126530, 126620, 126710, 126711, 126800, 126801, 127070, 127160, 127250, 127340, 127430, 127520, 127521, 127610, 127611, 127700, 127701, 128060, 128150, 128240, 128330, 128420, 128421, 128510, 128511, 128600, 128601, 129050, 129140, 129230, 129320, 129321, 129410, 129411, 129500, 129501, 130590, 130680, 130770, 130860, 130950, 131490, 131580, 131670, 131760, 131850, 131940, 132390, 132480, 132570, 132660, 132750, 132840, 132930, 133290, 133380, 133470, 133560, 133650, 133740, 133830, 133920, 133921, 134190, 134280, 134370, 134460, 134550, 134640, 134730, 134820, 134821, 134910, 134911, 135090, 135180, 135270, 135360, 135450, 135540, 135630, 135720, 135721, 135810, 135811, 135900, 135901, 136080, 136170, 136260, 136350, 136440, 136530, 136531, 136620, 136621, 136710, 136711, 136800, 136801, 137070, 137160, 137250, 137340, 137430, 137431, 137520, 137521, 137610, 137611, 137700, 137701, 138060, 138150, 138240, 138330, 138331, 138420, 138421, 138510, 138511, 138600, 138601, 139050, 139140, 139230, 139231, 139320, 139321, 139410, 139411, 139500, 139501, 140590, 140680, 140770, 140860, 140950, 141490, 141580, 141670, 141760, 141850, 141940, 142390, 142480, 142570, 142660, 142750, 142840, 142930, 142931, 143290, 143380, 143470, 143560, 143650, 143740, 143830, 143831, 143920, 143921, 144190, 144280, 144370, 144460, 144550, 144640, 144730, 144731, 144820, 144821, 144910, 144911, 145090, 145180, 145270, 145360, 145450, 145540, 145630, 145631, 145720, 145721, 145810, 145811, 145900, 145901, 146080, 146170, 146260, 146350, 146440, 146441, 146530, 146531, 146620, 146621, 146710, 146711, 146800, 146801, 147070, 147160, 147250, 147340, 147341, 147430, 147431, 147520, 147521, 147610, 147611, 147700, 147701, 148060, 148150, 148240, 148241, 148330, 148331, 148420, 148421, 148510, 148511, 148600, 148601, 149050, 149140, 149141, 149230, 149231, 149320, 149321, 149410, 149411, 149500, 149501, 150590, 150680, 150770, 150860, 150950, 151490, 151580, 151670, 151760, 151850, 151940, 151941, 152390, 152480, 152570, 152660, 152750, 152840, 152841, 152930, 152931, 153290, 153380, 153470, 153560, 153650, 153740, 153741, 153830, 153831, 153920, 153921, 154190, 154280, 154370, 154460, 154550, 154640, 154641, 154730, 154731, 154820, 154821, 154910, 154911, 155090, 155180, 155270, 155360, 155450, 155451, 155540, 155541, 155630, 155631, 155720, 155721, 155810, 155811, 155900, 155901, 156080, 156170, 156260, 156350, 156351, 156440, 156441, 156530, 156531, 156620, 156621, 156710, 156711, 156800, 156801, 157070, 157160, 157250, 157251, 157340, 157341, 157430, 157431, 157520, 157521, 157610, 157611, 157700, 157701, 158060, 158150, 158151, 158240, 158241, 158330, 158331, 158420, 158421, 158510, 158511, 158600, 158601, 159050, 159051, 159140, 159141, 159230, 159231, 159320, 159321, 159410, 159411, 159500, 159501, 160590, 160680, 160770, 160860, 160950, 160951, 161490, 161580, 161670, 161760, 161850, 161851, 161940, 161941, 162390, 162480, 162570, 162660, 162750, 162751, 162840, 162841, 162930, 162931, 163290, 163380, 163470, 163560, 163650, 163651, 163740, 163741, 163830, 163831, 163920, 163921, 164190, 164280, 164370, 164460, 164550, 164551, 164640, 164641, 164730, 164731, 164820, 164821, 164910, 164911, 165090, 165180, 165270, 165360, 165361, 165450, 165451, 165540, 165541, 165630, 165631, 165720, 165721, 165810, 165811, 165900, 165901, 166080, 166170, 166260, 166261, 166350, 166351, 166440, 166441, 166530, 166531, 166620, 166621, 166710, 166711, 166800, 166801, 167070, 167160, 167161, 167250, 167251, 167340, 167341, 167430, 167431, 167520, 167521, 167610, 167611, 167700, 167701, 168060, 168061, 168150, 168151, 168240, 168241, 168330, 168331, 168420, 168421, 168510, 168511, 168600, 168601, 169050, 169051, 169140, 169141, 169230, 169231, 169320, 169321, 169410, 169411, 169500, 169501, 170590, 170680, 170770, 170860, 170861, 170950, 170951, 171490, 171580, 171670, 171760, 171761, 171850, 171851, 171940, 171941, 172390, 172480, 172570, 172660, 172661, 172750, 172751, 172840, 172841, 172930, 172931, 173290, 173380, 173470, 173560, 173561, 173650, 173651, 173740, 173741, 173830, 173831, 173920, 173921, 174190, 174280, 174370, 174371, 174460, 174461, 174550, 174551, 174640, 174641, 174730, 174731, 174820, 174821, 174910, 174911, 175090, 175180, 175270, 175271, 175360, 175361, 175450, 175451, 175540, 175541, 175630, 175631, 175720, 175721, 175810, 175811, 175900, 175901, 176080, 176170, 176171, 176260, 176261, 176350, 176351, 176440, 176441, 176530, 176531, 176620, 176621, 176710, 176711, 176800, 176801, 177070, 177071, 177160, 177161, 177250, 177251, 177340, 177341, 177430, 177431, 177520, 177521, 177610, 177611, 177700, 177701, 178060, 178061, 178150, 178151, 178240, 178241, 178330, 178331, 178420, 178421, 178510, 178511, 178600, 178601, 179050, 179051, 179140, 179141, 179230, 179231, 179320, 179321, 179410, 179411, 179500, 179501, 180590, 180680, 180770, 180771, 180860, 180861, 180950, 180951, 181490, 181580, 181670, 181671, 181760, 181761, 181850, 181851, 181940, 181941, 182390, 182480, 182570, 182571, 182660, 182661, 182750, 182751, 182840, 182841, 182930, 182931, 183290, 183380, 183470, 183471, 183560, 183561, 183650, 183651, 183740, 183741, 183830, 183831, 183920, 183921, 184190, 184280, 184281, 184370, 184371, 184460, 184461, 184550, 184551, 184640, 184641, 184730, 184731, 184820, 184821, 184910, 184911, 185090, 185180, 185181, 185270, 185271, 185360, 185361, 185450, 185451, 185540, 185541, 185630, 185631, 185720, 185721, 185810, 185811, 185900, 185901, 186080, 186081, 186170, 186171, 186260, 186261, 186350, 186351, 186440, 186441, 186530, 186531, 186620, 186621, 186710, 186711, 186800, 186801, 187070, 187071, 187160, 187161, 187250, 187251, 187340, 187341, 187430, 187431, 187520, 187521, 187610, 187611, 187700, 187701, 188060, 188061, 188150, 188151, 188240, 188241, 188330, 188331, 188420, 188421, 188510, 188511, 188600, 188601, 189050, 189051, 189140, 189141, 189230, 189231, 189320, 189321, 189410, 189411, 189500, 189501, 190590, 190680, 190681, 190770, 190771, 190860, 190861, 190950, 190951, 191490, 191580, 191581, 191670, 191671, 191760, 191761, 191850, 191851, 191940, 191941, 192390, 192480, 192481, 192570, 192571, 192660, 192661, 192750, 192751, 192840, 192841, 192930, 192931, 193290, 193291, 193380, 193381, 193470, 193471, 193560, 193561, 193650, 193651, 193740, 193741, 193830, 193831, 193920, 193921, 194190, 194191, 194280, 194281, 194370, 194371, 194460, 194461, 194550, 194551, 194640, 194641, 194730, 194731, 194820, 194821, 194910, 194911, 195090, 195091, 195180, 195181, 195270, 195271, 195360, 195361, 195450, 195451, 195540, 195541, 195630, 195631, 195720, 195721, 195810, 195811, 195900, 195901, 196080, 196081, 196170, 196171, 196260, 196261, 196350, 196351, 196440, 196441, 196530, 196531, 196620, 196621, 196710, 196711, 196800, 196801, 197070, 197071, 197160, 197161, 197250, 197251, 197340, 197341, 197430, 197431, 197520, 197521, 197610, 197611, 197700, 197701, 198060, 198061, 198150, 198151, 198240, 198241, 198330, 198331, 198420, 198421, 198510, 198511, 198600, 198601, 199050, 199051, 199140, 199141, 199230, 199231, 199320, 199321, 199410, 199411, 199500, 199501, 200590, 200591, 200680, 200681, 200770, 200771, 200860, 200861, 200950, 200951, 201490, 201491, 201580, 201581, 201670, 201671, 201760, 201761, 201850, 201851, 201940, 201941, 202390, 202391, 202480, 202481, 202570, 202571, 202660, 202661, 202750, 202751, 202840, 202841, 202930, 202931, 203290, 203291, 203380, 203381, 203470, 203471, 203560, 203561, 203650, 203651, 203740, 203741, 203830, 203831, 203920, 203921, 204190, 204191, 204280, 204281, 204370, 204371, 204460, 204461, 204550, 204551, 204640, 204641, 204730, 204731, 204820, 204821, 204910, 204911, 205090, 205091, 205180, 205181, 205270, 205271, 205360, 205361, 205450, 205451, 205540, 205541, 205630, 205631, 205720, 205721, 205810, 205811, 205900, 205901, 206080, 206081, 206170, 206171, 206260, 206261, 206350, 206351, 206440, 206441, 206530, 206531, 206620, 206621, 206710, 206711, 206800, 206801, 207070, 207071, 207160, 207161, 207250, 207251, 207340, 207341, 207430, 207431, 207520, 207521, 207610, 207611, 207700, 207701, 208060, 208061, 208150, 208151, 208240, 208241, 208330, 208331, 208420, 208421, 208510, 208511, 208600, 208601, 208602, 209050, 209051, 209140, 209141, 209230, 209231, 209320, 209321, 209410, 209411, 209500, 209501, 209502, 210590, 210591, 210680, 210681, 210770, 210771, 210860, 210861, 210950, 210951, 211490, 211491, 211580, 211581, 211670, 211671, 211760, 211761, 211850, 211851, 211940, 211941, 212390, 212391, 212480, 212481, 212570, 212571, 212660, 212661, 212750, 212751, 212840, 212841, 212930, 212931, 213290, 213291, 213380, 213381, 213470, 213471, 213560, 213561, 213650, 213651, 213740, 213741, 213830, 213831, 213920, 213921, 214190, 214191, 214280, 214281, 214370, 214371, 214460, 214461, 214550, 214551, 214640, 214641, 214730, 214731, 214820, 214821, 214910, 214911, 215090, 215091, 215180, 215181, 215270, 215271, 215360, 215361, 215450, 215451, 215540, 215541, 215630, 215631, 215720, 215721, 215810, 215811, 215900, 215901, 215902, 216080, 216081, 216170, 216171, 216260, 216261, 216350, 216351, 216440, 216441, 216530, 216531, 216620, 216621, 216710, 216711, 216800, 216801, 216802, 217070, 217071, 217160, 217161, 217250, 217251, 217340, 217341, 217430, 217431, 217520, 217521, 217610, 217611, 217612, 217700, 217701, 217702, 218060, 218061, 218150, 218151, 218240, 218241, 218330, 218331, 218420, 218421, 218510, 218511, 218512, 218600, 218601, 218602, 219050, 219051, 219140, 219141, 219230, 219231, 219320, 219321, 219410, 219411, 219412, 219500, 219501, 219502, 220590, 220591, 220680, 220681, 220770, 220771, 220860, 220861, 220950, 220951, 221490, 221491, 221580, 221581, 221670, 221671, 221760, 221761, 221850, 221851, 221940, 221941, 222390, 222391, 222480, 222481, 222570, 222571, 222660, 222661, 222750, 222751, 222840, 222841, 222930, 222931, 223290, 223291, 223380, 223381, 223470, 223471, 223560, 223561, 223650, 223651, 223740, 223741, 223830, 223831, 223920, 223921, 224190, 224191, 224280, 224281, 224370, 224371, 224460, 224461, 224550, 224551, 224640, 224641, 224730, 224731, 224820, 224821, 224910, 224911, 224912, 225090, 225091, 225180, 225181, 225270, 225271, 225360, 225361, 225450, 225451, 225540, 225541, 225630, 225631, 225720, 225721, 225810, 225811, 225812, 225900, 225901, 225902, 226080, 226081, 226170, 226171, 226260, 226261, 226350, 226351, 226440, 226441, 226530, 226531, 226620, 226621, 226710, 226711, 226712, 226800, 226801, 226802, 227070, 227071, 227160, 227161, 227250, 227251, 227340, 227341, 227430, 227431, 227520, 227521, 227522, 227610, 227611, 227612, 227700, 227701, 227702, 228060, 228061, 228150, 228151, 228240, 228241, 228330, 228331, 228420, 228421, 228422, 228510, 228511, 228512, 228600, 228601, 228602, 229050, 229051, 229140, 229141, 229230, 229231, 229320, 229321, 229322, 229410, 229411, 229412, 229500, 229501, 229502, 230590, 230591, 230680, 230681, 230770, 230771, 230860, 230861, 230950, 230951, 231490, 231491, 231580, 231581, 231670, 231671, 231760, 231761, 231850, 231851, 231940, 231941, 232390, 232391, 232480, 232481, 232570, 232571, 232660, 232661, 232750, 232751, 232840, 232841, 232930, 232931, 233290, 233291, 233380, 233381, 233470, 233471, 233560, 233561, 233650, 233651, 233740, 233741, 233830, 233831, 233920, 233921, 233922, 234190, 234191, 234280, 234281, 234370, 234371, 234460, 234461, 234550, 234551, 234640, 234641, 234730, 234731, 234820, 234821, 234822, 234910, 234911, 234912, 235090, 235091, 235180, 235181, 235270, 235271, 235360, 235361, 235450, 235451, 235540, 235541, 235630, 235631, 235720, 235721, 235722, 235810, 235811, 235812, 235900, 235901, 235902, 236080, 236081, 236170, 236171, 236260, 236261, 236350, 236351, 236440, 236441, 236530, 236531, 236532, 236620, 236621, 236622, 236710, 236711, 236712, 236800, 236801, 236802, 237070, 237071, 237160, 237161, 237250, 237251, 237340, 237341, 237430, 237431, 237432, 237520, 237521, 237522, 237610, 237611, 237612, 237700, 237701, 237702, 238060, 238061, 238150, 238151, 238240, 238241, 238330, 238331, 238332, 238420, 238421, 238422, 238510, 238511, 238512, 238600, 238601, 238602, 239050, 239051, 239140, 239141, 239230, 239231, 239232, 239320, 239321, 239322, 239410, 239411, 239412, 239500, 239501, 239502, 240590, 240591, 240680, 240681, 240770, 240771, 240860, 240861, 240950, 240951, 241490, 241491, 241580, 241581, 241670, 241671, 241760, 241761, 241850, 241851, 241940, 241941, 242390, 242391, 242480, 242481, 242570, 242571, 242660, 242661, 242750, 242751, 242840, 242841, 242930, 242931, 242932, 243290, 243291, 243380, 243381, 243470, 243471, 243560, 243561, 243650, 243651, 243740, 243741, 243830, 243831, 243832, 243920, 243921, 243922, 244190, 244191, 244280, 244281, 244370, 244371, 244460, 244461, 244550, 244551, 244640, 244641, 244730, 244731, 244732, 244820, 244821, 244822, 244910, 244911, 244912, 245090, 245091, 245180, 245181, 245270, 245271, 245360, 245361, 245450, 245451, 245540, 245541, 245630, 245631, 245632, 245720, 245721, 245722, 245810, 245811, 245812, 245900, 245901, 245902, 246080, 246081, 246170, 246171, 246260, 246261, 246350, 246351, 246440, 246441, 246442, 246530, 246531, 246532, 246620, 246621, 246622, 246710, 246711, 246712, 246800, 246801, 246802, 247070, 247071, 247160, 247161, 247250, 247251, 247340, 247341, 247342, 247430, 247431, 247432, 247520, 247521, 247522, 247610, 247611, 247612, 247700, 247701, 247702, 248060, 248061, 248150, 248151, 248240, 248241, 248242, 248330, 248331, 248332, 248420, 248421, 248422, 248510, 248511, 248512, 248600, 248601, 248602, 249050, 249051, 249140, 249141, 249142, 249230, 249231, 249232, 249320, 249321, 249322, 249410, 249411, 249412, 249500, 249501, 249502, 250590, 250591, 250680, 250681, 250770, 250771, 250860, 250861, 250950, 250951, 251490, 251491, 251580, 251581, 251670, 251671, 251760, 251761, 251850, 251851, 251940, 251941, 251942, 252390, 252391, 252480, 252481, 252570, 252571, 252660, 252661, 252750, 252751, 252840, 252841, 252842, 252930, 252931, 252932, 253290, 253291, 253380, 253381, 253470, 253471, 253560, 253561, 253650, 253651, 253740, 253741, 253742, 253830, 253831, 253832, 253920, 253921, 253922, 254190, 254191, 254280, 254281, 254370, 254371, 254460, 254461, 254550, 254551, 254640, 254641, 254642, 254730, 254731, 254732, 254820, 254821, 254822, 254910, 254911, 254912, 255090, 255091, 255180, 255181, 255270, 255271, 255360, 255361, 255450, 255451, 255452, 255540, 255541, 255542, 255630, 255631, 255632, 255720, 255721, 255722, 255810, 255811, 255812, 255900, 255901, 255902, 256080, 256081, 256170, 256171, 256260, 256261, 256350, 256351, 256352, 256440, 256441, 256442, 256530, 256531, 256532, 256620, 256621, 256622, 256710, 256711, 256712, 256800, 256801, 256802, 257070, 257071, 257160, 257161, 257250, 257251, 257252, 257340, 257341, 257342, 257430, 257431, 257432, 257520, 257521, 257522, 257610, 257611, 257612, 257700, 257701, 257702, 258060, 258061, 258150, 258151, 258152, 258240, 258241, 258242, 258330, 258331, 258332, 258420, 258421, 258422, 258510, 258511, 258512, 258600, 258601, 258602, 259050, 259051, 259052, 259140, 259141, 259142, 259230, 259231, 259232, 259320, 259321, 259322, 259410, 259411, 259412, 259500, 259501, 259502, 260590, 260591, 260680, 260681, 260770, 260771, 260860, 260861, 260950, 260951, 260952, 261490, 261491, 261580, 261581, 261670, 261671, 261760, 261761, 261850, 261851, 261852, 261940, 261941, 261942, 262390, 262391, 262480, 262481, 262570, 262571, 262660, 262661, 262750, 262751, 262752, 262840, 262841, 262842, 262930, 262931, 262932, 263290, 263291, 263380, 263381, 263470, 263471, 263560, 263561, 263650, 263651, 263652, 263740, 263741, 263742, 263830, 263831, 263832, 263920, 263921, 263922, 264190, 264191, 264280, 264281, 264370, 264371, 264460, 264461, 264550, 264551, 264552, 264640, 264641, 264642, 264730, 264731, 264732, 264820, 264821, 264822, 264910, 264911, 264912, 265090, 265091, 265180, 265181, 265270, 265271, 265360, 265361, 265362, 265450, 265451, 265452, 265540, 265541, 265542, 265630, 265631, 265632, 265720, 265721, 265722, 265810, 265811, 265812, 265900, 265901, 265902, 266080, 266081, 266170, 266171, 266260, 266261, 266262, 266350, 266351, 266352, 266440, 266441, 266442, 266530, 266531, 266532, 266620, 266621, 266622, 266710, 266711, 266712, 266800, 266801, 266802, 267070, 267071, 267160, 267161, 267162, 267250, 267251, 267252, 267340, 267341, 267342, 267430, 267431, 267432, 267520, 267521, 267522, 267610, 267611, 267612, 267700, 267701, 267702, 268060, 268061, 268062, 268150, 268151, 268152, 268240, 268241, 268242, 268330, 268331, 268332, 268420, 268421, 268422, 268510, 268511, 268512, 268600, 268601, 268602, 269050, 269051, 269052, 269140, 269141, 269142, 269230, 269231, 269232, 269320, 269321, 269322, 269410, 269411, 269412, 269500, 269501, 269502, 270590, 270591, 270680, 270681, 270770, 270771, 270860, 270861, 270862, 270950, 270951, 270952, 271490, 271491, 271580, 271581, 271670, 271671, 271760, 271761, 271762, 271850, 271851, 271852, 271940, 271941, 271942, 272390, 272391, 272480, 272481, 272570, 272571, 272660, 272661, 272662, 272750, 272751, 272752, 272840, 272841, 272842, 272930, 272931, 272932, 273290, 273291, 273380, 273381, 273470, 273471, 273560, 273561, 273562, 273650, 273651, 273652, 273740, 273741, 273742, 273830, 273831, 273832, 273920, 273921, 273922, 274190, 274191, 274280, 274281, 274370, 274371, 274372, 274460, 274461, 274462, 274550, 274551, 274552, 274640, 274641, 274642, 274730, 274731, 274732, 274820, 274821, 274822, 274910, 274911, 274912, 275090, 275091, 275180, 275181, 275270, 275271, 275272, 275360, 275361, 275362, 275450, 275451, 275452, 275540, 275541, 275542, 275630, 275631, 275632, 275720, 275721, 275722, 275810, 275811, 275812, 275900, 275901, 275902, 276080, 276081, 276170, 276171, 276172, 276260, 276261, 276262, 276350, 276351, 276352, 276440, 276441, 276442, 276530, 276531, 276532, 276620, 276621, 276622, 276710, 276711, 276712, 276800, 276801, 276802, 277070, 277071, 277072, 277160, 277161, 277162, 277250, 277251, 277252, 277340, 277341, 277342, 277430, 277431, 277432, 277520, 277521, 277522, 277610, 277611, 277612, 277700, 277701, 277702, 278060, 278061, 278062, 278150, 278151, 278152, 278240, 278241, 278242, 278330, 278331, 278332, 278420, 278421, 278422, 278510, 278511, 278512, 278600, 278601, 278602, 279050, 279051, 279052, 279140, 279141, 279142, 279230, 279231, 279232, 279320, 279321, 279322, 279410, 279411, 279412, 279500, 279501, 279502, 280590, 280591, 280680, 280681, 280770, 280771, 280772, 280860, 280861, 280862, 280950, 280951, 280952, 281490, 281491, 281580, 281581, 281670, 281671, 281672, 281760, 281761, 281762, 281850, 281851, 281852, 281940, 281941, 281942, 282390, 282391, 282480, 282481, 282570, 282571, 282572, 282660, 282661, 282662, 282750, 282751, 282752, 282840, 282841, 282842, 282930, 282931, 282932, 283290, 283291, 283380, 283381, 283470, 283471, 283472, 283560, 283561, 283562, 283650, 283651, 283652, 283740, 283741, 283742, 283830, 283831, 283832, 283920, 283921, 283922, 284190, 284191, 284280, 284281, 284282, 284370, 284371, 284372, 284460, 284461, 284462, 284550, 284551, 284552, 284640, 284641, 284642, 284730, 284731, 284732, 284820, 284821, 284822, 284910, 284911, 284912, 285090, 285091, 285180, 285181, 285182, 285270, 285271, 285272, 285360, 285361, 285362, 285450, 285451, 285452, 285540, 285541, 285542, 285630, 285631, 285632, 285720, 285721, 285722, 285810, 285811, 285812, 285900, 285901, 285902, 286080, 286081, 286082, 286170, 286171, 286172, 286260, 286261, 286262, 286350, 286351, 286352, 286440, 286441, 286442, 286530, 286531, 286532, 286620, 286621, 286622, 286710, 286711, 286712, 286800, 286801, 286802, 287070, 287071, 287072, 287160, 287161, 287162, 287250, 287251, 287252, 287340, 287341, 287342, 287430, 287431, 287432, 287520, 287521, 287522, 287610, 287611, 287612, 287700, 287701, 287702, 288060, 288061, 288062, 288150, 288151, 288152, 288240, 288241, 288242, 288330, 288331, 288332, 288420, 288421, 288422, 288510, 288511, 288512, 288600, 288601, 288602, 289050, 289051, 289052, 289140, 289141, 289142, 289230, 289231, 289232, 289320, 289321, 289322, 289410, 289411, 289412, 289500, 289501, 289502, 290590, 290591, 290680, 290681, 290682, 290770, 290771, 290772, 290860, 290861, 290862, 290950, 290951, 290952, 291490, 291491, 291580, 291581, 291582, 291670, 291671, 291672, 291760, 291761, 291762, 291850, 291851, 291852, 291940, 291941, 291942, 292390, 292391, 292480, 292481, 292482, 292570, 292571, 292572, 292660, 292661, 292662, 292750, 292751, 292752, 292840, 292841, 292842, 292930, 292931, 292932, 293290, 293291, 293292, 293380, 293381, 293382, 293470, 293471, 293472, 293560, 293561, 293562, 293650, 293651, 293652, 293740, 293741, 293742, 293830, 293831, 293832, 293920, 293921, 293922, 294190, 294191, 294192, 294280, 294281, 294282, 294370, 294371, 294372, 294460, 294461, 294462, 294550, 294551, 294552, 294640, 294641, 294642, 294730, 294731, 294732, 294820, 294821, 294822, 294910, 294911, 294912, 295090, 295091, 295092, 295180, 295181, 295182, 295270, 295271, 295272, 295360, 295361, 295362, 295450, 295451, 295452, 295540, 295541, 295542, 295630, 295631, 295632, 295720, 295721, 295722, 295810, 295811, 295812, 295900, 295901, 295902, 296080, 296081, 296082, 296170, 296171, 296172, 296260, 296261, 296262, 296350, 296351, 296352, 296440, 296441, 296442, 296530, 296531, 296532, 296620, 296621, 296622, 296710, 296711, 296712, 296800, 296801, 296802, 297070, 297071, 297072, 297160, 297161, 297162, 297250, 297251, 297252, 297340, 297341, 297342, 297430, 297431, 297432, 297520, 297521, 297522, 297610, 297611, 297612, 297700, 297701, 297702, 298060, 298061, 298062, 298150, 298151, 298152, 298240, 298241, 298242, 298330, 298331, 298332, 298420, 298421, 298422, 298510, 298511, 298512, 298600, 298601, 298602, 299050, 299051, 299052, 299140, 299141, 299142, 299230, 299231, 299232, 299320, 299321, 299322, 299410, 299411, 299412, 299500, 299501, 299502, 300590, 300591, 300592, 300680, 300681, 300682, 300770, 300771, 300772, 300860, 300861, 300862, 300950, 300951, 300952, 301490, 301491, 301492, 301580, 301581, 301582, 301670, 301671, 301672, 301760, 301761, 301762, 301850, 301851, 301852, 301940, 301941, 301942, 302390, 302391, 302392, 302480, 302481, 302482, 302570, 302571, 302572, 302660, 302661, 302662, 302750, 302751, 302752, 302840, 302841, 302842, 302930, 302931, 302932, 303290, 303291, 303292, 303380, 303381, 303382, 303470, 303471, 303472, 303560, 303561, 303562, 303650, 303651, 303652, 303740, 303741, 303742, 303830, 303831, 303832, 303920, 303921, 303922, 304190, 304191, 304192, 304280, 304281, 304282, 304370, 304371, 304372, 304460, 304461, 304462, 304550, 304551, 304552, 304640, 304641, 304642, 304730, 304731, 304732, 304820, 304821, 304822, 304910, 304911, 304912, 305090, 305091, 305092, 305180, 305181, 305182, 305270, 305271, 305272, 305360, 305361, 305362, 305450, 305451, 305452, 305540, 305541, 305542, 305630, 305631, 305632, 305720, 305721, 305722, 305810, 305811, 305812, 305900, 305901, 305902, 306080, 306081, 306082, 306170, 306171, 306172, 306260, 306261, 306262, 306350, 306351, 306352, 306440, 306441, 306442, 306530, 306531, 306532, 306620, 306621, 306622, 306710, 306711, 306712, 306800, 306801, 306802, 307070, 307071, 307072, 307160, 307161, 307162, 307250, 307251, 307252, 307340, 307341, 307342, 307430, 307431, 307432, 307520, 307521, 307522, 307610, 307611, 307612, 307700, 307701, 307702, 308060, 308061, 308062, 308150, 308151, 308152, 308240, 308241, 308242, 308330, 308331, 308332, 308420, 308421, 308422, 308510, 308511, 308512, 308600, 308601, 308602, 308603, 309050, 309051, 309052, 309140, 309141, 309142, 309230, 309231, 309232, 309320, 309321, 309322, 309410, 309411, 309412, 309500, 309501, 309502, 309503, 310590, 310591, 310592, 310680, 310681, 310682, 310770, 310771, 310772, 310860, 310861, 310862, 310950, 310951, 310952, 311490, 311491, 311492, 311580, 311581, 311582, 311670, 311671, 311672, 311760, 311761, 311762, 311850, 311851, 311852, 311940, 311941, 311942, 312390, 312391, 312392, 312480, 312481, 312482, 312570, 312571, 312572, 312660, 312661, 312662, 312750, 312751, 312752, 312840, 312841, 312842, 312930, 312931, 312932, 313290, 313291, 313292, 313380, 313381, 313382, 313470, 313471, 313472, 313560, 313561, 313562, 313650, 313651, 313652, 313740, 313741, 313742, 313830, 313831, 313832, 313920, 313921, 313922, 314190, 314191, 314192, 314280, 314281, 314282, 314370, 314371, 314372, 314460, 314461, 314462, 314550, 314551, 314552, 314640, 314641, 314642, 314730, 314731, 314732, 314820, 314821, 314822, 314910, 314911, 314912, 315090, 315091, 315092, 315180, 315181, 315182, 315270, 315271, 315272, 315360, 315361, 315362, 315450, 315451, 315452, 315540, 315541, 315542, 315630, 315631, 315632, 315720, 315721, 315722, 315810, 315811, 315812, 315900, 315901, 315902, 315903, 316080, 316081, 316082, 316170, 316171, 316172, 316260, 316261, 316262, 316350, 316351, 316352, 316440, 316441, 316442, 316530, 316531, 316532, 316620, 316621, 316622, 316710, 316711, 316712, 316800, 316801, 316802, 316803, 317070, 317071, 317072, 317160, 317161, 317162, 317250, 317251, 317252, 317340, 317341, 317342, 317430, 317431, 317432, 317520, 317521, 317522, 317610, 317611, 317612, 317613, 317700, 317701, 317702, 317703, 318060, 318061, 318062, 318150, 318151, 318152, 318240, 318241, 318242, 318330, 318331, 318332, 318420, 318421, 318422, 318510, 318511, 318512, 318513, 318600, 318601, 318602, 318603, 319050, 319051, 319052, 319140, 319141, 319142, 319230, 319231, 319232, 319320, 319321, 319322, 319410, 319411, 319412, 319413, 319500, 319501, 319502, 319503, 320590, 320591, 320592, 320680, 320681, 320682, 320770, 320771, 320772, 320860, 320861, 320862, 320950, 320951, 320952, 321490, 321491, 321492, 321580, 321581, 321582, 321670, 321671, 321672, 321760, 321761, 321762, 321850, 321851, 321852, 321940, 321941, 321942, 322390, 322391, 322392, 322480, 322481, 322482, 322570, 322571, 322572, 322660, 322661, 322662, 322750, 322751, 322752, 322840, 322841, 322842, 322930, 322931, 322932, 323290, 323291, 323292, 323380, 323381, 323382, 323470, 323471, 323472, 323560, 323561, 323562, 323650, 323651, 323652, 323740, 323741, 323742, 323830, 323831, 323832, 323920, 323921, 323922, 324190, 324191, 324192, 324280, 324281, 324282, 324370, 324371, 324372, 324460, 324461, 324462, 324550, 324551, 324552, 324640, 324641, 324642, 324730, 324731, 324732, 324820, 324821, 324822, 324910, 324911, 324912, 324913, 325090, 325091, 325092, 325180, 325181, 325182, 325270, 325271, 325272, 325360, 325361, 325362, 325450, 325451, 325452, 325540, 325541, 325542, 325630, 325631, 325632, 325720, 325721, 325722, 325810, 325811, 325812, 325813, 325900, 325901, 325902, 325903, 326080, 326081, 326082, 326170, 326171, 326172, 326260, 326261, 326262, 326350, 326351, 326352, 326440, 326441, 326442, 326530, 326531, 326532, 326620, 326621, 326622, 326710, 326711, 326712, 326713, 326800, 326801, 326802, 326803, 327070, 327071, 327072, 327160, 327161, 327162, 327250, 327251, 327252, 327340, 327341, 327342, 327430, 327431, 327432, 327520, 327521, 327522, 327523, 327610, 327611, 327612, 327613, 327700, 327701, 327702, 327703, 328060, 328061, 328062, 328150, 328151, 328152, 328240, 328241, 328242, 328330, 328331, 328332, 328420, 328421, 328422, 328423, 328510, 328511, 328512, 328513, 328600, 328601, 328602, 328603, 329050, 329051, 329052, 329140, 329141, 329142, 329230, 329231, 329232, 329320, 329321, 329322, 329323, 329410, 329411, 329412, 329413, 329500, 329501, 329502, 329503, 330590, 330591, 330592, 330680, 330681, 330682, 330770, 330771, 330772, 330860, 330861, 330862, 330950, 330951, 330952, 331490, 331491, 331492, 331580, 331581, 331582, 331670, 331671, 331672, 331760, 331761, 331762, 331850, 331851, 331852, 331940, 331941, 331942, 332390, 332391, 332392, 332480, 332481, 332482, 332570, 332571, 332572, 332660, 332661, 332662, 332750, 332751, 332752, 332840, 332841, 332842, 332930, 332931, 332932, 333290, 333291, 333292, 333380, 333381, 333382, 333470, 333471, 333472, 333560, 333561, 333562, 333650, 333651, 333652, 333740, 333741, 333742, 333830, 333831, 333832, 333920, 333921, 333922, 333923, 334190, 334191, 334192, 334280, 334281, 334282, 334370, 334371, 334372, 334460, 334461, 334462, 334550, 334551, 334552, 334640, 334641, 334642, 334730, 334731, 334732, 334820, 334821, 334822, 334823, 334910, 334911, 334912, 334913, 335090, 335091, 335092, 335180, 335181, 335182, 335270, 335271, 335272, 335360, 335361, 335362, 335450, 335451, 335452, 335540, 335541, 335542, 335630, 335631, 335632, 335720, 335721, 335722, 335723, 335810, 335811, 335812, 335813, 335900, 335901, 335902, 335903, 336080, 336081, 336082, 336170, 336171, 336172, 336260, 336261, 336262, 336350, 336351, 336352, 336440, 336441, 336442, 336530, 336531, 336532, 336533, 336620, 336621, 336622, 336623, 336710, 336711, 336712, 336713, 336800, 336801, 336802, 336803, 337070, 337071, 337072, 337160, 337161, 337162, 337250, 337251, 337252, 337340, 337341, 337342, 337430, 337431, 337432, 337433, 337520, 337521, 337522, 337523, 337610, 337611, 337612, 337613, 337700, 337701, 337702, 337703, 338060, 338061, 338062, 338150, 338151, 338152, 338240, 338241, 338242, 338330, 338331, 338332, 338333, 338420, 338421, 338422, 338423, 338510, 338511, 338512, 338513, 338600, 338601, 338602, 338603, 339050, 339051, 339052, 339140, 339141, 339142, 339230, 339231, 339232, 339233, 339320, 339321, 339322, 339323, 339410, 339411, 339412, 339413, 339500, 339501, 339502, 339503, 340590, 340591, 340592, 340680, 340681, 340682, 340770, 340771, 340772, 340860, 340861, 340862, 340950, 340951, 340952, 341490, 341491, 341492, 341580, 341581, 341582, 341670, 341671, 341672, 341760, 341761, 341762, 341850, 341851, 341852, 341940, 341941, 341942, 342390, 342391, 342392, 342480, 342481, 342482, 342570, 342571, 342572, 342660, 342661, 342662, 342750, 342751, 342752, 342840, 342841, 342842, 342930, 342931, 342932, 342933, 343290, 343291, 343292, 343380, 343381, 343382, 343470, 343471, 343472, 343560, 343561, 343562, 343650, 343651, 343652, 343740, 343741, 343742, 343830, 343831, 343832, 343833, 343920, 343921, 343922, 343923, 344190, 344191, 344192, 344280, 344281, 344282, 344370, 344371, 344372, 344460, 344461, 344462, 344550, 344551, 344552, 344640, 344641, 344642, 344730, 344731, 344732, 344733, 344820, 344821, 344822, 344823, 344910, 344911, 344912, 344913, 345090, 345091, 345092, 345180, 345181, 345182, 345270, 345271, 345272, 345360, 345361, 345362, 345450, 345451, 345452, 345540, 345541, 345542, 345630, 345631, 345632, 345633, 345720, 345721, 345722, 345723, 345810, 345811, 345812, 345813, 345900, 345901, 345902, 345903, 346080, 346081, 346082, 346170, 346171, 346172, 346260, 346261, 346262, 346350, 346351, 346352, 346440, 346441, 346442, 346443, 346530, 346531, 346532, 346533, 346620, 346621, 346622, 346623, 346710, 346711, 346712, 346713, 346800, 346801, 346802, 346803, 347070, 347071, 347072, 347160, 347161, 347162, 347250, 347251, 347252, 347340, 347341, 347342, 347343, 347430, 347431, 347432, 347433, 347520, 347521, 347522, 347523, 347610, 347611, 347612, 347613, 347700, 347701, 347702, 347703, 348060, 348061, 348062, 348150, 348151, 348152, 348240, 348241, 348242, 348243, 348330, 348331, 348332, 348333, 348420, 348421, 348422, 348423, 348510, 348511, 348512, 348513, 348600, 348601, 348602, 348603, 349050, 349051, 349052, 349140, 349141, 349142, 349143, 349230, 349231, 349232, 349233, 349320, 349321, 349322, 349323, 349410, 349411, 349412, 349413, 349500, 349501, 349502, 349503, 350590, 350591, 350592, 350680, 350681, 350682, 350770, 350771, 350772, 350860, 350861, 350862, 350950, 350951, 350952, 351490, 351491, 351492, 351580, 351581, 351582, 351670, 351671, 351672, 351760, 351761, 351762, 351850, 351851, 351852, 351940, 351941, 351942, 351943, 352390, 352391, 352392, 352480, 352481, 352482, 352570, 352571, 352572, 352660, 352661, 352662, 352750, 352751, 352752, 352840, 352841, 352842, 352843, 352930, 352931, 352932, 352933, 353290, 353291, 353292, 353380, 353381, 353382, 353470, 353471, 353472, 353560, 353561, 353562, 353650, 353651, 353652, 353740, 353741, 353742, 353743, 353830, 353831, 353832, 353833, 353920, 353921, 353922, 353923, 354190, 354191, 354192, 354280, 354281, 354282, 354370, 354371, 354372, 354460, 354461, 354462, 354550, 354551, 354552, 354640, 354641, 354642, 354643, 354730, 354731, 354732, 354733, 354820, 354821, 354822, 354823, 354910, 354911, 354912, 354913, 355090, 355091, 355092, 355180, 355181, 355182, 355270, 355271, 355272, 355360, 355361, 355362, 355450, 355451, 355452, 355453, 355540, 355541, 355542, 355543, 355630, 355631, 355632, 355633, 355720, 355721, 355722, 355723, 355810, 355811, 355812, 355813, 355900, 355901, 355902, 355903, 356080, 356081, 356082, 356170, 356171, 356172, 356260, 356261, 356262, 356350, 356351, 356352, 356353, 356440, 356441, 356442, 356443, 356530, 356531, 356532, 356533, 356620, 356621, 356622, 356623, 356710, 356711, 356712, 356713, 356800, 356801, 356802, 356803, 357070, 357071, 357072, 357160, 357161, 357162, 357250, 357251, 357252, 357253, 357340, 357341, 357342, 357343, 357430, 357431, 357432, 357433, 357520, 357521, 357522, 357523, 357610, 357611, 357612, 357613, 357700, 357701, 357702, 357703, 358060, 358061, 358062, 358150, 358151, 358152, 358153, 358240, 358241, 358242, 358243, 358330, 358331, 358332, 358333, 358420, 358421, 358422, 358423, 358510, 358511, 358512, 358513, 358600, 358601, 358602, 358603, 359050, 359051, 359052, 359053, 359140, 359141, 359142, 359143, 359230, 359231, 359232, 359233, 359320, 359321, 359322, 359323, 359410, 359411, 359412, 359413, 359500, 359501, 359502, 359503, 360590, 360591, 360592, 360680, 360681, 360682, 360770, 360771, 360772, 360860, 360861, 360862, 360950, 360951, 360952, 360953, 361490, 361491, 361492, 361580, 361581, 361582, 361670, 361671, 361672, 361760, 361761, 361762, 361850, 361851, 361852, 361853, 361940, 361941, 361942, 361943, 362390, 362391, 362392, 362480, 362481, 362482, 362570, 362571, 362572, 362660, 362661, 362662, 362750, 362751, 362752, 362753, 362840, 362841, 362842, 362843, 362930, 362931, 362932, 362933, 363290, 363291, 363292, 363380, 363381, 363382, 363470, 363471, 363472, 363560, 363561, 363562, 363650, 363651, 363652, 363653, 363740, 363741, 363742, 363743, 363830, 363831, 363832, 363833, 363920, 363921, 363922, 363923, 364190, 364191, 364192, 364280, 364281, 364282, 364370, 364371, 364372, 364460, 364461, 364462, 364550, 364551, 364552, 364553, 364640, 364641, 364642, 364643, 364730, 364731, 364732, 364733, 364820, 364821, 364822, 364823, 364910, 364911, 364912, 364913, 365090, 365091, 365092, 365180, 365181, 365182, 365270, 365271, 365272, 365360, 365361, 365362, 365363, 365450, 365451, 365452, 365453, 365540, 365541, 365542, 365543, 365630, 365631, 365632, 365633, 365720, 365721, 365722, 365723, 365810, 365811, 365812, 365813, 365900, 365901, 365902, 365903, 366080, 366081, 366082, 366170, 366171, 366172, 366260, 366261, 366262, 366263, 366350, 366351, 366352, 366353, 366440, 366441, 366442, 366443, 366530, 366531, 366532, 366533, 366620, 366621, 366622, 366623, 366710, 366711, 366712, 366713, 366800, 366801, 366802, 366803, 367070, 367071, 367072, 367160, 367161, 367162, 367163, 367250, 367251, 367252, 367253, 367340, 367341, 367342, 367343, 367430, 367431, 367432, 367433, 367520, 367521, 367522, 367523, 367610, 367611, 367612, 367613, 367700, 367701, 367702, 367703, 368060, 368061, 368062, 368063, 368150, 368151, 368152, 368153, 368240, 368241, 368242, 368243, 368330, 368331, 368332, 368333, 368420, 368421, 368422, 368423, 368510, 368511, 368512, 368513, 368600, 368601, 368602, 368603, 369050, 369051, 369052, 369053, 369140, 369141, 369142, 369143, 369230, 369231, 369232, 369233, 369320, 369321, 369322, 369323, 369410, 369411, 369412, 369413, 369500, 369501, 369502, 369503, 370590, 370591, 370592, 370680, 370681, 370682, 370770, 370771, 370772, 370860, 370861, 370862, 370863, 370950, 370951, 370952, 370953, 371490, 371491, 371492, 371580, 371581, 371582, 371670, 371671, 371672, 371760, 371761, 371762, 371763, 371850, 371851, 371852, 371853, 371940, 371941, 371942, 371943, 372390, 372391, 372392, 372480, 372481, 372482, 372570, 372571, 372572, 372660, 372661, 372662, 372663, 372750, 372751, 372752, 372753, 372840, 372841, 372842, 372843, 372930, 372931, 372932, 372933, 373290, 373291, 373292, 373380, 373381, 373382, 373470, 373471, 373472, 373560, 373561, 373562, 373563, 373650, 373651, 373652, 373653, 373740, 373741, 373742, 373743, 373830, 373831, 373832, 373833, 373920, 373921, 373922, 373923, 374190, 374191, 374192, 374280, 374281, 374282, 374370, 374371, 374372, 374373, 374460, 374461, 374462, 374463, 374550, 374551, 374552, 374553, 374640, 374641, 374642, 374643, 374730, 374731, 374732, 374733, 374820, 374821, 374822, 374823, 374910, 374911, 374912, 374913, 375090, 375091, 375092, 375180, 375181, 375182, 375270, 375271, 375272, 375273, 375360, 375361, 375362, 375363, 375450, 375451, 375452, 375453, 375540, 375541, 375542, 375543, 375630, 375631, 375632, 375633, 375720, 375721, 375722, 375723, 375810, 375811, 375812, 375813, 375900, 375901, 375902, 375903, 376080, 376081, 376082, 376170, 376171, 376172, 376173, 376260, 376261, 376262, 376263, 376350, 376351, 376352, 376353, 376440, 376441, 376442, 376443, 376530, 376531, 376532, 376533, 376620, 376621, 376622, 376623, 376710, 376711, 376712, 376713, 376800, 376801, 376802, 376803, 377070, 377071, 377072, 377073, 377160, 377161, 377162, 377163, 377250, 377251, 377252, 377253, 377340, 377341, 377342, 377343, 377430, 377431, 377432, 377433, 377520, 377521, 377522, 377523, 377610, 377611, 377612, 377613, 377700, 377701, 377702, 377703, 378060, 378061, 378062, 378063, 378150, 378151, 378152, 378153, 378240, 378241, 378242, 378243, 378330, 378331, 378332, 378333, 378420, 378421, 378422, 378423, 378510, 378511, 378512, 378513, 378600, 378601, 378602, 378603, 379050, 379051, 379052, 379053, 379140, 379141, 379142, 379143, 379230, 379231, 379232, 379233, 379320, 379321, 379322, 379323, 379410, 379411, 379412, 379413, 379500, 379501, 379502, 379503, 380590, 380591, 380592, 380680, 380681, 380682, 380770, 380771, 380772, 380773, 380860, 380861, 380862, 380863, 380950, 380951, 380952, 380953, 381490, 381491, 381492, 381580, 381581, 381582, 381670, 381671, 381672, 381673, 381760, 381761, 381762, 381763, 381850, 381851, 381852, 381853, 381940, 381941, 381942, 381943, 382390, 382391, 382392, 382480, 382481, 382482, 382570, 382571, 382572, 382573, 382660, 382661, 382662, 382663, 382750, 382751, 382752, 382753, 382840, 382841, 382842, 382843, 382930, 382931, 382932, 382933, 383290, 383291, 383292, 383380, 383381, 383382, 383470, 383471, 383472, 383473, 383560, 383561, 383562, 383563, 383650, 383651, 383652, 383653, 383740, 383741, 383742, 383743, 383830, 383831, 383832, 383833, 383920, 383921, 383922, 383923, 384190, 384191, 384192, 384280, 384281, 384282, 384283, 384370, 384371, 384372, 384373, 384460, 384461, 384462, 384463, 384550, 384551, 384552, 384553, 384640, 384641, 384642, 384643, 384730, 384731, 384732, 384733, 384820, 384821, 384822, 384823, 384910, 384911, 384912, 384913, 385090, 385091, 385092, 385180, 385181, 385182, 385183, 385270, 385271, 385272, 385273, 385360, 385361, 385362, 385363, 385450, 385451, 385452, 385453, 385540, 385541, 385542, 385543, 385630, 385631, 385632, 385633, 385720, 385721, 385722, 385723, 385810, 385811, 385812, 385813, 385900, 385901, 385902, 385903, 386080, 386081, 386082, 386083, 386170, 386171, 386172, 386173, 386260, 386261, 386262, 386263, 386350, 386351, 386352, 386353, 386440, 386441, 386442, 386443, 386530, 386531, 386532, 386533, 386620, 386621, 386622, 386623, 386710, 386711, 386712, 386713, 386800, 386801, 386802, 386803, 387070, 387071, 387072, 387073, 387160, 387161, 387162, 387163, 387250, 387251, 387252, 387253, 387340, 387341, 387342, 387343, 387430, 387431, 387432, 387433, 387520, 387521, 387522, 387523, 387610, 387611, 387612, 387613, 387700, 387701, 387702, 387703, 388060, 388061, 388062, 388063, 388150, 388151, 388152, 388153, 388240, 388241, 388242, 388243, 388330, 388331, 388332, 388333, 388420, 388421, 388422, 388423, 388510, 388511, 388512, 388513, 388600, 388601, 388602, 388603, 389050, 389051, 389052, 389053, 389140, 389141, 389142, 389143, 389230, 389231, 389232, 389233, 389320, 389321, 389322, 389323, 389410, 389411, 389412, 389413, 389500, 389501, 389502, 389503, 390590, 390591, 390592, 390680, 390681, 390682, 390683, 390770, 390771, 390772, 390773, 390860, 390861, 390862, 390863, 390950, 390951, 390952, 390953, 391490, 391491, 391492, 391580, 391581, 391582, 391583, 391670, 391671, 391672, 391673, 391760, 391761, 391762, 391763, 391850, 391851, 391852, 391853, 391940, 391941, 391942, 391943, 392390, 392391, 392392, 392480, 392481, 392482, 392483, 392570, 392571, 392572, 392573, 392660, 392661, 392662, 392663, 392750, 392751, 392752, 392753, 392840, 392841, 392842, 392843, 392930, 392931, 392932, 392933, 393290, 393291, 393292, 393293, 393380, 393381, 393382, 393383, 393470, 393471, 393472, 393473, 393560, 393561, 393562, 393563, 393650, 393651, 393652, 393653, 393740, 393741, 393742, 393743, 393830, 393831, 393832, 393833, 393920, 393921, 393922, 393923, 394190, 394191, 394192, 394193, 394280, 394281, 394282, 394283, 394370, 394371, 394372, 394373, 394460, 394461, 394462, 394463, 394550, 394551, 394552, 394553, 394640, 394641, 394642, 394643, 394730, 394731, 394732, 394733, 394820, 394821, 394822, 394823, 394910, 394911, 394912, 394913, 395090, 395091, 395092, 395093, 395180, 395181, 395182, 395183, 395270, 395271, 395272, 395273, 395360, 395361, 395362, 395363, 395450, 395451, 395452, 395453, 395540, 395541, 395542, 395543, 395630, 395631, 395632, 395633, 395720, 395721, 395722, 395723, 395810, 395811, 395812, 395813, 395900, 395901, 395902, 395903, 396080, 396081, 396082, 396083, 396170, 396171, 396172, 396173, 396260, 396261, 396262, 396263, 396350, 396351, 396352, 396353, 396440, 396441, 396442, 396443, 396530, 396531, 396532, 396533, 396620, 396621, 396622, 396623, 396710, 396711, 396712, 396713, 396800, 396801, 396802, 396803, 397070, 397071, 397072, 397073, 397160, 397161, 397162, 397163, 397250, 397251, 397252, 397253, 397340, 397341, 397342, 397343, 397430, 397431, 397432, 397433, 397520, 397521, 397522, 397523, 397610, 397611, 397612, 397613, 397700, 397701, 397702, 397703, 398060, 398061, 398062, 398063, 398150, 398151, 398152, 398153, 398240, 398241, 398242, 398243, 398330, 398331, 398332, 398333, 398420, 398421, 398422, 398423, 398510, 398511, 398512, 398513, 398600, 398601, 398602, 398603, 399050, 399051, 399052, 399053, 399140, 399141, 399142, 399143, 399230, 399231, 399232, 399233, 399320, 399321, 399322, 399323, 399410, 399411, 399412, 399413, 399500, 399501, 399502, 399503, 400590, 400591, 400592, 400593, 400680, 400681, 400682, 400683, 400770, 400771, 400772, 400773, 400860, 400861, 400862, 400863, 400950, 400951, 400952, 400953, 401490, 401491, 401492, 401493, 401580, 401581, 401582, 401583, 401670, 401671, 401672, 401673, 401760, 401761, 401762, 401763, 401850, 401851, 401852, 401853, 401940, 401941, 401942, 401943, 402390, 402391, 402392, 402393, 402480, 402481, 402482, 402483, 402570, 402571, 402572, 402573, 402660, 402661, 402662, 402663, 402750, 402751, 402752, 402753, 402840, 402841, 402842, 402843, 402930, 402931, 402932, 402933, 403290, 403291, 403292, 403293, 403380, 403381, 403382, 403383, 403470, 403471, 403472, 403473, 403560, 403561, 403562, 403563, 403650, 403651, 403652, 403653, 403740, 403741, 403742, 403743, 403830, 403831, 403832, 403833, 403920, 403921, 403922, 403923, 404190, 404191, 404192, 404193, 404280, 404281, 404282, 404283, 404370, 404371, 404372, 404373, 404460, 404461, 404462, 404463, 404550, 404551, 404552, 404553, 404640, 404641, 404642, 404643, 404730, 404731, 404732, 404733, 404820, 404821, 404822, 404823, 404910, 404911, 404912, 404913, 405090, 405091, 405092, 405093, 405180, 405181, 405182, 405183, 405270, 405271, 405272, 405273, 405360, 405361, 405362, 405363, 405450, 405451, 405452, 405453, 405540, 405541, 405542, 405543, 405630, 405631, 405632, 405633, 405720, 405721, 405722, 405723, 405810, 405811, 405812, 405813, 405900, 405901, 405902, 405903, 406080, 406081, 406082, 406083, 406170, 406171, 406172, 406173, 406260, 406261, 406262, 406263, 406350, 406351, 406352, 406353, 406440, 406441, 406442, 406443, 406530, 406531, 406532, 406533, 406620, 406621, 406622, 406623, 406710, 406711, 406712, 406713, 406800, 406801, 406802, 406803, 407070, 407071, 407072, 407073, 407160, 407161, 407162, 407163, 407250, 407251, 407252, 407253, 407340, 407341, 407342, 407343, 407430, 407431, 407432, 407433, 407520, 407521, 407522, 407523, 407610, 407611, 407612, 407613, 407700, 407701, 407702, 407703, 408060, 408061, 408062, 408063, 408150, 408151, 408152, 408153, 408240, 408241, 408242, 408243, 408330, 408331, 408332, 408333, 408420, 408421, 408422, 408423, 408510, 408511, 408512, 408513, 408600, 408601, 408602, 408603, 408604, 409050, 409051, 409052, 409053, 409140, 409141, 409142, 409143, 409230, 409231, 409232, 409233, 409320, 409321, 409322, 409323, 409410, 409411, 409412, 409413, 409500, 409501, 409502, 409503, 409504, 410590, 410591, 410592, 410593, 410680, 410681, 410682, 410683, 410770, 410771, 410772, 410773, 410860, 410861, 410862, 410863, 410950, 410951, 410952, 410953, 411490, 411491, 411492, 411493, 411580, 411581, 411582, 411583, 411670, 411671, 411672, 411673, 411760, 411761, 411762, 411763, 411850, 411851, 411852, 411853, 411940, 411941, 411942, 411943, 412390, 412391, 412392, 412393, 412480, 412481, 412482, 412483, 412570, 412571, 412572, 412573, 412660, 412661, 412662, 412663, 412750, 412751, 412752, 412753, 412840, 412841, 412842, 412843, 412930, 412931, 412932, 412933, 413290, 413291, 413292, 413293, 413380, 413381, 413382, 413383, 413470, 413471, 413472, 413473, 413560, 413561, 413562, 413563, 413650, 413651, 413652, 413653, 413740, 413741, 413742, 413743, 413830, 413831, 413832, 413833, 413920, 413921, 413922, 413923, 414190, 414191, 414192, 414193, 414280, 414281, 414282, 414283, 414370, 414371, 414372, 414373, 414460, 414461, 414462, 414463, 414550, 414551, 414552, 414553, 414640, 414641, 414642, 414643, 414730, 414731, 414732, 414733, 414820, 414821, 414822, 414823, 414910, 414911, 414912, 414913, 415090, 415091, 415092, 415093, 415180, 415181, 415182, 415183, 415270, 415271, 415272, 415273, 415360, 415361, 415362, 415363, 415450, 415451, 415452, 415453, 415540, 415541, 415542, 415543, 415630, 415631, 415632, 415633, 415720, 415721, 415722, 415723, 415810, 415811, 415812, 415813, 415900, 415901, 415902, 415903, 415904, 416080, 416081, 416082, 416083, 416170, 416171, 416172, 416173, 416260, 416261, 416262, 416263, 416350, 416351, 416352, 416353, 416440, 416441, 416442, 416443, 416530, 416531, 416532, 416533, 416620, 416621, 416622, 416623, 416710, 416711, 416712, 416713, 416800, 416801, 416802, 416803, 416804, 417070, 417071, 417072, 417073, 417160, 417161, 417162, 417163, 417250, 417251, 417252, 417253, 417340, 417341, 417342, 417343, 417430, 417431, 417432, 417433, 417520, 417521, 417522, 417523, 417610, 417611, 417612, 417613, 417614, 417700, 417701, 417702, 417703, 417704, 418060, 418061, 418062, 418063, 418150, 418151, 418152, 418153, 418240, 418241, 418242, 418243, 418330, 418331, 418332, 418333, 418420, 418421, 418422, 418423, 418510, 418511, 418512, 418513, 418514, 418600, 418601, 418602, 418603, 418604, 419050, 419051, 419052, 419053, 419140, 419141, 419142, 419143, 419230, 419231, 419232, 419233, 419320, 419321, 419322, 419323, 419410, 419411, 419412, 419413, 419414, 419500, 419501, 419502, 419503, 419504, 420590, 420591, 420592, 420593, 420680, 420681, 420682, 420683, 420770, 420771, 420772, 420773, 420860, 420861, 420862, 420863, 420950, 420951, 420952, 420953, 421490, 421491, 421492, 421493, 421580, 421581, 421582, 421583, 421670, 421671, 421672, 421673, 421760, 421761, 421762, 421763, 421850, 421851, 421852, 421853, 421940, 421941, 421942, 421943, 422390, 422391, 422392, 422393, 422480, 422481, 422482, 422483, 422570, 422571, 422572, 422573, 422660, 422661, 422662, 422663, 422750, 422751, 422752, 422753, 422840, 422841, 422842, 422843, 422930, 422931, 422932, 422933, 423290, 423291, 423292, 423293, 423380, 423381, 423382, 423383, 423470, 423471, 423472, 423473, 423560, 423561, 423562, 423563, 423650, 423651, 423652, 423653, 423740, 423741, 423742, 423743, 423830, 423831, 423832, 423833, 423920, 423921, 423922, 423923, 424190, 424191, 424192, 424193, 424280, 424281, 424282, 424283, 424370, 424371, 424372, 424373, 424460, 424461, 424462, 424463, 424550, 424551, 424552, 424553, 424640, 424641, 424642, 424643, 424730, 424731, 424732, 424733, 424820, 424821, 424822, 424823, 424910, 424911, 424912, 424913, 424914, 425090, 425091, 425092, 425093, 425180, 425181, 425182, 425183, 425270, 425271, 425272, 425273, 425360, 425361, 425362, 425363, 425450, 425451, 425452, 425453, 425540, 425541, 425542, 425543, 425630, 425631, 425632, 425633, 425720, 425721, 425722, 425723, 425810, 425811, 425812, 425813, 425814, 425900, 425901, 425902, 425903, 425904, 426080, 426081, 426082, 426083, 426170, 426171, 426172, 426173, 426260, 426261, 426262, 426263, 426350, 426351, 426352, 426353, 426440, 426441, 426442, 426443, 426530, 426531, 426532, 426533, 426620, 426621, 426622, 426623, 426710, 426711, 426712, 426713, 426714, 426800, 426801, 426802, 426803, 426804, 427070, 427071, 427072, 427073, 427160, 427161, 427162, 427163, 427250, 427251, 427252, 427253, 427340, 427341, 427342, 427343, 427430, 427431, 427432, 427433, 427520, 427521, 427522, 427523, 427524, 427610, 427611, 427612, 427613, 427614, 427700, 427701, 427702, 427703, 427704, 428060, 428061, 428062, 428063, 428150, 428151, 428152, 428153, 428240, 428241, 428242, 428243, 428330, 428331, 428332, 428333, 428420, 428421, 428422, 428423, 428424, 428510, 428511, 428512, 428513, 428514, 428600, 428601, 428602, 428603, 428604, 429050, 429051, 429052, 429053, 429140, 429141, 429142, 429143, 429230, 429231, 429232, 429233, 429320, 429321, 429322, 429323, 429324, 429410, 429411, 429412, 429413, 429414, 429500, 429501, 429502, 429503, 429504, 430590, 430591, 430592, 430593, 430680, 430681, 430682, 430683, 430770, 430771, 430772, 430773, 430860, 430861, 430862, 430863, 430950, 430951, 430952, 430953, 431490, 431491, 431492, 431493, 431580, 431581, 431582, 431583, 431670, 431671, 431672, 431673, 431760, 431761, 431762, 431763, 431850, 431851, 431852, 431853, 431940, 431941, 431942, 431943, 432390, 432391, 432392, 432393, 432480, 432481, 432482, 432483, 432570, 432571, 432572, 432573, 432660, 432661, 432662, 432663, 432750, 432751, 432752, 432753, 432840, 432841, 432842, 432843, 432930, 432931, 432932, 432933, 433290, 433291, 433292, 433293, 433380, 433381, 433382, 433383, 433470, 433471, 433472, 433473, 433560, 433561, 433562, 433563, 433650, 433651, 433652, 433653, 433740, 433741, 433742, 433743, 433830, 433831, 433832, 433833, 433920, 433921, 433922, 433923, 433924, 434190, 434191, 434192, 434193, 434280, 434281, 434282, 434283, 434370, 434371, 434372, 434373, 434460, 434461, 434462, 434463, 434550, 434551, 434552, 434553, 434640, 434641, 434642, 434643, 434730, 434731, 434732, 434733, 434820, 434821, 434822, 434823, 434824, 434910, 434911, 434912, 434913, 434914, 435090, 435091, 435092, 435093, 435180, 435181, 435182, 435183, 435270, 435271, 435272, 435273, 435360, 435361, 435362, 435363, 435450, 435451, 435452, 435453, 435540, 435541, 435542, 435543, 435630, 435631, 435632, 435633, 435720, 435721, 435722, 435723, 435724, 435810, 435811, 435812, 435813, 435814, 435900, 435901, 435902, 435903, 435904, 436080, 436081, 436082, 436083, 436170, 436171, 436172, 436173, 436260, 436261, 436262, 436263, 436350, 436351, 436352, 436353, 436440, 436441, 436442, 436443, 436530, 436531, 436532, 436533, 436534, 436620, 436621, 436622, 436623, 436624, 436710, 436711, 436712, 436713, 436714, 436800, 436801, 436802, 436803, 436804, 437070, 437071, 437072, 437073, 437160, 437161, 437162, 437163, 437250, 437251, 437252, 437253, 437340, 437341, 437342, 437343, 437430, 437431, 437432, 437433, 437434, 437520, 437521, 437522, 437523, 437524, 437610, 437611, 437612, 437613, 437614, 437700, 437701, 437702, 437703, 437704, 438060, 438061, 438062, 438063, 438150, 438151, 438152, 438153, 438240, 438241, 438242, 438243, 438330, 438331, 438332, 438333, 438334, 438420, 438421, 438422, 438423, 438424, 438510, 438511, 438512, 438513, 438514, 438600, 438601, 438602, 438603, 438604, 439050, 439051, 439052, 439053, 439140, 439141, 439142, 439143, 439230, 439231, 439232, 439233, 439234, 439320, 439321, 439322, 439323, 439324, 439410, 439411, 439412, 439413, 439414, 439500, 439501, 439502, 439503, 439504, 440590, 440591, 440592, 440593, 440680, 440681, 440682, 440683, 440770, 440771, 440772, 440773, 440860, 440861, 440862, 440863, 440950, 440951, 440952, 440953, 441490, 441491, 441492, 441493, 441580, 441581, 441582, 441583, 441670, 441671, 441672, 441673, 441760, 441761, 441762, 441763, 441850, 441851, 441852, 441853, 441940, 441941, 441942, 441943, 442390, 442391, 442392, 442393, 442480, 442481, 442482, 442483, 442570, 442571, 442572, 442573, 442660, 442661, 442662, 442663, 442750, 442751, 442752, 442753, 442840, 442841, 442842, 442843, 442930, 442931, 442932, 442933, 442934, 443290, 443291, 443292, 443293, 443380, 443381, 443382, 443383, 443470, 443471, 443472, 443473, 443560, 443561, 443562, 443563, 443650, 443651, 443652, 443653, 443740, 443741, 443742, 443743, 443830, 443831, 443832, 443833, 443834, 443920, 443921, 443922, 443923, 443924, 444190, 444191, 444192, 444193, 444280, 444281, 444282, 444283, 444370, 444371, 444372, 444373, 444460, 444461, 444462, 444463, 444550, 444551, 444552, 444553, 444640, 444641, 444642, 444643, 444730, 444731, 444732, 444733, 444734, 444820, 444821, 444822, 444823, 444824, 444910, 444911, 444912, 444913, 444914, 445090, 445091, 445092, 445093, 445180, 445181, 445182, 445183, 445270, 445271, 445272, 445273, 445360, 445361, 445362, 445363, 445450, 445451, 445452, 445453, 445540, 445541, 445542, 445543, 445630, 445631, 445632, 445633, 445634, 445720, 445721, 445722, 445723, 445724, 445810, 445811, 445812, 445813, 445814, 445900, 445901, 445902, 445903, 445904, 446080, 446081, 446082, 446083, 446170, 446171, 446172, 446173, 446260, 446261, 446262, 446263, 446350, 446351, 446352, 446353, 446440, 446441, 446442, 446443, 446444, 446530, 446531, 446532, 446533, 446534, 446620, 446621, 446622, 446623, 446624, 446710, 446711, 446712, 446713, 446714, 446800, 446801, 446802, 446803, 446804, 447070, 447071, 447072, 447073, 447160, 447161, 447162, 447163, 447250, 447251, 447252, 447253, 447340, 447341, 447342, 447343, 447344, 447430, 447431, 447432, 447433, 447434, 447520, 447521, 447522, 447523, 447524, 447610, 447611, 447612, 447613, 447614, 447700, 447701, 447702, 447703, 447704, 448060, 448061, 448062, 448063, 448150, 448151, 448152, 448153, 448240, 448241, 448242, 448243, 448244, 448330, 448331, 448332, 448333, 448334, 448420, 448421, 448422, 448423, 448424, 448510, 448511, 448512, 448513, 448514, 448600, 448601, 448602, 448603, 448604, 449050, 449051, 449052, 449053, 449140, 449141, 449142, 449143, 449144, 449230, 449231, 449232, 449233, 449234, 449320, 449321, 449322, 449323, 449324, 449410, 449411, 449412, 449413, 449414, 449500, 449501, 449502, 449503, 449504, 450590, 450591, 450592, 450593, 450680, 450681, 450682, 450683, 450770, 450771, 450772, 450773, 450860, 450861, 450862, 450863, 450950, 450951, 450952, 450953, 451490, 451491, 451492, 451493, 451580, 451581, 451582, 451583, 451670, 451671, 451672, 451673, 451760, 451761, 451762, 451763, 451850, 451851, 451852, 451853, 451940, 451941, 451942, 451943, 451944, 452390, 452391, 452392, 452393, 452480, 452481, 452482, 452483, 452570, 452571, 452572, 452573, 452660, 452661, 452662, 452663, 452750, 452751, 452752, 452753, 452840, 452841, 452842, 452843, 452844, 452930, 452931, 452932, 452933, 452934, 453290, 453291, 453292, 453293, 453380, 453381, 453382, 453383, 453470, 453471, 453472, 453473, 453560, 453561, 453562, 453563, 453650, 453651, 453652, 453653, 453740, 453741, 453742, 453743, 453744, 453830, 453831, 453832, 453833, 453834, 453920, 453921, 453922, 453923, 453924, 454190, 454191, 454192, 454193, 454280, 454281, 454282, 454283, 454370, 454371, 454372, 454373, 454460, 454461, 454462, 454463, 454550, 454551, 454552, 454553, 454640, 454641, 454642, 454643, 454644, 454730, 454731, 454732, 454733, 454734, 454820, 454821, 454822, 454823, 454824, 454910, 454911, 454912, 454913, 454914, 455090, 455091, 455092, 455093, 455180, 455181, 455182, 455183, 455270, 455271, 455272, 455273, 455360, 455361, 455362, 455363, 455450, 455451, 455452, 455453, 455454, 455540, 455541, 455542, 455543, 455544, 455630, 455631, 455632, 455633, 455634, 455720, 455721, 455722, 455723, 455724, 455810, 455811, 455812, 455813, 455814, 455900, 455901, 455902, 455903, 455904, 456080, 456081, 456082, 456083, 456170, 456171, 456172, 456173, 456260, 456261, 456262, 456263, 456350, 456351, 456352, 456353, 456354, 456440, 456441, 456442, 456443, 456444, 456530, 456531, 456532, 456533, 456534, 456620, 456621, 456622, 456623, 456624, 456710, 456711, 456712, 456713, 456714, 456800, 456801, 456802, 456803, 456804, 457070, 457071, 457072, 457073, 457160, 457161, 457162, 457163, 457250, 457251, 457252, 457253, 457254, 457340, 457341, 457342, 457343, 457344, 457430, 457431, 457432, 457433, 457434, 457520, 457521, 457522, 457523, 457524, 457610, 457611, 457612, 457613, 457614, 457700, 457701, 457702, 457703, 457704, 458060, 458061, 458062, 458063, 458150, 458151, 458152, 458153, 458154, 458240, 458241, 458242, 458243, 458244, 458330, 458331, 458332, 458333, 458334, 458420, 458421, 458422, 458423, 458424, 458510, 458511, 458512, 458513, 458514, 458600, 458601, 458602, 458603, 458604, 459050, 459051, 459052, 459053, 459054, 459140, 459141, 459142, 459143, 459144, 459230, 459231, 459232, 459233, 459234, 459320, 459321, 459322, 459323, 459324, 459410, 459411, 459412, 459413, 459414, 459500, 459501, 459502, 459503, 459504, 460590, 460591, 460592, 460593, 460680, 460681, 460682, 460683, 460770, 460771, 460772, 460773, 460860, 460861, 460862, 460863, 460950, 460951, 460952, 460953, 460954, 461490, 461491, 461492, 461493, 461580, 461581, 461582, 461583, 461670, 461671, 461672, 461673, 461760, 461761, 461762, 461763, 461850, 461851, 461852, 461853, 461854, 461940, 461941, 461942, 461943, 461944, 462390, 462391, 462392, 462393, 462480, 462481, 462482, 462483, 462570, 462571, 462572, 462573, 462660, 462661, 462662, 462663, 462750, 462751, 462752, 462753, 462754, 462840, 462841, 462842, 462843, 462844, 462930, 462931, 462932, 462933, 462934, 463290, 463291, 463292, 463293, 463380, 463381, 463382, 463383, 463470, 463471, 463472, 463473, 463560, 463561, 463562, 463563, 463650, 463651, 463652, 463653, 463654, 463740, 463741, 463742, 463743, 463744, 463830, 463831, 463832, 463833, 463834, 463920, 463921, 463922, 463923, 463924, 464190, 464191, 464192, 464193, 464280, 464281, 464282, 464283, 464370, 464371, 464372, 464373, 464460, 464461, 464462, 464463, 464550, 464551, 464552, 464553, 464554, 464640, 464641, 464642, 464643, 464644, 464730, 464731, 464732, 464733, 464734, 464820, 464821, 464822, 464823, 464824, 464910, 464911, 464912, 464913, 464914, 465090, 465091, 465092, 465093, 465180, 465181, 465182, 465183, 465270, 465271, 465272, 465273, 465360, 465361, 465362, 465363, 465364, 465450, 465451, 465452, 465453, 465454, 465540, 465541, 465542, 465543, 465544, 465630, 465631, 465632, 465633, 465634, 465720, 465721, 465722, 465723, 465724, 465810, 465811, 465812, 465813, 465814, 465900, 465901, 465902, 465903, 465904, 466080, 466081, 466082, 466083, 466170, 466171, 466172, 466173, 466260, 466261, 466262, 466263, 466264, 466350, 466351, 466352, 466353, 466354, 466440, 466441, 466442, 466443, 466444, 466530, 466531, 466532, 466533, 466534, 466620, 466621, 466622, 466623, 466624, 466710, 466711, 466712, 466713, 466714, 466800, 466801, 466802, 466803, 466804, 467070, 467071, 467072, 467073, 467160, 467161, 467162, 467163, 467164, 467250, 467251, 467252, 467253, 467254, 467340, 467341, 467342, 467343, 467344, 467430, 467431, 467432, 467433, 467434, 467520, 467521, 467522, 467523, 467524, 467610, 467611, 467612, 467613, 467614, 467700, 467701, 467702, 467703, 467704, 468060, 468061, 468062, 468063, 468064, 468150, 468151, 468152, 468153, 468154, 468240, 468241, 468242, 468243, 468244, 468330, 468331, 468332, 468333, 468334, 468420, 468421, 468422, 468423, 468424, 468510, 468511, 468512, 468513, 468514, 468600, 468601, 468602, 468603, 468604, 469050, 469051, 469052, 469053, 469054, 469140, 469141, 469142, 469143, 469144, 469230, 469231, 469232, 469233, 469234, 469320, 469321, 469322, 469323, 469324, 469410, 469411, 469412, 469413, 469414, 469500, 469501, 469502, 469503, 469504, 470590, 470591, 470592, 470593, 470680, 470681, 470682, 470683, 470770, 470771, 470772, 470773, 470860, 470861, 470862, 470863, 470864, 470950, 470951, 470952, 470953, 470954, 471490, 471491, 471492, 471493, 471580, 471581, 471582, 471583, 471670, 471671, 471672, 471673, 471760, 471761, 471762, 471763, 471764, 471850, 471851, 471852, 471853, 471854, 471940, 471941, 471942, 471943, 471944, 472390, 472391, 472392, 472393, 472480, 472481, 472482, 472483, 472570, 472571, 472572, 472573, 472660, 472661, 472662, 472663, 472664, 472750, 472751, 472752, 472753, 472754, 472840, 472841, 472842, 472843, 472844, 472930, 472931, 472932, 472933, 472934, 473290, 473291, 473292, 473293, 473380, 473381, 473382, 473383, 473470, 473471, 473472, 473473, 473560, 473561, 473562, 473563, 473564, 473650, 473651, 473652, 473653, 473654, 473740, 473741, 473742, 473743, 473744, 473830, 473831, 473832, 473833, 473834, 473920, 473921, 473922, 473923, 473924, 474190, 474191, 474192, 474193, 474280, 474281, 474282, 474283, 474370, 474371, 474372, 474373, 474374, 474460, 474461, 474462, 474463, 474464, 474550, 474551, 474552, 474553, 474554, 474640, 474641, 474642, 474643, 474644, 474730, 474731, 474732, 474733, 474734, 474820, 474821, 474822, 474823, 474824, 474910, 474911, 474912, 474913, 474914, 475090, 475091, 475092, 475093, 475180, 475181, 475182, 475183, 475270, 475271, 475272, 475273, 475274, 475360, 475361, 475362, 475363, 475364, 475450, 475451, 475452, 475453, 475454, 475540, 475541, 475542, 475543, 475544, 475630, 475631, 475632, 475633, 475634, 475720, 475721, 475722, 475723, 475724, 475810, 475811, 475812, 475813, 475814, 475900, 475901, 475902, 475903, 475904, 476080, 476081, 476082, 476083, 476170, 476171, 476172, 476173, 476174, 476260, 476261, 476262, 476263, 476264, 476350, 476351, 476352, 476353, 476354, 476440, 476441, 476442, 476443, 476444, 476530, 476531, 476532, 476533, 476534, 476620, 476621, 476622, 476623, 476624, 476710, 476711, 476712, 476713, 476714, 476800, 476801, 476802, 476803, 476804, 477070, 477071, 477072, 477073, 477074, 477160, 477161, 477162, 477163, 477164, 477250, 477251, 477252, 477253, 477254, 477340, 477341, 477342, 477343, 477344, 477430, 477431, 477432, 477433, 477434, 477520, 477521, 477522, 477523, 477524, 477610, 477611, 477612, 477613, 477614, 477700, 477701, 477702, 477703, 477704, 478060, 478061, 478062, 478063, 478064, 478150, 478151, 478152, 478153, 478154, 478240, 478241, 478242, 478243, 478244, 478330, 478331, 478332, 478333, 478334, 478420, 478421, 478422, 478423, 478424, 478510, 478511, 478512, 478513, 478514, 478600, 478601, 478602, 478603, 478604, 479050, 479051, 479052, 479053, 479054, 479140, 479141, 479142, 479143, 479144, 479230, 479231, 479232, 479233, 479234, 479320, 479321, 479322, 479323, 479324, 479410, 479411, 479412, 479413, 479414, 479500, 479501, 479502, 479503, 479504, 480590, 480591, 480592, 480593, 480680, 480681, 480682, 480683, 480770, 480771, 480772, 480773, 480774, 480860, 480861, 480862, 480863, 480864, 480950, 480951, 480952, 480953, 480954, 481490, 481491, 481492, 481493, 481580, 481581, 481582, 481583, 481670, 481671, 481672, 481673, 481674, 481760, 481761, 481762, 481763, 481764, 481850, 481851, 481852, 481853, 481854, 481940, 481941, 481942, 481943, 481944, 482390, 482391, 482392, 482393, 482480, 482481, 482482, 482483, 482570, 482571, 482572, 482573, 482574, 482660, 482661, 482662, 482663, 482664, 482750, 482751, 482752, 482753, 482754, 482840, 482841, 482842, 482843, 482844, 482930, 482931, 482932, 482933, 482934, 483290, 483291, 483292, 483293, 483380, 483381, 483382, 483383, 483470, 483471, 483472, 483473, 483474, 483560, 483561, 483562, 483563, 483564, 483650, 483651, 483652, 483653, 483654, 483740, 483741, 483742, 483743, 483744, 483830, 483831, 483832, 483833, 483834, 483920, 483921, 483922, 483923, 483924, 484190, 484191, 484192, 484193, 484280, 484281, 484282, 484283, 484284, 484370, 484371, 484372, 484373, 484374, 484460, 484461, 484462, 484463, 484464, 484550, 484551, 484552, 484553, 484554, 484640, 484641, 484642, 484643, 484644, 484730, 484731, 484732, 484733, 484734, 484820, 484821, 484822, 484823, 484824, 484910, 484911, 484912, 484913, 484914, 485090, 485091, 485092, 485093, 485180, 485181, 485182, 485183, 485184, 485270, 485271, 485272, 485273, 485274, 485360, 485361, 485362, 485363, 485364, 485450, 485451, 485452, 485453, 485454, 485540, 485541, 485542, 485543, 485544, 485630, 485631, 485632, 485633, 485634, 485720, 485721, 485722, 485723, 485724, 485810, 485811, 485812, 485813, 485814, 485900, 485901, 485902, 485903, 485904, 486080, 486081, 486082, 486083, 486084, 486170, 486171, 486172, 486173, 486174, 486260, 486261, 486262, 486263, 486264, 486350, 486351, 486352, 486353, 486354, 486440, 486441, 486442, 486443, 486444, 486530, 486531, 486532, 486533, 486534, 486620, 486621, 486622, 486623, 486624, 486710, 486711, 486712, 486713, 486714, 486800, 486801, 486802, 486803, 486804, 487070, 487071, 487072, 487073, 487074, 487160, 487161, 487162, 487163, 487164, 487250, 487251, 487252, 487253, 487254, 487340, 487341, 487342, 487343, 487344, 487430, 487431, 487432, 487433, 487434, 487520, 487521, 487522, 487523, 487524, 487610, 487611, 487612, 487613, 487614, 487700, 487701, 487702, 487703, 487704, 488060, 488061, 488062, 488063, 488064, 488150, 488151, 488152, 488153, 488154, 488240, 488241, 488242, 488243, 488244, 488330, 488331, 488332, 488333, 488334, 488420, 488421, 488422, 488423, 488424, 488510, 488511, 488512, 488513, 488514, 488600, 488601, 488602, 488603, 488604, 489050, 489051, 489052, 489053, 489054, 489140, 489141, 489142, 489143, 489144, 489230, 489231, 489232, 489233, 489234, 489320, 489321, 489322, 489323, 489324, 489410, 489411, 489412, 489413, 489414, 489500, 489501, 489502, 489503, 489504, 490590, 490591, 490592, 490593, 490680, 490681, 490682, 490683, 490684, 490770, 490771, 490772, 490773, 490774, 490860, 490861, 490862, 490863, 490864, 490950, 490951, 490952, 490953, 490954, 491490, 491491, 491492, 491493, 491580, 491581, 491582, 491583, 491584, 491670, 491671, 491672, 491673, 491674, 491760, 491761, 491762, 491763, 491764, 491850, 491851, 491852, 491853, 491854, 491940, 491941, 491942, 491943, 491944, 492390, 492391, 492392, 492393, 492480, 492481, 492482, 492483, 492484, 492570, 492571, 492572, 492573, 492574, 492660, 492661, 492662, 492663, 492664, 492750, 492751, 492752, 492753, 492754, 492840, 492841, 492842, 492843, 492844, 492930, 492931, 492932, 492933, 492934, 493290, 493291, 493292, 493293, 493294, 493380, 493381, 493382, 493383, 493384, 493470, 493471, 493472, 493473, 493474, 493560, 493561, 493562, 493563, 493564, 493650, 493651, 493652, 493653, 493654, 493740, 493741, 493742, 493743, 493744, 493830, 493831, 493832, 493833, 493834, 493920, 493921, 493922, 493923, 493924, 494190, 494191, 494192, 494193, 494194, 494280, 494281, 494282, 494283, 494284, 494370, 494371, 494372, 494373, 494374, 494460, 494461, 494462, 494463, 494464, 494550, 494551, 494552, 494553, 494554, 494640, 494641, 494642, 494643, 494644, 494730, 494731, 494732, 494733, 494734, 494820, 494821, 494822, 494823, 494824, 494910, 494911, 494912, 494913, 494914, 495090, 495091, 495092, 495093, 495094, 495180, 495181, 495182, 495183, 495184, 495270, 495271, 495272, 495273, 495274, 495360, 495361, 495362, 495363, 495364, 495450, 495451, 495452, 495453, 495454, 495540, 495541, 495542, 495543, 495544, 495630, 495631, 495632, 495633, 495634, 495720, 495721, 495722, 495723, 495724, 495810, 495811, 495812, 495813, 495814, 495900, 495901, 495902, 495903, 495904, 496080, 496081, 496082, 496083, 496084, 496170, 496171, 496172, 496173, 496174, 496260, 496261, 496262, 496263, 496264, 496350, 496351, 496352, 496353, 496354, 496440, 496441, 496442, 496443, 496444, 496530, 496531, 496532, 496533, 496534, 496620, 496621, 496622, 496623, 496624, 496710, 496711, 496712, 496713, 496714, 496800, 496801, 496802, 496803, 496804, 497070, 497071, 497072, 497073, 497074, 497160, 497161, 497162, 497163, 497164, 497250, 497251, 497252, 497253, 497254, 497340, 497341, 497342, 497343, 497344, 497430, 497431, 497432, 497433, 497434, 497520, 497521, 497522, 497523, 497524, 497610, 497611, 497612, 497613, 497614, 497700, 497701, 497702, 497703, 497704, 498060, 498061, 498062, 498063, 498064, 498150, 498151, 498152, 498153, 498154, 498240, 498241, 498242, 498243, 498244, 498330, 498331, 498332, 498333, 498334, 498420, 498421, 498422, 498423, 498424, 498510, 498511, 498512, 498513, 498514, 498600, 498601, 498602, 498603, 498604, 499050, 499051, 499052, 499053, 499054, 499140, 499141, 499142, 499143, 499144, 499230, 499231, 499232, 499233, 499234, 499320, 499321, 499322, 499323, 499324, 499410, 499411, 499412, 499413, 499414, 499500, 499501, 499502, 499503, 499504, 500590, 500591, 500592, 500593, 500594, 500680, 500681, 500682, 500683, 500684, 500770, 500771, 500772, 500773, 500774, 500860, 500861, 500862, 500863, 500864, 500950, 500951, 500952, 500953, 500954, 501490, 501491, 501492, 501493, 501494, 501580, 501581, 501582, 501583, 501584, 501670, 501671, 501672, 501673, 501674, 501760, 501761, 501762, 501763, 501764, 501850, 501851, 501852, 501853, 501854, 501940, 501941, 501942, 501943, 501944, 502390, 502391, 502392, 502393, 502394, 502480, 502481, 502482, 502483, 502484, 502570, 502571, 502572, 502573, 502574, 502660, 502661, 502662, 502663, 502664, 502750, 502751, 502752, 502753, 502754, 502840, 502841, 502842, 502843, 502844, 502930, 502931, 502932, 502933, 502934, 503290, 503291, 503292, 503293, 503294, 503380, 503381, 503382, 503383, 503384, 503470, 503471, 503472, 503473, 503474, 503560, 503561, 503562, 503563, 503564, 503650, 503651, 503652, 503653, 503654, 503740, 503741, 503742, 503743, 503744, 503830, 503831, 503832, 503833, 503834, 503920, 503921, 503922, 503923, 503924, 504190, 504191, 504192, 504193, 504194, 504280, 504281, 504282, 504283, 504284, 504370, 504371, 504372, 504373, 504374, 504460, 504461, 504462, 504463, 504464, 504550, 504551, 504552, 504553, 504554, 504640, 504641, 504642, 504643, 504644, 504730, 504731, 504732, 504733, 504734, 504820, 504821, 504822, 504823, 504824, 504910, 504911, 504912, 504913, 504914, 505090, 505091, 505092, 505093, 505094, 505180, 505181, 505182, 505183, 505184, 505270, 505271, 505272, 505273, 505274, 505360, 505361, 505362, 505363, 505364, 505450, 505451, 505452, 505453, 505454, 505540, 505541, 505542, 505543, 505544, 505630, 505631, 505632, 505633, 505634, 505720, 505721, 505722, 505723, 505724, 505810, 505811, 505812, 505813, 505814, 505900, 505901, 505902, 505903, 505904, 506080, 506081, 506082, 506083, 506084, 506170, 506171, 506172, 506173, 506174, 506260, 506261, 506262, 506263, 506264, 506350, 506351, 506352, 506353, 506354, 506440, 506441, 506442, 506443, 506444, 506530, 506531, 506532, 506533, 506534, 506620, 506621, 506622, 506623, 506624, 506710, 506711, 506712, 506713, 506714, 506800, 506801, 506802, 506803, 506804, 507070, 507071, 507072, 507073, 507074, 507160, 507161, 507162, 507163, 507164, 507250, 507251, 507252, 507253, 507254, 507340, 507341, 507342, 507343, 507344, 507430, 507431, 507432, 507433, 507434, 507520, 507521, 507522, 507523, 507524, 507610, 507611, 507612, 507613, 507614, 507700, 507701, 507702, 507703, 507704, 508060, 508061, 508062, 508063, 508064, 508150, 508151, 508152, 508153, 508154, 508240, 508241, 508242, 508243, 508244, 508330, 508331, 508332, 508333, 508334, 508420, 508421, 508422, 508423, 508424, 508510, 508511, 508512, 508513, 508514, 508600, 508601, 508602, 508603, 508604, 508605, 509050, 509051, 509052, 509053, 509054, 509140, 509141, 509142, 509143, 509144, 509230, 509231, 509232, 509233, 509234, 509320, 509321, 509322, 509323, 509324, 509410, 509411, 509412, 509413, 509414, 509500, 509501, 509502, 509503, 509504, 509505, 510590, 510591, 510592, 510593, 510594, 510680, 510681, 510682, 510683, 510684, 510770, 510771, 510772, 510773, 510774, 510860, 510861, 510862, 510863, 510864, 510950, 510951, 510952, 510953, 510954, 511490, 511491, 511492, 511493, 511494, 511580, 511581, 511582, 511583, 511584, 511670, 511671, 511672, 511673, 511674, 511760, 511761, 511762, 511763, 511764, 511850, 511851, 511852, 511853, 511854, 511940, 511941, 511942, 511943, 511944, 512390, 512391, 512392, 512393, 512394, 512480, 512481, 512482, 512483, 512484, 512570, 512571, 512572, 512573, 512574, 512660, 512661, 512662, 512663, 512664, 512750, 512751, 512752, 512753, 512754, 512840, 512841, 512842, 512843, 512844, 512930, 512931, 512932, 512933, 512934, 513290, 513291, 513292, 513293, 513294, 513380, 513381, 513382, 513383, 513384, 513470, 513471, 513472, 513473, 513474, 513560, 513561, 513562, 513563, 513564, 513650, 513651, 513652, 513653, 513654, 513740, 513741, 513742, 513743, 513744, 513830, 513831, 513832, 513833, 513834, 513920, 513921, 513922, 513923, 513924, 514190, 514191, 514192, 514193, 514194, 514280, 514281, 514282, 514283, 514284, 514370, 514371, 514372, 514373, 514374, 514460, 514461, 514462, 514463, 514464, 514550, 514551, 514552, 514553, 514554, 514640, 514641, 514642, 514643, 514644, 514730, 514731, 514732, 514733, 514734, 514820, 514821, 514822, 514823, 514824, 514910, 514911, 514912, 514913, 514914, 515090, 515091, 515092, 515093, 515094, 515180, 515181, 515182, 515183, 515184, 515270, 515271, 515272, 515273, 515274, 515360, 515361, 515362, 515363, 515364, 515450, 515451, 515452, 515453, 515454, 515540, 515541, 515542, 515543, 515544, 515630, 515631, 515632, 515633, 515634, 515720, 515721, 515722, 515723, 515724, 515810, 515811, 515812, 515813, 515814, 515900, 515901, 515902, 515903, 515904, 515905, 516080, 516081, 516082, 516083, 516084, 516170, 516171, 516172, 516173, 516174, 516260, 516261, 516262, 516263, 516264, 516350, 516351, 516352, 516353, 516354, 516440, 516441, 516442, 516443, 516444, 516530, 516531, 516532, 516533, 516534, 516620, 516621, 516622, 516623, 516624, 516710, 516711, 516712, 516713, 516714, 516800, 516801, 516802, 516803, 516804, 516805, 517070, 517071, 517072, 517073, 517074, 517160, 517161, 517162, 517163, 517164, 517250, 517251, 517252, 517253, 517254, 517340, 517341, 517342, 517343, 517344, 517430, 517431, 517432, 517433, 517434, 517520, 517521, 517522, 517523, 517524, 517610, 517611, 517612, 517613, 517614, 517615, 517700, 517701, 517702, 517703, 517704, 517705, 518060, 518061, 518062, 518063, 518064, 518150, 518151, 518152, 518153, 518154, 518240, 518241, 518242, 518243, 518244, 518330, 518331, 518332, 518333, 518334, 518420, 518421, 518422, 518423, 518424, 518510, 518511, 518512, 518513, 518514, 518515, 518600, 518601, 518602, 518603, 518604, 518605, 519050, 519051, 519052, 519053, 519054, 519140, 519141, 519142, 519143, 519144, 519230, 519231, 519232, 519233, 519234, 519320, 519321, 519322, 519323, 519324, 519410, 519411, 519412, 519413, 519414, 519415, 519500, 519501, 519502, 519503, 519504, 519505, 520590, 520591, 520592, 520593, 520594, 520680, 520681, 520682, 520683, 520684, 520770, 520771, 520772, 520773, 520774, 520860, 520861, 520862, 520863, 520864, 520950, 520951, 520952, 520953, 520954, 521490, 521491, 521492, 521493, 521494, 521580, 521581, 521582, 521583, 521584, 521670, 521671, 521672, 521673, 521674, 521760, 521761, 521762, 521763, 521764, 521850, 521851, 521852, 521853, 521854, 521940, 521941, 521942, 521943, 521944, 522390, 522391, 522392, 522393, 522394, 522480, 522481, 522482, 522483, 522484, 522570, 522571, 522572, 522573, 522574, 522660, 522661, 522662, 522663, 522664, 522750, 522751, 522752, 522753, 522754, 522840, 522841, 522842, 522843, 522844, 522930, 522931, 522932, 522933, 522934, 523290, 523291, 523292, 523293, 523294, 523380, 523381, 523382, 523383, 523384, 523470, 523471, 523472, 523473, 523474, 523560, 523561, 523562, 523563, 523564, 523650, 523651, 523652, 523653, 523654, 523740, 523741, 523742, 523743, 523744, 523830, 523831, 523832, 523833, 523834, 523920, 523921, 523922, 523923, 523924, 524190, 524191, 524192, 524193, 524194, 524280, 524281, 524282, 524283, 524284, 524370, 524371, 524372, 524373, 524374, 524460, 524461, 524462, 524463, 524464, 524550, 524551, 524552, 524553, 524554, 524640, 524641, 524642, 524643, 524644, 524730, 524731, 524732, 524733, 524734, 524820, 524821, 524822, 524823, 524824, 524910, 524911, 524912, 524913, 524914, 524915, 525090, 525091, 525092, 525093, 525094, 525180, 525181, 525182, 525183, 525184, 525270, 525271, 525272, 525273, 525274, 525360, 525361, 525362, 525363, 525364, 525450, 525451, 525452, 525453, 525454, 525540, 525541, 525542, 525543, 525544, 525630, 525631, 525632, 525633, 525634, 525720, 525721, 525722, 525723, 525724, 525810, 525811, 525812, 525813, 525814, 525815, 525900, 525901, 525902, 525903, 525904, 525905, 526080, 526081, 526082, 526083, 526084, 526170, 526171, 526172, 526173, 526174, 526260, 526261, 526262, 526263, 526264, 526350, 526351, 526352, 526353, 526354, 526440, 526441, 526442, 526443, 526444, 526530, 526531, 526532, 526533, 526534, 526620, 526621, 526622, 526623, 526624, 526710, 526711, 526712, 526713, 526714, 526715, 526800, 526801, 526802, 526803, 526804, 526805, 527070, 527071, 527072, 527073, 527074, 527160, 527161, 527162, 527163, 527164, 527250, 527251, 527252, 527253, 527254, 527340, 527341, 527342, 527343, 527344, 527430, 527431, 527432, 527433, 527434, 527520, 527521, 527522, 527523, 527524, 527525, 527610, 527611, 527612, 527613, 527614, 527615, 527700, 527701, 527702, 527703, 527704, 527705, 528060, 528061, 528062, 528063, 528064, 528150, 528151, 528152, 528153, 528154, 528240, 528241, 528242, 528243, 528244, 528330, 528331, 528332, 528333, 528334, 528420, 528421, 528422, 528423, 528424, 528425, 528510, 528511, 528512, 528513, 528514, 528515, 528600, 528601, 528602, 528603, 528604, 528605, 529050, 529051, 529052, 529053, 529054, 529140, 529141, 529142, 529143, 529144, 529230, 529231, 529232, 529233, 529234, 529320, 529321, 529322, 529323, 529324, 529325, 529410, 529411, 529412, 529413, 529414, 529415, 529500, 529501, 529502, 529503, 529504, 529505, 530590, 530591, 530592, 530593, 530594, 530680, 530681, 530682, 530683, 530684, 530770, 530771, 530772, 530773, 530774, 530860, 530861, 530862, 530863, 530864, 530950, 530951, 530952, 530953, 530954, 531490, 531491, 531492, 531493, 531494, 531580, 531581, 531582, 531583, 531584, 531670, 531671, 531672, 531673, 531674, 531760, 531761, 531762, 531763, 531764, 531850, 531851, 531852, 531853, 531854, 531940, 531941, 531942, 531943, 531944, 532390, 532391, 532392, 532393, 532394, 532480, 532481, 532482, 532483, 532484, 532570, 532571, 532572, 532573, 532574, 532660, 532661, 532662, 532663, 532664, 532750, 532751, 532752, 532753, 532754, 532840, 532841, 532842, 532843, 532844, 532930, 532931, 532932, 532933, 532934, 533290, 533291, 533292, 533293, 533294, 533380, 533381, 533382, 533383, 533384, 533470, 533471, 533472, 533473, 533474, 533560, 533561, 533562, 533563, 533564, 533650, 533651, 533652, 533653, 533654, 533740, 533741, 533742, 533743, 533744, 533830, 533831, 533832, 533833, 533834, 533920, 533921, 533922, 533923, 533924, 533925, 534190, 534191, 534192, 534193, 534194, 534280, 534281, 534282, 534283, 534284, 534370, 534371, 534372, 534373, 534374, 534460, 534461, 534462, 534463, 534464, 534550, 534551, 534552, 534553, 534554, 534640, 534641, 534642, 534643, 534644, 534730, 534731, 534732, 534733, 534734, 534820, 534821, 534822, 534823, 534824, 534825, 534910, 534911, 534912, 534913, 534914, 534915, 535090, 535091, 535092, 535093, 535094, 535180, 535181, 535182, 535183, 535184, 535270, 535271, 535272, 535273, 535274, 535360, 535361, 535362, 535363, 535364, 535450, 535451, 535452, 535453, 535454, 535540, 535541, 535542, 535543, 535544, 535630, 535631, 535632, 535633, 535634, 535720, 535721, 535722, 535723, 535724, 535725, 535810, 535811, 535812, 535813, 535814, 535815, 535900, 535901, 535902, 535903, 535904, 535905, 536080, 536081, 536082, 536083, 536084, 536170, 536171, 536172, 536173, 536174, 536260, 536261, 536262, 536263, 536264, 536350, 536351, 536352, 536353, 536354, 536440, 536441, 536442, 536443, 536444, 536530, 536531, 536532, 536533, 536534, 536535, 536620, 536621, 536622, 536623, 536624, 536625, 536710, 536711, 536712, 536713, 536714, 536715, 536800, 536801, 536802, 536803, 536804, 536805, 537070, 537071, 537072, 537073, 537074, 537160, 537161, 537162, 537163, 537164, 537250, 537251, 537252, 537253, 537254, 537340, 537341, 537342, 537343, 537344, 537430, 537431, 537432, 537433, 537434, 537435, 537520, 537521, 537522, 537523, 537524, 537525, 537610, 537611, 537612, 537613, 537614, 537615, 537700, 537701, 537702, 537703, 537704, 537705, 538060, 538061, 538062, 538063, 538064, 538150, 538151, 538152, 538153, 538154, 538240, 538241, 538242, 538243, 538244, 538330, 538331, 538332, 538333, 538334, 538335, 538420, 538421, 538422, 538423, 538424, 538425, 538510, 538511, 538512, 538513, 538514, 538515, 538600, 538601, 538602, 538603, 538604, 538605, 539050, 539051, 539052, 539053, 539054, 539140, 539141, 539142, 539143, 539144, 539230, 539231, 539232, 539233, 539234, 539235, 539320, 539321, 539322, 539323, 539324, 539325, 539410, 539411, 539412, 539413, 539414, 539415, 539500, 539501, 539502, 539503, 539504, 539505, 540590, 540591, 540592, 540593, 540594, 540680, 540681, 540682, 540683, 540684, 540770, 540771, 540772, 540773, 540774, 540860, 540861, 540862, 540863, 540864, 540950, 540951, 540952, 540953, 540954, 541490, 541491, 541492, 541493, 541494, 541580, 541581, 541582, 541583, 541584, 541670, 541671, 541672, 541673, 541674, 541760, 541761, 541762, 541763, 541764, 541850, 541851, 541852, 541853, 541854, 541940, 541941, 541942, 541943, 541944, 542390, 542391, 542392, 542393, 542394, 542480, 542481, 542482, 542483, 542484, 542570, 542571, 542572, 542573, 542574, 542660, 542661, 542662, 542663, 542664, 542750, 542751, 542752, 542753, 542754, 542840, 542841, 542842, 542843, 542844, 542930, 542931, 542932, 542933, 542934, 542935, 543290, 543291, 543292, 543293, 543294, 543380, 543381, 543382, 543383, 543384, 543470, 543471, 543472, 543473, 543474, 543560, 543561, 543562, 543563, 543564, 543650, 543651, 543652, 543653, 543654, 543740, 543741, 543742, 543743, 543744, 543830, 543831, 543832, 543833, 543834, 543835, 543920, 543921, 543922, 543923, 543924, 543925, 544190, 544191, 544192, 544193, 544194, 544280, 544281, 544282, 544283, 544284, 544370, 544371, 544372, 544373, 544374, 544460, 544461, 544462, 544463, 544464, 544550, 544551, 544552, 544553, 544554, 544640, 544641, 544642, 544643, 544644, 544730, 544731, 544732, 544733, 544734, 544735, 544820, 544821, 544822, 544823, 544824, 544825, 544910, 544911, 544912, 544913, 544914, 544915, 545090, 545091, 545092, 545093, 545094, 545180, 545181, 545182, 545183, 545184, 545270, 545271, 545272, 545273, 545274, 545360, 545361, 545362, 545363, 545364, 545450, 545451, 545452, 545453, 545454, 545540, 545541, 545542, 545543, 545544, 545630, 545631, 545632, 545633, 545634, 545635, 545720, 545721, 545722, 545723, 545724, 545725, 545810, 545811, 545812, 545813, 545814, 545815, 545900, 545901, 545902, 545903, 545904, 545905, 546080, 546081, 546082, 546083, 546084, 546170, 546171, 546172, 546173, 546174, 546260, 546261, 546262, 546263, 546264, 546350, 546351, 546352, 546353, 546354, 546440, 546441, 546442, 546443, 546444, 546445, 546530, 546531, 546532, 546533, 546534, 546535, 546620, 546621, 546622, 546623, 546624, 546625, 546710, 546711, 546712, 546713, 546714, 546715, 546800, 546801, 546802, 546803, 546804, 546805, 547070, 547071, 547072, 547073, 547074, 547160, 547161, 547162, 547163, 547164, 547250, 547251, 547252, 547253, 547254, 547340, 547341, 547342, 547343, 547344, 547345, 547430, 547431, 547432, 547433, 547434, 547435, 547520, 547521, 547522, 547523, 547524, 547525, 547610, 547611, 547612, 547613, 547614, 547615, 547700, 547701, 547702, 547703, 547704, 547705, 548060, 548061, 548062, 548063, 548064, 548150, 548151, 548152, 548153, 548154, 548240, 548241, 548242, 548243, 548244, 548245, 548330, 548331, 548332, 548333, 548334, 548335, 548420, 548421, 548422, 548423, 548424, 548425, 548510, 548511, 548512, 548513, 548514, 548515, 548600, 548601, 548602, 548603, 548604, 548605, 549050, 549051, 549052, 549053, 549054, 549140, 549141, 549142, 549143, 549144, 549145, 549230, 549231, 549232, 549233, 549234, 549235, 549320, 549321, 549322, 549323, 549324, 549325, 549410, 549411, 549412, 549413, 549414, 549415, 549500, 549501, 549502, 549503, 549504, 549505, 550590, 550591, 550592, 550593, 550594, 550680, 550681, 550682, 550683, 550684, 550770, 550771, 550772, 550773, 550774, 550860, 550861, 550862, 550863, 550864, 550950, 550951, 550952, 550953, 550954, 551490, 551491, 551492, 551493, 551494, 551580, 551581, 551582, 551583, 551584, 551670, 551671, 551672, 551673, 551674, 551760, 551761, 551762, 551763, 551764, 551850, 551851, 551852, 551853, 551854, 551940, 551941, 551942, 551943, 551944, 551945, 552390, 552391, 552392, 552393, 552394, 552480, 552481, 552482, 552483, 552484, 552570, 552571, 552572, 552573, 552574, 552660, 552661, 552662, 552663, 552664, 552750, 552751, 552752, 552753, 552754, 552840, 552841, 552842, 552843, 552844, 552845, 552930, 552931, 552932, 552933, 552934, 552935, 553290, 553291, 553292, 553293, 553294, 553380, 553381, 553382, 553383, 553384, 553470, 553471, 553472, 553473, 553474, 553560, 553561, 553562, 553563, 553564, 553650, 553651, 553652, 553653, 553654, 553740, 553741, 553742, 553743, 553744, 553745, 553830, 553831, 553832, 553833, 553834, 553835, 553920, 553921, 553922, 553923, 553924, 553925, 554190, 554191, 554192, 554193, 554194, 554280, 554281, 554282, 554283, 554284, 554370, 554371, 554372, 554373, 554374, 554460, 554461, 554462, 554463, 554464, 554550, 554551, 554552, 554553, 554554, 554640, 554641, 554642, 554643, 554644, 554645, 554730, 554731, 554732, 554733, 554734, 554735, 554820, 554821, 554822, 554823, 554824, 554825, 554910, 554911, 554912, 554913, 554914, 554915, 555090, 555091, 555092, 555093, 555094, 555180, 555181, 555182, 555183, 555184, 555270, 555271, 555272, 555273, 555274, 555360, 555361, 555362, 555363, 555364, 555450, 555451, 555452, 555453, 555454, 555455, 555540, 555541, 555542, 555543, 555544, 555545, 555630, 555631, 555632, 555633, 555634, 555635, 555720, 555721, 555722, 555723, 555724, 555725, 555810, 555811, 555812, 555813, 555814, 555815, 555900, 555901, 555902, 555903, 555904, 555905, 556080, 556081, 556082, 556083, 556084, 556170, 556171, 556172, 556173, 556174, 556260, 556261, 556262, 556263, 556264, 556350, 556351, 556352, 556353, 556354, 556355, 556440, 556441, 556442, 556443, 556444, 556445, 556530, 556531, 556532, 556533, 556534, 556535, 556620, 556621, 556622, 556623, 556624, 556625, 556710, 556711, 556712, 556713, 556714, 556715, 556800, 556801, 556802, 556803, 556804, 556805, 557070, 557071, 557072, 557073, 557074, 557160, 557161, 557162, 557163, 557164, 557250, 557251, 557252, 557253, 557254, 557255, 557340, 557341, 557342, 557343, 557344, 557345, 557430, 557431, 557432, 557433, 557434, 557435, 557520, 557521, 557522, 557523, 557524, 557525, 557610, 557611, 557612, 557613, 557614, 557615, 557700, 557701, 557702, 557703, 557704, 557705, 558060, 558061, 558062, 558063, 558064, 558150, 558151, 558152, 558153, 558154, 558155, 558240, 558241, 558242, 558243, 558244, 558245, 558330, 558331, 558332, 558333, 558334, 558335, 558420, 558421, 558422, 558423, 558424, 558425, 558510, 558511, 558512, 558513, 558514, 558515, 558600, 558601, 558602, 558603, 558604, 558605, 559050, 559051, 559052, 559053, 559054, 559055, 559140, 559141, 559142, 559143, 559144, 559145, 559230, 559231, 559232, 559233, 559234, 559235, 559320, 559321, 559322, 559323, 559324, 559325, 559410, 559411, 559412, 559413, 559414, 559415, 559500, 559501, 559502, 559503, 559504, 559505, 560590, 560591, 560592, 560593, 560594, 560680, 560681, 560682, 560683, 560684, 560770, 560771, 560772, 560773, 560774, 560860, 560861, 560862, 560863, 560864, 560950, 560951, 560952, 560953, 560954, 560955, 561490, 561491, 561492, 561493, 561494, 561580, 561581, 561582, 561583, 561584, 561670, 561671, 561672, 561673, 561674, 561760, 561761, 561762, 561763, 561764, 561850, 561851, 561852, 561853, 561854, 561855, 561940, 561941, 561942, 561943, 561944, 561945, 562390, 562391, 562392, 562393, 562394, 562480, 562481, 562482, 562483, 562484, 562570, 562571, 562572, 562573, 562574, 562660, 562661, 562662, 562663, 562664, 562750, 562751, 562752, 562753, 562754, 562755, 562840, 562841, 562842, 562843, 562844, 562845, 562930, 562931, 562932, 562933, 562934, 562935, 563290, 563291, 563292, 563293, 563294, 563380, 563381, 563382, 563383, 563384, 563470, 563471, 563472, 563473, 563474, 563560, 563561, 563562, 563563, 563564, 563650, 563651, 563652, 563653, 563654, 563655, 563740, 563741, 563742, 563743, 563744, 563745, 563830, 563831, 563832, 563833, 563834, 563835, 563920, 563921, 563922, 563923, 563924, 563925, 564190, 564191, 564192, 564193, 564194, 564280, 564281, 564282, 564283, 564284, 564370, 564371, 564372, 564373, 564374, 564460, 564461, 564462, 564463, 564464, 564550, 564551, 564552, 564553, 564554, 564555, 564640, 564641, 564642, 564643, 564644, 564645, 564730, 564731, 564732, 564733, 564734, 564735, 564820, 564821, 564822, 564823, 564824, 564825, 564910, 564911, 564912, 564913, 564914, 564915, 565090, 565091, 565092, 565093, 565094, 565180, 565181, 565182, 565183, 565184, 565270, 565271, 565272, 565273, 565274, 565360, 565361, 565362, 565363, 565364, 565365, 565450, 565451, 565452, 565453, 565454, 565455, 565540, 565541, 565542, 565543, 565544, 565545, 565630, 565631, 565632, 565633, 565634, 565635, 565720, 565721, 565722, 565723, 565724, 565725, 565810, 565811, 565812, 565813, 565814, 565815, 565900, 565901, 565902, 565903, 565904, 565905, 566080, 566081, 566082, 566083, 566084, 566170, 566171, 566172, 566173, 566174, 566260, 566261, 566262, 566263, 566264, 566265, 566350, 566351, 566352, 566353, 566354, 566355, 566440, 566441, 566442, 566443, 566444, 566445, 566530, 566531, 566532, 566533, 566534, 566535, 566620, 566621, 566622, 566623, 566624, 566625, 566710, 566711, 566712, 566713, 566714, 566715, 566800, 566801, 566802, 566803, 566804, 566805, 567070, 567071, 567072, 567073, 567074, 567160, 567161, 567162, 567163, 567164, 567165, 567250, 567251, 567252, 567253, 567254, 567255, 567340, 567341, 567342, 567343, 567344, 567345, 567430, 567431, 567432, 567433, 567434, 567435, 567520, 567521, 567522, 567523, 567524, 567525, 567610, 567611, 567612, 567613, 567614, 567615, 567700, 567701, 567702, 567703, 567704, 567705, 568060, 568061, 568062, 568063, 568064, 568065, 568150, 568151, 568152, 568153, 568154, 568155, 568240, 568241, 568242, 568243, 568244, 568245, 568330, 568331, 568332, 568333, 568334, 568335, 568420, 568421, 568422, 568423, 568424, 568425, 568510, 568511, 568512, 568513, 568514, 568515, 568600, 568601, 568602, 568603, 568604, 568605, 569050, 569051, 569052, 569053, 569054, 569055, 569140, 569141, 569142, 569143, 569144, 569145, 569230, 569231, 569232, 569233, 569234, 569235, 569320, 569321, 569322, 569323, 569324, 569325, 569410, 569411, 569412, 569413, 569414, 569415, 569500, 569501, 569502, 569503, 569504, 569505, 570590, 570591, 570592, 570593, 570594, 570680, 570681, 570682, 570683, 570684, 570770, 570771, 570772, 570773, 570774, 570860, 570861, 570862, 570863, 570864, 570865, 570950, 570951, 570952, 570953, 570954, 570955, 571490, 571491, 571492, 571493, 571494, 571580, 571581, 571582, 571583, 571584, 571670, 571671, 571672, 571673, 571674, 571760, 571761, 571762, 571763, 571764, 571765, 571850, 571851, 571852, 571853, 571854, 571855, 571940, 571941, 571942, 571943, 571944, 571945, 572390, 572391, 572392, 572393, 572394, 572480, 572481, 572482, 572483, 572484, 572570, 572571, 572572, 572573, 572574, 572660, 572661, 572662, 572663, 572664, 572665, 572750, 572751, 572752, 572753, 572754, 572755, 572840, 572841, 572842, 572843, 572844, 572845, 572930, 572931, 572932, 572933, 572934, 572935, 573290, 573291, 573292, 573293, 573294, 573380, 573381, 573382, 573383, 573384, 573470, 573471, 573472, 573473, 573474, 573560, 573561, 573562, 573563, 573564, 573565, 573650, 573651, 573652, 573653, 573654, 573655, 573740, 573741, 573742, 573743, 573744, 573745, 573830, 573831, 573832, 573833, 573834, 573835, 573920, 573921, 573922, 573923, 573924, 573925, 574190, 574191, 574192, 574193, 574194, 574280, 574281, 574282, 574283, 574284, 574370, 574371, 574372, 574373, 574374, 574375, 574460, 574461, 574462, 574463, 574464, 574465, 574550, 574551, 574552, 574553, 574554, 574555, 574640, 574641, 574642, 574643, 574644, 574645, 574730, 574731, 574732, 574733, 574734, 574735, 574820, 574821, 574822, 574823, 574824, 574825, 574910, 574911, 574912, 574913, 574914, 574915, 575090, 575091, 575092, 575093, 575094, 575180, 575181, 575182, 575183, 575184, 575270, 575271, 575272, 575273, 575274, 575275, 575360, 575361, 575362, 575363, 575364, 575365, 575450, 575451, 575452, 575453, 575454, 575455, 575540, 575541, 575542, 575543, 575544, 575545, 575630, 575631, 575632, 575633, 575634, 575635, 575720, 575721, 575722, 575723, 575724, 575725, 575810, 575811, 575812, 575813, 575814, 575815, 575900, 575901, 575902, 575903, 575904, 575905, 576080, 576081, 576082, 576083, 576084, 576170, 576171, 576172, 576173, 576174, 576175, 576260, 576261, 576262, 576263, 576264, 576265, 576350, 576351, 576352, 576353, 576354, 576355, 576440, 576441, 576442, 576443, 576444, 576445, 576530, 576531, 576532, 576533, 576534, 576535, 576620, 576621, 576622, 576623, 576624, 576625, 576710, 576711, 576712, 576713, 576714, 576715, 576800, 576801, 576802, 576803, 576804, 576805, 577070, 577071, 577072, 577073, 577074, 577075, 577160, 577161, 577162, 577163, 577164, 577165, 577250, 577251, 577252, 577253, 577254, 577255, 577340, 577341, 577342, 577343, 577344, 577345, 577430, 577431, 577432, 577433, 577434, 577435, 577520, 577521, 577522, 577523, 577524, 577525, 577610, 577611, 577612, 577613, 577614, 577615, 577700, 577701, 577702, 577703, 577704, 577705, 578060, 578061, 578062, 578063, 578064, 578065, 578150, 578151, 578152, 578153, 578154, 578155, 578240, 578241, 578242, 578243, 578244, 578245, 578330, 578331, 578332, 578333, 578334, 578335, 578420, 578421, 578422, 578423, 578424, 578425, 578510, 578511, 578512, 578513, 578514, 578515, 578600, 578601, 578602, 578603, 578604, 578605, 579050, 579051, 579052, 579053, 579054, 579055, 579140, 579141, 579142, 579143, 579144, 579145, 579230, 579231, 579232, 579233, 579234, 579235, 579320, 579321, 579322, 579323, 579324, 579325, 579410, 579411, 579412, 579413, 579414, 579415, 579500, 579501, 579502, 579503, 579504, 579505, 580590, 580591, 580592, 580593, 580594, 580680, 580681, 580682, 580683, 580684, 580770, 580771, 580772, 580773, 580774, 580775, 580860, 580861, 580862, 580863, 580864, 580865, 580950, 580951, 580952, 580953, 580954, 580955, 581490, 581491, 581492, 581493, 581494, 581580, 581581, 581582, 581583, 581584, 581670, 581671, 581672, 581673, 581674, 581675, 581760, 581761, 581762, 581763, 581764, 581765, 581850, 581851, 581852, 581853, 581854, 581855, 581940, 581941, 581942, 581943, 581944, 581945, 582390, 582391, 582392, 582393, 582394, 582480, 582481, 582482, 582483, 582484, 582570, 582571, 582572, 582573, 582574, 582575, 582660, 582661, 582662, 582663, 582664, 582665, 582750, 582751, 582752, 582753, 582754, 582755, 582840, 582841, 582842, 582843, 582844, 582845, 582930, 582931, 582932, 582933, 582934, 582935, 583290, 583291, 583292, 583293, 583294, 583380, 583381, 583382, 583383, 583384, 583470, 583471, 583472, 583473, 583474, 583475, 583560, 583561, 583562, 583563, 583564, 583565, 583650, 583651, 583652, 583653, 583654, 583655, 583740, 583741, 583742, 583743, 583744, 583745, 583830, 583831, 583832, 583833, 583834, 583835, 583920, 583921, 583922, 583923, 583924, 583925, 584190, 584191, 584192, 584193, 584194, 584280, 584281, 584282, 584283, 584284, 584285, 584370, 584371, 584372, 584373, 584374, 584375, 584460, 584461, 584462, 584463, 584464, 584465, 584550, 584551, 584552, 584553, 584554, 584555, 584640, 584641, 584642, 584643, 584644, 584645, 584730, 584731, 584732, 584733, 584734, 584735, 584820, 584821, 584822, 584823, 584824, 584825, 584910, 584911, 584912, 584913, 584914, 584915, 585090, 585091, 585092, 585093, 585094, 585180, 585181, 585182, 585183, 585184, 585185, 585270, 585271, 585272, 585273, 585274, 585275, 585360, 585361, 585362, 585363, 585364, 585365, 585450, 585451, 585452, 585453, 585454, 585455, 585540, 585541, 585542, 585543, 585544, 585545, 585630, 585631, 585632, 585633, 585634, 585635, 585720, 585721, 585722, 585723, 585724, 585725, 585810, 585811, 585812, 585813, 585814, 585815, 585900, 585901, 585902, 585903, 585904, 585905, 586080, 586081, 586082, 586083, 586084, 586085, 586170, 586171, 586172, 586173, 586174, 586175, 586260, 586261, 586262, 586263, 586264, 586265, 586350, 586351, 586352, 586353, 586354, 586355, 586440, 586441, 586442, 586443, 586444, 586445, 586530, 586531, 586532, 586533, 586534, 586535, 586620, 586621, 586622, 586623, 586624, 586625, 586710, 586711, 586712, 586713, 586714, 586715, 586800, 586801, 586802, 586803, 586804, 586805, 587070, 587071, 587072, 587073, 587074, 587075, 587160, 587161, 587162, 587163, 587164, 587165, 587250, 587251, 587252, 587253, 587254, 587255, 587340, 587341, 587342, 587343, 587344, 587345, 587430, 587431, 587432, 587433, 587434, 587435, 587520, 587521, 587522, 587523, 587524, 587525, 587610, 587611, 587612, 587613, 587614, 587615, 587700, 587701, 587702, 587703, 587704, 587705, 588060, 588061, 588062, 588063, 588064, 588065, 588150, 588151, 588152, 588153, 588154, 588155, 588240, 588241, 588242, 588243, 588244, 588245, 588330, 588331, 588332, 588333, 588334, 588335, 588420, 588421, 588422, 588423, 588424, 588425, 588510, 588511, 588512, 588513, 588514, 588515, 588600, 588601, 588602, 588603, 588604, 588605, 589050, 589051, 589052, 589053, 589054, 589055, 589140, 589141, 589142, 589143, 589144, 589145, 589230, 589231, 589232, 589233, 589234, 589235, 589320, 589321, 589322, 589323, 589324, 589325, 589410, 589411, 589412, 589413, 589414, 589415, 589500, 589501, 589502, 589503, 589504, 589505, 590590, 590591, 590592, 590593, 590594, 590680, 590681, 590682, 590683, 590684, 590685, 590770, 590771, 590772, 590773, 590774, 590775, 590860, 590861, 590862, 590863, 590864, 590865, 590950, 590951, 590952, 590953, 590954, 590955, 591490, 591491, 591492, 591493, 591494, 591580, 591581, 591582, 591583, 591584, 591585, 591670, 591671, 591672, 591673, 591674, 591675, 591760, 591761, 591762, 591763, 591764, 591765, 591850, 591851, 591852, 591853, 591854, 591855, 591940, 591941, 591942, 591943, 591944, 591945, 592390, 592391, 592392, 592393, 592394, 592480, 592481, 592482, 592483, 592484, 592485, 592570, 592571, 592572, 592573, 592574, 592575, 592660, 592661, 592662, 592663, 592664, 592665, 592750, 592751, 592752, 592753, 592754, 592755, 592840, 592841, 592842, 592843, 592844, 592845, 592930, 592931, 592932, 592933, 592934, 592935, 593290, 593291, 593292, 593293, 593294, 593295, 593380, 593381, 593382, 593383, 593384, 593385, 593470, 593471, 593472, 593473, 593474, 593475, 593560, 593561, 593562, 593563, 593564, 593565, 593650, 593651, 593652, 593653, 593654, 593655, 593740, 593741, 593742, 593743, 593744, 593745, 593830, 593831, 593832, 593833, 593834, 593835, 593920, 593921, 593922, 593923, 593924, 593925, 594190, 594191, 594192, 594193, 594194, 594195, 594280, 594281, 594282, 594283, 594284, 594285, 594370, 594371, 594372, 594373, 594374, 594375, 594460, 594461, 594462, 594463, 594464, 594465, 594550, 594551, 594552, 594553, 594554, 594555, 594640, 594641, 594642, 594643, 594644, 594645, 594730, 594731, 594732, 594733, 594734, 594735, 594820, 594821, 594822, 594823, 594824, 594825, 594910, 594911, 594912, 594913, 594914, 594915, 595090, 595091, 595092, 595093, 595094, 595095, 595180, 595181, 595182, 595183, 595184, 595185, 595270, 595271, 595272, 595273, 595274, 595275, 595360, 595361, 595362, 595363, 595364, 595365, 595450, 595451, 595452, 595453, 595454, 595455, 595540, 595541, 595542, 595543, 595544, 595545, 595630, 595631, 595632, 595633, 595634, 595635, 595720, 595721, 595722, 595723, 595724, 595725, 595810, 595811, 595812, 595813, 595814, 595815, 595900, 595901, 595902, 595903, 595904, 595905, 596080, 596081, 596082, 596083, 596084, 596085, 596170, 596171, 596172, 596173, 596174, 596175, 596260, 596261, 596262, 596263, 596264, 596265, 596350, 596351, 596352, 596353, 596354, 596355, 596440, 596441, 596442, 596443, 596444, 596445, 596530, 596531, 596532, 596533, 596534, 596535, 596620, 596621, 596622, 596623, 596624, 596625, 596710, 596711, 596712, 596713, 596714, 596715, 596800, 596801, 596802, 596803, 596804, 596805, 597070, 597071, 597072, 597073, 597074, 597075, 597160, 597161, 597162, 597163, 597164, 597165, 597250, 597251, 597252, 597253, 597254, 597255, 597340, 597341, 597342, 597343, 597344, 597345, 597430, 597431, 597432, 597433, 597434, 597435, 597520, 597521, 597522, 597523, 597524, 597525, 597610, 597611, 597612, 597613, 597614, 597615, 597700, 597701, 597702, 597703, 597704, 597705, 598060, 598061, 598062, 598063, 598064, 598065, 598150, 598151, 598152, 598153, 598154, 598155, 598240, 598241, 598242, 598243, 598244, 598245, 598330, 598331, 598332, 598333, 598334, 598335, 598420, 598421, 598422, 598423, 598424, 598425, 598510, 598511, 598512, 598513, 598514, 598515, 598600, 598601, 598602, 598603, 598604, 598605, 599050, 599051, 599052, 599053, 599054, 599055, 599140, 599141, 599142, 599143, 599144, 599145, 599230, 599231, 599232, 599233, 599234, 599235, 599320, 599321, 599322, 599323, 599324, 599325, 599410, 599411, 599412, 599413, 599414, 599415, 599500, 599501, 599502, 599503, 599504, 599505, 600590, 600591, 600592, 600593, 600594, 600595, 600680, 600681, 600682, 600683, 600684, 600685, 600770, 600771, 600772, 600773, 600774, 600775, 600860, 600861, 600862, 600863, 600864, 600865, 600950, 600951, 600952, 600953, 600954, 600955, 601490, 601491, 601492, 601493, 601494, 601495, 601580, 601581, 601582, 601583, 601584, 601585, 601670, 601671, 601672, 601673, 601674, 601675, 601760, 601761, 601762, 601763, 601764, 601765, 601850, 601851, 601852, 601853, 601854, 601855, 601940, 601941, 601942, 601943, 601944, 601945, 602390, 602391, 602392, 602393, 602394, 602395, 602480, 602481, 602482, 602483, 602484, 602485, 602570, 602571, 602572, 602573, 602574, 602575, 602660, 602661, 602662, 602663, 602664, 602665, 602750, 602751, 602752, 602753, 602754, 602755, 602840, 602841, 602842, 602843, 602844, 602845, 602930, 602931, 602932, 602933, 602934, 602935, 603290, 603291, 603292, 603293, 603294, 603295, 603380, 603381, 603382, 603383, 603384, 603385, 603470, 603471, 603472, 603473, 603474, 603475, 603560, 603561, 603562, 603563, 603564, 603565, 603650, 603651, 603652, 603653, 603654, 603655, 603740, 603741, 603742, 603743, 603744, 603745, 603830, 603831, 603832, 603833, 603834, 603835, 603920, 603921, 603922, 603923, 603924, 603925, 604190, 604191, 604192, 604193, 604194, 604195, 604280, 604281, 604282, 604283, 604284, 604285, 604370, 604371, 604372, 604373, 604374, 604375, 604460, 604461, 604462, 604463, 604464, 604465, 604550, 604551, 604552, 604553, 604554, 604555, 604640, 604641, 604642, 604643, 604644, 604645, 604730, 604731, 604732, 604733, 604734, 604735, 604820, 604821, 604822, 604823, 604824, 604825, 604910, 604911, 604912, 604913, 604914, 604915, 605090, 605091, 605092, 605093, 605094, 605095, 605180, 605181, 605182, 605183, 605184, 605185, 605270, 605271, 605272, 605273, 605274, 605275, 605360, 605361, 605362, 605363, 605364, 605365, 605450, 605451, 605452, 605453, 605454, 605455, 605540, 605541, 605542, 605543, 605544, 605545, 605630, 605631, 605632, 605633, 605634, 605635, 605720, 605721, 605722, 605723, 605724, 605725, 605810, 605811, 605812, 605813, 605814, 605815, 605900, 605901, 605902, 605903, 605904, 605905, 606080, 606081, 606082, 606083, 606084, 606085, 606170, 606171, 606172, 606173, 606174, 606175, 606260, 606261, 606262, 606263, 606264, 606265, 606350, 606351, 606352, 606353, 606354, 606355, 606440, 606441, 606442, 606443, 606444, 606445, 606530, 606531, 606532, 606533, 606534, 606535, 606620, 606621, 606622, 606623, 606624, 606625, 606710, 606711, 606712, 606713, 606714, 606715, 606800, 606801, 606802, 606803, 606804, 606805, 607070, 607071, 607072, 607073, 607074, 607075, 607160, 607161, 607162, 607163, 607164, 607165, 607250, 607251, 607252, 607253, 607254, 607255, 607340, 607341, 607342, 607343, 607344, 607345, 607430, 607431, 607432, 607433, 607434, 607435, 607520, 607521, 607522, 607523, 607524, 607525, 607610, 607611, 607612, 607613, 607614, 607615, 607700, 607701, 607702, 607703, 607704, 607705, 608060, 608061, 608062, 608063, 608064, 608065, 608150, 608151, 608152, 608153, 608154, 608155, 608240, 608241, 608242, 608243, 608244, 608245, 608330, 608331, 608332, 608333, 608334, 608335, 608420, 608421, 608422, 608423, 608424, 608425, 608510, 608511, 608512, 608513, 608514, 608515, 608600, 608601, 608602, 608603, 608604, 608605, 608606, 609050, 609051, 609052, 609053, 609054, 609055, 609140, 609141, 609142, 609143, 609144, 609145, 609230, 609231, 609232, 609233, 609234, 609235, 609320, 609321, 609322, 609323, 609324, 609325, 609410, 609411, 609412, 609413, 609414, 609415, 609501, 609502, 609503, 609504, 609505, 609506, 610590, 610591, 610592, 610593, 610594, 610595, 610680, 610681, 610682, 610683, 610684, 610685, 610770, 610771, 610772, 610773, 610774, 610775, 610860, 610861, 610862, 610863, 610864, 610865, 610950, 610951, 610952, 610953, 610954, 610955, 611490, 611491, 611492, 611493, 611494, 611495, 611580, 611581, 611582, 611583, 611584, 611585, 611670, 611671, 611672, 611673, 611674, 611675, 611760, 611761, 611762, 611763, 611764, 611765, 611850, 611851, 611852, 611853, 611854, 611855, 611940, 611941, 611942, 611943, 611944, 611945, 612390, 612391, 612392, 612393, 612394, 612395, 612480, 612481, 612482, 612483, 612484, 612485, 612570, 612571, 612572, 612573, 612574, 612575, 612660, 612661, 612662, 612663, 612664, 612665, 612750, 612751, 612752, 612753, 612754, 612755, 612840, 612841, 612842, 612843, 612844, 612845, 612930, 612931, 612932, 612933, 612934, 612935, 613290, 613291, 613292, 613293, 613294, 613295, 613380, 613381, 613382, 613383, 613384, 613385, 613470, 613471, 613472, 613473, 613474, 613475, 613560, 613561, 613562, 613563, 613564, 613565, 613650, 613651, 613652, 613653, 613654, 613655, 613740, 613741, 613742, 613743, 613744, 613745, 613830, 613831, 613832, 613833, 613834, 613835, 613920, 613921, 613922, 613923, 613924, 613925, 614190, 614191, 614192, 614193, 614194, 614195, 614280, 614281, 614282, 614283, 614284, 614285, 614370, 614371, 614372, 614373, 614374, 614375, 614460, 614461, 614462, 614463, 614464, 614465, 614550, 614551, 614552, 614553, 614554, 614555, 614640, 614641, 614642, 614643, 614644, 614645, 614730, 614731, 614732, 614733, 614734, 614735, 614820, 614821, 614822, 614823, 614824, 614825, 614910, 614911, 614912, 614913, 614914, 614915, 615090, 615091, 615092, 615093, 615094, 615095, 615180, 615181, 615182, 615183, 615184, 615185, 615270, 615271, 615272, 615273, 615274, 615275, 615360, 615361, 615362, 615363, 615364, 615365, 615450, 615451, 615452, 615453, 615454, 615455, 615540, 615541, 615542, 615543, 615544, 615545, 615630, 615631, 615632, 615633, 615634, 615635, 615720, 615721, 615722, 615723, 615724, 615725, 615810, 615811, 615812, 615813, 615814, 615815, 615900, 615901, 615902, 615903, 615904, 615905, 615906, 616080, 616081, 616082, 616083, 616084, 616085, 616170, 616171, 616172, 616173, 616174, 616175, 616260, 616261, 616262, 616263, 616264, 616265, 616350, 616351, 616352, 616353, 616354, 616355, 616440, 616441, 616442, 616443, 616444, 616445, 616530, 616531, 616532, 616533, 616534, 616535, 616620, 616621, 616622, 616623, 616624, 616625, 616710, 616711, 616712, 616713, 616714, 616715, 616800, 616801, 616802, 616803, 616804, 616805, 616806, 617070, 617071, 617072, 617073, 617074, 617075, 617160, 617161, 617162, 617163, 617164, 617165, 617250, 617251, 617252, 617253, 617254, 617255, 617340, 617341, 617342, 617343, 617344, 617345, 617430, 617431, 617432, 617433, 617434, 617435, 617520, 617521, 617522, 617523, 617524, 617525, 617610, 617611, 617612, 617613, 617614, 617615, 617616, 617700, 617701, 617702, 617703, 617704, 617705, 617706, 618060, 618061, 618062, 618063, 618064, 618065, 618150, 618151, 618152, 618153, 618154, 618155, 618240, 618241, 618242, 618243, 618244, 618245, 618330, 618331, 618332, 618333, 618334, 618335, 618420, 618421, 618422, 618423, 618424, 618425, 618510, 618511, 618512, 618513, 618514, 618515, 618516, 618600, 618601, 618602, 618603, 618604, 618605, 618606, 619050, 619051, 619052, 619053, 619054, 619055, 619140, 619141, 619142, 619143, 619144, 619145, 619230, 619231, 619232, 619233, 619234, 619235, 619320, 619321, 619322, 619323, 619324, 619325, 619410, 619411, 619412, 619413, 619414, 619415, 619416, 619501, 619502, 619503, 619504, 619505, 619506, 620590, 620591, 620592, 620593, 620594, 620595, 620680, 620681, 620682, 620683, 620684, 620685, 620770, 620771, 620772, 620773, 620774, 620775, 620860, 620861, 620862, 620863, 620864, 620865, 620950, 620951, 620952, 620953, 620954, 620955, 621490, 621491, 621492, 621493, 621494, 621495, 621580, 621581, 621582, 621583, 621584, 621585, 621670, 621671, 621672, 621673, 621674, 621675, 621760, 621761, 621762, 621763, 621764, 621765, 621850, 621851, 621852, 621853, 621854, 621855, 621940, 621941, 621942, 621943, 621944, 621945, 622390, 622391, 622392, 622393, 622394, 622395, 622480, 622481, 622482, 622483, 622484, 622485, 622570, 622571, 622572, 622573, 622574, 622575, 622660, 622661, 622662, 622663, 622664, 622665, 622750, 622751, 622752, 622753, 622754, 622755, 622840, 622841, 622842, 622843, 622844, 622845, 622930, 622931, 622932, 622933, 622934, 622935, 623290, 623291, 623292, 623293, 623294, 623295, 623380, 623381, 623382, 623383, 623384, 623385, 623470, 623471, 623472, 623473, 623474, 623475, 623560, 623561, 623562, 623563, 623564, 623565, 623650, 623651, 623652, 623653, 623654, 623655, 623740, 623741, 623742, 623743, 623744, 623745, 623830, 623831, 623832, 623833, 623834, 623835, 623920, 623921, 623922, 623923, 623924, 623925, 624190, 624191, 624192, 624193, 624194, 624195, 624280, 624281, 624282, 624283, 624284, 624285, 624370, 624371, 624372, 624373, 624374, 624375, 624460, 624461, 624462, 624463, 624464, 624465, 624550, 624551, 624552, 624553, 624554, 624555, 624640, 624641, 624642, 624643, 624644, 624645, 624730, 624731, 624732, 624733, 624734, 624735, 624820, 624821, 624822, 624823, 624824, 624825, 624910, 624911, 624912, 624913, 624914, 624915, 624916, 625090, 625091, 625092, 625093, 625094, 625095, 625180, 625181, 625182, 625183, 625184, 625185, 625270, 625271, 625272, 625273, 625274, 625275, 625360, 625361, 625362, 625363, 625364, 625365, 625450, 625451, 625452, 625453, 625454, 625455, 625540, 625541, 625542, 625543, 625544, 625545, 625630, 625631, 625632, 625633, 625634, 625635, 625720, 625721, 625722, 625723, 625724, 625725, 625810, 625811, 625812, 625813, 625814, 625815, 625816, 625900, 625901, 625902, 625903, 625904, 625905, 625906, 626080, 626081, 626082, 626083, 626084, 626085, 626170, 626171, 626172, 626173, 626174, 626175, 626260, 626261, 626262, 626263, 626264, 626265, 626350, 626351, 626352, 626353, 626354, 626355, 626440, 626441, 626442, 626443, 626444, 626445, 626530, 626531, 626532, 626533, 626534, 626535, 626620, 626621, 626622, 626623, 626624, 626625, 626710, 626711, 626712, 626713, 626714, 626715, 626716, 626800, 626801, 626802, 626803, 626804, 626805, 626806, 627070, 627071, 627072, 627073, 627074, 627075, 627160, 627161, 627162, 627163, 627164, 627165, 627250, 627251, 627252, 627253, 627254, 627255, 627340, 627341, 627342, 627343, 627344, 627345, 627430, 627431, 627432, 627433, 627434, 627435, 627520, 627521, 627522, 627523, 627524, 627525, 627526, 627610, 627611, 627612, 627613, 627614, 627615, 627616, 627700, 627701, 627702, 627703, 627704, 627705, 627706, 628060, 628061, 628062, 628063, 628064, 628065, 628150, 628151, 628152, 628153, 628154, 628155, 628240, 628241, 628242, 628243, 628244, 628245, 628330, 628331, 628332, 628333, 628334, 628335, 628420, 628421, 628422, 628423, 628424, 628425, 628426, 628510, 628511, 628512, 628513, 628514, 628515, 628516, 628600, 628601, 628602, 628603, 628604, 628605, 628606, 629050, 629051, 629052, 629053, 629054, 629055, 629140, 629141, 629142, 629143, 629144, 629145, 629230, 629231, 629232, 629233, 629234, 629235, 629320, 629321, 629322, 629323, 629324, 629325, 629326, 629410, 629411, 629412, 629413, 629414, 629415, 629416, 629501, 629502, 629503, 629504, 629505, 629506, 630590, 630591, 630592, 630593, 630594, 630595, 630680, 630681, 630682, 630683, 630684, 630685, 630770, 630771, 630772, 630773, 630774, 630775, 630860, 630861, 630862, 630863, 630864, 630865, 630950, 630951, 630952, 630953, 630954, 630955, 631490, 631491, 631492, 631493, 631494, 631495, 631580, 631581, 631582, 631583, 631584, 631585, 631670, 631671, 631672, 631673, 631674, 631675, 631760, 631761, 631762, 631763, 631764, 631765, 631850, 631851, 631852, 631853, 631854, 631855, 631940, 631941, 631942, 631943, 631944, 631945, 632390, 632391, 632392, 632393, 632394, 632395, 632480, 632481, 632482, 632483, 632484, 632485, 632570, 632571, 632572, 632573, 632574, 632575, 632660, 632661, 632662, 632663, 632664, 632665, 632750, 632751, 632752, 632753, 632754, 632755, 632840, 632841, 632842, 632843, 632844, 632845, 632930, 632931, 632932, 632933, 632934, 632935, 633290, 633291, 633292, 633293, 633294, 633295, 633380, 633381, 633382, 633383, 633384, 633385, 633470, 633471, 633472, 633473, 633474, 633475, 633560, 633561, 633562, 633563, 633564, 633565, 633650, 633651, 633652, 633653, 633654, 633655, 633740, 633741, 633742, 633743, 633744, 633745, 633830, 633831, 633832, 633833, 633834, 633835, 633920, 633921, 633922, 633923, 633924, 633925, 633926, 634190, 634191, 634192, 634193, 634194, 634195, 634280, 634281, 634282, 634283, 634284, 634285, 634370, 634371, 634372, 634373, 634374, 634375, 634460, 634461, 634462, 634463, 634464, 634465, 634550, 634551, 634552, 634553, 634554, 634555, 634640, 634641, 634642, 634643, 634644, 634645, 634730, 634731, 634732, 634733, 634734, 634735, 634820, 634821, 634822, 634823, 634824, 634825, 634826, 634910, 634911, 634912, 634913, 634914, 634915, 634916, 635090, 635091, 635092, 635093, 635094, 635095, 635180, 635181, 635182, 635183, 635184, 635185, 635270, 635271, 635272, 635273, 635274, 635275, 635360, 635361, 635362, 635363, 635364, 635365, 635450, 635451, 635452, 635453, 635454, 635455, 635540, 635541, 635542, 635543, 635544, 635545, 635630, 635631, 635632, 635633, 635634, 635635, 635720, 635721, 635722, 635723, 635724, 635725, 635726, 635810, 635811, 635812, 635813, 635814, 635815, 635816, 635900, 635901, 635902, 635903, 635904, 635905, 635906, 636080, 636081, 636082, 636083, 636084, 636085, 636170, 636171, 636172, 636173, 636174, 636175, 636260, 636261, 636262, 636263, 636264, 636265, 636350, 636351, 636352, 636353, 636354, 636355, 636440, 636441, 636442, 636443, 636444, 636445, 636530, 636531, 636532, 636533, 636534, 636535, 636536, 636620, 636621, 636622, 636623, 636624, 636625, 636626, 636710, 636711, 636712, 636713, 636714, 636715, 636716, 636800, 636801, 636802, 636803, 636804, 636805, 636806, 637070, 637071, 637072, 637073, 637074, 637075, 637160, 637161, 637162, 637163, 637164, 637165, 637250, 637251, 637252, 637253, 637254, 637255, 637340, 637341, 637342, 637343, 637344, 637345, 637430, 637431, 637432, 637433, 637434, 637435, 637436, 637520, 637521, 637522, 637523, 637524, 637525, 637526, 637610, 637611, 637612, 637613, 637614, 637615, 637616, 637700, 637701, 637702, 637703, 637704, 637705, 637706, 638060, 638061, 638062, 638063, 638064, 638065, 638150, 638151, 638152, 638153, 638154, 638155, 638240, 638241, 638242, 638243, 638244, 638245, 638330, 638331, 638332, 638333, 638334, 638335, 638336, 638420, 638421, 638422, 638423, 638424, 638425, 638426, 638510, 638511, 638512, 638513, 638514, 638515, 638516, 638600, 638601, 638602, 638603, 638604, 638605, 638606, 639050, 639051, 639052, 639053, 639054, 639055, 639140, 639141, 639142, 639143, 639144, 639145, 639230, 639231, 639232, 639233, 639234, 639235, 639236, 639320, 639321, 639322, 639323, 639324, 639325, 639326, 639410, 639411, 639412, 639413, 639414, 639415, 639416, 639501, 639502, 639503, 639504, 639505, 639506, 640590, 640591, 640592, 640593, 640594, 640595, 640680, 640681, 640682, 640683, 640684, 640685, 640770, 640771, 640772, 640773, 640774, 640775, 640860, 640861, 640862, 640863, 640864, 640865, 640950, 640951, 640952, 640953, 640954, 640955, 641490, 641491, 641492, 641493, 641494, 641495, 641580, 641581, 641582, 641583, 641584, 641585, 641670, 641671, 641672, 641673, 641674, 641675, 641760, 641761, 641762, 641763, 641764, 641765, 641850, 641851, 641852, 641853, 641854, 641855, 641940, 641941, 641942, 641943, 641944, 641945, 642390, 642391, 642392, 642393, 642394, 642395, 642480, 642481, 642482, 642483, 642484, 642485, 642570, 642571, 642572, 642573, 642574, 642575, 642660, 642661, 642662, 642663, 642664, 642665, 642750, 642751, 642752, 642753, 642754, 642755, 642840, 642841, 642842, 642843, 642844, 642845, 642930, 642931, 642932, 642933, 642934, 642935, 642936, 643290, 643291, 643292, 643293, 643294, 643295, 643380, 643381, 643382, 643383, 643384, 643385, 643470, 643471, 643472, 643473, 643474, 643475, 643560, 643561, 643562, 643563, 643564, 643565, 643650, 643651, 643652, 643653, 643654, 643655, 643740, 643741, 643742, 643743, 643744, 643745, 643830, 643831, 643832, 643833, 643834, 643835, 643836, 643920, 643921, 643922, 643923, 643924, 643925, 643926, 644190, 644191, 644192, 644193, 644194, 644195, 644280, 644281, 644282, 644283, 644284, 644285, 644370, 644371, 644372, 644373, 644374, 644375, 644460, 644461, 644462, 644463, 644464, 644465, 644550, 644551, 644552, 644553, 644554, 644555, 644640, 644641, 644642, 644643, 644644, 644645, 644730, 644731, 644732, 644733, 644734, 644735, 644736, 644820, 644821, 644822, 644823, 644824, 644825, 644826, 644910, 644911, 644912, 644913, 644914, 644915, 644916, 645090, 645091, 645092, 645093, 645094, 645095, 645180, 645181, 645182, 645183, 645184, 645185, 645270, 645271, 645272, 645273, 645274, 645275, 645360, 645361, 645362, 645363, 645364, 645365, 645450, 645451, 645452, 645453, 645454, 645455, 645540, 645541, 645542, 645543, 645544, 645545, 645630, 645631, 645632, 645633, 645634, 645635, 645636, 645720, 645721, 645722, 645723, 645724, 645725, 645726, 645810, 645811, 645812, 645813, 645814, 645815, 645816, 645900, 645901, 645902, 645903, 645904, 645905, 645906, 646080, 646081, 646082, 646083, 646084, 646085, 646170, 646171, 646172, 646173, 646174, 646175, 646260, 646261, 646262, 646263, 646264, 646265, 646350, 646351, 646352, 646353, 646354, 646355, 646440, 646441, 646442, 646443, 646444, 646445, 646446, 646530, 646531, 646532, 646533, 646534, 646535, 646536, 646620, 646621, 646622, 646623, 646624, 646625, 646626, 646710, 646711, 646712, 646713, 646714, 646715, 646716, 646800, 646801, 646802, 646803, 646804, 646805, 646806, 647070, 647071, 647072, 647073, 647074, 647075, 647160, 647161, 647162, 647163, 647164, 647165, 647250, 647251, 647252, 647253, 647254, 647255, 647340, 647341, 647342, 647343, 647344, 647345, 647346, 647430, 647431, 647432, 647433, 647434, 647435, 647436, 647520, 647521, 647522, 647523, 647524, 647525, 647526, 647610, 647611, 647612, 647613, 647614, 647615, 647616, 647700, 647701, 647702, 647703, 647704, 647705, 647706, 648060, 648061, 648062, 648063, 648064, 648065, 648150, 648151, 648152, 648153, 648154, 648155, 648240, 648241, 648242, 648243, 648244, 648245, 648246, 648330, 648331, 648332, 648333, 648334, 648335, 648336, 648420, 648421, 648422, 648423, 648424, 648425, 648426, 648510, 648511, 648512, 648513, 648514, 648515, 648516, 648600, 648601, 648602, 648603, 648604, 648605, 648606, 649050, 649051, 649052, 649053, 649054, 649055, 649140, 649141, 649142, 649143, 649144, 649145, 649146, 649230, 649231, 649232, 649233, 649234, 649235, 649236, 649320, 649321, 649322, 649323, 649324, 649325, 649326, 649410, 649411, 649412, 649413, 649414, 649415, 649416, 649501, 649502, 649503, 649504, 649505, 649506, 650590, 650591, 650592, 650593, 650594, 650595, 650680, 650681, 650682, 650683, 650684, 650685, 650770, 650771, 650772, 650773, 650774, 650775, 650860, 650861, 650862, 650863, 650864, 650865, 650950, 650951, 650952, 650953, 650954, 650955, 651490, 651491, 651492, 651493, 651494, 651495, 651580, 651581, 651582, 651583, 651584, 651585, 651670, 651671, 651672, 651673, 651674, 651675, 651760, 651761, 651762, 651763, 651764, 651765, 651850, 651851, 651852, 651853, 651854, 651855, 651940, 651941, 651942, 651943, 651944, 651945, 651946, 652390, 652391, 652392, 652393, 652394, 652395, 652480, 652481, 652482, 652483, 652484, 652485, 652570, 652571, 652572, 652573, 652574, 652575, 652660, 652661, 652662, 652663, 652664, 652665, 652750, 652751, 652752, 652753, 652754, 652755, 652840, 652841, 652842, 652843, 652844, 652845, 652846, 652930, 652931, 652932, 652933, 652934, 652935, 652936, 653290, 653291, 653292, 653293, 653294, 653295, 653380, 653381, 653382, 653383, 653384, 653385, 653470, 653471, 653472, 653473, 653474, 653475, 653560, 653561, 653562, 653563, 653564, 653565, 653650, 653651, 653652, 653653, 653654, 653655, 653740, 653741, 653742, 653743, 653744, 653745, 653746, 653830, 653831, 653832, 653833, 653834, 653835, 653836, 653920, 653921, 653922, 653923, 653924, 653925, 653926, 654190, 654191, 654192, 654193, 654194, 654195, 654280, 654281, 654282, 654283, 654284, 654285, 654370, 654371, 654372, 654373, 654374, 654375, 654460, 654461, 654462, 654463, 654464, 654465, 654550, 654551, 654552, 654553, 654554, 654555, 654640, 654641, 654642, 654643, 654644, 654645, 654646, 654730, 654731, 654732, 654733, 654734, 654735, 654736, 654820, 654821, 654822, 654823, 654824, 654825, 654826, 654910, 654911, 654912, 654913, 654914, 654915, 654916, 655090, 655091, 655092, 655093, 655094, 655095, 655180, 655181, 655182, 655183, 655184, 655185, 655270, 655271, 655272, 655273, 655274, 655275, 655360, 655361, 655362, 655363, 655364, 655365, 655450, 655451, 655452, 655453, 655454, 655455, 655456, 655540, 655541, 655542, 655543, 655544, 655545, 655546, 655630, 655631, 655632, 655633, 655634, 655635, 655636, 655720, 655721, 655722, 655723, 655724, 655725, 655726, 655810, 655811, 655812, 655813, 655814, 655815, 655816, 655900, 655901, 655902, 655903, 655904, 655905, 655906, 656080, 656081, 656082, 656083, 656084, 656085, 656170, 656171, 656172, 656173, 656174, 656175, 656260, 656261, 656262, 656263, 656264, 656265, 656350, 656351, 656352, 656353, 656354, 656355, 656356, 656440, 656441, 656442, 656443, 656444, 656445, 656446, 656530, 656531, 656532, 656533, 656534, 656535, 656536, 656620, 656621, 656622, 656623, 656624, 656625, 656626, 656710, 656711, 656712, 656713, 656714, 656715, 656716, 656800, 656801, 656802, 656803, 656804, 656805, 656806, 657070, 657071, 657072, 657073, 657074, 657075, 657160, 657161, 657162, 657163, 657164, 657165, 657250, 657251, 657252, 657253, 657254, 657255, 657256, 657340, 657341, 657342, 657343, 657344, 657345, 657346, 657430, 657431, 657432, 657433, 657434, 657435, 657436, 657520, 657521, 657522, 657523, 657524, 657525, 657526, 657610, 657611, 657612, 657613, 657614, 657615, 657616, 657700, 657701, 657702, 657703, 657704, 657705, 657706, 658060, 658061, 658062, 658063, 658064, 658065, 658150, 658151, 658152, 658153, 658154, 658155, 658156, 658240, 658241, 658242, 658243, 658244, 658245, 658246, 658330, 658331, 658332, 658333, 658334, 658335, 658336, 658420, 658421, 658422, 658423, 658424, 658425, 658426, 658510, 658511, 658512, 658513, 658514, 658515, 658516, 658600, 658601, 658602, 658603, 658604, 658605, 658606, 659050, 659051, 659052, 659053, 659054, 659055, 659056, 659140, 659141, 659142, 659143, 659144, 659145, 659146, 659230, 659231, 659232, 659233, 659234, 659235, 659236, 659320, 659321, 659322, 659323, 659324, 659325, 659326, 659410, 659411, 659412, 659413, 659414, 659415, 659416, 659501, 659502, 659503, 659504, 659505, 659506, 660590, 660591, 660592, 660593, 660594, 660595, 660680, 660681, 660682, 660683, 660684, 660685, 660770, 660771, 660772, 660773, 660774, 660775, 660860, 660861, 660862, 660863, 660864, 660865, 660950, 660951, 660952, 660953, 660954, 660955, 660956, 661490, 661491, 661492, 661493, 661494, 661495, 661580, 661581, 661582, 661583, 661584, 661585, 661670, 661671, 661672, 661673, 661674, 661675, 661760, 661761, 661762, 661763, 661764, 661765, 661850, 661851, 661852, 661853, 661854, 661855, 661856, 661940, 661941, 661942, 661943, 661944, 661945, 661946, 662390, 662391, 662392, 662393, 662394, 662395, 662480, 662481, 662482, 662483, 662484, 662485, 662570, 662571, 662572, 662573, 662574, 662575, 662660, 662661, 662662, 662663, 662664, 662665, 662750, 662751, 662752, 662753, 662754, 662755, 662756, 662840, 662841, 662842, 662843, 662844, 662845, 662846, 662930, 662931, 662932, 662933, 662934, 662935, 662936, 663290, 663291, 663292, 663293, 663294, 663295, 663380, 663381, 663382, 663383, 663384, 663385, 663470, 663471, 663472, 663473, 663474, 663475, 663560, 663561, 663562, 663563, 663564, 663565, 663650, 663651, 663652, 663653, 663654, 663655, 663656, 663740, 663741, 663742, 663743, 663744, 663745, 663746, 663830, 663831, 663832, 663833, 663834, 663835, 663836, 663920, 663921, 663922, 663923, 663924, 663925, 663926, 664190, 664191, 664192, 664193, 664194, 664195, 664280, 664281, 664282, 664283, 664284, 664285, 664370, 664371, 664372, 664373, 664374, 664375, 664460, 664461, 664462, 664463, 664464, 664465, 664550, 664551, 664552, 664553, 664554, 664555, 664556, 664640, 664641, 664642, 664643, 664644, 664645, 664646, 664730, 664731, 664732, 664733, 664734, 664735, 664736, 664820, 664821, 664822, 664823, 664824, 664825, 664826, 664910, 664911, 664912, 664913, 664914, 664915, 664916, 665090, 665091, 665092, 665093, 665094, 665095, 665180, 665181, 665182, 665183, 665184, 665185, 665270, 665271, 665272, 665273, 665274, 665275, 665360, 665361, 665362, 665363, 665364, 665365, 665366, 665450, 665451, 665452, 665453, 665454, 665455, 665456, 665540, 665541, 665542, 665543, 665544, 665545, 665546, 665630, 665631, 665632, 665633, 665634, 665635, 665636, 665720, 665721, 665722, 665723, 665724, 665725, 665726, 665810, 665811, 665812, 665813, 665814, 665815, 665816, 665900, 665901, 665902, 665903, 665904, 665905, 665906, 666080, 666081, 666082, 666083, 666084, 666085, 666170, 666171, 666172, 666173, 666174, 666175, 666260, 666261, 666262, 666263, 666264, 666265, 666266, 666350, 666351, 666352, 666353, 666354, 666355, 666356, 666440, 666441, 666442, 666443, 666444, 666445, 666446, 666530, 666531, 666532, 666533, 666534, 666535, 666536, 666620, 666621, 666622, 666623, 666624, 666625, 666626, 666710, 666711, 666712, 666713, 666714, 666715, 666716, 666800, 666801, 666802, 666803, 666804, 666805, 666806, 667070, 667071, 667072, 667073, 667074, 667075, 667160, 667161, 667162, 667163, 667164, 667165, 667166, 667250, 667251, 667252, 667253, 667254, 667255, 667256, 667340, 667341, 667342, 667343, 667344, 667345, 667346, 667430, 667431, 667432, 667433, 667434, 667435, 667436, 667520, 667521, 667522, 667523, 667524, 667525, 667526, 667610, 667611, 667612, 667613, 667614, 667615, 667616, 667700, 667701, 667702, 667703, 667704, 667705, 667706, 668060, 668061, 668062, 668063, 668064, 668065, 668066, 668150, 668151, 668152, 668153, 668154, 668155, 668156, 668240, 668241, 668242, 668243, 668244, 668245, 668246, 668330, 668331, 668332, 668333, 668334, 668335, 668336, 668420, 668421, 668422, 668423, 668424, 668425, 668426, 668510, 668511, 668512, 668513, 668514, 668515, 668516, 668600, 668601, 668602, 668603, 668604, 668605, 668606, 669050, 669051, 669052, 669053, 669054, 669055, 669056, 669140, 669141, 669142, 669143, 669144, 669145, 669146, 669230, 669231, 669232, 669233, 669234, 669235, 669236, 669320, 669321, 669322, 669323, 669324, 669325, 669326, 669410, 669411, 669412, 669413, 669414, 669415, 669416, 669501, 669502, 669503, 669504, 669505, 669506, 670590, 670591, 670592, 670593, 670594, 670595, 670680, 670681, 670682, 670683, 670684, 670685, 670770, 670771, 670772, 670773, 670774, 670775, 670860, 670861, 670862, 670863, 670864, 670865, 670866, 670950, 670951, 670952, 670953, 670954, 670955, 670956, 671490, 671491, 671492, 671493, 671494, 671495, 671580, 671581, 671582, 671583, 671584, 671585, 671670, 671671, 671672, 671673, 671674, 671675, 671760, 671761, 671762, 671763, 671764, 671765, 671766, 671850, 671851, 671852, 671853, 671854, 671855, 671856, 671940, 671941, 671942, 671943, 671944, 671945, 671946, 672390, 672391, 672392, 672393, 672394, 672395, 672480, 672481, 672482, 672483, 672484, 672485, 672570, 672571, 672572, 672573, 672574, 672575, 672660, 672661, 672662, 672663, 672664, 672665, 672666, 672750, 672751, 672752, 672753, 672754, 672755, 672756, 672840, 672841, 672842, 672843, 672844, 672845, 672846, 672930, 672931, 672932, 672933, 672934, 672935, 672936, 673290, 673291, 673292, 673293, 673294, 673295, 673380, 673381, 673382, 673383, 673384, 673385, 673470, 673471, 673472, 673473, 673474, 673475, 673560, 673561, 673562, 673563, 673564, 673565, 673566, 673650, 673651, 673652, 673653, 673654, 673655, 673656, 673740, 673741, 673742, 673743, 673744, 673745, 673746, 673830, 673831, 673832, 673833, 673834, 673835, 673836, 673920, 673921, 673922, 673923, 673924, 673925, 673926, 674190, 674191, 674192, 674193, 674194, 674195, 674280, 674281, 674282, 674283, 674284, 674285, 674370, 674371, 674372, 674373, 674374, 674375, 674376, 674460, 674461, 674462, 674463, 674464, 674465, 674466, 674550, 674551, 674552, 674553, 674554, 674555, 674556, 674640, 674641, 674642, 674643, 674644, 674645, 674646, 674730, 674731, 674732, 674733, 674734, 674735, 674736, 674820, 674821, 674822, 674823, 674824, 674825, 674826, 674910, 674911, 674912, 674913, 674914, 674915, 674916, 675090, 675091, 675092, 675093, 675094, 675095, 675180, 675181, 675182, 675183, 675184, 675185, 675270, 675271, 675272, 675273, 675274, 675275, 675276, 675360, 675361, 675362, 675363, 675364, 675365, 675366, 675450, 675451, 675452, 675453, 675454, 675455, 675456, 675540, 675541, 675542, 675543, 675544, 675545, 675546, 675630, 675631, 675632, 675633, 675634, 675635, 675636, 675720, 675721, 675722, 675723, 675724, 675725, 675726, 675810, 675811, 675812, 675813, 675814, 675815, 675816, 675900, 675901, 675902, 675903, 675904, 675905, 675906, 676080, 676081, 676082, 676083, 676084, 676085, 676170, 676171, 676172, 676173, 676174, 676175, 676176, 676260, 676261, 676262, 676263, 676264, 676265, 676266, 676350, 676351, 676352, 676353, 676354, 676355, 676356, 676440, 676441, 676442, 676443, 676444, 676445, 676446, 676530, 676531, 676532, 676533, 676534, 676535, 676536, 676620, 676621, 676622, 676623, 676624, 676625, 676626, 676710, 676711, 676712, 676713, 676714, 676715, 676716, 676800, 676801, 676802, 676803, 676804, 676805, 676806, 677070, 677071, 677072, 677073, 677074, 677075, 677076, 677160, 677161, 677162, 677163, 677164, 677165, 677166, 677250, 677251, 677252, 677253, 677254, 677255, 677256, 677340, 677341, 677342, 677343, 677344, 677345, 677346, 677430, 677431, 677432, 677433, 677434, 677435, 677436, 677520, 677521, 677522, 677523, 677524, 677525, 677526, 677610, 677611, 677612, 677613, 677614, 677615, 677616, 677700, 677701, 677702, 677703, 677704, 677705, 677706, 678060, 678061, 678062, 678063, 678064, 678065, 678066, 678150, 678151, 678152, 678153, 678154, 678155, 678156, 678240, 678241, 678242, 678243, 678244, 678245, 678246, 678330, 678331, 678332, 678333, 678334, 678335, 678336, 678420, 678421, 678422, 678423, 678424, 678425, 678426, 678510, 678511, 678512, 678513, 678514, 678515, 678516, 678600, 678601, 678602, 678603, 678604, 678605, 678606, 679050, 679051, 679052, 679053, 679054, 679055, 679056, 679140, 679141, 679142, 679143, 679144, 679145, 679146, 679230, 679231, 679232, 679233, 679234, 679235, 679236, 679320, 679321, 679322, 679323, 679324, 679325, 679326, 679410, 679411, 679412, 679413, 679414, 679415, 679416, 679501, 679502, 679503, 679504, 679505, 679506, 680590, 680591, 680592, 680593, 680594, 680595, 680680, 680681, 680682, 680683, 680684, 680685, 680770, 680771, 680772, 680773, 680774, 680775, 680776, 680860, 680861, 680862, 680863, 680864, 680865, 680866, 680950, 680951, 680952, 680953, 680954, 680955, 680956, 681490, 681491, 681492, 681493, 681494, 681495, 681580, 681581, 681582, 681583, 681584, 681585, 681670, 681671, 681672, 681673, 681674, 681675, 681676, 681760, 681761, 681762, 681763, 681764, 681765, 681766, 681850, 681851, 681852, 681853, 681854, 681855, 681856, 681940, 681941, 681942, 681943, 681944, 681945, 681946, 682390, 682391, 682392, 682393, 682394, 682395, 682480, 682481, 682482, 682483, 682484, 682485, 682570, 682571, 682572, 682573, 682574, 682575, 682576, 682660, 682661, 682662, 682663, 682664, 682665, 682666, 682750, 682751, 682752, 682753, 682754, 682755, 682756, 682840, 682841, 682842, 682843, 682844, 682845, 682846, 682930, 682931, 682932, 682933, 682934, 682935, 682936, 683290, 683291, 683292, 683293, 683294, 683295, 683380, 683381, 683382, 683383, 683384, 683385, 683470, 683471, 683472, 683473, 683474, 683475, 683476, 683560, 683561, 683562, 683563, 683564, 683565, 683566, 683650, 683651, 683652, 683653, 683654, 683655, 683656, 683740, 683741, 683742, 683743, 683744, 683745, 683746, 683830, 683831, 683832, 683833, 683834, 683835, 683836, 683920, 683921, 683922, 683923, 683924, 683925, 683926, 684190, 684191, 684192, 684193, 684194, 684195, 684280, 684281, 684282, 684283, 684284, 684285, 684286, 684370, 684371, 684372, 684373, 684374, 684375, 684376, 684460, 684461, 684462, 684463, 684464, 684465, 684466, 684550, 684551, 684552, 684553, 684554, 684555, 684556, 684640, 684641, 684642, 684643, 684644, 684645, 684646, 684730, 684731, 684732, 684733, 684734, 684735, 684736, 684820, 684821, 684822, 684823, 684824, 684825, 684826, 684910, 684911, 684912, 684913, 684914, 684915, 684916, 685090, 685091, 685092, 685093, 685094, 685095, 685180, 685181, 685182, 685183, 685184, 685185, 685186, 685270, 685271, 685272, 685273, 685274, 685275, 685276, 685360, 685361, 685362, 685363, 685364, 685365, 685366, 685450, 685451, 685452, 685453, 685454, 685455, 685456, 685540, 685541, 685542, 685543, 685544, 685545, 685546, 685630, 685631, 685632, 685633, 685634, 685635, 685636, 685720, 685721, 685722, 685723, 685724, 685725, 685726, 685810, 685811, 685812, 685813, 685814, 685815, 685816, 685900, 685901, 685902, 685903, 685904, 685905, 685906, 686080, 686081, 686082, 686083, 686084, 686085, 686086, 686170, 686171, 686172, 686173, 686174, 686175, 686176, 686260, 686261, 686262, 686263, 686264, 686265, 686266, 686350, 686351, 686352, 686353, 686354, 686355, 686356, 686440, 686441, 686442, 686443, 686444, 686445, 686446, 686530, 686531, 686532, 686533, 686534, 686535, 686536, 686620, 686621, 686622, 686623, 686624, 686625, 686626, 686710, 686711, 686712, 686713, 686714, 686715, 686716, 686800, 686801, 686802, 686803, 686804, 686805, 686806, 687070, 687071, 687072, 687073, 687074, 687075, 687076, 687160, 687161, 687162, 687163, 687164, 687165, 687166, 687250, 687251, 687252, 687253, 687254, 687255, 687256, 687340, 687341, 687342, 687343, 687344, 687345, 687346, 687430, 687431, 687432, 687433, 687434, 687435, 687436, 687520, 687521, 687522, 687523, 687524, 687525, 687526, 687610, 687611, 687612, 687613, 687614, 687615, 687616, 687700, 687701, 687702, 687703, 687704, 687705, 687706, 688060, 688061, 688062, 688063, 688064, 688065, 688066, 688150, 688151, 688152, 688153, 688154, 688155, 688156, 688240, 688241, 688242, 688243, 688244, 688245, 688246, 688330, 688331, 688332, 688333, 688334, 688335, 688336, 688420, 688421, 688422, 688423, 688424, 688425, 688426, 688510, 688511, 688512, 688513, 688514, 688515, 688516, 688600, 688601, 688602, 688603, 688604, 688605, 688606, 689050, 689051, 689052, 689053, 689054, 689055, 689056, 689140, 689141, 689142, 689143, 689144, 689145, 689146, 689230, 689231, 689232, 689233, 689234, 689235, 689236, 689320, 689321, 689322, 689323, 689324, 689325, 689326, 689410, 689411, 689412, 689413, 689414, 689415, 689416, 689501, 689502, 689503, 689504, 689505, 689506, 690590, 690591, 690592, 690593, 690594, 690595, 690680, 690681, 690682, 690683, 690684, 690685, 690686, 690770, 690771, 690772, 690773, 690774, 690775, 690776, 690860, 690861, 690862, 690863, 690864, 690865, 690866, 690950, 690951, 690952, 690953, 690954, 690955, 690956, 691490, 691491, 691492, 691493, 691494, 691495, 691580, 691581, 691582, 691583, 691584, 691585, 691586, 691670, 691671, 691672, 691673, 691674, 691675, 691676, 691760, 691761, 691762, 691763, 691764, 691765, 691766, 691850, 691851, 691852, 691853, 691854, 691855, 691856, 691940, 691941, 691942, 691943, 691944, 691945, 691946, 692390, 692391, 692392, 692393, 692394, 692395, 692480, 692481, 692482, 692483, 692484, 692485, 692486, 692570, 692571, 692572, 692573, 692574, 692575, 692576, 692660, 692661, 692662, 692663, 692664, 692665, 692666, 692750, 692751, 692752, 692753, 692754, 692755, 692756, 692840, 692841, 692842, 692843, 692844, 692845, 692846, 692930, 692931, 692932, 692933, 692934, 692935, 692936, 693290, 693291, 693292, 693293, 693294, 693295, 693296, 693380, 693381, 693382, 693383, 693384, 693385, 693386, 693470, 693471, 693472, 693473, 693474, 693475, 693476, 693560, 693561, 693562, 693563, 693564, 693565, 693566, 693650, 693651, 693652, 693653, 693654, 693655, 693656, 693740, 693741, 693742, 693743, 693744, 693745, 693746, 693830, 693831, 693832, 693833, 693834, 693835, 693836, 693920, 693921, 693922, 693923, 693924, 693925, 693926, 694190, 694191, 694192, 694193, 694194, 694195, 694196, 694280, 694281, 694282, 694283, 694284, 694285, 694286, 694370, 694371, 694372, 694373, 694374, 694375, 694376, 694460, 694461, 694462, 694463, 694464, 694465, 694466, 694550, 694551, 694552, 694553, 694554, 694555, 694556, 694640, 694641, 694642, 694643, 694644, 694645, 694646, 694730, 694731, 694732, 694733, 694734, 694735, 694736, 694820, 694821, 694822, 694823, 694824, 694825, 694826, 694910, 694911, 694912, 694913, 694914, 694915, 694916, 695090, 695091, 695092, 695093, 695094, 695095, 695096, 695180, 695181, 695182, 695183, 695184, 695185, 695186, 695270, 695271, 695272, 695273, 695274, 695275, 695276, 695360, 695361, 695362, 695363, 695364, 695365, 695366, 695450, 695451, 695452, 695453, 695454, 695455, 695456, 695540, 695541, 695542, 695543, 695544, 695545, 695546, 695630, 695631, 695632, 695633, 695634, 695635, 695636, 695720, 695721, 695722, 695723, 695724, 695725, 695726, 695810, 695811, 695812, 695813, 695814, 695815, 695816, 695900, 695901, 695902, 695903, 695904, 695905, 695906, 696080, 696081, 696082, 696083, 696084, 696085, 696086, 696170, 696171, 696172, 696173, 696174, 696175, 696176, 696260, 696261, 696262, 696263, 696264, 696265, 696266, 696350, 696351, 696352, 696353, 696354, 696355, 696356, 696440, 696441, 696442, 696443, 696444, 696445, 696446, 696530, 696531, 696532, 696533, 696534, 696535, 696536, 696620, 696621, 696622, 696623, 696624, 696625, 696626, 696710, 696711, 696712, 696713, 696714, 696715, 696716, 696800, 696801, 696802, 696803, 696804, 696805, 696806, 697070, 697071, 697072, 697073, 697074, 697075, 697076, 697160, 697161, 697162, 697163, 697164, 697165, 697166, 697250, 697251, 697252, 697253, 697254, 697255, 697256, 697340, 697341, 697342, 697343, 697344, 697345, 697346, 697430, 697431, 697432, 697433, 697434, 697435, 697436, 697520, 697521, 697522, 697523, 697524, 697525, 697526, 697610, 697611, 697612, 697613, 697614, 697615, 697616, 697700, 697701, 697702, 697703, 697704, 697705, 697706, 698060, 698061, 698062, 698063, 698064, 698065, 698066, 698150, 698151, 698152, 698153, 698154, 698155, 698156, 698240, 698241, 698242, 698243, 698244, 698245, 698246, 698330, 698331, 698332, 698333, 698334, 698335, 698336, 698420, 698421, 698422, 698423, 698424, 698425, 698426, 698510, 698511, 698512, 698513, 698514, 698515, 698516, 698601, 698602, 698603, 698604, 698605, 698606, 699050, 699051, 699052, 699053, 699054, 699055, 699056, 699140, 699141, 699142, 699143, 699144, 699145, 699146, 699230, 699231, 699232, 699233, 699234, 699235, 699236, 699320, 699321, 699322, 699323, 699324, 699325, 699326, 699410, 699411, 699412, 699413, 699414, 699415, 699416, 699501, 699502, 699503, 699504, 699505, 699506, 700590, 700591, 700592, 700593, 700594, 700595, 700596, 700680, 700681, 700682, 700683, 700684, 700685, 700686, 700770, 700771, 700772, 700773, 700774, 700775, 700776, 700860, 700861, 700862, 700863, 700864, 700865, 700866, 700950, 700951, 700952, 700953, 700954, 700955, 700956, 701490, 701491, 701492, 701493, 701494, 701495, 701496, 701580, 701581, 701582, 701583, 701584, 701585, 701586, 701670, 701671, 701672, 701673, 701674, 701675, 701676, 701760, 701761, 701762, 701763, 701764, 701765, 701766, 701850, 701851, 701852, 701853, 701854, 701855, 701856, 701940, 701941, 701942, 701943, 701944, 701945, 701946, 702390, 702391, 702392, 702393, 702394, 702395, 702396, 702480, 702481, 702482, 702483, 702484, 702485, 702486, 702570, 702571, 702572, 702573, 702574, 702575, 702576, 702660, 702661, 702662, 702663, 702664, 702665, 702666, 702750, 702751, 702752, 702753, 702754, 702755, 702756, 702840, 702841, 702842, 702843, 702844, 702845, 702846, 702930, 702931, 702932, 702933, 702934, 702935, 702936, 703290, 703291, 703292, 703293, 703294, 703295, 703296, 703380, 703381, 703382, 703383, 703384, 703385, 703386, 703470, 703471, 703472, 703473, 703474, 703475, 703476, 703560, 703561, 703562, 703563, 703564, 703565, 703566, 703650, 703651, 703652, 703653, 703654, 703655, 703656, 703740, 703741, 703742, 703743, 703744, 703745, 703746, 703830, 703831, 703832, 703833, 703834, 703835, 703836, 703920, 703921, 703922, 703923, 703924, 703925, 703926, 704190, 704191, 704192, 704193, 704194, 704195, 704196, 704280, 704281, 704282, 704283, 704284, 704285, 704286, 704370, 704371, 704372, 704373, 704374, 704375, 704376, 704460, 704461, 704462, 704463, 704464, 704465, 704466, 704550, 704551, 704552, 704553, 704554, 704555, 704556, 704640, 704641, 704642, 704643, 704644, 704645, 704646, 704730, 704731, 704732, 704733, 704734, 704735, 704736, 704820, 704821, 704822, 704823, 704824, 704825, 704826, 704910, 704911, 704912, 704913, 704914, 704915, 704916, 705090, 705091, 705092, 705093, 705094, 705095, 705096, 705180, 705181, 705182, 705183, 705184, 705185, 705186, 705270, 705271, 705272, 705273, 705274, 705275, 705276, 705360, 705361, 705362, 705363, 705364, 705365, 705366, 705450, 705451, 705452, 705453, 705454, 705455, 705456, 705540, 705541, 705542, 705543, 705544, 705545, 705546, 705630, 705631, 705632, 705633, 705634, 705635, 705636, 705720, 705721, 705722, 705723, 705724, 705725, 705726, 705810, 705811, 705812, 705813, 705814, 705815, 705816, 705900, 705901, 705902, 705903, 705904, 705905, 705906, 706080, 706081, 706082, 706083, 706084, 706085, 706086, 706170, 706171, 706172, 706173, 706174, 706175, 706176, 706260, 706261, 706262, 706263, 706264, 706265, 706266, 706350, 706351, 706352, 706353, 706354, 706355, 706356, 706440, 706441, 706442, 706443, 706444, 706445, 706446, 706530, 706531, 706532, 706533, 706534, 706535, 706536, 706620, 706621, 706622, 706623, 706624, 706625, 706626, 706710, 706711, 706712, 706713, 706714, 706715, 706716, 706800, 706801, 706802, 706803, 706804, 706805, 706806, 707070, 707071, 707072, 707073, 707074, 707075, 707076, 707160, 707161, 707162, 707163, 707164, 707165, 707166, 707250, 707251, 707252, 707253, 707254, 707255, 707256, 707340, 707341, 707342, 707343, 707344, 707345, 707346, 707430, 707431, 707432, 707433, 707434, 707435, 707436, 707520, 707521, 707522, 707523, 707524, 707525, 707526, 707610, 707611, 707612, 707613, 707614, 707615, 707616, 707700, 707701, 707702, 707703, 707704, 707705, 707706, 708060, 708061, 708062, 708063, 708064, 708065, 708066, 708150, 708151, 708152, 708153, 708154, 708155, 708156, 708240, 708241, 708242, 708243, 708244, 708245, 708246, 708330, 708331, 708332, 708333, 708334, 708335, 708336, 708420, 708421, 708422, 708423, 708424, 708425, 708426, 708510, 708511, 708512, 708513, 708514, 708515, 708516, 708601, 708602, 708603, 708604, 708605, 708606, 708607, 709050, 709051, 709052, 709053, 709054, 709055, 709056, 709140, 709141, 709142, 709143, 709144, 709145, 709146, 709230, 709231, 709232, 709233, 709234, 709235, 709236, 709320, 709321, 709322, 709323, 709324, 709325, 709326, 709410, 709411, 709412, 709413, 709414, 709415, 709416, 709501, 709502, 709503, 709504, 709505, 709506, 709507, 710590, 710591, 710592, 710593, 710594, 710595, 710596, 710680, 710681, 710682, 710683, 710684, 710685, 710686, 710770, 710771, 710772, 710773, 710774, 710775, 710776, 710860, 710861, 710862, 710863, 710864, 710865, 710866, 710950, 710951, 710952, 710953, 710954, 710955, 710956, 711490, 711491, 711492, 711493, 711494, 711495, 711496, 711580, 711581, 711582, 711583, 711584, 711585, 711586, 711670, 711671, 711672, 711673, 711674, 711675, 711676, 711760, 711761, 711762, 711763, 711764, 711765, 711766, 711850, 711851, 711852, 711853, 711854, 711855, 711856, 711940, 711941, 711942, 711943, 711944, 711945, 711946, 712390, 712391, 712392, 712393, 712394, 712395, 712396, 712480, 712481, 712482, 712483, 712484, 712485, 712486, 712570, 712571, 712572, 712573, 712574, 712575, 712576, 712660, 712661, 712662, 712663, 712664, 712665, 712666, 712750, 712751, 712752, 712753, 712754, 712755, 712756, 712840, 712841, 712842, 712843, 712844, 712845, 712846, 712930, 712931, 712932, 712933, 712934, 712935, 712936, 713290, 713291, 713292, 713293, 713294, 713295, 713296, 713380, 713381, 713382, 713383, 713384, 713385, 713386, 713470, 713471, 713472, 713473, 713474, 713475, 713476, 713560, 713561, 713562, 713563, 713564, 713565, 713566, 713650, 713651, 713652, 713653, 713654, 713655, 713656, 713740, 713741, 713742, 713743, 713744, 713745, 713746, 713830, 713831, 713832, 713833, 713834, 713835, 713836, 713920, 713921, 713922, 713923, 713924, 713925, 713926, 714190, 714191, 714192, 714193, 714194, 714195, 714196, 714280, 714281, 714282, 714283, 714284, 714285, 714286, 714370, 714371, 714372, 714373, 714374, 714375, 714376, 714460, 714461, 714462, 714463, 714464, 714465, 714466, 714550, 714551, 714552, 714553, 714554, 714555, 714556, 714640, 714641, 714642, 714643, 714644, 714645, 714646, 714730, 714731, 714732, 714733, 714734, 714735, 714736, 714820, 714821, 714822, 714823, 714824, 714825, 714826, 714910, 714911, 714912, 714913, 714914, 714915, 714916, 715090, 715091, 715092, 715093, 715094, 715095, 715096, 715180, 715181, 715182, 715183, 715184, 715185, 715186, 715270, 715271, 715272, 715273, 715274, 715275, 715276, 715360, 715361, 715362, 715363, 715364, 715365, 715366, 715450, 715451, 715452, 715453, 715454, 715455, 715456, 715540, 715541, 715542, 715543, 715544, 715545, 715546, 715630, 715631, 715632, 715633, 715634, 715635, 715636, 715720, 715721, 715722, 715723, 715724, 715725, 715726, 715810, 715811, 715812, 715813, 715814, 715815, 715816, 715900, 715901, 715902, 715903, 715904, 715905, 715906, 715907, 716080, 716081, 716082, 716083, 716084, 716085, 716086, 716170, 716171, 716172, 716173, 716174, 716175, 716176, 716260, 716261, 716262, 716263, 716264, 716265, 716266, 716350, 716351, 716352, 716353, 716354, 716355, 716356, 716440, 716441, 716442, 716443, 716444, 716445, 716446, 716530, 716531, 716532, 716533, 716534, 716535, 716536, 716620, 716621, 716622, 716623, 716624, 716625, 716626, 716710, 716711, 716712, 716713, 716714, 716715, 716716, 716800, 716801, 716802, 716803, 716804, 716805, 716806, 716807, 717070, 717071, 717072, 717073, 717074, 717075, 717076, 717160, 717161, 717162, 717163, 717164, 717165, 717166, 717250, 717251, 717252, 717253, 717254, 717255, 717256, 717340, 717341, 717342, 717343, 717344, 717345, 717346, 717430, 717431, 717432, 717433, 717434, 717435, 717436, 717520, 717521, 717522, 717523, 717524, 717525, 717526, 717610, 717611, 717612, 717613, 717614, 717615, 717616, 717617, 717700, 717701, 717702, 717703, 717704, 717705, 717706, 717707, 718060, 718061, 718062, 718063, 718064, 718065, 718066, 718150, 718151, 718152, 718153, 718154, 718155, 718156, 718240, 718241, 718242, 718243, 718244, 718245, 718246, 718330, 718331, 718332, 718333, 718334, 718335, 718336, 718420, 718421, 718422, 718423, 718424, 718425, 718426, 718510, 718511, 718512, 718513, 718514, 718515, 718516, 718517, 718601, 718602, 718603, 718604, 718605, 718606, 718607, 719050, 719051, 719052, 719053, 719054, 719055, 719056, 719140, 719141, 719142, 719143, 719144, 719145, 719146, 719230, 719231, 719232, 719233, 719234, 719235, 719236, 719320, 719321, 719322, 719323, 719324, 719325, 719326, 719410, 719411, 719412, 719413, 719414, 719415, 719416, 719417, 719501, 719502, 719503, 719504, 719505, 719506, 719507, 720590, 720591, 720592, 720593, 720594, 720595, 720596, 720680, 720681, 720682, 720683, 720684, 720685, 720686, 720770, 720771, 720772, 720773, 720774, 720775, 720776, 720860, 720861, 720862, 720863, 720864, 720865, 720866, 720950, 720951, 720952, 720953, 720954, 720955, 720956, 721490, 721491, 721492, 721493, 721494, 721495, 721496, 721580, 721581, 721582, 721583, 721584, 721585, 721586, 721670, 721671, 721672, 721673, 721674, 721675, 721676, 721760, 721761, 721762, 721763, 721764, 721765, 721766, 721850, 721851, 721852, 721853, 721854, 721855, 721856, 721940, 721941, 721942, 721943, 721944, 721945, 721946, 722390, 722391, 722392, 722393, 722394, 722395, 722396, 722480, 722481, 722482, 722483, 722484, 722485, 722486, 722570, 722571, 722572, 722573, 722574, 722575, 722576, 722660, 722661, 722662, 722663, 722664, 722665, 722666, 722750, 722751, 722752, 722753, 722754, 722755, 722756, 722840, 722841, 722842, 722843, 722844, 722845, 722846, 722930, 722931, 722932, 722933, 722934, 722935, 722936, 723290, 723291, 723292, 723293, 723294, 723295, 723296, 723380, 723381, 723382, 723383, 723384, 723385, 723386, 723470, 723471, 723472, 723473, 723474, 723475, 723476, 723560, 723561, 723562, 723563, 723564, 723565, 723566, 723650, 723651, 723652, 723653, 723654, 723655, 723656, 723740, 723741, 723742, 723743, 723744, 723745, 723746, 723830, 723831, 723832, 723833, 723834, 723835, 723836, 723920, 723921, 723922, 723923, 723924, 723925, 723926, 724190, 724191, 724192, 724193, 724194, 724195, 724196, 724280, 724281, 724282, 724283, 724284, 724285, 724286, 724370, 724371, 724372, 724373, 724374, 724375, 724376, 724460, 724461, 724462, 724463, 724464, 724465, 724466, 724550, 724551, 724552, 724553, 724554, 724555, 724556, 724640, 724641, 724642, 724643, 724644, 724645, 724646, 724730, 724731, 724732, 724733, 724734, 724735, 724736, 724820, 724821, 724822, 724823, 724824, 724825, 724826, 724910, 724911, 724912, 724913, 724914, 724915, 724916, 724917, 725090, 725091, 725092, 725093, 725094, 725095, 725096, 725180, 725181, 725182, 725183, 725184, 725185, 725186, 725270, 725271, 725272, 725273, 725274, 725275, 725276, 725360, 725361, 725362, 725363, 725364, 725365, 725366, 725450, 725451, 725452, 725453, 725454, 725455, 725456, 725540, 725541, 725542, 725543, 725544, 725545, 725546, 725630, 725631, 725632, 725633, 725634, 725635, 725636, 725720, 725721, 725722, 725723, 725724, 725725, 725726, 725810, 725811, 725812, 725813, 725814, 725815, 725816, 725817, 725900, 725901, 725902, 725903, 725904, 725905, 725906, 725907, 726080, 726081, 726082, 726083, 726084, 726085, 726086, 726170, 726171, 726172, 726173, 726174, 726175, 726176, 726260, 726261, 726262, 726263, 726264, 726265, 726266, 726350, 726351, 726352, 726353, 726354, 726355, 726356, 726440, 726441, 726442, 726443, 726444, 726445, 726446, 726530, 726531, 726532, 726533, 726534, 726535, 726536, 726620, 726621, 726622, 726623, 726624, 726625, 726626, 726710, 726711, 726712, 726713, 726714, 726715, 726716, 726717, 726800, 726801, 726802, 726803, 726804, 726805, 726806, 726807, 727070, 727071, 727072, 727073, 727074, 727075, 727076, 727160, 727161, 727162, 727163, 727164, 727165, 727166, 727250, 727251, 727252, 727253, 727254, 727255, 727256, 727340, 727341, 727342, 727343, 727344, 727345, 727346, 727430, 727431, 727432, 727433, 727434, 727435, 727436, 727520, 727521, 727522, 727523, 727524, 727525, 727526, 727527, 727610, 727611, 727612, 727613, 727614, 727615, 727616, 727617, 727700, 727701, 727702, 727703, 727704, 727705, 727706, 727707, 728060, 728061, 728062, 728063, 728064, 728065, 728066, 728150, 728151, 728152, 728153, 728154, 728155, 728156, 728240, 728241, 728242, 728243, 728244, 728245, 728246, 728330, 728331, 728332, 728333, 728334, 728335, 728336, 728420, 728421, 728422, 728423, 728424, 728425, 728426, 728427, 728510, 728511, 728512, 728513, 728514, 728515, 728516, 728517, 728601, 728602, 728603, 728604, 728605, 728606, 728607, 729050, 729051, 729052, 729053, 729054, 729055, 729056, 729140, 729141, 729142, 729143, 729144, 729145, 729146, 729230, 729231, 729232, 729233, 729234, 729235, 729236, 729320, 729321, 729322, 729323, 729324, 729325, 729326, 729327, 729410, 729411, 729412, 729413, 729414, 729415, 729416, 729417, 729501, 729502, 729503, 729504, 729505, 729506, 729507, 730590, 730591, 730592, 730593, 730594, 730595, 730596, 730680, 730681, 730682, 730683, 730684, 730685, 730686, 730770, 730771, 730772, 730773, 730774, 730775, 730776, 730860, 730861, 730862, 730863, 730864, 730865, 730866, 730950, 730951, 730952, 730953, 730954, 730955, 730956, 731490, 731491, 731492, 731493, 731494, 731495, 731496, 731580, 731581, 731582, 731583, 731584, 731585, 731586, 731670, 731671, 731672, 731673, 731674, 731675, 731676, 731760, 731761, 731762, 731763, 731764, 731765, 731766, 731850, 731851, 731852, 731853, 731854, 731855, 731856, 731940, 731941, 731942, 731943, 731944, 731945, 731946, 732390, 732391, 732392, 732393, 732394, 732395, 732396, 732480, 732481, 732482, 732483, 732484, 732485, 732486, 732570, 732571, 732572, 732573, 732574, 732575, 732576, 732660, 732661, 732662, 732663, 732664, 732665, 732666, 732750, 732751, 732752, 732753, 732754, 732755, 732756, 732840, 732841, 732842, 732843, 732844, 732845, 732846, 732930, 732931, 732932, 732933, 732934, 732935, 732936, 733290, 733291, 733292, 733293, 733294, 733295, 733296, 733380, 733381, 733382, 733383, 733384, 733385, 733386, 733470, 733471, 733472, 733473, 733474, 733475, 733476, 733560, 733561, 733562, 733563, 733564, 733565, 733566, 733650, 733651, 733652, 733653, 733654, 733655, 733656, 733740, 733741, 733742, 733743, 733744, 733745, 733746, 733830, 733831, 733832, 733833, 733834, 733835, 733836, 733920, 733921, 733922, 733923, 733924, 733925, 733926, 733927, 734190, 734191, 734192, 734193, 734194, 734195, 734196, 734280, 734281, 734282, 734283, 734284, 734285, 734286, 734370, 734371, 734372, 734373, 734374, 734375, 734376, 734460, 734461, 734462, 734463, 734464, 734465, 734466, 734550, 734551, 734552, 734553, 734554, 734555, 734556, 734640, 734641, 734642, 734643, 734644, 734645, 734646, 734730, 734731, 734732, 734733, 734734, 734735, 734736, 734820, 734821, 734822, 734823, 734824, 734825, 734826, 734827, 734910, 734911, 734912, 734913, 734914, 734915, 734916, 734917, 735090, 735091, 735092, 735093, 735094, 735095, 735096, 735180, 735181, 735182, 735183, 735184, 735185, 735186, 735270, 735271, 735272, 735273, 735274, 735275, 735276, 735360, 735361, 735362, 735363, 735364, 735365, 735366, 735450, 735451, 735452, 735453, 735454, 735455, 735456, 735540, 735541, 735542, 735543, 735544, 735545, 735546, 735630, 735631, 735632, 735633, 735634, 735635, 735636, 735720, 735721, 735722, 735723, 735724, 735725, 735726, 735727, 735810, 735811, 735812, 735813, 735814, 735815, 735816, 735817, 735900, 735901, 735902, 735903, 735904, 735905, 735906, 735907, 736080, 736081, 736082, 736083, 736084, 736085, 736086, 736170, 736171, 736172, 736173, 736174, 736175, 736176, 736260, 736261, 736262, 736263, 736264, 736265, 736266, 736350, 736351, 736352, 736353, 736354, 736355, 736356, 736440, 736441, 736442, 736443, 736444, 736445, 736446, 736530, 736531, 736532, 736533, 736534, 736535, 736536, 736537, 736620, 736621, 736622, 736623, 736624, 736625, 736626, 736627, 736710, 736711, 736712, 736713, 736714, 736715, 736716, 736717, 736800, 736801, 736802, 736803, 736804, 736805, 736806, 736807, 737070, 737071, 737072, 737073, 737074, 737075, 737076, 737160, 737161, 737162, 737163, 737164, 737165, 737166, 737250, 737251, 737252, 737253, 737254, 737255, 737256, 737340, 737341, 737342, 737343, 737344, 737345, 737346, 737430, 737431, 737432, 737433, 737434, 737435, 737436, 737437, 737520, 737521, 737522, 737523, 737524, 737525, 737526, 737527, 737610, 737611, 737612, 737613, 737614, 737615, 737616, 737617, 737700, 737701, 737702, 737703, 737704, 737705, 737706, 737707, 738060, 738061, 738062, 738063, 738064, 738065, 738066, 738150, 738151, 738152, 738153, 738154, 738155, 738156, 738240, 738241, 738242, 738243, 738244, 738245, 738246, 738330, 738331, 738332, 738333, 738334, 738335, 738336, 738337, 738420, 738421, 738422, 738423, 738424, 738425, 738426, 738427, 738510, 738511, 738512, 738513, 738514, 738515, 738516, 738517, 738601, 738602, 738603, 738604, 738605, 738606, 738607, 739050, 739051, 739052, 739053, 739054, 739055, 739056, 739140, 739141, 739142, 739143, 739144, 739145, 739146, 739230, 739231, 739232, 739233, 739234, 739235, 739236, 739237, 739320, 739321, 739322, 739323, 739324, 739325, 739326, 739327, 739410, 739411, 739412, 739413, 739414, 739415, 739416, 739417, 739501, 739502, 739503, 739504, 739505, 739506, 739507, 740590, 740591, 740592, 740593, 740594, 740595, 740596, 740680, 740681, 740682, 740683, 740684, 740685, 740686, 740770, 740771, 740772, 740773, 740774, 740775, 740776, 740860, 740861, 740862, 740863, 740864, 740865, 740866, 740950, 740951, 740952, 740953, 740954, 740955, 740956, 741490, 741491, 741492, 741493, 741494, 741495, 741496, 741580, 741581, 741582, 741583, 741584, 741585, 741586, 741670, 741671, 741672, 741673, 741674, 741675, 741676, 741760, 741761, 741762, 741763, 741764, 741765, 741766, 741850, 741851, 741852, 741853, 741854, 741855, 741856, 741940, 741941, 741942, 741943, 741944, 741945, 741946, 742390, 742391, 742392, 742393, 742394, 742395, 742396, 742480, 742481, 742482, 742483, 742484, 742485, 742486, 742570, 742571, 742572, 742573, 742574, 742575, 742576, 742660, 742661, 742662, 742663, 742664, 742665, 742666, 742750, 742751, 742752, 742753, 742754, 742755, 742756, 742840, 742841, 742842, 742843, 742844, 742845, 742846, 742930, 742931, 742932, 742933, 742934, 742935, 742936, 742937, 743290, 743291, 743292, 743293, 743294, 743295, 743296, 743380, 743381, 743382, 743383, 743384, 743385, 743386, 743470, 743471, 743472, 743473, 743474, 743475, 743476, 743560, 743561, 743562, 743563, 743564, 743565, 743566, 743650, 743651, 743652, 743653, 743654, 743655, 743656, 743740, 743741, 743742, 743743, 743744, 743745, 743746, 743830, 743831, 743832, 743833, 743834, 743835, 743836, 743837, 743920, 743921, 743922, 743923, 743924, 743925, 743926, 743927, 744190, 744191, 744192, 744193, 744194, 744195, 744196, 744280, 744281, 744282, 744283, 744284, 744285, 744286, 744370, 744371, 744372, 744373, 744374, 744375, 744376, 744460, 744461, 744462, 744463, 744464, 744465, 744466, 744550, 744551, 744552, 744553, 744554, 744555, 744556, 744640, 744641, 744642, 744643, 744644, 744645, 744646, 744730, 744731, 744732, 744733, 744734, 744735, 744736, 744737, 744820, 744821, 744822, 744823, 744824, 744825, 744826, 744827, 744910, 744911, 744912, 744913, 744914, 744915, 744916, 744917, 745090, 745091, 745092, 745093, 745094, 745095, 745096, 745180, 745181, 745182, 745183, 745184, 745185, 745186, 745270, 745271, 745272, 745273, 745274, 745275, 745276, 745360, 745361, 745362, 745363, 745364, 745365, 745366, 745450, 745451, 745452, 745453, 745454, 745455, 745456, 745540, 745541, 745542, 745543, 745544, 745545, 745546, 745630, 745631, 745632, 745633, 745634, 745635, 745636, 745637, 745720, 745721, 745722, 745723, 745724, 745725, 745726, 745727, 745810, 745811, 745812, 745813, 745814, 745815, 745816, 745817, 745900, 745901, 745902, 745903, 745904, 745905, 745906, 745907, 746080, 746081, 746082, 746083, 746084, 746085, 746086, 746170, 746171, 746172, 746173, 746174, 746175, 746176, 746260, 746261, 746262, 746263, 746264, 746265, 746266, 746350, 746351, 746352, 746353, 746354, 746355, 746356, 746440, 746441, 746442, 746443, 746444, 746445, 746446, 746447, 746530, 746531, 746532, 746533, 746534, 746535, 746536, 746537, 746620, 746621, 746622, 746623, 746624, 746625, 746626, 746627, 746710, 746711, 746712, 746713, 746714, 746715, 746716, 746717, 746800, 746801, 746802, 746803, 746804, 746805, 746806, 746807, 747070, 747071, 747072, 747073, 747074, 747075, 747076, 747160, 747161, 747162, 747163, 747164, 747165, 747166, 747250, 747251, 747252, 747253, 747254, 747255, 747256, 747340, 747341, 747342, 747343, 747344, 747345, 747346, 747347, 747430, 747431, 747432, 747433, 747434, 747435, 747436, 747437, 747520, 747521, 747522, 747523, 747524, 747525, 747526, 747527, 747610, 747611, 747612, 747613, 747614, 747615, 747616, 747617, 747700, 747701, 747702, 747703, 747704, 747705, 747706, 747707, 748060, 748061, 748062, 748063, 748064, 748065, 748066, 748150, 748151, 748152, 748153, 748154, 748155, 748156, 748240, 748241, 748242, 748243, 748244, 748245, 748246, 748247, 748330, 748331, 748332, 748333, 748334, 748335, 748336, 748337, 748420, 748421, 748422, 748423, 748424, 748425, 748426, 748427, 748510, 748511, 748512, 748513, 748514, 748515, 748516, 748517, 748601, 748602, 748603, 748604, 748605, 748606, 748607, 749050, 749051, 749052, 749053, 749054, 749055, 749056, 749140, 749141, 749142, 749143, 749144, 749145, 749146, 749147, 749230, 749231, 749232, 749233, 749234, 749235, 749236, 749237, 749320, 749321, 749322, 749323, 749324, 749325, 749326, 749327, 749410, 749411, 749412, 749413, 749414, 749415, 749416, 749417, 749501, 749502, 749503, 749504, 749505, 749506, 749507, 750590, 750591, 750592, 750593, 750594, 750595, 750596, 750680, 750681, 750682, 750683, 750684, 750685, 750686, 750770, 750771, 750772, 750773, 750774, 750775, 750776, 750860, 750861, 750862, 750863, 750864, 750865, 750866, 750950, 750951, 750952, 750953, 750954, 750955, 750956, 751490, 751491, 751492, 751493, 751494, 751495, 751496, 751580, 751581, 751582, 751583, 751584, 751585, 751586, 751670, 751671, 751672, 751673, 751674, 751675, 751676, 751760, 751761, 751762, 751763, 751764, 751765, 751766, 751850, 751851, 751852, 751853, 751854, 751855, 751856, 751940, 751941, 751942, 751943, 751944, 751945, 751946, 751947, 752390, 752391, 752392, 752393, 752394, 752395, 752396, 752480, 752481, 752482, 752483, 752484, 752485, 752486, 752570, 752571, 752572, 752573, 752574, 752575, 752576, 752660, 752661, 752662, 752663, 752664, 752665, 752666, 752750, 752751, 752752, 752753, 752754, 752755, 752756, 752840, 752841, 752842, 752843, 752844, 752845, 752846, 752847, 752930, 752931, 752932, 752933, 752934, 752935, 752936, 752937, 753290, 753291, 753292, 753293, 753294, 753295, 753296, 753380, 753381, 753382, 753383, 753384, 753385, 753386, 753470, 753471, 753472, 753473, 753474, 753475, 753476, 753560, 753561, 753562, 753563, 753564, 753565, 753566, 753650, 753651, 753652, 753653, 753654, 753655, 753656, 753740, 753741, 753742, 753743, 753744, 753745, 753746, 753747, 753830, 753831, 753832, 753833, 753834, 753835, 753836, 753837, 753920, 753921, 753922, 753923, 753924, 753925, 753926, 753927, 754190, 754191, 754192, 754193, 754194, 754195, 754196, 754280, 754281, 754282, 754283, 754284, 754285, 754286, 754370, 754371, 754372, 754373, 754374, 754375, 754376, 754460, 754461, 754462, 754463, 754464, 754465, 754466, 754550, 754551, 754552, 754553, 754554, 754555, 754556, 754640, 754641, 754642, 754643, 754644, 754645, 754646, 754647, 754730, 754731, 754732, 754733, 754734, 754735, 754736, 754737, 754820, 754821, 754822, 754823, 754824, 754825, 754826, 754827, 754910, 754911, 754912, 754913, 754914, 754915, 754916, 754917, 755090, 755091, 755092, 755093, 755094, 755095, 755096, 755180, 755181, 755182, 755183, 755184, 755185, 755186, 755270, 755271, 755272, 755273, 755274, 755275, 755276, 755360, 755361, 755362, 755363, 755364, 755365, 755366, 755450, 755451, 755452, 755453, 755454, 755455, 755456, 755457, 755540, 755541, 755542, 755543, 755544, 755545, 755546, 755547, 755630, 755631, 755632, 755633, 755634, 755635, 755636, 755637, 755720, 755721, 755722, 755723, 755724, 755725, 755726, 755727, 755810, 755811, 755812, 755813, 755814, 755815, 755816, 755817, 755900, 755901, 755902, 755903, 755904, 755905, 755906, 755907, 756080, 756081, 756082, 756083, 756084, 756085, 756086, 756170, 756171, 756172, 756173, 756174, 756175, 756176, 756260, 756261, 756262, 756263, 756264, 756265, 756266, 756350, 756351, 756352, 756353, 756354, 756355, 756356, 756357, 756440, 756441, 756442, 756443, 756444, 756445, 756446, 756447, 756530, 756531, 756532, 756533, 756534, 756535, 756536, 756537, 756620, 756621, 756622, 756623, 756624, 756625, 756626, 756627, 756710, 756711, 756712, 756713, 756714, 756715, 756716, 756717, 756800, 756801, 756802, 756803, 756804, 756805, 756806, 756807, 757070, 757071, 757072, 757073, 757074, 757075, 757076, 757160, 757161, 757162, 757163, 757164, 757165, 757166, 757250, 757251, 757252, 757253, 757254, 757255, 757256, 757257, 757340, 757341, 757342, 757343, 757344, 757345, 757346, 757347, 757430, 757431, 757432, 757433, 757434, 757435, 757436, 757437, 757520, 757521, 757522, 757523, 757524, 757525, 757526, 757527, 757610, 757611, 757612, 757613, 757614, 757615, 757616, 757617, 757700, 757701, 757702, 757703, 757704, 757705, 757706, 757707, 758060, 758061, 758062, 758063, 758064, 758065, 758066, 758150, 758151, 758152, 758153, 758154, 758155, 758156, 758157, 758240, 758241, 758242, 758243, 758244, 758245, 758246, 758247, 758330, 758331, 758332, 758333, 758334, 758335, 758336, 758337, 758420, 758421, 758422, 758423, 758424, 758425, 758426, 758427, 758510, 758511, 758512, 758513, 758514, 758515, 758516, 758517, 758601, 758602, 758603, 758604, 758605, 758606, 758607, 759050, 759051, 759052, 759053, 759054, 759055, 759056, 759057, 759140, 759141, 759142, 759143, 759144, 759145, 759146, 759147, 759230, 759231, 759232, 759233, 759234, 759235, 759236, 759237, 759320, 759321, 759322, 759323, 759324, 759325, 759326, 759327, 759410, 759411, 759412, 759413, 759414, 759415, 759416, 759417, 759501, 759502, 759503, 759504, 759505, 759506, 759507, 760590, 760591, 760592, 760593, 760594, 760595, 760596, 760680, 760681, 760682, 760683, 760684, 760685, 760686, 760770, 760771, 760772, 760773, 760774, 760775, 760776, 760860, 760861, 760862, 760863, 760864, 760865, 760866, 760950, 760951, 760952, 760953, 760954, 760955, 760956, 760957, 761490, 761491, 761492, 761493, 761494, 761495, 761496, 761580, 761581, 761582, 761583, 761584, 761585, 761586, 761670, 761671, 761672, 761673, 761674, 761675, 761676, 761760, 761761, 761762, 761763, 761764, 761765, 761766, 761850, 761851, 761852, 761853, 761854, 761855, 761856, 761857, 761940, 761941, 761942, 761943, 761944, 761945, 761946, 761947, 762390, 762391, 762392, 762393, 762394, 762395, 762396, 762480, 762481, 762482, 762483, 762484, 762485, 762486, 762570, 762571, 762572, 762573, 762574, 762575, 762576, 762660, 762661, 762662, 762663, 762664, 762665, 762666, 762750, 762751, 762752, 762753, 762754, 762755, 762756, 762757, 762840, 762841, 762842, 762843, 762844, 762845, 762846, 762847, 762930, 762931, 762932, 762933, 762934, 762935, 762936, 762937, 763290, 763291, 763292, 763293, 763294, 763295, 763296, 763380, 763381, 763382, 763383, 763384, 763385, 763386, 763470, 763471, 763472, 763473, 763474, 763475, 763476, 763560, 763561, 763562, 763563, 763564, 763565, 763566, 763650, 763651, 763652, 763653, 763654, 763655, 763656, 763657, 763740, 763741, 763742, 763743, 763744, 763745, 763746, 763747, 763830, 763831, 763832, 763833, 763834, 763835, 763836, 763837, 763920, 763921, 763922, 763923, 763924, 763925, 763926, 763927, 764190, 764191, 764192, 764193, 764194, 764195, 764196, 764280, 764281, 764282, 764283, 764284, 764285, 764286, 764370, 764371, 764372, 764373, 764374, 764375, 764376, 764460, 764461, 764462, 764463, 764464, 764465, 764466, 764550, 764551, 764552, 764553, 764554, 764555, 764556, 764557, 764640, 764641, 764642, 764643, 764644, 764645, 764646, 764647, 764730, 764731, 764732, 764733, 764734, 764735, 764736, 764737, 764820, 764821, 764822, 764823, 764824, 764825, 764826, 764827, 764910, 764911, 764912, 764913, 764914, 764915, 764916, 764917, 765090, 765091, 765092, 765093, 765094, 765095, 765096, 765180, 765181, 765182, 765183, 765184, 765185, 765186, 765270, 765271, 765272, 765273, 765274, 765275, 765276, 765360, 765361, 765362, 765363, 765364, 765365, 765366, 765367, 765450, 765451, 765452, 765453, 765454, 765455, 765456, 765457, 765540, 765541, 765542, 765543, 765544, 765545, 765546, 765547, 765630, 765631, 765632, 765633, 765634, 765635, 765636, 765637, 765720, 765721, 765722, 765723, 765724, 765725, 765726, 765727, 765810, 765811, 765812, 765813, 765814, 765815, 765816, 765817, 765900, 765901, 765902, 765903, 765904, 765905, 765906, 765907, 766080, 766081, 766082, 766083, 766084, 766085, 766086, 766170, 766171, 766172, 766173, 766174, 766175, 766176, 766260, 766261, 766262, 766263, 766264, 766265, 766266, 766267, 766350, 766351, 766352, 766353, 766354, 766355, 766356, 766357, 766440, 766441, 766442, 766443, 766444, 766445, 766446, 766447, 766530, 766531, 766532, 766533, 766534, 766535, 766536, 766537, 766620, 766621, 766622, 766623, 766624, 766625, 766626, 766627, 766710, 766711, 766712, 766713, 766714, 766715, 766716, 766717, 766800, 766801, 766802, 766803, 766804, 766805, 766806, 766807, 767070, 767071, 767072, 767073, 767074, 767075, 767076, 767160, 767161, 767162, 767163, 767164, 767165, 767166, 767167, 767250, 767251, 767252, 767253, 767254, 767255, 767256, 767257, 767340, 767341, 767342, 767343, 767344, 767345, 767346, 767347, 767430, 767431, 767432, 767433, 767434, 767435, 767436, 767437, 767520, 767521, 767522, 767523, 767524, 767525, 767526, 767527, 767610, 767611, 767612, 767613, 767614, 767615, 767616, 767617, 767700, 767701, 767702, 767703, 767704, 767705, 767706, 767707, 768060, 768061, 768062, 768063, 768064, 768065, 768066, 768067, 768150, 768151, 768152, 768153, 768154, 768155, 768156, 768157, 768240, 768241, 768242, 768243, 768244, 768245, 768246, 768247, 768330, 768331, 768332, 768333, 768334, 768335, 768336, 768337, 768420, 768421, 768422, 768423, 768424, 768425, 768426, 768427, 768510, 768511, 768512, 768513, 768514, 768515, 768516, 768517, 768601, 768602, 768603, 768604, 768605, 768606, 768607, 769050, 769051, 769052, 769053, 769054, 769055, 769056, 769057, 769140, 769141, 769142, 769143, 769144, 769145, 769146, 769147, 769230, 769231, 769232, 769233, 769234, 769235, 769236, 769237, 769320, 769321, 769322, 769323, 769324, 769325, 769326, 769327, 769410, 769411, 769412, 769413, 769414, 769415, 769416, 769417, 769501, 769502, 769503, 769504, 769505, 769506, 769507, 770590, 770591, 770592, 770593, 770594, 770595, 770596, 770680, 770681, 770682, 770683, 770684, 770685, 770686, 770770, 770771, 770772, 770773, 770774, 770775, 770776, 770860, 770861, 770862, 770863, 770864, 770865, 770866, 770867, 770950, 770951, 770952, 770953, 770954, 770955, 770956, 770957, 771490, 771491, 771492, 771493, 771494, 771495, 771496, 771580, 771581, 771582, 771583, 771584, 771585, 771586, 771670, 771671, 771672, 771673, 771674, 771675, 771676, 771760, 771761, 771762, 771763, 771764, 771765, 771766, 771767, 771850, 771851, 771852, 771853, 771854, 771855, 771856, 771857, 771940, 771941, 771942, 771943, 771944, 771945, 771946, 771947, 772390, 772391, 772392, 772393, 772394, 772395, 772396, 772480, 772481, 772482, 772483, 772484, 772485, 772486, 772570, 772571, 772572, 772573, 772574, 772575, 772576, 772660, 772661, 772662, 772663, 772664, 772665, 772666, 772667, 772750, 772751, 772752, 772753, 772754, 772755, 772756, 772757, 772840, 772841, 772842, 772843, 772844, 772845, 772846, 772847, 772930, 772931, 772932, 772933, 772934, 772935, 772936, 772937, 773290, 773291, 773292, 773293, 773294, 773295, 773296, 773380, 773381, 773382, 773383, 773384, 773385, 773386, 773470, 773471, 773472, 773473, 773474, 773475, 773476, 773560, 773561, 773562, 773563, 773564, 773565, 773566, 773567, 773650, 773651, 773652, 773653, 773654, 773655, 773656, 773657, 773740, 773741, 773742, 773743, 773744, 773745, 773746, 773747, 773830, 773831, 773832, 773833, 773834, 773835, 773836, 773837, 773920, 773921, 773922, 773923, 773924, 773925, 773926, 773927, 774190, 774191, 774192, 774193, 774194, 774195, 774196, 774280, 774281, 774282, 774283, 774284, 774285, 774286, 774370, 774371, 774372, 774373, 774374, 774375, 774376, 774377, 774460, 774461, 774462, 774463, 774464, 774465, 774466, 774467, 774550, 774551, 774552, 774553, 774554, 774555, 774556, 774557, 774640, 774641, 774642, 774643, 774644, 774645, 774646, 774647, 774730, 774731, 774732, 774733, 774734, 774735, 774736, 774737, 774820, 774821, 774822, 774823, 774824, 774825, 774826, 774827, 774910, 774911, 774912, 774913, 774914, 774915, 774916, 774917, 775090, 775091, 775092, 775093, 775094, 775095, 775096, 775180, 775181, 775182, 775183, 775184, 775185, 775186, 775270, 775271, 775272, 775273, 775274, 775275, 775276, 775277, 775360, 775361, 775362, 775363, 775364, 775365, 775366, 775367, 775450, 775451, 775452, 775453, 775454, 775455, 775456, 775457, 775540, 775541, 775542, 775543, 775544, 775545, 775546, 775547, 775630, 775631, 775632, 775633, 775634, 775635, 775636, 775637, 775720, 775721, 775722, 775723, 775724, 775725, 775726, 775727, 775810, 775811, 775812, 775813, 775814, 775815, 775816, 775817, 775900, 775901, 775902, 775903, 775904, 775905, 775906, 775907, 776080, 776081, 776082, 776083, 776084, 776085, 776086, 776170, 776171, 776172, 776173, 776174, 776175, 776176, 776177, 776260, 776261, 776262, 776263, 776264, 776265, 776266, 776267, 776350, 776351, 776352, 776353, 776354, 776355, 776356, 776357, 776440, 776441, 776442, 776443, 776444, 776445, 776446, 776447, 776530, 776531, 776532, 776533, 776534, 776535, 776536, 776537, 776620, 776621, 776622, 776623, 776624, 776625, 776626, 776627, 776710, 776711, 776712, 776713, 776714, 776715, 776716, 776717, 776800, 776801, 776802, 776803, 776804, 776805, 776806, 776807, 777070, 777071, 777072, 777073, 777074, 777075, 777076, 777077, 777160, 777161, 777162, 777163, 777164, 777165, 777166, 777167, 777250, 777251, 777252, 777253, 777254, 777255, 777256, 777257, 777340, 777341, 777342, 777343, 777344, 777345, 777346, 777347, 777430, 777431, 777432, 777433, 777434, 777435, 777436, 777437, 777520, 777521, 777522, 777523, 777524, 777525, 777526, 777527, 777610, 777611, 777612, 777613, 777614, 777615, 777616, 777617, 777700, 777701, 777702, 777703, 777704, 777705, 777706, 777707, 778060, 778061, 778062, 778063, 778064, 778065, 778066, 778067, 778150, 778151, 778152, 778153, 778154, 778155, 778156, 778157, 778240, 778241, 778242, 778243, 778244, 778245, 778246, 778247, 778330, 778331, 778332, 778333, 778334, 778335, 778336, 778337, 778420, 778421, 778422, 778423, 778424, 778425, 778426, 778427, 778510, 778511, 778512, 778513, 778514, 778515, 778516, 778517, 778601, 778602, 778603, 778604, 778605, 778606, 778607, 779050, 779051, 779052, 779053, 779054, 779055, 779056, 779057, 779140, 779141, 779142, 779143, 779144, 779145, 779146, 779147, 779230, 779231, 779232, 779233, 779234, 779235, 779236, 779237, 779320, 779321, 779322, 779323, 779324, 779325, 779326, 779327, 779410, 779411, 779412, 779413, 779414, 779415, 779416, 779417, 779501, 779502, 779503, 779504, 779505, 779506, 779507, 780590, 780591, 780592, 780593, 780594, 780595, 780596, 780680, 780681, 780682, 780683, 780684, 780685, 780686, 780770, 780771, 780772, 780773, 780774, 780775, 780776, 780777, 780860, 780861, 780862, 780863, 780864, 780865, 780866, 780867, 780950, 780951, 780952, 780953, 780954, 780955, 780956, 780957, 781490, 781491, 781492, 781493, 781494, 781495, 781496, 781580, 781581, 781582, 781583, 781584, 781585, 781586, 781670, 781671, 781672, 781673, 781674, 781675, 781676, 781677, 781760, 781761, 781762, 781763, 781764, 781765, 781766, 781767, 781850, 781851, 781852, 781853, 781854, 781855, 781856, 781857, 781940, 781941, 781942, 781943, 781944, 781945, 781946, 781947, 782390, 782391, 782392, 782393, 782394, 782395, 782396, 782480, 782481, 782482, 782483, 782484, 782485, 782486, 782570, 782571, 782572, 782573, 782574, 782575, 782576, 782577, 782660, 782661, 782662, 782663, 782664, 782665, 782666, 782667, 782750, 782751, 782752, 782753, 782754, 782755, 782756, 782757, 782840, 782841, 782842, 782843, 782844, 782845, 782846, 782847, 782930, 782931, 782932, 782933, 782934, 782935, 782936, 782937, 783290, 783291, 783292, 783293, 783294, 783295, 783296, 783380, 783381, 783382, 783383, 783384, 783385, 783386, 783470, 783471, 783472, 783473, 783474, 783475, 783476, 783477, 783560, 783561, 783562, 783563, 783564, 783565, 783566, 783567, 783650, 783651, 783652, 783653, 783654, 783655, 783656, 783657, 783740, 783741, 783742, 783743, 783744, 783745, 783746, 783747, 783830, 783831, 783832, 783833, 783834, 783835, 783836, 783837, 783920, 783921, 783922, 783923, 783924, 783925, 783926, 783927, 784190, 784191, 784192, 784193, 784194, 784195, 784196, 784280, 784281, 784282, 784283, 784284, 784285, 784286, 784287, 784370, 784371, 784372, 784373, 784374, 784375, 784376, 784377, 784460, 784461, 784462, 784463, 784464, 784465, 784466, 784467, 784550, 784551, 784552, 784553, 784554, 784555, 784556, 784557, 784640, 784641, 784642, 784643, 784644, 784645, 784646, 784647, 784730, 784731, 784732, 784733, 784734, 784735, 784736, 784737, 784820, 784821, 784822, 784823, 784824, 784825, 784826, 784827, 784910, 784911, 784912, 784913, 784914, 784915, 784916, 784917, 785090, 785091, 785092, 785093, 785094, 785095, 785096, 785180, 785181, 785182, 785183, 785184, 785185, 785186, 785187, 785270, 785271, 785272, 785273, 785274, 785275, 785276, 785277, 785360, 785361, 785362, 785363, 785364, 785365, 785366, 785367, 785450, 785451, 785452, 785453, 785454, 785455, 785456, 785457, 785540, 785541, 785542, 785543, 785544, 785545, 785546, 785547, 785630, 785631, 785632, 785633, 785634, 785635, 785636, 785637, 785720, 785721, 785722, 785723, 785724, 785725, 785726, 785727, 785810, 785811, 785812, 785813, 785814, 785815, 785816, 785817, 785900, 785901, 785902, 785903, 785904, 785905, 785906, 785907, 786080, 786081, 786082, 786083, 786084, 786085, 786086, 786087, 786170, 786171, 786172, 786173, 786174, 786175, 786176, 786177, 786260, 786261, 786262, 786263, 786264, 786265, 786266, 786267, 786350, 786351, 786352, 786353, 786354, 786355, 786356, 786357, 786440, 786441, 786442, 786443, 786444, 786445, 786446, 786447, 786530, 786531, 786532, 786533, 786534, 786535, 786536, 786537, 786620, 786621, 786622, 786623, 786624, 786625, 786626, 786627, 786710, 786711, 786712, 786713, 786714, 786715, 786716, 786717, 786800, 786801, 786802, 786803, 786804, 786805, 786806, 786807, 787070, 787071, 787072, 787073, 787074, 787075, 787076, 787077, 787160, 787161, 787162, 787163, 787164, 787165, 787166, 787167, 787250, 787251, 787252, 787253, 787254, 787255, 787256, 787257, 787340, 787341, 787342, 787343, 787344, 787345, 787346, 787347, 787430, 787431, 787432, 787433, 787434, 787435, 787436, 787437, 787520, 787521, 787522, 787523, 787524, 787525, 787526, 787527, 787610, 787611, 787612, 787613, 787614, 787615, 787616, 787617, 787701, 787702, 787703, 787704, 787705, 787706, 787707, 788060, 788061, 788062, 788063, 788064, 788065, 788066, 788067, 788150, 788151, 788152, 788153, 788154, 788155, 788156, 788157, 788240, 788241, 788242, 788243, 788244, 788245, 788246, 788247, 788330, 788331, 788332, 788333, 788334, 788335, 788336, 788337, 788420, 788421, 788422, 788423, 788424, 788425, 788426, 788427, 788510, 788511, 788512, 788513, 788514, 788515, 788516, 788517, 788601, 788602, 788603, 788604, 788605, 788606, 788607, 789050, 789051, 789052, 789053, 789054, 789055, 789056, 789057, 789140, 789141, 789142, 789143, 789144, 789145, 789146, 789147, 789230, 789231, 789232, 789233, 789234, 789235, 789236, 789237, 789320, 789321, 789322, 789323, 789324, 789325, 789326, 789327, 789410, 789411, 789412, 789413, 789414, 789415, 789416, 789417, 789501, 789502, 789503, 789504, 789505, 789506, 789507, 790590, 790591, 790592, 790593, 790594, 790595, 790596, 790680, 790681, 790682, 790683, 790684, 790685, 790686, 790687, 790770, 790771, 790772, 790773, 790774, 790775, 790776, 790777, 790860, 790861, 790862, 790863, 790864, 790865, 790866, 790867, 790950, 790951, 790952, 790953, 790954, 790955, 790956, 790957, 791490, 791491, 791492, 791493, 791494, 791495, 791496, 791580, 791581, 791582, 791583, 791584, 791585, 791586, 791587, 791670, 791671, 791672, 791673, 791674, 791675, 791676, 791677, 791760, 791761, 791762, 791763, 791764, 791765, 791766, 791767, 791850, 791851, 791852, 791853, 791854, 791855, 791856, 791857, 791940, 791941, 791942, 791943, 791944, 791945, 791946, 791947, 792390, 792391, 792392, 792393, 792394, 792395, 792396, 792480, 792481, 792482, 792483, 792484, 792485, 792486, 792487, 792570, 792571, 792572, 792573, 792574, 792575, 792576, 792577, 792660, 792661, 792662, 792663, 792664, 792665, 792666, 792667, 792750, 792751, 792752, 792753, 792754, 792755, 792756, 792757, 792840, 792841, 792842, 792843, 792844, 792845, 792846, 792847, 792930, 792931, 792932, 792933, 792934, 792935, 792936, 792937, 793290, 793291, 793292, 793293, 793294, 793295, 793296, 793297, 793380, 793381, 793382, 793383, 793384, 793385, 793386, 793387, 793470, 793471, 793472, 793473, 793474, 793475, 793476, 793477, 793560, 793561, 793562, 793563, 793564, 793565, 793566, 793567, 793650, 793651, 793652, 793653, 793654, 793655, 793656, 793657, 793740, 793741, 793742, 793743, 793744, 793745, 793746, 793747, 793830, 793831, 793832, 793833, 793834, 793835, 793836, 793837, 793920, 793921, 793922, 793923, 793924, 793925, 793926, 793927, 794190, 794191, 794192, 794193, 794194, 794195, 794196, 794197, 794280, 794281, 794282, 794283, 794284, 794285, 794286, 794287, 794370, 794371, 794372, 794373, 794374, 794375, 794376, 794377, 794460, 794461, 794462, 794463, 794464, 794465, 794466, 794467, 794550, 794551, 794552, 794553, 794554, 794555, 794556, 794557, 794640, 794641, 794642, 794643, 794644, 794645, 794646, 794647, 794730, 794731, 794732, 794733, 794734, 794735, 794736, 794737, 794820, 794821, 794822, 794823, 794824, 794825, 794826, 794827, 794910, 794911, 794912, 794913, 794914, 794915, 794916, 794917, 795090, 795091, 795092, 795093, 795094, 795095, 795096, 795097, 795180, 795181, 795182, 795183, 795184, 795185, 795186, 795187, 795270, 795271, 795272, 795273, 795274, 795275, 795276, 795277, 795360, 795361, 795362, 795363, 795364, 795365, 795366, 795367, 795450, 795451, 795452, 795453, 795454, 795455, 795456, 795457, 795540, 795541, 795542, 795543, 795544, 795545, 795546, 795547, 795630, 795631, 795632, 795633, 795634, 795635, 795636, 795637, 795720, 795721, 795722, 795723, 795724, 795725, 795726, 795727, 795810, 795811, 795812, 795813, 795814, 795815, 795816, 795817, 795900, 795901, 795902, 795903, 795904, 795905, 795906, 795907, 796080, 796081, 796082, 796083, 796084, 796085, 796086, 796087, 796170, 796171, 796172, 796173, 796174, 796175, 796176, 796177, 796260, 796261, 796262, 796263, 796264, 796265, 796266, 796267, 796350, 796351, 796352, 796353, 796354, 796355, 796356, 796357, 796440, 796441, 796442, 796443, 796444, 796445, 796446, 796447, 796530, 796531, 796532, 796533, 796534, 796535, 796536, 796537, 796620, 796621, 796622, 796623, 796624, 796625, 796626, 796627, 796710, 796711, 796712, 796713, 796714, 796715, 796716, 796717, 796800, 796801, 796802, 796803, 796804, 796805, 796806, 796807, 797070, 797071, 797072, 797073, 797074, 797075, 797076, 797077, 797160, 797161, 797162, 797163, 797164, 797165, 797166, 797167, 797250, 797251, 797252, 797253, 797254, 797255, 797256, 797257, 797340, 797341, 797342, 797343, 797344, 797345, 797346, 797347, 797430, 797431, 797432, 797433, 797434, 797435, 797436, 797437, 797520, 797521, 797522, 797523, 797524, 797525, 797526, 797527, 797610, 797611, 797612, 797613, 797614, 797615, 797616, 797617, 797701, 797702, 797703, 797704, 797705, 797706, 797707, 798060, 798061, 798062, 798063, 798064, 798065, 798066, 798067, 798150, 798151, 798152, 798153, 798154, 798155, 798156, 798157, 798240, 798241, 798242, 798243, 798244, 798245, 798246, 798247, 798330, 798331, 798332, 798333, 798334, 798335, 798336, 798337, 798420, 798421, 798422, 798423, 798424, 798425, 798426, 798427, 798510, 798511, 798512, 798513, 798514, 798515, 798516, 798517, 798601, 798602, 798603, 798604, 798605, 798606, 798607, 799050, 799051, 799052, 799053, 799054, 799055, 799056, 799057, 799140, 799141, 799142, 799143, 799144, 799145, 799146, 799147, 799230, 799231, 799232, 799233, 799234, 799235, 799236, 799237, 799320, 799321, 799322, 799323, 799324, 799325, 799326, 799327, 799410, 799411, 799412, 799413, 799414, 799415, 799416, 799417, 799501, 799502, 799503, 799504, 799505, 799506, 799507, 800590, 800591, 800592, 800593, 800594, 800595, 800596, 800597, 800680, 800681, 800682, 800683, 800684, 800685, 800686, 800687, 800770, 800771, 800772, 800773, 800774, 800775, 800776, 800777, 800860, 800861, 800862, 800863, 800864, 800865, 800866, 800867, 800950, 800951, 800952, 800953, 800954, 800955, 800956, 800957, 801490, 801491, 801492, 801493, 801494, 801495, 801496, 801497, 801580, 801581, 801582, 801583, 801584, 801585, 801586, 801587, 801670, 801671, 801672, 801673, 801674, 801675, 801676, 801677, 801760, 801761, 801762, 801763, 801764, 801765, 801766, 801767, 801850, 801851, 801852, 801853, 801854, 801855, 801856, 801857, 801940, 801941, 801942, 801943, 801944, 801945, 801946, 801947, 802390, 802391, 802392, 802393, 802394, 802395, 802396, 802397, 802480, 802481, 802482, 802483, 802484, 802485, 802486, 802487, 802570, 802571, 802572, 802573, 802574, 802575, 802576, 802577, 802660, 802661, 802662, 802663, 802664, 802665, 802666, 802667, 802750, 802751, 802752, 802753, 802754, 802755, 802756, 802757, 802840, 802841, 802842, 802843, 802844, 802845, 802846, 802847, 802930, 802931, 802932, 802933, 802934, 802935, 802936, 802937, 803290, 803291, 803292, 803293, 803294, 803295, 803296, 803297, 803380, 803381, 803382, 803383, 803384, 803385, 803386, 803387, 803470, 803471, 803472, 803473, 803474, 803475, 803476, 803477, 803560, 803561, 803562, 803563, 803564, 803565, 803566, 803567, 803650, 803651, 803652, 803653, 803654, 803655, 803656, 803657, 803740, 803741, 803742, 803743, 803744, 803745, 803746, 803747, 803830, 803831, 803832, 803833, 803834, 803835, 803836, 803837, 803920, 803921, 803922, 803923, 803924, 803925, 803926, 803927, 804190, 804191, 804192, 804193, 804194, 804195, 804196, 804197, 804280, 804281, 804282, 804283, 804284, 804285, 804286, 804287, 804370, 804371, 804372, 804373, 804374, 804375, 804376, 804377, 804460, 804461, 804462, 804463, 804464, 804465, 804466, 804467, 804550, 804551, 804552, 804553, 804554, 804555, 804556, 804557, 804640, 804641, 804642, 804643, 804644, 804645, 804646, 804647, 804730, 804731, 804732, 804733, 804734, 804735, 804736, 804737, 804820, 804821, 804822, 804823, 804824, 804825, 804826, 804827, 804910, 804911, 804912, 804913, 804914, 804915, 804916, 804917, 805090, 805091, 805092, 805093, 805094, 805095, 805096, 805097, 805180, 805181, 805182, 805183, 805184, 805185, 805186, 805187, 805270, 805271, 805272, 805273, 805274, 805275, 805276, 805277, 805360, 805361, 805362, 805363, 805364, 805365, 805366, 805367, 805450, 805451, 805452, 805453, 805454, 805455, 805456, 805457, 805540, 805541, 805542, 805543, 805544, 805545, 805546, 805547, 805630, 805631, 805632, 805633, 805634, 805635, 805636, 805637, 805720, 805721, 805722, 805723, 805724, 805725, 805726, 805727, 805810, 805811, 805812, 805813, 805814, 805815, 805816, 805817, 805900, 805901, 805902, 805903, 805904, 805905, 805906, 805907, 806080, 806081, 806082, 806083, 806084, 806085, 806086, 806087, 806170, 806171, 806172, 806173, 806174, 806175, 806176, 806177, 806260, 806261, 806262, 806263, 806264, 806265, 806266, 806267, 806350, 806351, 806352, 806353, 806354, 806355, 806356, 806357, 806440, 806441, 806442, 806443, 806444, 806445, 806446, 806447, 806530, 806531, 806532, 806533, 806534, 806535, 806536, 806537, 806620, 806621, 806622, 806623, 806624, 806625, 806626, 806627, 806710, 806711, 806712, 806713, 806714, 806715, 806716, 806717, 806800, 806801, 806802, 806803, 806804, 806805, 806806, 806807, 807070, 807071, 807072, 807073, 807074, 807075, 807076, 807077, 807160, 807161, 807162, 807163, 807164, 807165, 807166, 807167, 807250, 807251, 807252, 807253, 807254, 807255, 807256, 807257, 807340, 807341, 807342, 807343, 807344, 807345, 807346, 807347, 807430, 807431, 807432, 807433, 807434, 807435, 807436, 807437, 807520, 807521, 807522, 807523, 807524, 807525, 807526, 807527, 807610, 807611, 807612, 807613, 807614, 807615, 807616, 807617, 807701, 807702, 807703, 807704, 807705, 807706, 807707, 808060, 808061, 808062, 808063, 808064, 808065, 808066, 808067, 808150, 808151, 808152, 808153, 808154, 808155, 808156, 808157, 808240, 808241, 808242, 808243, 808244, 808245, 808246, 808247, 808330, 808331, 808332, 808333, 808334, 808335, 808336, 808337, 808420, 808421, 808422, 808423, 808424, 808425, 808426, 808427, 808510, 808511, 808512, 808513, 808514, 808515, 808516, 808517, 808601, 808602, 808603, 808604, 808605, 808606, 808607, 808608, 809050, 809051, 809052, 809053, 809054, 809055, 809056, 809057, 809140, 809141, 809142, 809143, 809144, 809145, 809146, 809147, 809230, 809231, 809232, 809233, 809234, 809235, 809236, 809237, 809320, 809321, 809322, 809323, 809324, 809325, 809326, 809327, 809410, 809411, 809412, 809413, 809414, 809415, 809416, 809417, 809501, 809502, 809503, 809504, 809505, 809506, 809507, 809508, 810590, 810591, 810592, 810593, 810594, 810595, 810596, 810597, 810680, 810681, 810682, 810683, 810684, 810685, 810686, 810687, 810770, 810771, 810772, 810773, 810774, 810775, 810776, 810777, 810860, 810861, 810862, 810863, 810864, 810865, 810866, 810867, 810950, 810951, 810952, 810953, 810954, 810955, 810956, 810957, 811490, 811491, 811492, 811493, 811494, 811495, 811496, 811497, 811580, 811581, 811582, 811583, 811584, 811585, 811586, 811587, 811670, 811671, 811672, 811673, 811674, 811675, 811676, 811677, 811760, 811761, 811762, 811763, 811764, 811765, 811766, 811767, 811850, 811851, 811852, 811853, 811854, 811855, 811856, 811857, 811940, 811941, 811942, 811943, 811944, 811945, 811946, 811947, 812390, 812391, 812392, 812393, 812394, 812395, 812396, 812397, 812480, 812481, 812482, 812483, 812484, 812485, 812486, 812487, 812570, 812571, 812572, 812573, 812574, 812575, 812576, 812577, 812660, 812661, 812662, 812663, 812664, 812665, 812666, 812667, 812750, 812751, 812752, 812753, 812754, 812755, 812756, 812757, 812840, 812841, 812842, 812843, 812844, 812845, 812846, 812847, 812930, 812931, 812932, 812933, 812934, 812935, 812936, 812937, 813290, 813291, 813292, 813293, 813294, 813295, 813296, 813297, 813380, 813381, 813382, 813383, 813384, 813385, 813386, 813387, 813470, 813471, 813472, 813473, 813474, 813475, 813476, 813477, 813560, 813561, 813562, 813563, 813564, 813565, 813566, 813567, 813650, 813651, 813652, 813653, 813654, 813655, 813656, 813657, 813740, 813741, 813742, 813743, 813744, 813745, 813746, 813747, 813830, 813831, 813832, 813833, 813834, 813835, 813836, 813837, 813920, 813921, 813922, 813923, 813924, 813925, 813926, 813927, 814190, 814191, 814192, 814193, 814194, 814195, 814196, 814197, 814280, 814281, 814282, 814283, 814284, 814285, 814286, 814287, 814370, 814371, 814372, 814373, 814374, 814375, 814376, 814377, 814460, 814461, 814462, 814463, 814464, 814465, 814466, 814467, 814550, 814551, 814552, 814553, 814554, 814555, 814556, 814557, 814640, 814641, 814642, 814643, 814644, 814645, 814646, 814647, 814730, 814731, 814732, 814733, 814734, 814735, 814736, 814737, 814820, 814821, 814822, 814823, 814824, 814825, 814826, 814827, 814910, 814911, 814912, 814913, 814914, 814915, 814916, 814917, 815090, 815091, 815092, 815093, 815094, 815095, 815096, 815097, 815180, 815181, 815182, 815183, 815184, 815185, 815186, 815187, 815270, 815271, 815272, 815273, 815274, 815275, 815276, 815277, 815360, 815361, 815362, 815363, 815364, 815365, 815366, 815367, 815450, 815451, 815452, 815453, 815454, 815455, 815456, 815457, 815540, 815541, 815542, 815543, 815544, 815545, 815546, 815547, 815630, 815631, 815632, 815633, 815634, 815635, 815636, 815637, 815720, 815721, 815722, 815723, 815724, 815725, 815726, 815727, 815810, 815811, 815812, 815813, 815814, 815815, 815816, 815817, 815900, 815901, 815902, 815903, 815904, 815905, 815906, 815907, 815908, 816080, 816081, 816082, 816083, 816084, 816085, 816086, 816087, 816170, 816171, 816172, 816173, 816174, 816175, 816176, 816177, 816260, 816261, 816262, 816263, 816264, 816265, 816266, 816267, 816350, 816351, 816352, 816353, 816354, 816355, 816356, 816357, 816440, 816441, 816442, 816443, 816444, 816445, 816446, 816447, 816530, 816531, 816532, 816533, 816534, 816535, 816536, 816537, 816620, 816621, 816622, 816623, 816624, 816625, 816626, 816627, 816710, 816711, 816712, 816713, 816714, 816715, 816716, 816717, 816800, 816801, 816802, 816803, 816804, 816805, 816806, 816807, 816808, 817070, 817071, 817072, 817073, 817074, 817075, 817076, 817077, 817160, 817161, 817162, 817163, 817164, 817165, 817166, 817167, 817250, 817251, 817252, 817253, 817254, 817255, 817256, 817257, 817340, 817341, 817342, 817343, 817344, 817345, 817346, 817347, 817430, 817431, 817432, 817433, 817434, 817435, 817436, 817437, 817520, 817521, 817522, 817523, 817524, 817525, 817526, 817527, 817610, 817611, 817612, 817613, 817614, 817615, 817616, 817617, 817618, 817701, 817702, 817703, 817704, 817705, 817706, 817707, 817708, 818060, 818061, 818062, 818063, 818064, 818065, 818066, 818067, 818150, 818151, 818152, 818153, 818154, 818155, 818156, 818157, 818240, 818241, 818242, 818243, 818244, 818245, 818246, 818247, 818330, 818331, 818332, 818333, 818334, 818335, 818336, 818337, 818420, 818421, 818422, 818423, 818424, 818425, 818426, 818427, 818510, 818511, 818512, 818513, 818514, 818515, 818516, 818517, 818518, 818601, 818602, 818603, 818604, 818605, 818606, 818607, 818608, 819050, 819051, 819052, 819053, 819054, 819055, 819056, 819057, 819140, 819141, 819142, 819143, 819144, 819145, 819146, 819147, 819230, 819231, 819232, 819233, 819234, 819235, 819236, 819237, 819320, 819321, 819322, 819323, 819324, 819325, 819326, 819327, 819410, 819411, 819412, 819413, 819414, 819415, 819416, 819417, 819418, 819501, 819502, 819503, 819504, 819505, 819506, 819507, 819508, 820590, 820591, 820592, 820593, 820594, 820595, 820596, 820597, 820680, 820681, 820682, 820683, 820684, 820685, 820686, 820687, 820770, 820771, 820772, 820773, 820774, 820775, 820776, 820777, 820860, 820861, 820862, 820863, 820864, 820865, 820866, 820867, 820950, 820951, 820952, 820953, 820954, 820955, 820956, 820957, 821490, 821491, 821492, 821493, 821494, 821495, 821496, 821497, 821580, 821581, 821582, 821583, 821584, 821585, 821586, 821587, 821670, 821671, 821672, 821673, 821674, 821675, 821676, 821677, 821760, 821761, 821762, 821763, 821764, 821765, 821766, 821767, 821850, 821851, 821852, 821853, 821854, 821855, 821856, 821857, 821940, 821941, 821942, 821943, 821944, 821945, 821946, 821947, 822390, 822391, 822392, 822393, 822394, 822395, 822396, 822397, 822480, 822481, 822482, 822483, 822484, 822485, 822486, 822487, 822570, 822571, 822572, 822573, 822574, 822575, 822576, 822577, 822660, 822661, 822662, 822663, 822664, 822665, 822666, 822667, 822750, 822751, 822752, 822753, 822754, 822755, 822756, 822757, 822840, 822841, 822842, 822843, 822844, 822845, 822846, 822847, 822930, 822931, 822932, 822933, 822934, 822935, 822936, 822937, 823290, 823291, 823292, 823293, 823294, 823295, 823296, 823297, 823380, 823381, 823382, 823383, 823384, 823385, 823386, 823387, 823470, 823471, 823472, 823473, 823474, 823475, 823476, 823477, 823560, 823561, 823562, 823563, 823564, 823565, 823566, 823567, 823650, 823651, 823652, 823653, 823654, 823655, 823656, 823657, 823740, 823741, 823742, 823743, 823744, 823745, 823746, 823747, 823830, 823831, 823832, 823833, 823834, 823835, 823836, 823837, 823920, 823921, 823922, 823923, 823924, 823925, 823926, 823927, 824190, 824191, 824192, 824193, 824194, 824195, 824196, 824197, 824280, 824281, 824282, 824283, 824284, 824285, 824286, 824287, 824370, 824371, 824372, 824373, 824374, 824375, 824376, 824377, 824460, 824461, 824462, 824463, 824464, 824465, 824466, 824467, 824550, 824551, 824552, 824553, 824554, 824555, 824556, 824557, 824640, 824641, 824642, 824643, 824644, 824645, 824646, 824647, 824730, 824731, 824732, 824733, 824734, 824735, 824736, 824737, 824820, 824821, 824822, 824823, 824824, 824825, 824826, 824827, 824910, 824911, 824912, 824913, 824914, 824915, 824916, 824917, 824918, 825090, 825091, 825092, 825093, 825094, 825095, 825096, 825097, 825180, 825181, 825182, 825183, 825184, 825185, 825186, 825187, 825270, 825271, 825272, 825273, 825274, 825275, 825276, 825277, 825360, 825361, 825362, 825363, 825364, 825365, 825366, 825367, 825450, 825451, 825452, 825453, 825454, 825455, 825456, 825457, 825540, 825541, 825542, 825543, 825544, 825545, 825546, 825547, 825630, 825631, 825632, 825633, 825634, 825635, 825636, 825637, 825720, 825721, 825722, 825723, 825724, 825725, 825726, 825727, 825810, 825811, 825812, 825813, 825814, 825815, 825816, 825817, 825818, 825900, 825901, 825902, 825903, 825904, 825905, 825906, 825907, 825908, 826080, 826081, 826082, 826083, 826084, 826085, 826086, 826087, 826170, 826171, 826172, 826173, 826174, 826175, 826176, 826177, 826260, 826261, 826262, 826263, 826264, 826265, 826266, 826267, 826350, 826351, 826352, 826353, 826354, 826355, 826356, 826357, 826440, 826441, 826442, 826443, 826444, 826445, 826446, 826447, 826530, 826531, 826532, 826533, 826534, 826535, 826536, 826537, 826620, 826621, 826622, 826623, 826624, 826625, 826626, 826627, 826710, 826711, 826712, 826713, 826714, 826715, 826716, 826717, 826718, 826800, 826801, 826802, 826803, 826804, 826805, 826806, 826807, 826808, 827070, 827071, 827072, 827073, 827074, 827075, 827076, 827077, 827160, 827161, 827162, 827163, 827164, 827165, 827166, 827167, 827250, 827251, 827252, 827253, 827254, 827255, 827256, 827257, 827340, 827341, 827342, 827343, 827344, 827345, 827346, 827347, 827430, 827431, 827432, 827433, 827434, 827435, 827436, 827437, 827520, 827521, 827522, 827523, 827524, 827525, 827526, 827527, 827528, 827610, 827611, 827612, 827613, 827614, 827615, 827616, 827617, 827618, 827701, 827702, 827703, 827704, 827705, 827706, 827707, 827708, 828060, 828061, 828062, 828063, 828064, 828065, 828066, 828067, 828150, 828151, 828152, 828153, 828154, 828155, 828156, 828157, 828240, 828241, 828242, 828243, 828244, 828245, 828246, 828247, 828330, 828331, 828332, 828333, 828334, 828335, 828336, 828337, 828420, 828421, 828422, 828423, 828424, 828425, 828426, 828427, 828428, 828510, 828511, 828512, 828513, 828514, 828515, 828516, 828517, 828518, 828601, 828602, 828603, 828604, 828605, 828606, 828607, 828608, 829050, 829051, 829052, 829053, 829054, 829055, 829056, 829057, 829140, 829141, 829142, 829143, 829144, 829145, 829146, 829147, 829230, 829231, 829232, 829233, 829234, 829235, 829236, 829237, 829320, 829321, 829322, 829323, 829324, 829325, 829326, 829327, 829328, 829410, 829411, 829412, 829413, 829414, 829415, 829416, 829417, 829418, 829501, 829502, 829503, 829504, 829505, 829506, 829507, 829508, 830590, 830591, 830592, 830593, 830594, 830595, 830596, 830597, 830680, 830681, 830682, 830683, 830684, 830685, 830686, 830687, 830770, 830771, 830772, 830773, 830774, 830775, 830776, 830777, 830860, 830861, 830862, 830863, 830864, 830865, 830866, 830867, 830950, 830951, 830952, 830953, 830954, 830955, 830956, 830957, 831490, 831491, 831492, 831493, 831494, 831495, 831496, 831497, 831580, 831581, 831582, 831583, 831584, 831585, 831586, 831587, 831670, 831671, 831672, 831673, 831674, 831675, 831676, 831677, 831760, 831761, 831762, 831763, 831764, 831765, 831766, 831767, 831850, 831851, 831852, 831853, 831854, 831855, 831856, 831857, 831940, 831941, 831942, 831943, 831944, 831945, 831946, 831947, 832390, 832391, 832392, 832393, 832394, 832395, 832396, 832397, 832480, 832481, 832482, 832483, 832484, 832485, 832486, 832487, 832570, 832571, 832572, 832573, 832574, 832575, 832576, 832577, 832660, 832661, 832662, 832663, 832664, 832665, 832666, 832667, 832750, 832751, 832752, 832753, 832754, 832755, 832756, 832757, 832840, 832841, 832842, 832843, 832844, 832845, 832846, 832847, 832930, 832931, 832932, 832933, 832934, 832935, 832936, 832937, 833290, 833291, 833292, 833293, 833294, 833295, 833296, 833297, 833380, 833381, 833382, 833383, 833384, 833385, 833386, 833387, 833470, 833471, 833472, 833473, 833474, 833475, 833476, 833477, 833560, 833561, 833562, 833563, 833564, 833565, 833566, 833567, 833650, 833651, 833652, 833653, 833654, 833655, 833656, 833657, 833740, 833741, 833742, 833743, 833744, 833745, 833746, 833747, 833830, 833831, 833832, 833833, 833834, 833835, 833836, 833837, 833920, 833921, 833922, 833923, 833924, 833925, 833926, 833927, 833928, 834190, 834191, 834192, 834193, 834194, 834195, 834196, 834197, 834280, 834281, 834282, 834283, 834284, 834285, 834286, 834287, 834370, 834371, 834372, 834373, 834374, 834375, 834376, 834377, 834460, 834461, 834462, 834463, 834464, 834465, 834466, 834467, 834550, 834551, 834552, 834553, 834554, 834555, 834556, 834557, 834640, 834641, 834642, 834643, 834644, 834645, 834646, 834647, 834730, 834731, 834732, 834733, 834734, 834735, 834736, 834737, 834820, 834821, 834822, 834823, 834824, 834825, 834826, 834827, 834828, 834910, 834911, 834912, 834913, 834914, 834915, 834916, 834917, 834918, 835090, 835091, 835092, 835093, 835094, 835095, 835096, 835097, 835180, 835181, 835182, 835183, 835184, 835185, 835186, 835187, 835270, 835271, 835272, 835273, 835274, 835275, 835276, 835277, 835360, 835361, 835362, 835363, 835364, 835365, 835366, 835367, 835450, 835451, 835452, 835453, 835454, 835455, 835456, 835457, 835540, 835541, 835542, 835543, 835544, 835545, 835546, 835547, 835630, 835631, 835632, 835633, 835634, 835635, 835636, 835637, 835720, 835721, 835722, 835723, 835724, 835725, 835726, 835727, 835728, 835810, 835811, 835812, 835813, 835814, 835815, 835816, 835817, 835818, 835900, 835901, 835902, 835903, 835904, 835905, 835906, 835907, 835908, 836080, 836081, 836082, 836083, 836084, 836085, 836086, 836087, 836170, 836171, 836172, 836173, 836174, 836175, 836176, 836177, 836260, 836261, 836262, 836263, 836264, 836265, 836266, 836267, 836350, 836351, 836352, 836353, 836354, 836355, 836356, 836357, 836440, 836441, 836442, 836443, 836444, 836445, 836446, 836447, 836530, 836531, 836532, 836533, 836534, 836535, 836536, 836537, 836538, 836620, 836621, 836622, 836623, 836624, 836625, 836626, 836627, 836628, 836710, 836711, 836712, 836713, 836714, 836715, 836716, 836717, 836718, 836800, 836801, 836802, 836803, 836804, 836805, 836806, 836807, 836808, 837070, 837071, 837072, 837073, 837074, 837075, 837076, 837077, 837160, 837161, 837162, 837163, 837164, 837165, 837166, 837167, 837250, 837251, 837252, 837253, 837254, 837255, 837256, 837257, 837340, 837341, 837342, 837343, 837344, 837345, 837346, 837347, 837430, 837431, 837432, 837433, 837434, 837435, 837436, 837437, 837438, 837520, 837521, 837522, 837523, 837524, 837525, 837526, 837527, 837528, 837610, 837611, 837612, 837613, 837614, 837615, 837616, 837617, 837618, 837701, 837702, 837703, 837704, 837705, 837706, 837707, 837708, 838060, 838061, 838062, 838063, 838064, 838065, 838066, 838067, 838150, 838151, 838152, 838153, 838154, 838155, 838156, 838157, 838240, 838241, 838242, 838243, 838244, 838245, 838246, 838247, 838330, 838331, 838332, 838333, 838334, 838335, 838336, 838337, 838338, 838420, 838421, 838422, 838423, 838424, 838425, 838426, 838427, 838428, 838510, 838511, 838512, 838513, 838514, 838515, 838516, 838517, 838518, 838601, 838602, 838603, 838604, 838605, 838606, 838607, 838608, 839050, 839051, 839052, 839053, 839054, 839055, 839056, 839057, 839140, 839141, 839142, 839143, 839144, 839145, 839146, 839147, 839230, 839231, 839232, 839233, 839234, 839235, 839236, 839237, 839238, 839320, 839321, 839322, 839323, 839324, 839325, 839326, 839327, 839328, 839410, 839411, 839412, 839413, 839414, 839415, 839416, 839417, 839418, 839501, 839502, 839503, 839504, 839505, 839506, 839507, 839508, 840590, 840591, 840592, 840593, 840594, 840595, 840596, 840597, 840680, 840681, 840682, 840683, 840684, 840685, 840686, 840687, 840770, 840771, 840772, 840773, 840774, 840775, 840776, 840777, 840860, 840861, 840862, 840863, 840864, 840865, 840866, 840867, 840950, 840951, 840952, 840953, 840954, 840955, 840956, 840957, 841490, 841491, 841492, 841493, 841494, 841495, 841496, 841497, 841580, 841581, 841582, 841583, 841584, 841585, 841586, 841587, 841670, 841671, 841672, 841673, 841674, 841675, 841676, 841677, 841760, 841761, 841762, 841763, 841764, 841765, 841766, 841767, 841850, 841851, 841852, 841853, 841854, 841855, 841856, 841857, 841940, 841941, 841942, 841943, 841944, 841945, 841946, 841947, 842390, 842391, 842392, 842393, 842394, 842395, 842396, 842397, 842480, 842481, 842482, 842483, 842484, 842485, 842486, 842487, 842570, 842571, 842572, 842573, 842574, 842575, 842576, 842577, 842660, 842661, 842662, 842663, 842664, 842665, 842666, 842667, 842750, 842751, 842752, 842753, 842754, 842755, 842756, 842757, 842840, 842841, 842842, 842843, 842844, 842845, 842846, 842847, 842930, 842931, 842932, 842933, 842934, 842935, 842936, 842937, 842938, 843290, 843291, 843292, 843293, 843294, 843295, 843296, 843297, 843380, 843381, 843382, 843383, 843384, 843385, 843386, 843387, 843470, 843471, 843472, 843473, 843474, 843475, 843476, 843477, 843560, 843561, 843562, 843563, 843564, 843565, 843566, 843567, 843650, 843651, 843652, 843653, 843654, 843655, 843656, 843657, 843740, 843741, 843742, 843743, 843744, 843745, 843746, 843747, 843830, 843831, 843832, 843833, 843834, 843835, 843836, 843837, 843838, 843920, 843921, 843922, 843923, 843924, 843925, 843926, 843927, 843928, 844190, 844191, 844192, 844193, 844194, 844195, 844196, 844197, 844280, 844281, 844282, 844283, 844284, 844285, 844286, 844287, 844370, 844371, 844372, 844373, 844374, 844375, 844376, 844377, 844460, 844461, 844462, 844463, 844464, 844465, 844466, 844467, 844550, 844551, 844552, 844553, 844554, 844555, 844556, 844557, 844640, 844641, 844642, 844643, 844644, 844645, 844646, 844647, 844730, 844731, 844732, 844733, 844734, 844735, 844736, 844737, 844738, 844820, 844821, 844822, 844823, 844824, 844825, 844826, 844827, 844828, 844910, 844911, 844912, 844913, 844914, 844915, 844916, 844917, 844918, 845090, 845091, 845092, 845093, 845094, 845095, 845096, 845097, 845180, 845181, 845182, 845183, 845184, 845185, 845186, 845187, 845270, 845271, 845272, 845273, 845274, 845275, 845276, 845277, 845360, 845361, 845362, 845363, 845364, 845365, 845366, 845367, 845450, 845451, 845452, 845453, 845454, 845455, 845456, 845457, 845540, 845541, 845542, 845543, 845544, 845545, 845546, 845547, 845630, 845631, 845632, 845633, 845634, 845635, 845636, 845637, 845638, 845720, 845721, 845722, 845723, 845724, 845725, 845726, 845727, 845728, 845810, 845811, 845812, 845813, 845814, 845815, 845816, 845817, 845818, 845900, 845901, 845902, 845903, 845904, 845905, 845906, 845907, 845908, 846080, 846081, 846082, 846083, 846084, 846085, 846086, 846087, 846170, 846171, 846172, 846173, 846174, 846175, 846176, 846177, 846260, 846261, 846262, 846263, 846264, 846265, 846266, 846267, 846350, 846351, 846352, 846353, 846354, 846355, 846356, 846357, 846440, 846441, 846442, 846443, 846444, 846445, 846446, 846447, 846448, 846530, 846531, 846532, 846533, 846534, 846535, 846536, 846537, 846538, 846620, 846621, 846622, 846623, 846624, 846625, 846626, 846627, 846628, 846710, 846711, 846712, 846713, 846714, 846715, 846716, 846717, 846718, 846800, 846801, 846802, 846803, 846804, 846805, 846806, 846807, 846808, 847070, 847071, 847072, 847073, 847074, 847075, 847076, 847077, 847160, 847161, 847162, 847163, 847164, 847165, 847166, 847167, 847250, 847251, 847252, 847253, 847254, 847255, 847256, 847257, 847340, 847341, 847342, 847343, 847344, 847345, 847346, 847347, 847348, 847430, 847431, 847432, 847433, 847434, 847435, 847436, 847437, 847438, 847520, 847521, 847522, 847523, 847524, 847525, 847526, 847527, 847528, 847610, 847611, 847612, 847613, 847614, 847615, 847616, 847617, 847618, 847701, 847702, 847703, 847704, 847705, 847706, 847707, 847708, 848060, 848061, 848062, 848063, 848064, 848065, 848066, 848067, 848150, 848151, 848152, 848153, 848154, 848155, 848156, 848157, 848240, 848241, 848242, 848243, 848244, 848245, 848246, 848247, 848248, 848330, 848331, 848332, 848333, 848334, 848335, 848336, 848337, 848338, 848420, 848421, 848422, 848423, 848424, 848425, 848426, 848427, 848428, 848510, 848511, 848512, 848513, 848514, 848515, 848516, 848517, 848518, 848601, 848602, 848603, 848604, 848605, 848606, 848607, 848608, 849050, 849051, 849052, 849053, 849054, 849055, 849056, 849057, 849140, 849141, 849142, 849143, 849144, 849145, 849146, 849147, 849148, 849230, 849231, 849232, 849233, 849234, 849235, 849236, 849237, 849238, 849320, 849321, 849322, 849323, 849324, 849325, 849326, 849327, 849328, 849410, 849411, 849412, 849413, 849414, 849415, 849416, 849417, 849418, 849501, 849502, 849503, 849504, 849505, 849506, 849507, 849508, 850590, 850591, 850592, 850593, 850594, 850595, 850596, 850597, 850680, 850681, 850682, 850683, 850684, 850685, 850686, 850687, 850770, 850771, 850772, 850773, 850774, 850775, 850776, 850777, 850860, 850861, 850862, 850863, 850864, 850865, 850866, 850867, 850950, 850951, 850952, 850953, 850954, 850955, 850956, 850957, 851490, 851491, 851492, 851493, 851494, 851495, 851496, 851497, 851580, 851581, 851582, 851583, 851584, 851585, 851586, 851587, 851670, 851671, 851672, 851673, 851674, 851675, 851676, 851677, 851760, 851761, 851762, 851763, 851764, 851765, 851766, 851767, 851850, 851851, 851852, 851853, 851854, 851855, 851856, 851857, 851940, 851941, 851942, 851943, 851944, 851945, 851946, 851947, 851948, 852390, 852391, 852392, 852393, 852394, 852395, 852396, 852397, 852480, 852481, 852482, 852483, 852484, 852485, 852486, 852487, 852570, 852571, 852572, 852573, 852574, 852575, 852576, 852577, 852660, 852661, 852662, 852663, 852664, 852665, 852666, 852667, 852750, 852751, 852752, 852753, 852754, 852755, 852756, 852757, 852840, 852841, 852842, 852843, 852844, 852845, 852846, 852847, 852848, 852930, 852931, 852932, 852933, 852934, 852935, 852936, 852937, 852938, 853290, 853291, 853292, 853293, 853294, 853295, 853296, 853297, 853380, 853381, 853382, 853383, 853384, 853385, 853386, 853387, 853470, 853471, 853472, 853473, 853474, 853475, 853476, 853477, 853560, 853561, 853562, 853563, 853564, 853565, 853566, 853567, 853650, 853651, 853652, 853653, 853654, 853655, 853656, 853657, 853740, 853741, 853742, 853743, 853744, 853745, 853746, 853747, 853748, 853830, 853831, 853832, 853833, 853834, 853835, 853836, 853837, 853838, 853920, 853921, 853922, 853923, 853924, 853925, 853926, 853927, 853928, 854190, 854191, 854192, 854193, 854194, 854195, 854196, 854197, 854280, 854281, 854282, 854283, 854284, 854285, 854286, 854287, 854370, 854371, 854372, 854373, 854374, 854375, 854376, 854377, 854460, 854461, 854462, 854463, 854464, 854465, 854466, 854467, 854550, 854551, 854552, 854553, 854554, 854555, 854556, 854557, 854640, 854641, 854642, 854643, 854644, 854645, 854646, 854647, 854648, 854730, 854731, 854732, 854733, 854734, 854735, 854736, 854737, 854738, 854820, 854821, 854822, 854823, 854824, 854825, 854826, 854827, 854828, 854910, 854911, 854912, 854913, 854914, 854915, 854916, 854917, 854918, 855090, 855091, 855092, 855093, 855094, 855095, 855096, 855097, 855180, 855181, 855182, 855183, 855184, 855185, 855186, 855187, 855270, 855271, 855272, 855273, 855274, 855275, 855276, 855277, 855360, 855361, 855362, 855363, 855364, 855365, 855366, 855367, 855450, 855451, 855452, 855453, 855454, 855455, 855456, 855457, 855458, 855540, 855541, 855542, 855543, 855544, 855545, 855546, 855547, 855548, 855630, 855631, 855632, 855633, 855634, 855635, 855636, 855637, 855638, 855720, 855721, 855722, 855723, 855724, 855725, 855726, 855727, 855728, 855810, 855811, 855812, 855813, 855814, 855815, 855816, 855817, 855818, 855900, 855901, 855902, 855903, 855904, 855905, 855906, 855907, 855908, 856080, 856081, 856082, 856083, 856084, 856085, 856086, 856087, 856170, 856171, 856172, 856173, 856174, 856175, 856176, 856177, 856260, 856261, 856262, 856263, 856264, 856265, 856266, 856267, 856350, 856351, 856352, 856353, 856354, 856355, 856356, 856357, 856358, 856440, 856441, 856442, 856443, 856444, 856445, 856446, 856447, 856448, 856530, 856531, 856532, 856533, 856534, 856535, 856536, 856537, 856538, 856620, 856621, 856622, 856623, 856624, 856625, 856626, 856627, 856628, 856710, 856711, 856712, 856713, 856714, 856715, 856716, 856717, 856718, 856800, 856801, 856802, 856803, 856804, 856805, 856806, 856807, 856808, 857070, 857071, 857072, 857073, 857074, 857075, 857076, 857077, 857160, 857161, 857162, 857163, 857164, 857165, 857166, 857167, 857250, 857251, 857252, 857253, 857254, 857255, 857256, 857257, 857258, 857340, 857341, 857342, 857343, 857344, 857345, 857346, 857347, 857348, 857430, 857431, 857432, 857433, 857434, 857435, 857436, 857437, 857438, 857520, 857521, 857522, 857523, 857524, 857525, 857526, 857527, 857528, 857610, 857611, 857612, 857613, 857614, 857615, 857616, 857617, 857618, 857701, 857702, 857703, 857704, 857705, 857706, 857707, 857708, 858060, 858061, 858062, 858063, 858064, 858065, 858066, 858067, 858150, 858151, 858152, 858153, 858154, 858155, 858156, 858157, 858158, 858240, 858241, 858242, 858243, 858244, 858245, 858246, 858247, 858248, 858330, 858331, 858332, 858333, 858334, 858335, 858336, 858337, 858338, 858420, 858421, 858422, 858423, 858424, 858425, 858426, 858427, 858428, 858510, 858511, 858512, 858513, 858514, 858515, 858516, 858517, 858518, 858601, 858602, 858603, 858604, 858605, 858606, 858607, 858608, 859050, 859051, 859052, 859053, 859054, 859055, 859056, 859057, 859058, 859140, 859141, 859142, 859143, 859144, 859145, 859146, 859147, 859148, 859230, 859231, 859232, 859233, 859234, 859235, 859236, 859237, 859238, 859320, 859321, 859322, 859323, 859324, 859325, 859326, 859327, 859328, 859410, 859411, 859412, 859413, 859414, 859415, 859416, 859417, 859418, 859501, 859502, 859503, 859504, 859505, 859506, 859507, 859508, 860590, 860591, 860592, 860593, 860594, 860595, 860596, 860597, 860680, 860681, 860682, 860683, 860684, 860685, 860686, 860687, 860770, 860771, 860772, 860773, 860774, 860775, 860776, 860777, 860860, 860861, 860862, 860863, 860864, 860865, 860866, 860867, 860950, 860951, 860952, 860953, 860954, 860955, 860956, 860957, 860958, 861490, 861491, 861492, 861493, 861494, 861495, 861496, 861497, 861580, 861581, 861582, 861583, 861584, 861585, 861586, 861587, 861670, 861671, 861672, 861673, 861674, 861675, 861676, 861677, 861760, 861761, 861762, 861763, 861764, 861765, 861766, 861767, 861850, 861851, 861852, 861853, 861854, 861855, 861856, 861857, 861858, 861940, 861941, 861942, 861943, 861944, 861945, 861946, 861947, 861948, 862390, 862391, 862392, 862393, 862394, 862395, 862396, 862397, 862480, 862481, 862482, 862483, 862484, 862485, 862486, 862487, 862570, 862571, 862572, 862573, 862574, 862575, 862576, 862577, 862660, 862661, 862662, 862663, 862664, 862665, 862666, 862667, 862750, 862751, 862752, 862753, 862754, 862755, 862756, 862757, 862758, 862840, 862841, 862842, 862843, 862844, 862845, 862846, 862847, 862848, 862930, 862931, 862932, 862933, 862934, 862935, 862936, 862937, 862938, 863290, 863291, 863292, 863293, 863294, 863295, 863296, 863297, 863380, 863381, 863382, 863383, 863384, 863385, 863386, 863387, 863470, 863471, 863472, 863473, 863474, 863475, 863476, 863477, 863560, 863561, 863562, 863563, 863564, 863565, 863566, 863567, 863650, 863651, 863652, 863653, 863654, 863655, 863656, 863657, 863658, 863740, 863741, 863742, 863743, 863744, 863745, 863746, 863747, 863748, 863830, 863831, 863832, 863833, 863834, 863835, 863836, 863837, 863838, 863920, 863921, 863922, 863923, 863924, 863925, 863926, 863927, 863928, 864190, 864191, 864192, 864193, 864194, 864195, 864196, 864197, 864280, 864281, 864282, 864283, 864284, 864285, 864286, 864287, 864370, 864371, 864372, 864373, 864374, 864375, 864376, 864377, 864460, 864461, 864462, 864463, 864464, 864465, 864466, 864467, 864550, 864551, 864552, 864553, 864554, 864555, 864556, 864557, 864558, 864640, 864641, 864642, 864643, 864644, 864645, 864646, 864647, 864648, 864730, 864731, 864732, 864733, 864734, 864735, 864736, 864737, 864738, 864820, 864821, 864822, 864823, 864824, 864825, 864826, 864827, 864828, 864910, 864911, 864912, 864913, 864914, 864915, 864916, 864917, 864918, 865090, 865091, 865092, 865093, 865094, 865095, 865096, 865097, 865180, 865181, 865182, 865183, 865184, 865185, 865186, 865187, 865270, 865271, 865272, 865273, 865274, 865275, 865276, 865277, 865360, 865361, 865362, 865363, 865364, 865365, 865366, 865367, 865368, 865450, 865451, 865452, 865453, 865454, 865455, 865456, 865457, 865458, 865540, 865541, 865542, 865543, 865544, 865545, 865546, 865547, 865548, 865630, 865631, 865632, 865633, 865634, 865635, 865636, 865637, 865638, 865720, 865721, 865722, 865723, 865724, 865725, 865726, 865727, 865728, 865810, 865811, 865812, 865813, 865814, 865815, 865816, 865817, 865818, 865900, 865901, 865902, 865903, 865904, 865905, 865906, 865907, 865908, 866080, 866081, 866082, 866083, 866084, 866085, 866086, 866087, 866170, 866171, 866172, 866173, 866174, 866175, 866176, 866177, 866260, 866261, 866262, 866263, 866264, 866265, 866266, 866267, 866268, 866350, 866351, 866352, 866353, 866354, 866355, 866356, 866357, 866358, 866440, 866441, 866442, 866443, 866444, 866445, 866446, 866447, 866448, 866530, 866531, 866532, 866533, 866534, 866535, 866536, 866537, 866538, 866620, 866621, 866622, 866623, 866624, 866625, 866626, 866627, 866628, 866710, 866711, 866712, 866713, 866714, 866715, 866716, 866717, 866718, 866800, 866801, 866802, 866803, 866804, 866805, 866806, 866807, 866808, 867070, 867071, 867072, 867073, 867074, 867075, 867076, 867077, 867160, 867161, 867162, 867163, 867164, 867165, 867166, 867167, 867168, 867250, 867251, 867252, 867253, 867254, 867255, 867256, 867257, 867258, 867340, 867341, 867342, 867343, 867344, 867345, 867346, 867347, 867348, 867430, 867431, 867432, 867433, 867434, 867435, 867436, 867437, 867438, 867520, 867521, 867522, 867523, 867524, 867525, 867526, 867527, 867528, 867610, 867611, 867612, 867613, 867614, 867615, 867616, 867617, 867618, 867701, 867702, 867703, 867704, 867705, 867706, 867707, 867708, 868060, 868061, 868062, 868063, 868064, 868065, 868066, 868067, 868068, 868150, 868151, 868152, 868153, 868154, 868155, 868156, 868157, 868158, 868240, 868241, 868242, 868243, 868244, 868245, 868246, 868247, 868248, 868330, 868331, 868332, 868333, 868334, 868335, 868336, 868337, 868338, 868420, 868421, 868422, 868423, 868424, 868425, 868426, 868427, 868428, 868510, 868511, 868512, 868513, 868514, 868515, 868516, 868517, 868518, 868601, 868602, 868603, 868604, 868605, 868606, 868607, 868608, 869050, 869051, 869052, 869053, 869054, 869055, 869056, 869057, 869058, 869140, 869141, 869142, 869143, 869144, 869145, 869146, 869147, 869148, 869230, 869231, 869232, 869233, 869234, 869235, 869236, 869237, 869238, 869320, 869321, 869322, 869323, 869324, 869325, 869326, 869327, 869328, 869410, 869411, 869412, 869413, 869414, 869415, 869416, 869417, 869418, 869501, 869502, 869503, 869504, 869505, 869506, 869507, 869508, 870590, 870591, 870592, 870593, 870594, 870595, 870596, 870597, 870680, 870681, 870682, 870683, 870684, 870685, 870686, 870687, 870770, 870771, 870772, 870773, 870774, 870775, 870776, 870777, 870860, 870861, 870862, 870863, 870864, 870865, 870866, 870867, 870868, 870950, 870951, 870952, 870953, 870954, 870955, 870956, 870957, 870958, 871490, 871491, 871492, 871493, 871494, 871495, 871496, 871497, 871580, 871581, 871582, 871583, 871584, 871585, 871586, 871587, 871670, 871671, 871672, 871673, 871674, 871675, 871676, 871677, 871760, 871761, 871762, 871763, 871764, 871765, 871766, 871767, 871768, 871850, 871851, 871852, 871853, 871854, 871855, 871856, 871857, 871858, 871940, 871941, 871942, 871943, 871944, 871945, 871946, 871947, 871948, 872390, 872391, 872392, 872393, 872394, 872395, 872396, 872397, 872480, 872481, 872482, 872483, 872484, 872485, 872486, 872487, 872570, 872571, 872572, 872573, 872574, 872575, 872576, 872577, 872660, 872661, 872662, 872663, 872664, 872665, 872666, 872667, 872668, 872750, 872751, 872752, 872753, 872754, 872755, 872756, 872757, 872758, 872840, 872841, 872842, 872843, 872844, 872845, 872846, 872847, 872848, 872930, 872931, 872932, 872933, 872934, 872935, 872936, 872937, 872938, 873290, 873291, 873292, 873293, 873294, 873295, 873296, 873297, 873380, 873381, 873382, 873383, 873384, 873385, 873386, 873387, 873470, 873471, 873472, 873473, 873474, 873475, 873476, 873477, 873560, 873561, 873562, 873563, 873564, 873565, 873566, 873567, 873568, 873650, 873651, 873652, 873653, 873654, 873655, 873656, 873657, 873658, 873740, 873741, 873742, 873743, 873744, 873745, 873746, 873747, 873748, 873830, 873831, 873832, 873833, 873834, 873835, 873836, 873837, 873838, 873920, 873921, 873922, 873923, 873924, 873925, 873926, 873927, 873928, 874190, 874191, 874192, 874193, 874194, 874195, 874196, 874197, 874280, 874281, 874282, 874283, 874284, 874285, 874286, 874287, 874370, 874371, 874372, 874373, 874374, 874375, 874376, 874377, 874378, 874460, 874461, 874462, 874463, 874464, 874465, 874466, 874467, 874468, 874550, 874551, 874552, 874553, 874554, 874555, 874556, 874557, 874558, 874640, 874641, 874642, 874643, 874644, 874645, 874646, 874647, 874648, 874730, 874731, 874732, 874733, 874734, 874735, 874736, 874737, 874738, 874820, 874821, 874822, 874823, 874824, 874825, 874826, 874827, 874828, 874910, 874911, 874912, 874913, 874914, 874915, 874916, 874917, 874918, 875090, 875091, 875092, 875093, 875094, 875095, 875096, 875097, 875180, 875181, 875182, 875183, 875184, 875185, 875186, 875187, 875270, 875271, 875272, 875273, 875274, 875275, 875276, 875277, 875278, 875360, 875361, 875362, 875363, 875364, 875365, 875366, 875367, 875368, 875450, 875451, 875452, 875453, 875454, 875455, 875456, 875457, 875458, 875540, 875541, 875542, 875543, 875544, 875545, 875546, 875547, 875548, 875630, 875631, 875632, 875633, 875634, 875635, 875636, 875637, 875638, 875720, 875721, 875722, 875723, 875724, 875725, 875726, 875727, 875728, 875810, 875811, 875812, 875813, 875814, 875815, 875816, 875817, 875818, 875900, 875901, 875902, 875903, 875904, 875905, 875906, 875907, 875908, 876080, 876081, 876082, 876083, 876084, 876085, 876086, 876087, 876170, 876171, 876172, 876173, 876174, 876175, 876176, 876177, 876178, 876260, 876261, 876262, 876263, 876264, 876265, 876266, 876267, 876268, 876350, 876351, 876352, 876353, 876354, 876355, 876356, 876357, 876358, 876440, 876441, 876442, 876443, 876444, 876445, 876446, 876447, 876448, 876530, 876531, 876532, 876533, 876534, 876535, 876536, 876537, 876538, 876620, 876621, 876622, 876623, 876624, 876625, 876626, 876627, 876628, 876710, 876711, 876712, 876713, 876714, 876715, 876716, 876717, 876718, 876801, 876802, 876803, 876804, 876805, 876806, 876807, 876808, 877070, 877071, 877072, 877073, 877074, 877075, 877076, 877077, 877078, 877160, 877161, 877162, 877163, 877164, 877165, 877166, 877167, 877168, 877250, 877251, 877252, 877253, 877254, 877255, 877256, 877257, 877258, 877340, 877341, 877342, 877343, 877344, 877345, 877346, 877347, 877348, 877430, 877431, 877432, 877433, 877434, 877435, 877436, 877437, 877438, 877520, 877521, 877522, 877523, 877524, 877525, 877526, 877527, 877528, 877610, 877611, 877612, 877613, 877614, 877615, 877616, 877617, 877618, 877701, 877702, 877703, 877704, 877705, 877706, 877707, 877708, 878060, 878061, 878062, 878063, 878064, 878065, 878066, 878067, 878068, 878150, 878151, 878152, 878153, 878154, 878155, 878156, 878157, 878158, 878240, 878241, 878242, 878243, 878244, 878245, 878246, 878247, 878248, 878330, 878331, 878332, 878333, 878334, 878335, 878336, 878337, 878338, 878420, 878421, 878422, 878423, 878424, 878425, 878426, 878427, 878428, 878510, 878511, 878512, 878513, 878514, 878515, 878516, 878517, 878518, 878601, 878602, 878603, 878604, 878605, 878606, 878607, 878608, 879050, 879051, 879052, 879053, 879054, 879055, 879056, 879057, 879058, 879140, 879141, 879142, 879143, 879144, 879145, 879146, 879147, 879148, 879230, 879231, 879232, 879233, 879234, 879235, 879236, 879237, 879238, 879320, 879321, 879322, 879323, 879324, 879325, 879326, 879327, 879328, 879410, 879411, 879412, 879413, 879414, 879415, 879416, 879417, 879418, 879501, 879502, 879503, 879504, 879505, 879506, 879507, 879508, 880590, 880591, 880592, 880593, 880594, 880595, 880596, 880597, 880680, 880681, 880682, 880683, 880684, 880685, 880686, 880687, 880770, 880771, 880772, 880773, 880774, 880775, 880776, 880777, 880778, 880860, 880861, 880862, 880863, 880864, 880865, 880866, 880867, 880868, 880950, 880951, 880952, 880953, 880954, 880955, 880956, 880957, 880958, 881490, 881491, 881492, 881493, 881494, 881495, 881496, 881497, 881580, 881581, 881582, 881583, 881584, 881585, 881586, 881587, 881670, 881671, 881672, 881673, 881674, 881675, 881676, 881677, 881678, 881760, 881761, 881762, 881763, 881764, 881765, 881766, 881767, 881768, 881850, 881851, 881852, 881853, 881854, 881855, 881856, 881857, 881858, 881940, 881941, 881942, 881943, 881944, 881945, 881946, 881947, 881948, 882390, 882391, 882392, 882393, 882394, 882395, 882396, 882397, 882480, 882481, 882482, 882483, 882484, 882485, 882486, 882487, 882570, 882571, 882572, 882573, 882574, 882575, 882576, 882577, 882578, 882660, 882661, 882662, 882663, 882664, 882665, 882666, 882667, 882668, 882750, 882751, 882752, 882753, 882754, 882755, 882756, 882757, 882758, 882840, 882841, 882842, 882843, 882844, 882845, 882846, 882847, 882848, 882930, 882931, 882932, 882933, 882934, 882935, 882936, 882937, 882938, 883290, 883291, 883292, 883293, 883294, 883295, 883296, 883297, 883380, 883381, 883382, 883383, 883384, 883385, 883386, 883387, 883470, 883471, 883472, 883473, 883474, 883475, 883476, 883477, 883478, 883560, 883561, 883562, 883563, 883564, 883565, 883566, 883567, 883568, 883650, 883651, 883652, 883653, 883654, 883655, 883656, 883657, 883658, 883740, 883741, 883742, 883743, 883744, 883745, 883746, 883747, 883748, 883830, 883831, 883832, 883833, 883834, 883835, 883836, 883837, 883838, 883920, 883921, 883922, 883923, 883924, 883925, 883926, 883927, 883928, 884190, 884191, 884192, 884193, 884194, 884195, 884196, 884197, 884280, 884281, 884282, 884283, 884284, 884285, 884286, 884287, 884288, 884370, 884371, 884372, 884373, 884374, 884375, 884376, 884377, 884378, 884460, 884461, 884462, 884463, 884464, 884465, 884466, 884467, 884468, 884550, 884551, 884552, 884553, 884554, 884555, 884556, 884557, 884558, 884640, 884641, 884642, 884643, 884644, 884645, 884646, 884647, 884648, 884730, 884731, 884732, 884733, 884734, 884735, 884736, 884737, 884738, 884820, 884821, 884822, 884823, 884824, 884825, 884826, 884827, 884828, 884910, 884911, 884912, 884913, 884914, 884915, 884916, 884917, 884918, 885090, 885091, 885092, 885093, 885094, 885095, 885096, 885097, 885180, 885181, 885182, 885183, 885184, 885185, 885186, 885187, 885188, 885270, 885271, 885272, 885273, 885274, 885275, 885276, 885277, 885278, 885360, 885361, 885362, 885363, 885364, 885365, 885366, 885367, 885368, 885450, 885451, 885452, 885453, 885454, 885455, 885456, 885457, 885458, 885540, 885541, 885542, 885543, 885544, 885545, 885546, 885547, 885548, 885630, 885631, 885632, 885633, 885634, 885635, 885636, 885637, 885638, 885720, 885721, 885722, 885723, 885724, 885725, 885726, 885727, 885728, 885810, 885811, 885812, 885813, 885814, 885815, 885816, 885817, 885818, 885900, 885901, 885902, 885903, 885904, 885905, 885906, 885907, 885908, 886080, 886081, 886082, 886083, 886084, 886085, 886086, 886087, 886088, 886170, 886171, 886172, 886173, 886174, 886175, 886176, 886177, 886178, 886260, 886261, 886262, 886263, 886264, 886265, 886266, 886267, 886268, 886350, 886351, 886352, 886353, 886354, 886355, 886356, 886357, 886358, 886440, 886441, 886442, 886443, 886444, 886445, 886446, 886447, 886448, 886530, 886531, 886532, 886533, 886534, 886535, 886536, 886537, 886538, 886620, 886621, 886622, 886623, 886624, 886625, 886626, 886627, 886628, 886710, 886711, 886712, 886713, 886714, 886715, 886716, 886717, 886718, 886801, 886802, 886803, 886804, 886805, 886806, 886807, 886808, 887070, 887071, 887072, 887073, 887074, 887075, 887076, 887077, 887078, 887160, 887161, 887162, 887163, 887164, 887165, 887166, 887167, 887168, 887250, 887251, 887252, 887253, 887254, 887255, 887256, 887257, 887258, 887340, 887341, 887342, 887343, 887344, 887345, 887346, 887347, 887348, 887430, 887431, 887432, 887433, 887434, 887435, 887436, 887437, 887438, 887520, 887521, 887522, 887523, 887524, 887525, 887526, 887527, 887528, 887610, 887611, 887612, 887613, 887614, 887615, 887616, 887617, 887618, 887701, 887702, 887703, 887704, 887705, 887706, 887707, 887708, 888060, 888061, 888062, 888063, 888064, 888065, 888066, 888067, 888068, 888150, 888151, 888152, 888153, 888154, 888155, 888156, 888157, 888158, 888240, 888241, 888242, 888243, 888244, 888245, 888246, 888247, 888248, 888330, 888331, 888332, 888333, 888334, 888335, 888336, 888337, 888338, 888420, 888421, 888422, 888423, 888424, 888425, 888426, 888427, 888428, 888510, 888511, 888512, 888513, 888514, 888515, 888516, 888517, 888518, 888601, 888602, 888603, 888604, 888605, 888606, 888607, 888608, 889050, 889051, 889052, 889053, 889054, 889055, 889056, 889057, 889058, 889140, 889141, 889142, 889143, 889144, 889145, 889146, 889147, 889148, 889230, 889231, 889232, 889233, 889234, 889235, 889236, 889237, 889238, 889320, 889321, 889322, 889323, 889324, 889325, 889326, 889327, 889328, 889410, 889411, 889412, 889413, 889414, 889415, 889416, 889417, 889418, 889501, 889502, 889503, 889504, 889505, 889506, 889507, 889508, 890590, 890591, 890592, 890593, 890594, 890595, 890596, 890597, 890680, 890681, 890682, 890683, 890684, 890685, 890686, 890687, 890688, 890770, 890771, 890772, 890773, 890774, 890775, 890776, 890777, 890778, 890860, 890861, 890862, 890863, 890864, 890865, 890866, 890867, 890868, 890950, 890951, 890952, 890953, 890954, 890955, 890956, 890957, 890958, 891490, 891491, 891492, 891493, 891494, 891495, 891496, 891497, 891580, 891581, 891582, 891583, 891584, 891585, 891586, 891587, 891588, 891670, 891671, 891672, 891673, 891674, 891675, 891676, 891677, 891678, 891760, 891761, 891762, 891763, 891764, 891765, 891766, 891767, 891768, 891850, 891851, 891852, 891853, 891854, 891855, 891856, 891857, 891858, 891940, 891941, 891942, 891943, 891944, 891945, 891946, 891947, 891948, 892390, 892391, 892392, 892393, 892394, 892395, 892396, 892397, 892480, 892481, 892482, 892483, 892484, 892485, 892486, 892487, 892488, 892570, 892571, 892572, 892573, 892574, 892575, 892576, 892577, 892578, 892660, 892661, 892662, 892663, 892664, 892665, 892666, 892667, 892668, 892750, 892751, 892752, 892753, 892754, 892755, 892756, 892757, 892758, 892840, 892841, 892842, 892843, 892844, 892845, 892846, 892847, 892848, 892930, 892931, 892932, 892933, 892934, 892935, 892936, 892937, 892938, 893290, 893291, 893292, 893293, 893294, 893295, 893296, 893297, 893298, 893380, 893381, 893382, 893383, 893384, 893385, 893386, 893387, 893388, 893470, 893471, 893472, 893473, 893474, 893475, 893476, 893477, 893478, 893560, 893561, 893562, 893563, 893564, 893565, 893566, 893567, 893568, 893650, 893651, 893652, 893653, 893654, 893655, 893656, 893657, 893658, 893740, 893741, 893742, 893743, 893744, 893745, 893746, 893747, 893748, 893830, 893831, 893832, 893833, 893834, 893835, 893836, 893837, 893838, 893920, 893921, 893922, 893923, 893924, 893925, 893926, 893927, 893928, 894190, 894191, 894192, 894193, 894194, 894195, 894196, 894197, 894198, 894280, 894281, 894282, 894283, 894284, 894285, 894286, 894287, 894288, 894370, 894371, 894372, 894373, 894374, 894375, 894376, 894377, 894378, 894460, 894461, 894462, 894463, 894464, 894465, 894466, 894467, 894468, 894550, 894551, 894552, 894553, 894554, 894555, 894556, 894557, 894558, 894640, 894641, 894642, 894643, 894644, 894645, 894646, 894647, 894648, 894730, 894731, 894732, 894733, 894734, 894735, 894736, 894737, 894738, 894820, 894821, 894822, 894823, 894824, 894825, 894826, 894827, 894828, 894910, 894911, 894912, 894913, 894914, 894915, 894916, 894917, 894918, 895090, 895091, 895092, 895093, 895094, 895095, 895096, 895097, 895098, 895180, 895181, 895182, 895183, 895184, 895185, 895186, 895187, 895188, 895270, 895271, 895272, 895273, 895274, 895275, 895276, 895277, 895278, 895360, 895361, 895362, 895363, 895364, 895365, 895366, 895367, 895368, 895450, 895451, 895452, 895453, 895454, 895455, 895456, 895457, 895458, 895540, 895541, 895542, 895543, 895544, 895545, 895546, 895547, 895548, 895630, 895631, 895632, 895633, 895634, 895635, 895636, 895637, 895638, 895720, 895721, 895722, 895723, 895724, 895725, 895726, 895727, 895728, 895810, 895811, 895812, 895813, 895814, 895815, 895816, 895817, 895818, 895900, 895901, 895902, 895903, 895904, 895905, 895906, 895907, 895908, 896080, 896081, 896082, 896083, 896084, 896085, 896086, 896087, 896088, 896170, 896171, 896172, 896173, 896174, 896175, 896176, 896177, 896178, 896260, 896261, 896262, 896263, 896264, 896265, 896266, 896267, 896268, 896350, 896351, 896352, 896353, 896354, 896355, 896356, 896357, 896358, 896440, 896441, 896442, 896443, 896444, 896445, 896446, 896447, 896448, 896530, 896531, 896532, 896533, 896534, 896535, 896536, 896537, 896538, 896620, 896621, 896622, 896623, 896624, 896625, 896626, 896627, 896628, 896710, 896711, 896712, 896713, 896714, 896715, 896716, 896717, 896718, 896801, 896802, 896803, 896804, 896805, 896806, 896807, 896808, 897070, 897071, 897072, 897073, 897074, 897075, 897076, 897077, 897078, 897160, 897161, 897162, 897163, 897164, 897165, 897166, 897167, 897168, 897250, 897251, 897252, 897253, 897254, 897255, 897256, 897257, 897258, 897340, 897341, 897342, 897343, 897344, 897345, 897346, 897347, 897348, 897430, 897431, 897432, 897433, 897434, 897435, 897436, 897437, 897438, 897520, 897521, 897522, 897523, 897524, 897525, 897526, 897527, 897528, 897610, 897611, 897612, 897613, 897614, 897615, 897616, 897617, 897618, 897701, 897702, 897703, 897704, 897705, 897706, 897707, 897708, 898060, 898061, 898062, 898063, 898064, 898065, 898066, 898067, 898068, 898150, 898151, 898152, 898153, 898154, 898155, 898156, 898157, 898158, 898240, 898241, 898242, 898243, 898244, 898245, 898246, 898247, 898248, 898330, 898331, 898332, 898333, 898334, 898335, 898336, 898337, 898338, 898420, 898421, 898422, 898423, 898424, 898425, 898426, 898427, 898428, 898510, 898511, 898512, 898513, 898514, 898515, 898516, 898517, 898518, 898601, 898602, 898603, 898604, 898605, 898606, 898607, 898608, 899050, 899051, 899052, 899053, 899054, 899055, 899056, 899057, 899058, 899140, 899141, 899142, 899143, 899144, 899145, 899146, 899147, 899148, 899230, 899231, 899232, 899233, 899234, 899235, 899236, 899237, 899238, 899320, 899321, 899322, 899323, 899324, 899325, 899326, 899327, 899328, 899410, 899411, 899412, 899413, 899414, 899415, 899416, 899417, 899418, 899501, 899502, 899503, 899504, 899505, 899506, 899507, 899508, 900590, 900591, 900592, 900593, 900594, 900595, 900596, 900597, 900598, 900680, 900681, 900682, 900683, 900684, 900685, 900686, 900687, 900688, 900770, 900771, 900772, 900773, 900774, 900775, 900776, 900777, 900778, 900860, 900861, 900862, 900863, 900864, 900865, 900866, 900867, 900868, 900950, 900951, 900952, 900953, 900954, 900955, 900956, 900957, 900958, 901490, 901491, 901492, 901493, 901494, 901495, 901496, 901497, 901498, 901580, 901581, 901582, 901583, 901584, 901585, 901586, 901587, 901588, 901670, 901671, 901672, 901673, 901674, 901675, 901676, 901677, 901678, 901760, 901761, 901762, 901763, 901764, 901765, 901766, 901767, 901768, 901850, 901851, 901852, 901853, 901854, 901855, 901856, 901857, 901858, 901940, 901941, 901942, 901943, 901944, 901945, 901946, 901947, 901948, 902390, 902391, 902392, 902393, 902394, 902395, 902396, 902397, 902398, 902480, 902481, 902482, 902483, 902484, 902485, 902486, 902487, 902488, 902570, 902571, 902572, 902573, 902574, 902575, 902576, 902577, 902578, 902660, 902661, 902662, 902663, 902664, 902665, 902666, 902667, 902668, 902750, 902751, 902752, 902753, 902754, 902755, 902756, 902757, 902758, 902840, 902841, 902842, 902843, 902844, 902845, 902846, 902847, 902848, 902930, 902931, 902932, 902933, 902934, 902935, 902936, 902937, 902938, 903290, 903291, 903292, 903293, 903294, 903295, 903296, 903297, 903298, 903380, 903381, 903382, 903383, 903384, 903385, 903386, 903387, 903388, 903470, 903471, 903472, 903473, 903474, 903475, 903476, 903477, 903478, 903560, 903561, 903562, 903563, 903564, 903565, 903566, 903567, 903568, 903650, 903651, 903652, 903653, 903654, 903655, 903656, 903657, 903658, 903740, 903741, 903742, 903743, 903744, 903745, 903746, 903747, 903748, 903830, 903831, 903832, 903833, 903834, 903835, 903836, 903837, 903838, 903920, 903921, 903922, 903923, 903924, 903925, 903926, 903927, 903928, 904190, 904191, 904192, 904193, 904194, 904195, 904196, 904197, 904198, 904280, 904281, 904282, 904283, 904284, 904285, 904286, 904287, 904288, 904370, 904371, 904372, 904373, 904374, 904375, 904376, 904377, 904378, 904460, 904461, 904462, 904463, 904464, 904465, 904466, 904467, 904468, 904550, 904551, 904552, 904553, 904554, 904555, 904556, 904557, 904558, 904640, 904641, 904642, 904643, 904644, 904645, 904646, 904647, 904648, 904730, 904731, 904732, 904733, 904734, 904735, 904736, 904737, 904738, 904820, 904821, 904822, 904823, 904824, 904825, 904826, 904827, 904828, 904910, 904911, 904912, 904913, 904914, 904915, 904916, 904917, 904918, 905090, 905091, 905092, 905093, 905094, 905095, 905096, 905097, 905098, 905180, 905181, 905182, 905183, 905184, 905185, 905186, 905187, 905188, 905270, 905271, 905272, 905273, 905274, 905275, 905276, 905277, 905278, 905360, 905361, 905362, 905363, 905364, 905365, 905366, 905367, 905368, 905450, 905451, 905452, 905453, 905454, 905455, 905456, 905457, 905458, 905540, 905541, 905542, 905543, 905544, 905545, 905546, 905547, 905548, 905630, 905631, 905632, 905633, 905634, 905635, 905636, 905637, 905638, 905720, 905721, 905722, 905723, 905724, 905725, 905726, 905727, 905728, 905810, 905811, 905812, 905813, 905814, 905815, 905816, 905817, 905818, 905900, 905901, 905902, 905903, 905904, 905905, 905906, 905907, 905908, 906080, 906081, 906082, 906083, 906084, 906085, 906086, 906087, 906088, 906170, 906171, 906172, 906173, 906174, 906175, 906176, 906177, 906178, 906260, 906261, 906262, 906263, 906264, 906265, 906266, 906267, 906268, 906350, 906351, 906352, 906353, 906354, 906355, 906356, 906357, 906358, 906440, 906441, 906442, 906443, 906444, 906445, 906446, 906447, 906448, 906530, 906531, 906532, 906533, 906534, 906535, 906536, 906537, 906538, 906620, 906621, 906622, 906623, 906624, 906625, 906626, 906627, 906628, 906710, 906711, 906712, 906713, 906714, 906715, 906716, 906717, 906718, 906801, 906802, 906803, 906804, 906805, 906806, 906807, 906808, 907070, 907071, 907072, 907073, 907074, 907075, 907076, 907077, 907078, 907160, 907161, 907162, 907163, 907164, 907165, 907166, 907167, 907168, 907250, 907251, 907252, 907253, 907254, 907255, 907256, 907257, 907258, 907340, 907341, 907342, 907343, 907344, 907345, 907346, 907347, 907348, 907430, 907431, 907432, 907433, 907434, 907435, 907436, 907437, 907438, 907520, 907521, 907522, 907523, 907524, 907525, 907526, 907527, 907528, 907610, 907611, 907612, 907613, 907614, 907615, 907616, 907617, 907618, 907701, 907702, 907703, 907704, 907705, 907706, 907707, 907708, 908060, 908061, 908062, 908063, 908064, 908065, 908066, 908067, 908068, 908150, 908151, 908152, 908153, 908154, 908155, 908156, 908157, 908158, 908240, 908241, 908242, 908243, 908244, 908245, 908246, 908247, 908248, 908330, 908331, 908332, 908333, 908334, 908335, 908336, 908337, 908338, 908420, 908421, 908422, 908423, 908424, 908425, 908426, 908427, 908428, 908510, 908511, 908512, 908513, 908514, 908515, 908516, 908517, 908518, 908601, 908602, 908603, 908604, 908605, 908606, 908607, 908608, 908609, 909050, 909051, 909052, 909053, 909054, 909055, 909056, 909057, 909058, 909140, 909141, 909142, 909143, 909144, 909145, 909146, 909147, 909148, 909230, 909231, 909232, 909233, 909234, 909235, 909236, 909237, 909238, 909320, 909321, 909322, 909323, 909324, 909325, 909326, 909327, 909328, 909410, 909411, 909412, 909413, 909414, 909415, 909416, 909417, 909418, 909501, 909502, 909503, 909504, 909505, 909506, 909507, 909508, 909509, 910590, 910591, 910592, 910593, 910594, 910595, 910596, 910597, 910598, 910680, 910681, 910682, 910683, 910684, 910685, 910686, 910687, 910688, 910770, 910771, 910772, 910773, 910774, 910775, 910776, 910777, 910778, 910860, 910861, 910862, 910863, 910864, 910865, 910866, 910867, 910868, 910950, 910951, 910952, 910953, 910954, 910955, 910956, 910957, 910958, 911490, 911491, 911492, 911493, 911494, 911495, 911496, 911497, 911498, 911580, 911581, 911582, 911583, 911584, 911585, 911586, 911587, 911588, 911670, 911671, 911672, 911673, 911674, 911675, 911676, 911677, 911678, 911760, 911761, 911762, 911763, 911764, 911765, 911766, 911767, 911768, 911850, 911851, 911852, 911853, 911854, 911855, 911856, 911857, 911858, 911940, 911941, 911942, 911943, 911944, 911945, 911946, 911947, 911948, 912390, 912391, 912392, 912393, 912394, 912395, 912396, 912397, 912398, 912480, 912481, 912482, 912483, 912484, 912485, 912486, 912487, 912488, 912570, 912571, 912572, 912573, 912574, 912575, 912576, 912577, 912578, 912660, 912661, 912662, 912663, 912664, 912665, 912666, 912667, 912668, 912750, 912751, 912752, 912753, 912754, 912755, 912756, 912757, 912758, 912840, 912841, 912842, 912843, 912844, 912845, 912846, 912847, 912848, 912930, 912931, 912932, 912933, 912934, 912935, 912936, 912937, 912938, 913290, 913291, 913292, 913293, 913294, 913295, 913296, 913297, 913298, 913380, 913381, 913382, 913383, 913384, 913385, 913386, 913387, 913388, 913470, 913471, 913472, 913473, 913474, 913475, 913476, 913477, 913478, 913560, 913561, 913562, 913563, 913564, 913565, 913566, 913567, 913568, 913650, 913651, 913652, 913653, 913654, 913655, 913656, 913657, 913658, 913740, 913741, 913742, 913743, 913744, 913745, 913746, 913747, 913748, 913830, 913831, 913832, 913833, 913834, 913835, 913836, 913837, 913838, 913920, 913921, 913922, 913923, 913924, 913925, 913926, 913927, 913928, 914190, 914191, 914192, 914193, 914194, 914195, 914196, 914197, 914198, 914280, 914281, 914282, 914283, 914284, 914285, 914286, 914287, 914288, 914370, 914371, 914372, 914373, 914374, 914375, 914376, 914377, 914378, 914460, 914461, 914462, 914463, 914464, 914465, 914466, 914467, 914468, 914550, 914551, 914552, 914553, 914554, 914555, 914556, 914557, 914558, 914640, 914641, 914642, 914643, 914644, 914645, 914646, 914647, 914648, 914730, 914731, 914732, 914733, 914734, 914735, 914736, 914737, 914738, 914820, 914821, 914822, 914823, 914824, 914825, 914826, 914827, 914828, 914910, 914911, 914912, 914913, 914914, 914915, 914916, 914917, 914918, 915090, 915091, 915092, 915093, 915094, 915095, 915096, 915097, 915098, 915180, 915181, 915182, 915183, 915184, 915185, 915186, 915187, 915188, 915270, 915271, 915272, 915273, 915274, 915275, 915276, 915277, 915278, 915360, 915361, 915362, 915363, 915364, 915365, 915366, 915367, 915368, 915450, 915451, 915452, 915453, 915454, 915455, 915456, 915457, 915458, 915540, 915541, 915542, 915543, 915544, 915545, 915546, 915547, 915548, 915630, 915631, 915632, 915633, 915634, 915635, 915636, 915637, 915638, 915720, 915721, 915722, 915723, 915724, 915725, 915726, 915727, 915728, 915810, 915811, 915812, 915813, 915814, 915815, 915816, 915817, 915818, 915900, 915901, 915902, 915903, 915904, 915905, 915906, 915907, 915908, 915909, 916080, 916081, 916082, 916083, 916084, 916085, 916086, 916087, 916088, 916170, 916171, 916172, 916173, 916174, 916175, 916176, 916177, 916178, 916260, 916261, 916262, 916263, 916264, 916265, 916266, 916267, 916268, 916350, 916351, 916352, 916353, 916354, 916355, 916356, 916357, 916358, 916440, 916441, 916442, 916443, 916444, 916445, 916446, 916447, 916448, 916530, 916531, 916532, 916533, 916534, 916535, 916536, 916537, 916538, 916620, 916621, 916622, 916623, 916624, 916625, 916626, 916627, 916628, 916710, 916711, 916712, 916713, 916714, 916715, 916716, 916717, 916718, 916801, 916802, 916803, 916804, 916805, 916806, 916807, 916808, 916809, 917070, 917071, 917072, 917073, 917074, 917075, 917076, 917077, 917078, 917160, 917161, 917162, 917163, 917164, 917165, 917166, 917167, 917168, 917250, 917251, 917252, 917253, 917254, 917255, 917256, 917257, 917258, 917340, 917341, 917342, 917343, 917344, 917345, 917346, 917347, 917348, 917430, 917431, 917432, 917433, 917434, 917435, 917436, 917437, 917438, 917520, 917521, 917522, 917523, 917524, 917525, 917526, 917527, 917528, 917610, 917611, 917612, 917613, 917614, 917615, 917616, 917617, 917618, 917619, 917701, 917702, 917703, 917704, 917705, 917706, 917707, 917708, 917709, 918060, 918061, 918062, 918063, 918064, 918065, 918066, 918067, 918068, 918150, 918151, 918152, 918153, 918154, 918155, 918156, 918157, 918158, 918240, 918241, 918242, 918243, 918244, 918245, 918246, 918247, 918248, 918330, 918331, 918332, 918333, 918334, 918335, 918336, 918337, 918338, 918420, 918421, 918422, 918423, 918424, 918425, 918426, 918427, 918428, 918510, 918511, 918512, 918513, 918514, 918515, 918516, 918517, 918518, 918519, 918601, 918602, 918603, 918604, 918605, 918606, 918607, 918608, 918609, 919050, 919051, 919052, 919053, 919054, 919055, 919056, 919057, 919058, 919140, 919141, 919142, 919143, 919144, 919145, 919146, 919147, 919148, 919230, 919231, 919232, 919233, 919234, 919235, 919236, 919237, 919238, 919320, 919321, 919322, 919323, 919324, 919325, 919326, 919327, 919328, 919410, 919411, 919412, 919413, 919414, 919415, 919416, 919417, 919418, 919419, 919501, 919502, 919503, 919504, 919505, 919506, 919507, 919508, 919509, 920590, 920591, 920592, 920593, 920594, 920595, 920596, 920597, 920598, 920680, 920681, 920682, 920683, 920684, 920685, 920686, 920687, 920688, 920770, 920771, 920772, 920773, 920774, 920775, 920776, 920777, 920778, 920860, 920861, 920862, 920863, 920864, 920865, 920866, 920867, 920868, 920950, 920951, 920952, 920953, 920954, 920955, 920956, 920957, 920958, 921490, 921491, 921492, 921493, 921494, 921495, 921496, 921497, 921498, 921580, 921581, 921582, 921583, 921584, 921585, 921586, 921587, 921588, 921670, 921671, 921672, 921673, 921674, 921675, 921676, 921677, 921678, 921760, 921761, 921762, 921763, 921764, 921765, 921766, 921767, 921768, 921850, 921851, 921852, 921853, 921854, 921855, 921856, 921857, 921858, 921940, 921941, 921942, 921943, 921944, 921945, 921946, 921947, 921948, 922390, 922391, 922392, 922393, 922394, 922395, 922396, 922397, 922398, 922480, 922481, 922482, 922483, 922484, 922485, 922486, 922487, 922488, 922570, 922571, 922572, 922573, 922574, 922575, 922576, 922577, 922578, 922660, 922661, 922662, 922663, 922664, 922665, 922666, 922667, 922668, 922750, 922751, 922752, 922753, 922754, 922755, 922756, 922757, 922758, 922840, 922841, 922842, 922843, 922844, 922845, 922846, 922847, 922848, 922930, 922931, 922932, 922933, 922934, 922935, 922936, 922937, 922938, 923290, 923291, 923292, 923293, 923294, 923295, 923296, 923297, 923298, 923380, 923381, 923382, 923383, 923384, 923385, 923386, 923387, 923388, 923470, 923471, 923472, 923473, 923474, 923475, 923476, 923477, 923478, 923560, 923561, 923562, 923563, 923564, 923565, 923566, 923567, 923568, 923650, 923651, 923652, 923653, 923654, 923655, 923656, 923657, 923658, 923740, 923741, 923742, 923743, 923744, 923745, 923746, 923747, 923748, 923830, 923831, 923832, 923833, 923834, 923835, 923836, 923837, 923838, 923920, 923921, 923922, 923923, 923924, 923925, 923926, 923927, 923928, 924190, 924191, 924192, 924193, 924194, 924195, 924196, 924197, 924198, 924280, 924281, 924282, 924283, 924284, 924285, 924286, 924287, 924288, 924370, 924371, 924372, 924373, 924374, 924375, 924376, 924377, 924378, 924460, 924461, 924462, 924463, 924464, 924465, 924466, 924467, 924468, 924550, 924551, 924552, 924553, 924554, 924555, 924556, 924557, 924558, 924640, 924641, 924642, 924643, 924644, 924645, 924646, 924647, 924648, 924730, 924731, 924732, 924733, 924734, 924735, 924736, 924737, 924738, 924820, 924821, 924822, 924823, 924824, 924825, 924826, 924827, 924828, 924910, 924911, 924912, 924913, 924914, 924915, 924916, 924917, 924918, 924919, 925090, 925091, 925092, 925093, 925094, 925095, 925096, 925097, 925098, 925180, 925181, 925182, 925183, 925184, 925185, 925186, 925187, 925188, 925270, 925271, 925272, 925273, 925274, 925275, 925276, 925277, 925278, 925360, 925361, 925362, 925363, 925364, 925365, 925366, 925367, 925368, 925450, 925451, 925452, 925453, 925454, 925455, 925456, 925457, 925458, 925540, 925541, 925542, 925543, 925544, 925545, 925546, 925547, 925548, 925630, 925631, 925632, 925633, 925634, 925635, 925636, 925637, 925638, 925720, 925721, 925722, 925723, 925724, 925725, 925726, 925727, 925728, 925810, 925811, 925812, 925813, 925814, 925815, 925816, 925817, 925818, 925819, 925900, 925901, 925902, 925903, 925904, 925905, 925906, 925907, 925908, 925909, 926080, 926081, 926082, 926083, 926084, 926085, 926086, 926087, 926088, 926170, 926171, 926172, 926173, 926174, 926175, 926176, 926177, 926178, 926260, 926261, 926262, 926263, 926264, 926265, 926266, 926267, 926268, 926350, 926351, 926352, 926353, 926354, 926355, 926356, 926357, 926358, 926440, 926441, 926442, 926443, 926444, 926445, 926446, 926447, 926448, 926530, 926531, 926532, 926533, 926534, 926535, 926536, 926537, 926538, 926620, 926621, 926622, 926623, 926624, 926625, 926626, 926627, 926628, 926710, 926711, 926712, 926713, 926714, 926715, 926716, 926717, 926718, 926719, 926801, 926802, 926803, 926804, 926805, 926806, 926807, 926808, 926809, 927070, 927071, 927072, 927073, 927074, 927075, 927076, 927077, 927078, 927160, 927161, 927162, 927163, 927164, 927165, 927166, 927167, 927168, 927250, 927251, 927252, 927253, 927254, 927255, 927256, 927257, 927258, 927340, 927341, 927342, 927343, 927344, 927345, 927346, 927347, 927348, 927430, 927431, 927432, 927433, 927434, 927435, 927436, 927437, 927438, 927520, 927521, 927522, 927523, 927524, 927525, 927526, 927527, 927528, 927529, 927610, 927611, 927612, 927613, 927614, 927615, 927616, 927617, 927618, 927619, 927701, 927702, 927703, 927704, 927705, 927706, 927707, 927708, 927709, 928060, 928061, 928062, 928063, 928064, 928065, 928066, 928067, 928068, 928150, 928151, 928152, 928153, 928154, 928155, 928156, 928157, 928158, 928240, 928241, 928242, 928243, 928244, 928245, 928246, 928247, 928248, 928330, 928331, 928332, 928333, 928334, 928335, 928336, 928337, 928338, 928420, 928421, 928422, 928423, 928424, 928425, 928426, 928427, 928428, 928429, 928510, 928511, 928512, 928513, 928514, 928515, 928516, 928517, 928518, 928519, 928601, 928602, 928603, 928604, 928605, 928606, 928607, 928608, 928609, 929050, 929051, 929052, 929053, 929054, 929055, 929056, 929057, 929058, 929140, 929141, 929142, 929143, 929144, 929145, 929146, 929147, 929148, 929230, 929231, 929232, 929233, 929234, 929235, 929236, 929237, 929238, 929320, 929321, 929322, 929323, 929324, 929325, 929326, 929327, 929328, 929329, 929410, 929411, 929412, 929413, 929414, 929415, 929416, 929417, 929418, 929419, 929501, 929502, 929503, 929504, 929505, 929506, 929507, 929508, 929509, 930590, 930591, 930592, 930593, 930594, 930595, 930596, 930597, 930598, 930680, 930681, 930682, 930683, 930684, 930685, 930686, 930687, 930688, 930770, 930771, 930772, 930773, 930774, 930775, 930776, 930777, 930778, 930860, 930861, 930862, 930863, 930864, 930865, 930866, 930867, 930868, 930950, 930951, 930952, 930953, 930954, 930955, 930956, 930957, 930958, 931490, 931491, 931492, 931493, 931494, 931495, 931496, 931497, 931498, 931580, 931581, 931582, 931583, 931584, 931585, 931586, 931587, 931588, 931670, 931671, 931672, 931673, 931674, 931675, 931676, 931677, 931678, 931760, 931761, 931762, 931763, 931764, 931765, 931766, 931767, 931768, 931850, 931851, 931852, 931853, 931854, 931855, 931856, 931857, 931858, 931940, 931941, 931942, 931943, 931944, 931945, 931946, 931947, 931948, 932390, 932391, 932392, 932393, 932394, 932395, 932396, 932397, 932398, 932480, 932481, 932482, 932483, 932484, 932485, 932486, 932487, 932488, 932570, 932571, 932572, 932573, 932574, 932575, 932576, 932577, 932578, 932660, 932661, 932662, 932663, 932664, 932665, 932666, 932667, 932668, 932750, 932751, 932752, 932753, 932754, 932755, 932756, 932757, 932758, 932840, 932841, 932842, 932843, 932844, 932845, 932846, 932847, 932848, 932930, 932931, 932932, 932933, 932934, 932935, 932936, 932937, 932938, 933290, 933291, 933292, 933293, 933294, 933295, 933296, 933297, 933298, 933380, 933381, 933382, 933383, 933384, 933385, 933386, 933387, 933388, 933470, 933471, 933472, 933473, 933474, 933475, 933476, 933477, 933478, 933560, 933561, 933562, 933563, 933564, 933565, 933566, 933567, 933568, 933650, 933651, 933652, 933653, 933654, 933655, 933656, 933657, 933658, 933740, 933741, 933742, 933743, 933744, 933745, 933746, 933747, 933748, 933830, 933831, 933832, 933833, 933834, 933835, 933836, 933837, 933838, 933920, 933921, 933922, 933923, 933924, 933925, 933926, 933927, 933928, 933929, 934190, 934191, 934192, 934193, 934194, 934195, 934196, 934197, 934198, 934280, 934281, 934282, 934283, 934284, 934285, 934286, 934287, 934288, 934370, 934371, 934372, 934373, 934374, 934375, 934376, 934377, 934378, 934460, 934461, 934462, 934463, 934464, 934465, 934466, 934467, 934468, 934550, 934551, 934552, 934553, 934554, 934555, 934556, 934557, 934558, 934640, 934641, 934642, 934643, 934644, 934645, 934646, 934647, 934648, 934730, 934731, 934732, 934733, 934734, 934735, 934736, 934737, 934738, 934820, 934821, 934822, 934823, 934824, 934825, 934826, 934827, 934828, 934829, 934910, 934911, 934912, 934913, 934914, 934915, 934916, 934917, 934918, 934919, 935090, 935091, 935092, 935093, 935094, 935095, 935096, 935097, 935098, 935180, 935181, 935182, 935183, 935184, 935185, 935186, 935187, 935188, 935270, 935271, 935272, 935273, 935274, 935275, 935276, 935277, 935278, 935360, 935361, 935362, 935363, 935364, 935365, 935366, 935367, 935368, 935450, 935451, 935452, 935453, 935454, 935455, 935456, 935457, 935458, 935540, 935541, 935542, 935543, 935544, 935545, 935546, 935547, 935548, 935630, 935631, 935632, 935633, 935634, 935635, 935636, 935637, 935638, 935720, 935721, 935722, 935723, 935724, 935725, 935726, 935727, 935728, 935729, 935810, 935811, 935812, 935813, 935814, 935815, 935816, 935817, 935818, 935819, 935900, 935901, 935902, 935903, 935904, 935905, 935906, 935907, 935908, 935909, 936080, 936081, 936082, 936083, 936084, 936085, 936086, 936087, 936088, 936170, 936171, 936172, 936173, 936174, 936175, 936176, 936177, 936178, 936260, 936261, 936262, 936263, 936264, 936265, 936266, 936267, 936268, 936350, 936351, 936352, 936353, 936354, 936355, 936356, 936357, 936358, 936440, 936441, 936442, 936443, 936444, 936445, 936446, 936447, 936448, 936530, 936531, 936532, 936533, 936534, 936535, 936536, 936537, 936538, 936539, 936620, 936621, 936622, 936623, 936624, 936625, 936626, 936627, 936628, 936629, 936710, 936711, 936712, 936713, 936714, 936715, 936716, 936717, 936718, 936719, 936801, 936802, 936803, 936804, 936805, 936806, 936807, 936808, 936809, 937070, 937071, 937072, 937073, 937074, 937075, 937076, 937077, 937078, 937160, 937161, 937162, 937163, 937164, 937165, 937166, 937167, 937168, 937250, 937251, 937252, 937253, 937254, 937255, 937256, 937257, 937258, 937340, 937341, 937342, 937343, 937344, 937345, 937346, 937347, 937348, 937430, 937431, 937432, 937433, 937434, 937435, 937436, 937437, 937438, 937439, 937520, 937521, 937522, 937523, 937524, 937525, 937526, 937527, 937528, 937529, 937610, 937611, 937612, 937613, 937614, 937615, 937616, 937617, 937618, 937619, 937701, 937702, 937703, 937704, 937705, 937706, 937707, 937708, 937709, 938060, 938061, 938062, 938063, 938064, 938065, 938066, 938067, 938068, 938150, 938151, 938152, 938153, 938154, 938155, 938156, 938157, 938158, 938240, 938241, 938242, 938243, 938244, 938245, 938246, 938247, 938248, 938330, 938331, 938332, 938333, 938334, 938335, 938336, 938337, 938338, 938339, 938420, 938421, 938422, 938423, 938424, 938425, 938426, 938427, 938428, 938429, 938510, 938511, 938512, 938513, 938514, 938515, 938516, 938517, 938518, 938519, 938601, 938602, 938603, 938604, 938605, 938606, 938607, 938608, 938609, 939050, 939051, 939052, 939053, 939054, 939055, 939056, 939057, 939058, 939140, 939141, 939142, 939143, 939144, 939145, 939146, 939147, 939148, 939230, 939231, 939232, 939233, 939234, 939235, 939236, 939237, 939238, 939239, 939320, 939321, 939322, 939323, 939324, 939325, 939326, 939327, 939328, 939329, 939410, 939411, 939412, 939413, 939414, 939415, 939416, 939417, 939418, 939419, 939501, 939502, 939503, 939504, 939505, 939506, 939507, 939508, 939509, 940590, 940591, 940592, 940593, 940594, 940595, 940596, 940597, 940598, 940680, 940681, 940682, 940683, 940684, 940685, 940686, 940687, 940688, 940770, 940771, 940772, 940773, 940774, 940775, 940776, 940777, 940778, 940860, 940861, 940862, 940863, 940864, 940865, 940866, 940867, 940868, 940950, 940951, 940952, 940953, 940954, 940955, 940956, 940957, 940958, 941490, 941491, 941492, 941493, 941494, 941495, 941496, 941497, 941498, 941580, 941581, 941582, 941583, 941584, 941585, 941586, 941587, 941588, 941670, 941671, 941672, 941673, 941674, 941675, 941676, 941677, 941678, 941760, 941761, 941762, 941763, 941764, 941765, 941766, 941767, 941768, 941850, 941851, 941852, 941853, 941854, 941855, 941856, 941857, 941858, 941940, 941941, 941942, 941943, 941944, 941945, 941946, 941947, 941948, 942390, 942391, 942392, 942393, 942394, 942395, 942396, 942397, 942398, 942480, 942481, 942482, 942483, 942484, 942485, 942486, 942487, 942488, 942570, 942571, 942572, 942573, 942574, 942575, 942576, 942577, 942578, 942660, 942661, 942662, 942663, 942664, 942665, 942666, 942667, 942668, 942750, 942751, 942752, 942753, 942754, 942755, 942756, 942757, 942758, 942840, 942841, 942842, 942843, 942844, 942845, 942846, 942847, 942848, 942930, 942931, 942932, 942933, 942934, 942935, 942936, 942937, 942938, 942939, 943290, 943291, 943292, 943293, 943294, 943295, 943296, 943297, 943298, 943380, 943381, 943382, 943383, 943384, 943385, 943386, 943387, 943388, 943470, 943471, 943472, 943473, 943474, 943475, 943476, 943477, 943478, 943560, 943561, 943562, 943563, 943564, 943565, 943566, 943567, 943568, 943650, 943651, 943652, 943653, 943654, 943655, 943656, 943657, 943658, 943740, 943741, 943742, 943743, 943744, 943745, 943746, 943747, 943748, 943830, 943831, 943832, 943833, 943834, 943835, 943836, 943837, 943838, 943839, 943920, 943921, 943922, 943923, 943924, 943925, 943926, 943927, 943928, 943929, 944190, 944191, 944192, 944193, 944194, 944195, 944196, 944197, 944198, 944280, 944281, 944282, 944283, 944284, 944285, 944286, 944287, 944288, 944370, 944371, 944372, 944373, 944374, 944375, 944376, 944377, 944378, 944460, 944461, 944462, 944463, 944464, 944465, 944466, 944467, 944468, 944550, 944551, 944552, 944553, 944554, 944555, 944556, 944557, 944558, 944640, 944641, 944642, 944643, 944644, 944645, 944646, 944647, 944648, 944730, 944731, 944732, 944733, 944734, 944735, 944736, 944737, 944738, 944739, 944820, 944821, 944822, 944823, 944824, 944825, 944826, 944827, 944828, 944829, 944910, 944911, 944912, 944913, 944914, 944915, 944916, 944917, 944918, 944919, 945090, 945091, 945092, 945093, 945094, 945095, 945096, 945097, 945098, 945180, 945181, 945182, 945183, 945184, 945185, 945186, 945187, 945188, 945270, 945271, 945272, 945273, 945274, 945275, 945276, 945277, 945278, 945360, 945361, 945362, 945363, 945364, 945365, 945366, 945367, 945368, 945450, 945451, 945452, 945453, 945454, 945455, 945456, 945457, 945458, 945540, 945541, 945542, 945543, 945544, 945545, 945546, 945547, 945548, 945630, 945631, 945632, 945633, 945634, 945635, 945636, 945637, 945638, 945639, 945720, 945721, 945722, 945723, 945724, 945725, 945726, 945727, 945728, 945729, 945810, 945811, 945812, 945813, 945814, 945815, 945816, 945817, 945818, 945819, 945900, 945901, 945902, 945903, 945904, 945905, 945906, 945907, 945908, 945909, 946080, 946081, 946082, 946083, 946084, 946085, 946086, 946087, 946088, 946170, 946171, 946172, 946173, 946174, 946175, 946176, 946177, 946178, 946260, 946261, 946262, 946263, 946264, 946265, 946266, 946267, 946268, 946350, 946351, 946352, 946353, 946354, 946355, 946356, 946357, 946358, 946440, 946441, 946442, 946443, 946444, 946445, 946446, 946447, 946448, 946449, 946530, 946531, 946532, 946533, 946534, 946535, 946536, 946537, 946538, 946539, 946620, 946621, 946622, 946623, 946624, 946625, 946626, 946627, 946628, 946629, 946710, 946711, 946712, 946713, 946714, 946715, 946716, 946717, 946718, 946719, 946801, 946802, 946803, 946804, 946805, 946806, 946807, 946808, 946809, 947070, 947071, 947072, 947073, 947074, 947075, 947076, 947077, 947078, 947160, 947161, 947162, 947163, 947164, 947165, 947166, 947167, 947168, 947250, 947251, 947252, 947253, 947254, 947255, 947256, 947257, 947258, 947340, 947341, 947342, 947343, 947344, 947345, 947346, 947347, 947348, 947349, 947430, 947431, 947432, 947433, 947434, 947435, 947436, 947437, 947438, 947439, 947520, 947521, 947522, 947523, 947524, 947525, 947526, 947527, 947528, 947529, 947610, 947611, 947612, 947613, 947614, 947615, 947616, 947617, 947618, 947619, 947701, 947702, 947703, 947704, 947705, 947706, 947707, 947708, 947709, 948060, 948061, 948062, 948063, 948064, 948065, 948066, 948067, 948068, 948150, 948151, 948152, 948153, 948154, 948155, 948156, 948157, 948158, 948240, 948241, 948242, 948243, 948244, 948245, 948246, 948247, 948248, 948249, 948330, 948331, 948332, 948333, 948334, 948335, 948336, 948337, 948338, 948339, 948420, 948421, 948422, 948423, 948424, 948425, 948426, 948427, 948428, 948429, 948510, 948511, 948512, 948513, 948514, 948515, 948516, 948517, 948518, 948519, 948601, 948602, 948603, 948604, 948605, 948606, 948607, 948608, 948609, 949050, 949051, 949052, 949053, 949054, 949055, 949056, 949057, 949058, 949140, 949141, 949142, 949143, 949144, 949145, 949146, 949147, 949148, 949149, 949230, 949231, 949232, 949233, 949234, 949235, 949236, 949237, 949238, 949239, 949320, 949321, 949322, 949323, 949324, 949325, 949326, 949327, 949328, 949329, 949410, 949411, 949412, 949413, 949414, 949415, 949416, 949417, 949418, 949419, 949501, 949502, 949503, 949504, 949505, 949506, 949507, 949508, 949509, 950590, 950591, 950592, 950593, 950594, 950595, 950596, 950597, 950598, 950680, 950681, 950682, 950683, 950684, 950685, 950686, 950687, 950688, 950770, 950771, 950772, 950773, 950774, 950775, 950776, 950777, 950778, 950860, 950861, 950862, 950863, 950864, 950865, 950866, 950867, 950868, 950950, 950951, 950952, 950953, 950954, 950955, 950956, 950957, 950958, 951490, 951491, 951492, 951493, 951494, 951495, 951496, 951497, 951498, 951580, 951581, 951582, 951583, 951584, 951585, 951586, 951587, 951588, 951670, 951671, 951672, 951673, 951674, 951675, 951676, 951677, 951678, 951760, 951761, 951762, 951763, 951764, 951765, 951766, 951767, 951768, 951850, 951851, 951852, 951853, 951854, 951855, 951856, 951857, 951858, 951940, 951941, 951942, 951943, 951944, 951945, 951946, 951947, 951948, 951949, 952390, 952391, 952392, 952393, 952394, 952395, 952396, 952397, 952398, 952480, 952481, 952482, 952483, 952484, 952485, 952486, 952487, 952488, 952570, 952571, 952572, 952573, 952574, 952575, 952576, 952577, 952578, 952660, 952661, 952662, 952663, 952664, 952665, 952666, 952667, 952668, 952750, 952751, 952752, 952753, 952754, 952755, 952756, 952757, 952758, 952840, 952841, 952842, 952843, 952844, 952845, 952846, 952847, 952848, 952849, 952930, 952931, 952932, 952933, 952934, 952935, 952936, 952937, 952938, 952939, 953290, 953291, 953292, 953293, 953294, 953295, 953296, 953297, 953298, 953380, 953381, 953382, 953383, 953384, 953385, 953386, 953387, 953388, 953470, 953471, 953472, 953473, 953474, 953475, 953476, 953477, 953478, 953560, 953561, 953562, 953563, 953564, 953565, 953566, 953567, 953568, 953650, 953651, 953652, 953653, 953654, 953655, 953656, 953657, 953658, 953740, 953741, 953742, 953743, 953744, 953745, 953746, 953747, 953748, 953749, 953830, 953831, 953832, 953833, 953834, 953835, 953836, 953837, 953838, 953839, 953920, 953921, 953922, 953923, 953924, 953925, 953926, 953927, 953928, 953929, 954190, 954191, 954192, 954193, 954194, 954195, 954196, 954197, 954198, 954280, 954281, 954282, 954283, 954284, 954285, 954286, 954287, 954288, 954370, 954371, 954372, 954373, 954374, 954375, 954376, 954377, 954378, 954460, 954461, 954462, 954463, 954464, 954465, 954466, 954467, 954468, 954550, 954551, 954552, 954553, 954554, 954555, 954556, 954557, 954558, 954640, 954641, 954642, 954643, 954644, 954645, 954646, 954647, 954648, 954649, 954730, 954731, 954732, 954733, 954734, 954735, 954736, 954737, 954738, 954739, 954820, 954821, 954822, 954823, 954824, 954825, 954826, 954827, 954828, 954829, 954910, 954911, 954912, 954913, 954914, 954915, 954916, 954917, 954918, 954919, 955090, 955091, 955092, 955093, 955094, 955095, 955096, 955097, 955098, 955180, 955181, 955182, 955183, 955184, 955185, 955186, 955187, 955188, 955270, 955271, 955272, 955273, 955274, 955275, 955276, 955277, 955278, 955360, 955361, 955362, 955363, 955364, 955365, 955366, 955367, 955368, 955450, 955451, 955452, 955453, 955454, 955455, 955456, 955457, 955458, 955459, 955540, 955541, 955542, 955543, 955544, 955545, 955546, 955547, 955548, 955549, 955630, 955631, 955632, 955633, 955634, 955635, 955636, 955637, 955638, 955639, 955720, 955721, 955722, 955723, 955724, 955725, 955726, 955727, 955728, 955729, 955810, 955811, 955812, 955813, 955814, 955815, 955816, 955817, 955818, 955819, 955900, 955901, 955902, 955903, 955904, 955905, 955906, 955907, 955908, 955909, 956080, 956081, 956082, 956083, 956084, 956085, 956086, 956087, 956088, 956170, 956171, 956172, 956173, 956174, 956175, 956176, 956177, 956178, 956260, 956261, 956262, 956263, 956264, 956265, 956266, 956267, 956268, 956350, 956351, 956352, 956353, 956354, 956355, 956356, 956357, 956358, 956359, 956440, 956441, 956442, 956443, 956444, 956445, 956446, 956447, 956448, 956449, 956530, 956531, 956532, 956533, 956534, 956535, 956536, 956537, 956538, 956539, 956620, 956621, 956622, 956623, 956624, 956625, 956626, 956627, 956628, 956629, 956710, 956711, 956712, 956713, 956714, 956715, 956716, 956717, 956718, 956719, 956801, 956802, 956803, 956804, 956805, 956806, 956807, 956808, 956809, 957070, 957071, 957072, 957073, 957074, 957075, 957076, 957077, 957078, 957160, 957161, 957162, 957163, 957164, 957165, 957166, 957167, 957168, 957250, 957251, 957252, 957253, 957254, 957255, 957256, 957257, 957258, 957259, 957340, 957341, 957342, 957343, 957344, 957345, 957346, 957347, 957348, 957349, 957430, 957431, 957432, 957433, 957434, 957435, 957436, 957437, 957438, 957439, 957520, 957521, 957522, 957523, 957524, 957525, 957526, 957527, 957528, 957529, 957610, 957611, 957612, 957613, 957614, 957615, 957616, 957617, 957618, 957619, 957701, 957702, 957703, 957704, 957705, 957706, 957707, 957708, 957709, 958060, 958061, 958062, 958063, 958064, 958065, 958066, 958067, 958068, 958150, 958151, 958152, 958153, 958154, 958155, 958156, 958157, 958158, 958159, 958240, 958241, 958242, 958243, 958244, 958245, 958246, 958247, 958248, 958249, 958330, 958331, 958332, 958333, 958334, 958335, 958336, 958337, 958338, 958339, 958420, 958421, 958422, 958423, 958424, 958425, 958426, 958427, 958428, 958429, 958510, 958511, 958512, 958513, 958514, 958515, 958516, 958517, 958518, 958519, 958601, 958602, 958603, 958604, 958605, 958606, 958607, 958608, 958609, 959050, 959051, 959052, 959053, 959054, 959055, 959056, 959057, 959058, 959059, 959140, 959141, 959142, 959143, 959144, 959145, 959146, 959147, 959148, 959149, 959230, 959231, 959232, 959233, 959234, 959235, 959236, 959237, 959238, 959239, 959320, 959321, 959322, 959323, 959324, 959325, 959326, 959327, 959328, 959329, 959410, 959411, 959412, 959413, 959414, 959415, 959416, 959417, 959418, 959419, 959501, 959502, 959503, 959504, 959505, 959506, 959507, 959508, 959509, 960590, 960591, 960592, 960593, 960594, 960595, 960596, 960597, 960598, 960680, 960681, 960682, 960683, 960684, 960685, 960686, 960687, 960688, 960770, 960771, 960772, 960773, 960774, 960775, 960776, 960777, 960778, 960860, 960861, 960862, 960863, 960864, 960865, 960866, 960867, 960868, 960950, 960951, 960952, 960953, 960954, 960955, 960956, 960957, 960958, 960959, 961490, 961491, 961492, 961493, 961494, 961495, 961496, 961497, 961498, 961580, 961581, 961582, 961583, 961584, 961585, 961586, 961587, 961588, 961670, 961671, 961672, 961673, 961674, 961675, 961676, 961677, 961678, 961760, 961761, 961762, 961763, 961764, 961765, 961766, 961767, 961768, 961850, 961851, 961852, 961853, 961854, 961855, 961856, 961857, 961858, 961859, 961940, 961941, 961942, 961943, 961944, 961945, 961946, 961947, 961948, 961949, 962390, 962391, 962392, 962393, 962394, 962395, 962396, 962397, 962398, 962480, 962481, 962482, 962483, 962484, 962485, 962486, 962487, 962488, 962570, 962571, 962572, 962573, 962574, 962575, 962576, 962577, 962578, 962660, 962661, 962662, 962663, 962664, 962665, 962666, 962667, 962668, 962750, 962751, 962752, 962753, 962754, 962755, 962756, 962757, 962758, 962759, 962840, 962841, 962842, 962843, 962844, 962845, 962846, 962847, 962848, 962849, 962930, 962931, 962932, 962933, 962934, 962935, 962936, 962937, 962938, 962939, 963290, 963291, 963292, 963293, 963294, 963295, 963296, 963297, 963298, 963380, 963381, 963382, 963383, 963384, 963385, 963386, 963387, 963388, 963470, 963471, 963472, 963473, 963474, 963475, 963476, 963477, 963478, 963560, 963561, 963562, 963563, 963564, 963565, 963566, 963567, 963568, 963650, 963651, 963652, 963653, 963654, 963655, 963656, 963657, 963658, 963659, 963740, 963741, 963742, 963743, 963744, 963745, 963746, 963747, 963748, 963749, 963830, 963831, 963832, 963833, 963834, 963835, 963836, 963837, 963838, 963839, 963920, 963921, 963922, 963923, 963924, 963925, 963926, 963927, 963928, 963929, 964190, 964191, 964192, 964193, 964194, 964195, 964196, 964197, 964198, 964280, 964281, 964282, 964283, 964284, 964285, 964286, 964287, 964288, 964370, 964371, 964372, 964373, 964374, 964375, 964376, 964377, 964378, 964460, 964461, 964462, 964463, 964464, 964465, 964466, 964467, 964468, 964550, 964551, 964552, 964553, 964554, 964555, 964556, 964557, 964558, 964559, 964640, 964641, 964642, 964643, 964644, 964645, 964646, 964647, 964648, 964649, 964730, 964731, 964732, 964733, 964734, 964735, 964736, 964737, 964738, 964739, 964820, 964821, 964822, 964823, 964824, 964825, 964826, 964827, 964828, 964829, 964910, 964911, 964912, 964913, 964914, 964915, 964916, 964917, 964918, 964919, 965090, 965091, 965092, 965093, 965094, 965095, 965096, 965097, 965098, 965180, 965181, 965182, 965183, 965184, 965185, 965186, 965187, 965188, 965270, 965271, 965272, 965273, 965274, 965275, 965276, 965277, 965278, 965360, 965361, 965362, 965363, 965364, 965365, 965366, 965367, 965368, 965369, 965450, 965451, 965452, 965453, 965454, 965455, 965456, 965457, 965458, 965459, 965540, 965541, 965542, 965543, 965544, 965545, 965546, 965547, 965548, 965549, 965630, 965631, 965632, 965633, 965634, 965635, 965636, 965637, 965638, 965639, 965720, 965721, 965722, 965723, 965724, 965725, 965726, 965727, 965728, 965729, 965810, 965811, 965812, 965813, 965814, 965815, 965816, 965817, 965818, 965819, 965901, 965902, 965903, 965904, 965905, 965906, 965907, 965908, 965909, 966080, 966081, 966082, 966083, 966084, 966085, 966086, 966087, 966088, 966170, 966171, 966172, 966173, 966174, 966175, 966176, 966177, 966178, 966260, 966261, 966262, 966263, 966264, 966265, 966266, 966267, 966268, 966269, 966350, 966351, 966352, 966353, 966354, 966355, 966356, 966357, 966358, 966359, 966440, 966441, 966442, 966443, 966444, 966445, 966446, 966447, 966448, 966449, 966530, 966531, 966532, 966533, 966534, 966535, 966536, 966537, 966538, 966539, 966620, 966621, 966622, 966623, 966624, 966625, 966626, 966627, 966628, 966629, 966710, 966711, 966712, 966713, 966714, 966715, 966716, 966717, 966718, 966719, 966801, 966802, 966803, 966804, 966805, 966806, 966807, 966808, 966809, 967070, 967071, 967072, 967073, 967074, 967075, 967076, 967077, 967078, 967160, 967161, 967162, 967163, 967164, 967165, 967166, 967167, 967168, 967169, 967250, 967251, 967252, 967253, 967254, 967255, 967256, 967257, 967258, 967259, 967340, 967341, 967342, 967343, 967344, 967345, 967346, 967347, 967348, 967349, 967430, 967431, 967432, 967433, 967434, 967435, 967436, 967437, 967438, 967439, 967520, 967521, 967522, 967523, 967524, 967525, 967526, 967527, 967528, 967529, 967610, 967611, 967612, 967613, 967614, 967615, 967616, 967617, 967618, 967619, 967701, 967702, 967703, 967704, 967705, 967706, 967707, 967708, 967709, 968060, 968061, 968062, 968063, 968064, 968065, 968066, 968067, 968068, 968069, 968150, 968151, 968152, 968153, 968154, 968155, 968156, 968157, 968158, 968159, 968240, 968241, 968242, 968243, 968244, 968245, 968246, 968247, 968248, 968249, 968330, 968331, 968332, 968333, 968334, 968335, 968336, 968337, 968338, 968339, 968420, 968421, 968422, 968423, 968424, 968425, 968426, 968427, 968428, 968429, 968510, 968511, 968512, 968513, 968514, 968515, 968516, 968517, 968518, 968519, 968601, 968602, 968603, 968604, 968605, 968606, 968607, 968608, 968609, 969050, 969051, 969052, 969053, 969054, 969055, 969056, 969057, 969058, 969059, 969140, 969141, 969142, 969143, 969144, 969145, 969146, 969147, 969148, 969149, 969230, 969231, 969232, 969233, 969234, 969235, 969236, 969237, 969238, 969239, 969320, 969321, 969322, 969323, 969324, 969325, 969326, 969327, 969328, 969329, 969410, 969411, 969412, 969413, 969414, 969415, 969416, 969417, 969418, 969419, 969501, 969502, 969503, 969504, 969505, 969506, 969507, 969508, 969509, 970590, 970591, 970592, 970593, 970594, 970595, 970596, 970597, 970598, 970680, 970681, 970682, 970683, 970684, 970685, 970686, 970687, 970688, 970770, 970771, 970772, 970773, 970774, 970775, 970776, 970777, 970778, 970860, 970861, 970862, 970863, 970864, 970865, 970866, 970867, 970868, 970869, 970950, 970951, 970952, 970953, 970954, 970955, 970956, 970957, 970958, 970959, 971490, 971491, 971492, 971493, 971494, 971495, 971496, 971497, 971498, 971580, 971581, 971582, 971583, 971584, 971585, 971586, 971587, 971588, 971670, 971671, 971672, 971673, 971674, 971675, 971676, 971677, 971678, 971760, 971761, 971762, 971763, 971764, 971765, 971766, 971767, 971768, 971769, 971850, 971851, 971852, 971853, 971854, 971855, 971856, 971857, 971858, 971859, 971940, 971941, 971942, 971943, 971944, 971945, 971946, 971947, 971948, 971949, 972390, 972391, 972392, 972393, 972394, 972395, 972396, 972397, 972398, 972480, 972481, 972482, 972483, 972484, 972485, 972486, 972487, 972488, 972570, 972571, 972572, 972573, 972574, 972575, 972576, 972577, 972578, 972660, 972661, 972662, 972663, 972664, 972665, 972666, 972667, 972668, 972669, 972750, 972751, 972752, 972753, 972754, 972755, 972756, 972757, 972758, 972759, 972840, 972841, 972842, 972843, 972844, 972845, 972846, 972847, 972848, 972849, 972930, 972931, 972932, 972933, 972934, 972935, 972936, 972937, 972938, 972939, 973290, 973291, 973292, 973293, 973294, 973295, 973296, 973297, 973298, 973380, 973381, 973382, 973383, 973384, 973385, 973386, 973387, 973388, 973470, 973471, 973472, 973473, 973474, 973475, 973476, 973477, 973478, 973560, 973561, 973562, 973563, 973564, 973565, 973566, 973567, 973568, 973569, 973650, 973651, 973652, 973653, 973654, 973655, 973656, 973657, 973658, 973659, 973740, 973741, 973742, 973743, 973744, 973745, 973746, 973747, 973748, 973749, 973830, 973831, 973832, 973833, 973834, 973835, 973836, 973837, 973838, 973839, 973920, 973921, 973922, 973923, 973924, 973925, 973926, 973927, 973928, 973929, 974190, 974191, 974192, 974193, 974194, 974195, 974196, 974197, 974198, 974280, 974281, 974282, 974283, 974284, 974285, 974286, 974287, 974288, 974370, 974371, 974372, 974373, 974374, 974375, 974376, 974377, 974378, 974379, 974460, 974461, 974462, 974463, 974464, 974465, 974466, 974467, 974468, 974469, 974550, 974551, 974552, 974553, 974554, 974555, 974556, 974557, 974558, 974559, 974640, 974641, 974642, 974643, 974644, 974645, 974646, 974647, 974648, 974649, 974730, 974731, 974732, 974733, 974734, 974735, 974736, 974737, 974738, 974739, 974820, 974821, 974822, 974823, 974824, 974825, 974826, 974827, 974828, 974829, 974910, 974911, 974912, 974913, 974914, 974915, 974916, 974917, 974918, 974919, 975090, 975091, 975092, 975093, 975094, 975095, 975096, 975097, 975098, 975180, 975181, 975182, 975183, 975184, 975185, 975186, 975187, 975188, 975270, 975271, 975272, 975273, 975274, 975275, 975276, 975277, 975278, 975279, 975360, 975361, 975362, 975363, 975364, 975365, 975366, 975367, 975368, 975369, 975450, 975451, 975452, 975453, 975454, 975455, 975456, 975457, 975458, 975459, 975540, 975541, 975542, 975543, 975544, 975545, 975546, 975547, 975548, 975549, 975630, 975631, 975632, 975633, 975634, 975635, 975636, 975637, 975638, 975639, 975720, 975721, 975722, 975723, 975724, 975725, 975726, 975727, 975728, 975729, 975810, 975811, 975812, 975813, 975814, 975815, 975816, 975817, 975818, 975819, 975901, 975902, 975903, 975904, 975905, 975906, 975907, 975908, 975909, 976080, 976081, 976082, 976083, 976084, 976085, 976086, 976087, 976088, 976170, 976171, 976172, 976173, 976174, 976175, 976176, 976177, 976178, 976179, 976260, 976261, 976262, 976263, 976264, 976265, 976266, 976267, 976268, 976269, 976350, 976351, 976352, 976353, 976354, 976355, 976356, 976357, 976358, 976359, 976440, 976441, 976442, 976443, 976444, 976445, 976446, 976447, 976448, 976449, 976530, 976531, 976532, 976533, 976534, 976535, 976536, 976537, 976538, 976539, 976620, 976621, 976622, 976623, 976624, 976625, 976626, 976627, 976628, 976629, 976710, 976711, 976712, 976713, 976714, 976715, 976716, 976717, 976718, 976719, 976801, 976802, 976803, 976804, 976805, 976806, 976807, 976808, 976809, 977070, 977071, 977072, 977073, 977074, 977075, 977076, 977077, 977078, 977079, 977160, 977161, 977162, 977163, 977164, 977165, 977166, 977167, 977168, 977169, 977250, 977251, 977252, 977253, 977254, 977255, 977256, 977257, 977258, 977259, 977340, 977341, 977342, 977343, 977344, 977345, 977346, 977347, 977348, 977349, 977430, 977431, 977432, 977433, 977434, 977435, 977436, 977437, 977438, 977439, 977520, 977521, 977522, 977523, 977524, 977525, 977526, 977527, 977528, 977529, 977610, 977611, 977612, 977613, 977614, 977615, 977616, 977617, 977618, 977619, 977701, 977702, 977703, 977704, 977705, 977706, 977707, 977708, 977709, 978060, 978061, 978062, 978063, 978064, 978065, 978066, 978067, 978068, 978069, 978150, 978151, 978152, 978153, 978154, 978155, 978156, 978157, 978158, 978159, 978240, 978241, 978242, 978243, 978244, 978245, 978246, 978247, 978248, 978249, 978330, 978331, 978332, 978333, 978334, 978335, 978336, 978337, 978338, 978339, 978420, 978421, 978422, 978423, 978424, 978425, 978426, 978427, 978428, 978429, 978510, 978511, 978512, 978513, 978514, 978515, 978516, 978517, 978518, 978519, 978601, 978602, 978603, 978604, 978605, 978606, 978607, 978608, 978609, 979050, 979051, 979052, 979053, 979054, 979055, 979056, 979057, 979058, 979059, 979140, 979141, 979142, 979143, 979144, 979145, 979146, 979147, 979148, 979149, 979230, 979231, 979232, 979233, 979234, 979235, 979236, 979237, 979238, 979239, 979320, 979321, 979322, 979323, 979324, 979325, 979326, 979327, 979328, 979329, 979410, 979411, 979412, 979413, 979414, 979415, 979416, 979417, 979418, 979419, 979501, 979502, 979503, 979504, 979505, 979506, 979507, 979508, 979509, 980590, 980591, 980592, 980593, 980594, 980595, 980596, 980597, 980598, 980680, 980681, 980682, 980683, 980684, 980685, 980686, 980687, 980688, 980770, 980771, 980772, 980773, 980774, 980775, 980776, 980777, 980778, 980779, 980860, 980861, 980862, 980863, 980864, 980865, 980866, 980867, 980868, 980869, 980950, 980951, 980952, 980953, 980954, 980955, 980956, 980957, 980958, 980959, 981490, 981491, 981492, 981493, 981494, 981495, 981496, 981497, 981498, 981580, 981581, 981582, 981583, 981584, 981585, 981586, 981587, 981588, 981670, 981671, 981672, 981673, 981674, 981675, 981676, 981677, 981678, 981679, 981760, 981761, 981762, 981763, 981764, 981765, 981766, 981767, 981768, 981769, 981850, 981851, 981852, 981853, 981854, 981855, 981856, 981857, 981858, 981859, 981940, 981941, 981942, 981943, 981944, 981945, 981946, 981947, 981948, 981949, 982390, 982391, 982392, 982393, 982394, 982395, 982396, 982397, 982398, 982480, 982481, 982482, 982483, 982484, 982485, 982486, 982487, 982488, 982570, 982571, 982572, 982573, 982574, 982575, 982576, 982577, 982578, 982579, 982660, 982661, 982662, 982663, 982664, 982665, 982666, 982667, 982668, 982669, 982750, 982751, 982752, 982753, 982754, 982755, 982756, 982757, 982758, 982759, 982840, 982841, 982842, 982843, 982844, 982845, 982846, 982847, 982848, 982849, 982930, 982931, 982932, 982933, 982934, 982935, 982936, 982937, 982938, 982939, 983290, 983291, 983292, 983293, 983294, 983295, 983296, 983297, 983298, 983380, 983381, 983382, 983383, 983384, 983385, 983386, 983387, 983388, 983470, 983471, 983472, 983473, 983474, 983475, 983476, 983477, 983478, 983479, 983560, 983561, 983562, 983563, 983564, 983565, 983566, 983567, 983568, 983569, 983650, 983651, 983652, 983653, 983654, 983655, 983656, 983657, 983658, 983659, 983740, 983741, 983742, 983743, 983744, 983745, 983746, 983747, 983748, 983749, 983830, 983831, 983832, 983833, 983834, 983835, 983836, 983837, 983838, 983839, 983920, 983921, 983922, 983923, 983924, 983925, 983926, 983927, 983928, 983929, 984190, 984191, 984192, 984193, 984194, 984195, 984196, 984197, 984198, 984280, 984281, 984282, 984283, 984284, 984285, 984286, 984287, 984288, 984289, 984370, 984371, 984372, 984373, 984374, 984375, 984376, 984377, 984378, 984379, 984460, 984461, 984462, 984463, 984464, 984465, 984466, 984467, 984468, 984469, 984550, 984551, 984552, 984553, 984554, 984555, 984556, 984557, 984558, 984559, 984640, 984641, 984642, 984643, 984644, 984645, 984646, 984647, 984648, 984649, 984730, 984731, 984732, 984733, 984734, 984735, 984736, 984737, 984738, 984739, 984820, 984821, 984822, 984823, 984824, 984825, 984826, 984827, 984828, 984829, 984910, 984911, 984912, 984913, 984914, 984915, 984916, 984917, 984918, 984919, 985090, 985091, 985092, 985093, 985094, 985095, 985096, 985097, 985098, 985180, 985181, 985182, 985183, 985184, 985185, 985186, 985187, 985188, 985189, 985270, 985271, 985272, 985273, 985274, 985275, 985276, 985277, 985278, 985279, 985360, 985361, 985362, 985363, 985364, 985365, 985366, 985367, 985368, 985369, 985450, 985451, 985452, 985453, 985454, 985455, 985456, 985457, 985458, 985459, 985540, 985541, 985542, 985543, 985544, 985545, 985546, 985547, 985548, 985549, 985630, 985631, 985632, 985633, 985634, 985635, 985636, 985637, 985638, 985639, 985720, 985721, 985722, 985723, 985724, 985725, 985726, 985727, 985728, 985729, 985810, 985811, 985812, 985813, 985814, 985815, 985816, 985817, 985818, 985819, 985901, 985902, 985903, 985904, 985905, 985906, 985907, 985908, 985909, 986080, 986081, 986082, 986083, 986084, 986085, 986086, 986087, 986088, 986089, 986170, 986171, 986172, 986173, 986174, 986175, 986176, 986177, 986178, 986179, 986260, 986261, 986262, 986263, 986264, 986265, 986266, 986267, 986268, 986269, 986350, 986351, 986352, 986353, 986354, 986355, 986356, 986357, 986358, 986359, 986440, 986441, 986442, 986443, 986444, 986445, 986446, 986447, 986448, 986449, 986530, 986531, 986532, 986533, 986534, 986535, 986536, 986537, 986538, 986539, 986620, 986621, 986622, 986623, 986624, 986625, 986626, 986627, 986628, 986629, 986710, 986711, 986712, 986713, 986714, 986715, 986716, 986717, 986718, 986719, 986801, 986802, 986803, 986804, 986805, 986806, 986807, 986808, 986809, 987070, 987071, 987072, 987073, 987074, 987075, 987076, 987077, 987078, 987079, 987160, 987161, 987162, 987163, 987164, 987165, 987166, 987167, 987168, 987169, 987250, 987251, 987252, 987253, 987254, 987255, 987256, 987257, 987258, 987259, 987340, 987341, 987342, 987343, 987344, 987345, 987346, 987347, 987348, 987349, 987430, 987431, 987432, 987433, 987434, 987435, 987436, 987437, 987438, 987439, 987520, 987521, 987522, 987523, 987524, 987525, 987526, 987527, 987528, 987529, 987610, 987611, 987612, 987613, 987614, 987615, 987616, 987617, 987618, 987619, 987701, 987702, 987703, 987704, 987705, 987706, 987707, 987708, 987709, 988060, 988061, 988062, 988063, 988064, 988065, 988066, 988067, 988068, 988069, 988150, 988151, 988152, 988153, 988154, 988155, 988156, 988157, 988158, 988159, 988240, 988241, 988242, 988243, 988244, 988245, 988246, 988247, 988248, 988249, 988330, 988331, 988332, 988333, 988334, 988335, 988336, 988337, 988338, 988339, 988420, 988421, 988422, 988423, 988424, 988425, 988426, 988427, 988428, 988429, 988510, 988511, 988512, 988513, 988514, 988515, 988516, 988517, 988518, 988519, 988601, 988602, 988603, 988604, 988605, 988606, 988607, 988608, 988609, 989050, 989051, 989052, 989053, 989054, 989055, 989056, 989057, 989058, 989059, 989140, 989141, 989142, 989143, 989144, 989145, 989146, 989147, 989148, 989149, 989230, 989231, 989232, 989233, 989234, 989235, 989236, 989237, 989238, 989239, 989320, 989321, 989322, 989323, 989324, 989325, 989326, 989327, 989328, 989329, 989410, 989411, 989412, 989413, 989414, 989415, 989416, 989417, 989418, 989419, 989501, 989502, 989503, 989504, 989505, 989506, 989507, 989508, 989509, 990590, 990591, 990592, 990593, 990594, 990595, 990596, 990597, 990598, 990680, 990681, 990682, 990683, 990684, 990685, 990686, 990687, 990688, 990689, 990770, 990771, 990772, 990773, 990774, 990775, 990776, 990777, 990778, 990779, 990860, 990861, 990862, 990863, 990864, 990865, 990866, 990867, 990868, 990869, 990950, 990951, 990952, 990953, 990954, 990955, 990956, 990957, 990958, 990959, 991490, 991491, 991492, 991493, 991494, 991495, 991496, 991497, 991498, 991580, 991581, 991582, 991583, 991584, 991585, 991586, 991587, 991588, 991589, 991670, 991671, 991672, 991673, 991674, 991675, 991676, 991677, 991678, 991679, 991760, 991761, 991762, 991763, 991764, 991765, 991766, 991767, 991768, 991769, 991850, 991851, 991852, 991853, 991854, 991855, 991856, 991857, 991858, 991859, 991940, 991941, 991942, 991943, 991944, 991945, 991946, 991947, 991948, 991949, 992390, 992391, 992392, 992393, 992394, 992395, 992396, 992397, 992398, 992480, 992481, 992482, 992483, 992484, 992485, 992486, 992487, 992488, 992489, 992570, 992571, 992572, 992573, 992574, 992575, 992576, 992577, 992578, 992579, 992660, 992661, 992662, 992663, 992664, 992665, 992666, 992667, 992668, 992669, 992750, 992751, 992752, 992753, 992754, 992755, 992756, 992757, 992758, 992759, 992840, 992841, 992842, 992843, 992844, 992845, 992846, 992847, 992848, 992849, 992930, 992931, 992932, 992933, 992934, 992935, 992936, 992937, 992938, 992939, 993290, 993291, 993292, 993293, 993294, 993295, 993296, 993297, 993298, 993299, 993380, 993381, 993382, 993383, 993384, 993385, 993386, 993387, 993388, 993389, 993470, 993471, 993472, 993473, 993474, 993475, 993476, 993477, 993478, 993479, 993560, 993561, 993562, 993563, 993564, 993565, 993566, 993567, 993568, 993569, 993650, 993651, 993652, 993653, 993654, 993655, 993656, 993657, 993658, 993659, 993740, 993741, 993742, 993743, 993744, 993745, 993746, 993747, 993748, 993749, 993830, 993831, 993832, 993833, 993834, 993835, 993836, 993837, 993838, 993839, 993920, 993921, 993922, 993923, 993924, 993925, 993926, 993927, 993928, 993929, 994190, 994191, 994192, 994193, 994194, 994195, 994196, 994197, 994198, 994199, 994280, 994281, 994282, 994283, 994284, 994285, 994286, 994287, 994288, 994289, 994370, 994371, 994372, 994373, 994374, 994375, 994376, 994377, 994378, 994379, 994460, 994461, 994462, 994463, 994464, 994465, 994466, 994467, 994468, 994469, 994550, 994551, 994552, 994553, 994554, 994555, 994556, 994557, 994558, 994559, 994640, 994641, 994642, 994643, 994644, 994645, 994646, 994647, 994648, 994649, 994730, 994731, 994732, 994733, 994734, 994735, 994736, 994737, 994738, 994739, 994820, 994821, 994822, 994823, 994824, 994825, 994826, 994827, 994828, 994829, 994910, 994911, 994912, 994913, 994914, 994915, 994916, 994917, 994918, 994919, 995090, 995091, 995092, 995093, 995094, 995095, 995096, 995097, 995098, 995099, 995180, 995181, 995182, 995183, 995184, 995185, 995186, 995187, 995188, 995189, 995270, 995271, 995272, 995273, 995274, 995275, 995276, 995277, 995278, 995279, 995360, 995361, 995362, 995363, 995364, 995365, 995366, 995367, 995368, 995369, 995450, 995451, 995452, 995453, 995454, 995455, 995456, 995457, 995458, 995459, 995540, 995541, 995542, 995543, 995544, 995545, 995546, 995547, 995548, 995549, 995630, 995631, 995632, 995633, 995634, 995635, 995636, 995637, 995638, 995639, 995720, 995721, 995722, 995723, 995724, 995725, 995726, 995727, 995728, 995729, 995810, 995811, 995812, 995813, 995814, 995815, 995816, 995817, 995818, 995819, 995901, 995902, 995903, 995904, 995905, 995906, 995907, 995908, 995909, 996080, 996081, 996082, 996083, 996084, 996085, 996086, 996087, 996088, 996089, 996170, 996171, 996172, 996173, 996174, 996175, 996176, 996177, 996178, 996179, 996260, 996261, 996262, 996263, 996264, 996265, 996266, 996267, 996268, 996269, 996350, 996351, 996352, 996353, 996354, 996355, 996356, 996357, 996358, 996359, 996440, 996441, 996442, 996443, 996444, 996445, 996446, 996447, 996448, 996449, 996530, 996531, 996532, 996533, 996534, 996535, 996536, 996537, 996538, 996539, 996620, 996621, 996622, 996623, 996624, 996625, 996626, 996627, 996628, 996629, 996710, 996711, 996712, 996713, 996714, 996715, 996716, 996717, 996718, 996719, 996801, 996802, 996803, 996804, 996805, 996806, 996807, 996808, 996809, 997070, 997071, 997072, 997073, 997074, 997075, 997076, 997077, 997078, 997079, 997160, 997161, 997162, 997163, 997164, 997165, 997166, 997167, 997168, 997169, 997250, 997251, 997252, 997253, 997254, 997255, 997256, 997257, 997258, 997259, 997340, 997341, 997342, 997343, 997344, 997345, 997346, 997347, 997348, 997349, 997430, 997431, 997432, 997433, 997434, 997435, 997436, 997437, 997438, 997439, 997520, 997521, 997522, 997523, 997524, 997525, 997526, 997527, 997528, 997529, 997610, 997611, 997612, 997613, 997614, 997615, 997616, 997617, 997618, 997619, 997701, 997702, 997703, 997704, 997705, 997706, 997707, 997708, 997709, 998060, 998061, 998062, 998063, 998064, 998065, 998066, 998067, 998068, 998069, 998150, 998151, 998152, 998153, 998154, 998155, 998156, 998157, 998158, 998159, 998240, 998241, 998242, 998243, 998244, 998245, 998246, 998247, 998248, 998249, 998330, 998331, 998332, 998333, 998334, 998335, 998336, 998337, 998338, 998339, 998420, 998421, 998422, 998423, 998424, 998425, 998426, 998427, 998428, 998429, 998510, 998511, 998512, 998513, 998514, 998515, 998516, 998517, 998518, 998519, 998601, 998602, 998603, 998604, 998605, 998606, 998607, 998608, 998609, 999050, 999051, 999052, 999053, 999054, 999055, 999056, 999057, 999058, 999059, 999140, 999141, 999142, 999143, 999144, 999145, 999146, 999147, 999148, 999149, 999230, 999231, 999232, 999233, 999234, 999235, 999236, 999237, 999238, 999239, 999320, 999321, 999322, 999323, 999324, 999325, 999326, 999327, 999328, 999329, 999410, 999411, 999412, 999413, 999414, 999415, 999416, 999417, 999418, 999419, 999501, 999502, 999503, 999504, 999505, 999506, 999507, 999508, 999509]\n",
            "999509\n"
          ],
          "name": "stdout"
        }
      ]
    },
    {
      "cell_type": "code",
      "metadata": {
        "id": "ypo7sPYjRc3Z",
        "outputId": "1a42b3d1-ed40-4ba6-e3bb-cdba7047f5cb",
        "colab": {
          "base_uri": "https://localhost:8080/"
        }
      },
      "source": [
        "for number in range(1, 10000000):\n",
        "    L, M, R = 0, 0, 0\n",
        "    x = number\n",
        "    while x > 0:\n",
        "        R = R * 10 + x % 10\n",
        "        x //= 10\n",
        "        if x <= R:\n",
        "            M += 1\n",
        "        else:\n",
        "            L += x % 10\n",
        "    if answer_L == L and answer_M == M:\n",
        "        answers.append(number)\n",
        "print(answers)\n",
        "print(max(answers))\n"
      ],
      "execution_count": 16,
      "outputs": [
        {
          "output_type": "stream",
          "text": [
            "IOPub data rate exceeded.\n",
            "The notebook server will temporarily stop sending output\n",
            "to the client in order to avoid crashing it.\n",
            "To change this limit, set the config variable\n",
            "`--NotebookApp.iopub_data_rate_limit`.\n",
            "\n",
            "Current values:\n",
            "NotebookApp.iopub_data_rate_limit=1000000.0 (bytes/sec)\n",
            "NotebookApp.rate_limit_window=3.0 (secs)\n",
            "\n"
          ],
          "name": "stderr"
        }
      ]
    },
    {
      "cell_type": "code",
      "metadata": {
        "id": "yE7kBKW8S4nG",
        "outputId": "c38ff4f8-2d2b-4428-9751-af2f13a1646a",
        "colab": {
          "base_uri": "https://localhost:8080/"
        }
      },
      "source": [
        "999509 > 999419"
      ],
      "execution_count": 15,
      "outputs": [
        {
          "output_type": "execute_result",
          "data": {
            "text/plain": [
              "True"
            ]
          },
          "metadata": {
            "tags": []
          },
          "execution_count": 15
        }
      ]
    },
    {
      "cell_type": "markdown",
      "metadata": {
        "id": "MJp3EEfVFjAm"
      },
      "source": [
        "# 24 задание\n",
        "---"
      ]
    },
    {
      "cell_type": "code",
      "metadata": {
        "id": "oZgEHYUec2pm",
        "colab": {
          "base_uri": "https://localhost:8080/",
          "height": 266
        },
        "outputId": "18351a2d-4032-4e2e-8c7a-c3dd6c630adc"
      },
      "source": [
        "\"\"\" OV 24 задание\r\n",
        "Текстовый файл содержит только заглавные буквы латинского алфавита (ABC…Z).\r\n",
        "Определите символ, который чаще всего встречается в файле сразу после буквы A.\r\n",
        "Например, в тексте ABCAABADDD после буквы A два раза стоит B, по одному разу – A и D.\r\n",
        "Для этого текста ответом будет B.\r\n",
        "AB, AA, AB, AD считаются\r\n",
        "\"\"\"\r\n",
        "# https://github.com/htmlprogrammist/unified-state-exam/blob/master/EGE/online-olimpiada-OV/22.txt\r\n",
        "document = open('22.txt')\r\n",
        "a = document.read()\r\n",
        "alphabet = []\r\n",
        "max_counter = 0\r\n",
        "max_counter_index = 0\r\n",
        "\r\n",
        "# chr[65:90]\r\n",
        "\r\n",
        "# Создаю массив с нулями для каждой буквы алфавита\r\n",
        "for j in range(26):\r\n",
        "    alphabet.append(0)\r\n",
        "\r\n",
        "for i in range(len(a) - 1):\r\n",
        "    if a[i] == 'A':\r\n",
        "        symbol = ord(a[i + 1])  # Определяю символ\r\n",
        "        index = symbol - 65  # Место в алфавите\r\n",
        "        alphabet[index] += 1  # Счётчик, сколько раз\r\n",
        "# print(alphabet)\r\n",
        "\r\n",
        "# Нахожу максимальное количество и индекс буквы с максимальным количеством\r\n",
        "for k in range(len(alphabet)):\r\n",
        "    if alphabet[k] > max_counter:\r\n",
        "        max_counter_index = k\r\n",
        "        max_counter = alphabet[k]\r\n",
        "# Используя индекс вывожу букву\r\n",
        "print(chr(max_counter_index + 65))\r\n",
        "# print(max_counter == max(alphabet)) Проверка, совпадают ли значения максимума через функцию Питона\r\n",
        "# и то, как я нашёл максимум\r\n"
      ],
      "execution_count": null,
      "outputs": [
        {
          "output_type": "error",
          "ename": "FileNotFoundError",
          "evalue": "ignored",
          "traceback": [
            "\u001b[0;31m---------------------------------------------------------------------------\u001b[0m",
            "\u001b[0;31mFileNotFoundError\u001b[0m                         Traceback (most recent call last)",
            "\u001b[0;32m<ipython-input-41-a2911400b594>\u001b[0m in \u001b[0;36m<module>\u001b[0;34m()\u001b[0m\n\u001b[1;32m      8\u001b[0m \u001b[0;31m# https://github.com/htmlprogrammist/unified-state-exam/blob/master/EGE/online-olimpiada-OV/22.txt\u001b[0m\u001b[0;34m\u001b[0m\u001b[0;34m\u001b[0m\u001b[0;34m\u001b[0m\u001b[0m\n\u001b[1;32m      9\u001b[0m \u001b[0;31m# document = open('22.txt')\u001b[0m\u001b[0;34m\u001b[0m\u001b[0;34m\u001b[0m\u001b[0;34m\u001b[0m\u001b[0m\n\u001b[0;32m---> 10\u001b[0;31m \u001b[0mdocument\u001b[0m \u001b[0;34m=\u001b[0m \u001b[0mopen\u001b[0m\u001b[0;34m(\u001b[0m\u001b[0;34m'https://github.com/htmlprogrammist/unified-state-exam/blob/master/EGE/online-olimpiada-OV/22.txt'\u001b[0m\u001b[0;34m)\u001b[0m\u001b[0;34m\u001b[0m\u001b[0;34m\u001b[0m\u001b[0m\n\u001b[0m\u001b[1;32m     11\u001b[0m \u001b[0ma\u001b[0m \u001b[0;34m=\u001b[0m \u001b[0mdocument\u001b[0m\u001b[0;34m.\u001b[0m\u001b[0mread\u001b[0m\u001b[0;34m(\u001b[0m\u001b[0;34m)\u001b[0m\u001b[0;34m\u001b[0m\u001b[0;34m\u001b[0m\u001b[0m\n\u001b[1;32m     12\u001b[0m \u001b[0malphabet\u001b[0m \u001b[0;34m=\u001b[0m \u001b[0;34m[\u001b[0m\u001b[0;34m]\u001b[0m\u001b[0;34m\u001b[0m\u001b[0;34m\u001b[0m\u001b[0m\n",
            "\u001b[0;31mFileNotFoundError\u001b[0m: [Errno 2] No such file or directory: 'https://github.com/htmlprogrammist/unified-state-exam/blob/master/EGE/online-olimpiada-OV/22.txt'"
          ]
        }
      ]
    },
    {
      "cell_type": "markdown",
      "metadata": {
        "id": "iglCtjTkFd3W"
      },
      "source": [
        "# 25 задание\r\n",
        "---"
      ]
    },
    {
      "cell_type": "markdown",
      "metadata": {
        "id": "Pmm_q6CjCfzD"
      },
      "source": [
        "**Неправильное решение**. Комментарий с \"#!\" фиксит это задание и оно станет правильным\n",
        "* [Ссылка на правильное решение](https://colab.research.google.com/github/htmlprogrammist/unified-state-exam/blob/master/google.colab.ipynb?#scrollTo=miyfNQFUOkCg&line=4&uniqifier=1)"
      ]
    },
    {
      "cell_type": "code",
      "metadata": {
        "id": "5gcJCad9SJvV"
      },
      "source": [
        "\"\"\"\n",
        "Напишите программу, которая ищет среди целых чисел, принадлежащих числовому отрезку [326496; 649632],\n",
        "числа, у которых количество четных делителей равно количеству нечетных делителей. При этом\n",
        "в каждой из таких групп делителей не менее 70 элементов. Для каждого найденного числа запишите само число и\n",
        "минимальный делитель, больший 1000.\n",
        "\n",
        "Например, для числа 2018 имеем следующие делители 2 и 1009. Поэтому результатом\n",
        "(не принимая во внимание количества делителей) будет пара чисел 2018 1009\n",
        "\n",
        "450450 1001\n",
        "589050 1050\n",
        "630630 1001\n",
        "\"\"\"\n",
        "\n",
        "counter1 = 0\n",
        "counter2 = 0\n",
        "a = []\n",
        "for i in range(326496, 649632 + 1):\n",
        "    #! counter1 = 0\n",
        "    #! counter2 = 0\n",
        "    for j in range(2, i // 2 + 1):\n",
        "        if i % j == 0:\n",
        "            if j % 2 == 0:\n",
        "                counter1 += 1\n",
        "            else:\n",
        "                counter2 += 1\n",
        "    if counter1 == counter2 and counter1 >= 70:\n",
        "        k = 1001\n",
        "        while i % k != 0:\n",
        "            k += 1\n",
        "        print(i, k)\n",
        "        # print('Есть 70 делитетей')\n",
        "        # if i == 450450 or i == 589050 or i == 630630:\n",
        "        #     print('Ура, есть одно из трёх чисел.')\n",
        "print(a)\n"
      ],
      "execution_count": null,
      "outputs": []
    },
    {
      "cell_type": "markdown",
      "metadata": {
        "id": "UW3tn4kkC57h"
      },
      "source": [
        "*Правильное решение*. Оптимизированное решение [ниже](https://colab.research.google.com/github/htmlprogrammist/unified-state-exam/blob/master/google.colab.ipynb?authuser=1#scrollTo=EfZvOdLVNjnB&line=3&uniqifier=1)."
      ]
    },
    {
      "cell_type": "code",
      "metadata": {
        "id": "DYKtKohg8EPs",
        "colab": {
          "base_uri": "https://localhost:8080/"
        },
        "outputId": "8f0a7a71-e87d-4d80-ef6c-3e333a520ea4"
      },
      "source": [
        "\"\"\"\n",
        "Напишите программу, которая ищет среди целых чисел, принадлежащих числовому отрезку [135790; 163228],\n",
        "числа, сумма натуральных делителей которых больше 460000. Для каждого найденного числа запишите количество\n",
        "делителей и их сумму. В качестве делителей не рассматривать числа 1 и исследуемое число.\n",
        "Так, например, для числа 8 учитываются только делители 2 и 4.\n",
        "Например, для числа 36 имеем следующие делители 2, 3, 4, 6, 9, 12, 18.\n",
        "Следовательно для него необходимо вывести два числа: 7 54\n",
        "\n",
        "Ответы:\n",
        "142 473759\n",
        "118 462767\n",
        "126 464999\n",
        "118 461969\n",
        "118 477071\n",
        "\"\"\"\n",
        "total = 0\n",
        "counter = 0\n",
        "# a = []\n",
        "for i in range(135790, 163228 + 1):\n",
        "    # a = []\n",
        "    counter = 0\n",
        "    total = 0\n",
        "    for j in range(2, i // 2 + 1):\n",
        "        # total = 0\n",
        "        # counter = 0\n",
        "        if i % j == 0:\n",
        "            total += j\n",
        "            counter += 1\n",
        "    # print('total', total)\n",
        "    # print(counter, total)\n",
        "    if total > 460000:\n",
        "        print(counter, total)\n",
        "        # print(a)\n"
      ],
      "execution_count": null,
      "outputs": [
        {
          "output_type": "stream",
          "text": [
            "142 473759\n",
            "118 462767\n",
            "126 464999\n",
            "118 461969\n",
            "118 477071\n"
          ],
          "name": "stdout"
        }
      ]
    },
    {
      "cell_type": "markdown",
      "metadata": {
        "id": "plIagpUZC0jY"
      },
      "source": [
        "*Правильное решение*"
      ]
    },
    {
      "cell_type": "code",
      "metadata": {
        "id": "QHtw7G9BHnFv",
        "colab": {
          "base_uri": "https://localhost:8080/"
        },
        "outputId": "433b1f51-9615-4267-b0c2-c6290da5227f"
      },
      "source": [
        "\"\"\"\n",
        "Задание 25 (№67).\n",
        "Напишите программу, которая ищет среди целых чисел, принадлежащих числовому отрезку [81234; 134689], \n",
        "числа, имеющие ровно три различных натуральных делителя, не считая единицы и самого числа. \n",
        "Для каждого найденного числа запишите эти два делителя в таблицу на экране \n",
        "с новой строки в порядке возрастания произведения этих трех делителей. \n",
        "Делители в строке таблицы также должны следовать в порядке возрастания.\n",
        "\n",
        "17 289 4913 83521\n",
        "19 361 6859 130321\n",
        "\"\"\"\n",
        "import math\n",
        "a = []\n",
        "counter = 0\n",
        "for i in range(81234, 134689+1):\n",
        "    counter = 0\n",
        "    a = []\n",
        "    # for j in range(2, int(math.sqrt(i)) + 1):\n",
        "    for j in range(2, i // 2 + 1):\n",
        "        if i % j == 0:\n",
        "            a.append(j)\n",
        "            # a.append(i // j)\n",
        "            counter += 1\n",
        "    if counter == 3:\n",
        "        print(a[0], a[1], a[2], i)\n"
      ],
      "execution_count": null,
      "outputs": [
        {
          "output_type": "stream",
          "text": [
            "17 289 4913 83521\n",
            "19 361 6859 130321\n"
          ],
          "name": "stdout"
        }
      ]
    },
    {
      "cell_type": "markdown",
      "metadata": {
        "id": "sH14Ypd-K6Ab"
      },
      "source": [
        "Тест. Нечетное количество делителей и int(sqrt(i)). (Оно не работает с нечетным количеством делитетей, поэтому решение, представленное ниже - **неправильное**)"
      ]
    },
    {
      "cell_type": "code",
      "metadata": {
        "id": "tdFaRUiCK2Pz",
        "colab": {
          "base_uri": "https://localhost:8080/"
        },
        "outputId": "d974a5fc-e26f-40f9-ff26-7d05726c1a53"
      },
      "source": [
        "import math\n",
        "a = []\n",
        "counter = 0\n",
        "for i in range(81234, 134689+1):\n",
        "    counter = 0\n",
        "    a = []\n",
        "    for j in range(2, int(math.sqrt(i)) + 1):\n",
        "    # for j in range(2, i // 2 + 1):\n",
        "        if i % j == 0:\n",
        "            a.append(j)\n",
        "            a.append(i // j)\n",
        "            counter += 2\n",
        "    if i == int(math.sqrt(i)) ** 2:\n",
        "        counter += 1\n",
        "        a.append(int(math.sqrt(i)))\n",
        "    if counter == 3:\n",
        "        print(a[0], a[1], a[2])\n",
        "  "
      ],
      "execution_count": null,
      "outputs": [
        {
          "output_type": "stream",
          "text": [
            "293 293 293\n",
            "307 307 307\n",
            "311 311 311\n",
            "313 313 313\n",
            "317 317 317\n",
            "331 331 331\n",
            "337 337 337\n",
            "347 347 347\n",
            "349 349 349\n",
            "353 353 353\n",
            "359 359 359\n",
            "367 367 367\n"
          ],
          "name": "stdout"
        }
      ]
    },
    {
      "cell_type": "markdown",
      "metadata": {
        "id": "0ADBT511DXV0"
      },
      "source": [
        "*Правильное решение* самой первой задачи (+оптимизированное)\n",
        "\n",
        "---\n",
        "\n"
      ]
    },
    {
      "cell_type": "code",
      "metadata": {
        "id": "miyfNQFUOkCg",
        "colab": {
          "base_uri": "https://localhost:8080/"
        },
        "outputId": "23fa5e73-9a8e-4ea7-acff-7ee4079ddd3a"
      },
      "source": [
        "\"\"\"\n",
        "Задание 25 (№315).\n",
        "\n",
        "Напишите программу, которая ищет среди целых чисел, принадлежащих числовому отрезку [326496; 649632],\n",
        "числа, у которых количество четных делителей равно количеству нечетных делителей.\n",
        "При этом в каждой из таких групп делителей не менее 70 элементов.\n",
        "Для каждого найденного числа запишите само число и минимальный делитель, больший 1000.\n",
        "\n",
        "Например, для числа 2018 имеем следующие делители 2 и 1009.\n",
        "Поэтому результатом (не принимая во внимание количества делителей) будет пара чисел 2018 1009\n",
        "\n",
        "450450 1001\n",
        "589050 1050\n",
        "630630 1001\n",
        "\"\"\"\n",
        "import math\n",
        "\n",
        "a = []\n",
        "counter1 = 0\n",
        "counter2 = 0\n",
        "for i in range(326496, 649632 + 1):\n",
        "    sqrt_i = int(math.sqrt(i))\n",
        "    k = 0\n",
        "    counter1 = 0\n",
        "    counter2 = 0\n",
        "    if sqrt_i ** 2 == i:\n",
        "        k += 1\n",
        "    for j in range(2, int(math.sqrt(i)) + 1 - k):\n",
        "        if i % j == 0:\n",
        "            if j % 2 == 0:\n",
        "                counter1 += 1\n",
        "            else:\n",
        "                counter2 += 1\n",
        "            if i // j % 2 == 0:\n",
        "                counter1 += 1\n",
        "            if i // j % 2 != 0:\n",
        "                counter2 += 1\n",
        "    if counter1 == counter2 and counter1 >= 70:\n",
        "        k = 1001\n",
        "        while i % k != 0:\n",
        "            k += 1\n",
        "        print(i, k)\n"
      ],
      "execution_count": null,
      "outputs": [
        {
          "output_type": "stream",
          "text": [
            "450450 1001\n",
            "589050 1050\n",
            "630630 1001\n"
          ],
          "name": "stdout"
        }
      ]
    },
    {
      "cell_type": "markdown",
      "metadata": {
        "id": "7h3pX7lcCE5I"
      },
      "source": [
        "**Неправильное решение.** Правильное будет [ниже](https://colab.research.google.com/github/htmlprogrammist/unified-state-exam/blob/master/google.colab.ipynb?authuser=1#scrollTo=UA0FUlzz3t1j&line=8&uniqifier=1) (от 16 ноября, поэтому лучше просто пролистать)"
      ]
    },
    {
      "cell_type": "code",
      "metadata": {
        "id": "OyRaXsx2qf71"
      },
      "source": [
        "\"\"\"\n",
        "Задание 25 (№506).\n",
        "Напишите программу, которая ищет среди целых чисел, принадлежащих числовому отрезку [25317; 51237],\n",
        "которые имеют хотя бы 6 различных простых делителей. Делители 1 и само число не учитываются.\n",
        "В качестве результата работы программы приведите\n",
        "найденное число и максимальный простой делитель этого числа.\n",
        "\n",
        "30030 13\n",
        "39270 17\n",
        "43890 19\n",
        "46410 17\n",
        "\"\"\"\n",
        "from math import sqrt\n",
        "\n",
        "a = []\n",
        "counter = 0\n",
        "counter_of_simple_numbers = 0\n",
        "\n",
        "for i in range(25317, 51237 + 1):\n",
        "    a = []\n",
        "    counter = 0\n",
        "    # for j in range(2, int(sqrt(i)) + 1):\n",
        "    #     a.append(j)\n",
        "    #     a.append(i // j)\n",
        "    #     counter += 2\n",
        "    for j in range(2, i // 2 + 1):\n",
        "        a.append(j)\n",
        "        counter += 1\n",
        "    if counter >= 6:\n",
        "        for k in range(len(a)):\n",
        "            # print(k, a[k])\n",
        "            # print(a.index(k))\n",
        "            ranger = a[k]\n",
        "            for m in range(1, ranger + 1):\n",
        "                if ranger % m == 0:\n",
        "                    counter_of_simple_numbers += 1\n",
        "    if counter_of_simple_numbers == 2:\n",
        "        print(i, ranger)\n",
        "        # ranger = a[k]\n",
        "        # for k in range(1, ranger + 1):\n",
        "        #     if i % k == 0:\n",
        "        #         counter_of_simple_numbers += 1\n",
        "        # if counter_of_simple_numbers == 2:\n",
        "        #     print(i, k)\n"
      ],
      "execution_count": null,
      "outputs": []
    },
    {
      "cell_type": "markdown",
      "metadata": {
        "id": "VMPO7fSnWycK"
      },
      "source": [
        "16 ноября 2020 года.\n",
        "* *Правильное решение*\n"
      ]
    },
    {
      "cell_type": "code",
      "metadata": {
        "id": "UA0FUlzz3t1j",
        "colab": {
          "base_uri": "https://localhost:8080/"
        },
        "outputId": "f342f281-53ae-4006-8da7-03e8437ad067"
      },
      "source": [
        "\"\"\"\n",
        "Задание 25 (№506).\n",
        "Напишите программу, которая ищет среди целых чисел, принадлежащих числовому отрезку [25317; 51237],\n",
        "которые имеют хотя бы 6 различных простых делителей. Делители 1 и само число не учитываются.\n",
        "В качестве результата работы программы приведите\n",
        "найденное число и максимальный простой делитель этого числа.\n",
        "\n",
        "30030 13\n",
        "39270 17\n",
        "43890 19\n",
        "46410 17\n",
        "\"\"\"\n",
        "import math\n",
        "\n",
        "max_d = 1\n",
        "\n",
        "for i in range(25317, 51237 + 1):\n",
        "    simple_counter = 0\n",
        "    dividers = []\n",
        "    for d in range(2, int(math.sqrt(i)) + 1):\n",
        "        if i % d == 0:\n",
        "            k = 0\n",
        "            for j in range(2, int(math.sqrt(d)) + 1):\n",
        "                if d % j == 0:\n",
        "                    k += 1\n",
        "            if k == 0:\n",
        "                simple_counter += 1\n",
        "                max_d = d\n",
        "    if simple_counter >= 6:\n",
        "        print(i, max_d)\n"
      ],
      "execution_count": null,
      "outputs": [
        {
          "output_type": "stream",
          "text": [
            "30030 13\n",
            "39270 17\n",
            "43890 19\n",
            "46410 17\n"
          ],
          "name": "stdout"
        }
      ]
    },
    {
      "cell_type": "markdown",
      "metadata": {
        "id": "MWh6h2hfXIC9"
      },
      "source": [
        "Домашнее задание: 16 ноября 2020 года"
      ]
    },
    {
      "cell_type": "markdown",
      "metadata": {
        "id": "BU-mCXpyELXO"
      },
      "source": [
        "Тут количество ответов совпало, но числа разные. Причем в их ответах (первые) не принадлежат отрезку [6638225; 6638322], а мои ответы (вторые) - совпадают. Алгоритм верный."
      ]
    },
    {
      "cell_type": "code",
      "metadata": {
        "id": "PgZ2HOYvXNCg",
        "colab": {
          "base_uri": "https://localhost:8080/"
        },
        "outputId": "9cf20bd4-4692-404f-8567-4235b99a4b16"
      },
      "source": [
        "\"\"\"\n",
        "Задание 25 (№706).\n",
        "Напишите программу, которая ищет среди целых чисел,\n",
        "принадлежащих числовому отрезку [6638225; 6638322], простые числа.\n",
        "Выведите все найденные простые числа в порядке возрастания,\n",
        "слева от каждого числа выведите его номер по порядку.\n",
        "\n",
        "1 5336753\n",
        "2 5336761\n",
        "3 5336789\n",
        "4 5336797\n",
        "5 5336801\n",
        "6 5336813\n",
        "7 5336831\n",
        "8 5336833\n",
        "\n",
        "1 6638227\n",
        "2 6638231\n",
        "3 6638249\n",
        "4 6638251\n",
        "5 6638263\n",
        "6 6638273\n",
        "7 6638299\n",
        "8 6638321\n",
        "\"\"\"\n",
        "import math\n",
        "\n",
        "counter_simple = 0\n",
        "number = 0\n",
        "for i in range(6638225, 6638322 + 1):\n",
        "    counter_simple = 0\n",
        "    for j in range(2, int(math.sqrt(i)) + 1):\n",
        "        if i % j == 0:\n",
        "            counter_simple += 1\n",
        "    if counter_simple == 0:\n",
        "        number += 1\n",
        "        print(number, i)\n"
      ],
      "execution_count": null,
      "outputs": [
        {
          "output_type": "stream",
          "text": [
            "1 6638227\n",
            "2 6638231\n",
            "3 6638249\n",
            "4 6638251\n",
            "5 6638263\n",
            "6 6638273\n",
            "7 6638299\n",
            "8 6638321\n"
          ],
          "name": "stdout"
        }
      ]
    },
    {
      "cell_type": "markdown",
      "metadata": {
        "id": "hC857_2FEfQ1"
      },
      "source": [
        "*Правильное решение*"
      ]
    },
    {
      "cell_type": "code",
      "metadata": {
        "id": "dF_nH4xcXPvT",
        "colab": {
          "base_uri": "https://localhost:8080/"
        },
        "outputId": "aa9ebfd5-adda-422c-8ca1-1587cce3f416"
      },
      "source": [
        "\"\"\"\n",
        "Задание 25 (№680).\n",
        "Рассматриваются целые числа, принадлежащих числовому отрезку [485617; 529678],\n",
        "которые представляют собой произведение трёх различных простых делителей,\n",
        "оканчивающихся на одну и ту же цифру. В качестве ответа приведите все числа,\n",
        "разность максимального и минимального простых делителей которого меньше 100.\n",
        "Для каждого такого числа сначала запишите само число,\n",
        "а затем разность максимального и минимального простых делителей\n",
        "\n",
        "487813 60\n",
        "497087 60\n",
        "500477 70\n",
        "502793 90\n",
        "508049 50\n",
        "\"\"\"\n",
        "import math\n",
        "simple_counter = 0\n",
        "dividers = []\n",
        "k, j = 0, 0\n",
        "\n",
        "for i in range(485617, 529678 + 1):\n",
        "    simple_counter = 0\n",
        "    dividers = []\n",
        "    for d in range(2, int(math.sqrt(i)) + 1):\n",
        "        if i % d == 0:\n",
        "            k = 0\n",
        "            for j in range(2, int(math.sqrt(d)) + 1):\n",
        "                if d % j == 0:\n",
        "                    k += 1\n",
        "            if k == 0:\n",
        "                simple_counter += 1\n",
        "                dividers.append(d)\n",
        "    if simple_counter == 3:\n",
        "        # if i == 487813:\n",
        "        #     print('487813', dividers)  # 487813 [47, 97, 107]\n",
        "        # if i == 497087:\n",
        "        #     print('497087', dividers)  # 497087 [53, 83, 113]\n",
        "        # if i == 500477:\n",
        "        #     print('500477', dividers)  # 500477 [43, 103, 113]\n",
        "        # if i == 502793:\n",
        "        #     print('502793', dividers)  # 502793 [37, 107, 127]\n",
        "        # if i == 508049:\n",
        "        #     print('508049', dividers)  # 508049 [59, 79, 109]\n",
        "        if dividers[0] * dividers[1] * dividers[2] == i:\n",
        "            difference = dividers[2] - dividers[0]\n",
        "            if difference < 100:\n",
        "                if dividers[0] % 10 == dividers[1] % 10 == dividers[2] % 10:\n",
        "                    print(i, difference)\n"
      ],
      "execution_count": null,
      "outputs": [
        {
          "output_type": "stream",
          "text": [
            "487813 60\n",
            "497087 60\n",
            "500477 70\n",
            "502793 90\n",
            "508049 50\n"
          ],
          "name": "stdout"
        }
      ]
    },
    {
      "cell_type": "markdown",
      "metadata": {
        "id": "ucHuqxRBNiVT"
      },
      "source": [
        "17 ноября 2020\n",
        "* *Правильное решение*"
      ]
    },
    {
      "cell_type": "code",
      "metadata": {
        "id": "EfZvOdLVNjnB",
        "colab": {
          "base_uri": "https://localhost:8080/"
        },
        "outputId": "e058d626-af6b-404d-ae39-ae33eecdb418"
      },
      "source": [
        "\"\"\"\n",
        "Задание 25 (№106).\n",
        "Напишите программу, которая ищет среди целых чисел, принадлежащих числовому отрезку [135790; 163228], \n",
        "числа, сумма натуральных делителей которых больше 460000. \n",
        "Для каждого найденного числа запишите количество делителей и их сумму.\n",
        "В качестве делителей не рассматривать числа 1 и исследуемое число. \n",
        "Так, например, для числа 8 учитываются только делители 2 и 4.\n",
        "Например, для числа 36 имеем следующие делители 2, 3, 4, 6, 9, 12, 18. \n",
        "Следовательно для него необходимо вывести два числа: 7 54\n",
        "\n",
        "142 473759\n",
        "118 462767\n",
        "126 464999\n",
        "118 461969\n",
        "118 477071\n",
        "\"\"\"\n",
        "import math\n",
        "\n",
        "dividers = []\n",
        "\n",
        "for i in range(135790, 163228 + 1):\n",
        "    dividers = []\n",
        "    for j in range(2, int(math.sqrt(i)) + 1):\n",
        "        if i % j == 0:\n",
        "            dividers.append(j)\n",
        "            dividers.append(i // j)\n",
        "    if sum(dividers) > 460000:\n",
        "        print(len(dividers), sum(dividers))\n"
      ],
      "execution_count": null,
      "outputs": [
        {
          "output_type": "stream",
          "text": [
            "142 473759\n",
            "118 462767\n",
            "126 464999\n",
            "118 461969\n",
            "118 477071\n"
          ],
          "name": "stdout"
        }
      ]
    },
    {
      "cell_type": "markdown",
      "metadata": {
        "id": "Zd1opJplEozs"
      },
      "source": [
        "*Правильное решение* (Алина)"
      ]
    },
    {
      "cell_type": "code",
      "metadata": {
        "id": "61_O8v9MO3wn",
        "colab": {
          "base_uri": "https://localhost:8080/"
        },
        "outputId": "2de3f77a-037d-4447-c24f-6e5aaa56ff9d"
      },
      "source": [
        "'''Задание 25 (№106).\n",
        "\n",
        "Напишите программу, которая ищет среди целых чисел, принадлежащих числовому отрезку [135790; 163228], числа, сумма натуральных делителей \n",
        "которых больше 460000. Для каждого найденного числа запишите количество делителей и их сумму. В качестве делителей не рассматривать числа 1 \n",
        "и исследуемое число. Так, например, для числа 8 учитываются только делители 2 и 4.'''\n",
        "from math import sqrt\n",
        "s=0\n",
        "k=0\n",
        "for i in range(135790,163228+1):\n",
        "    s=0\n",
        "    k=0\n",
        "    for j in range(2,int(sqrt(i))+1):\n",
        "        if i%j==0:\n",
        "            s+=j\n",
        "            s+=i//j\n",
        "            k+=2\n",
        "    if s>460000:\n",
        "        print(k,s)\n"
      ],
      "execution_count": null,
      "outputs": [
        {
          "output_type": "stream",
          "text": [
            "142 473759\n",
            "118 462767\n",
            "126 464999\n",
            "118 461969\n",
            "118 477071\n"
          ],
          "name": "stdout"
        }
      ]
    },
    {
      "cell_type": "markdown",
      "metadata": {
        "id": "DY5bclfyEaKO"
      },
      "source": [
        "21 ноября 2020 года. Немного самодеятельности.\n",
        "* *Правильное решение*\n",
        "\n",
        "---\n",
        "\n"
      ]
    },
    {
      "cell_type": "code",
      "metadata": {
        "id": "hViwRzc-EZ12",
        "colab": {
          "base_uri": "https://localhost:8080/"
        },
        "outputId": "08c1bd08-b144-4875-f86d-46395cb1cd88"
      },
      "source": [
        "\"\"\"\n",
        "Задание 25 (№280).\n",
        "Напишите программу, которая ищет среди целых чисел, принадлежащих числовому отрезку [333555; 777999], \n",
        "числа, среди делителей которых есть ровно 35 двузначных чисел. \n",
        "Для каждого найденного числа запишите наименьший и наибольший из них. \n",
        "Так, например, для числа 36 учитываются только делители 12 и 18.\n",
        "Следовательно, для него необходимо вывести два числа:12 18\n",
        "\n",
        "10 96\n",
        "10 99\n",
        "10 99\n",
        "10 91\n",
        "10 99\n",
        "\"\"\"\n",
        "from math import sqrt\n",
        "\n",
        "k = 0\n",
        "dividers = []\n",
        "\n",
        "for i in range(333555, 777999 + 1):\n",
        "    k = 0\n",
        "    dividers = []\n",
        "    for j in range(2, int(sqrt(i)) + 1):\n",
        "        if i % j == 0:\n",
        "            if 9 < j < 100:\n",
        "                k += 1\n",
        "                dividers.append(j)\n",
        "    if len(dividers) == 35:\n",
        "        print(min(dividers), max(dividers))\n"
      ],
      "execution_count": null,
      "outputs": [
        {
          "output_type": "stream",
          "text": [
            "10 96\n",
            "10 99\n",
            "10 99\n",
            "10 91\n",
            "10 99\n"
          ],
          "name": "stdout"
        }
      ]
    },
    {
      "cell_type": "markdown",
      "metadata": {
        "id": "KIDxxF_RZb6P"
      },
      "source": [
        "---\n",
        "23 ноября 2020\n",
        "* **Неправильное решение**"
      ]
    },
    {
      "cell_type": "code",
      "metadata": {
        "id": "RjpSvZNdZdKH"
      },
      "source": [
        "\"\"\"\n",
        "Задание 25 (№224).\n",
        "Напишите программу, которая ищет среди целых чисел, принадлежащих числовому отрезку [228224; 531135], \n",
        "числа, среди делителей которых есть хотя бы 4 различных куба натуральных нечетных чисел. \n",
        "Для каждого найденного числа запишите количество таких делителей и наибольший из них. \n",
        "В качестве делителей не рассматривать число 1. Так, например, для числа 8 учитываются только делители 2 и 4.\n",
        "Например, для числа 54 имеем следующие делители 2, 3, 6, 9, 18, 27. \n",
        "Следовательно для него необходимо вывести два числа: 1 27\n",
        "\n",
        "5 250047\n",
        "5 91125\n",
        "5 91125\n",
        "5 421875\n",
        "5 91125\n",
        "5 250047\n",
        "\"\"\"\n",
        "import math\n",
        "\n",
        "for i in range(228224, 531135 + 1):\n",
        "    dividers = []\n",
        "    for j in range(2, int(math.sqrt(i)) + 1):\n",
        "        cube_t1 = int(j ** (1/3))\n",
        "        cube_t2 = int(i // j ** (1/3))\n",
        "        if j % 2 != 0:\n",
        "            if j == cube_t ** 3:\n",
        "                # print(True, j, cube_t)\n",
        "                dividers.append(j)\n",
        "    if len(dividers) > 4:\n",
        "        print(len(dividers), max(dividers))\n"
      ],
      "execution_count": null,
      "outputs": []
    },
    {
      "cell_type": "markdown",
      "metadata": {
        "id": "67XahKKfNKc9"
      },
      "source": [
        "# 26 задание\r\n",
        "---"
      ]
    },
    {
      "cell_type": "markdown",
      "metadata": {
        "id": "fUtlonmwNNkk"
      },
      "source": [
        "# 27 задание\r\n",
        "---"
      ]
    }
  ]
}