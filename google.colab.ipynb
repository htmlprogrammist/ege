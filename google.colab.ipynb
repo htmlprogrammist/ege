{
  "nbformat": 4,
  "nbformat_minor": 0,
  "metadata": {
    "colab": {
      "name": "Google Colab ЕГЭ ИКТ.ipynb",
      "provenance": [],
      "collapsed_sections": [],
      "toc_visible": true,
      "include_colab_link": true
    },
    "kernelspec": {
      "name": "python3",
      "display_name": "Python 3.8.5 64-bit",
      "metadata": {
        "interpreter": {
          "hash": "aee8b7b246df8f9039afb4144a1f6fd8d2ca17a180786b69acc140d282b71a49"
        }
      }
    }
  },
  "cells": [
    {
      "cell_type": "markdown",
      "metadata": {
        "id": "view-in-github",
        "colab_type": "text"
      },
      "source": [
        "<a href=\"https://colab.research.google.com/github/htmlprogrammist/unified-state-exam/blob/master/google.colab.ipynb\" target=\"_parent\"><img src=\"https://colab.research.google.com/assets/colab-badge.svg\" alt=\"Open In Colab\"/></a>"
      ]
    },
    {
      "cell_type": "markdown",
      "metadata": {
        "id": "EsJsVKNsVHvC"
      },
      "source": [
        "# 15 задание\r\n",
        "---\r\n",
        "**Алгебра логики**  \r\n",
        "Знаки:  \r\n",
        "∨ - дизъюнкция  \r\n",
        "⋀ - конъюнкция  \r\n",
        "→ - импликация  \r\n"
      ]
    },
    {
      "cell_type": "markdown",
      "metadata": {
        "id": "UXe3fHGtQEpd"
      },
      "source": [
        "---\n",
        "Р-35  (демо-2021). Обозначим через ДЕЛ(n,m) утверждение «натуральное число n делится без\n",
        "остатка на натуральное число m».  \n",
        "Для какого наибольшего натурального числа А формула  \n",
        "**¬ДЕЛ(x,А) => (ДЕЛ(x,6) => ¬ДЕЛ(x,9))**  \n",
        "тождественно истинна (то есть принимает значение 1 при любом натуральном значении переменной х)? "
      ]
    },
    {
      "cell_type": "code",
      "metadata": {
        "colab": {
          "base_uri": "https://localhost:8080/"
        },
        "id": "HA52I7o_PHwo",
        "outputId": "9ce2f5f2-a766-4dfd-c84c-c42a88e41e2b"
      },
      "source": [
        "def Del(x, D):  # Проверяет делимость первого аргумента x на второй аргумент D (если x делится на D, возвращается True)\n",
        "    return x % D == 0\n",
        "\n",
        "\n",
        "def F(x, A):  # Функция по заданию\n",
        "    return (not Del(x, A)) <= (Del(x, 6) <= (not Del(x, 9)))\n",
        "\n",
        "\n",
        "# Перебор\n",
        "for A in range(1, 1000):\n",
        "    OK = True\n",
        "    for x in range(1, 1000):\n",
        "        if not F(x, A):\n",
        "            OK = False\n",
        "            break\n",
        "    if OK:\n",
        "        print(A)\n"
      ],
      "execution_count": 33,
      "outputs": [
        {
          "output_type": "stream",
          "text": [
            "1\n",
            "2\n",
            "3\n",
            "6\n",
            "9\n",
            "18\n"
          ],
          "name": "stdout"
        }
      ]
    },
    {
      "cell_type": "markdown",
      "metadata": {
        "id": "vA4WgyqNSTZe"
      },
      "source": [
        "---\n",
        "Р-34.  (С.С. Поляков) Укажите наименьшее целое значение А, при котором выражение  \n",
        "**(5k + 6n > 57) ∨ ((k ≤ A) ⋀ (n < A))**  \n",
        "истинно для любых целых положительных значений k и n."
      ]
    },
    {
      "cell_type": "code",
      "metadata": {
        "id": "jE8dBjysSQSJ",
        "outputId": "27e5189f-4ab9-459b-cf7d-dcfa52c28e8f",
        "colab": {
          "base_uri": "https://localhost:8080/"
        }
      },
      "source": [
        "def F(k, n, A):\n",
        "    return (5*k + 6*n > 57) or ((k <= A) and (n < A))\n",
        "\n",
        "\n",
        "for A in range(1, 1000):\n",
        "    OK = True\n",
        "    for k in range(1, 1000):\n",
        "        for n in range(1, 1000):\n",
        "            if not F(k, n, A):\n",
        "                OK = False\n",
        "                break\n",
        "    if OK:\n",
        "        print(A)\n",
        "        break  # BREAK НЕОБХОДИМ! Нам нужно искать наименьшее, поэтому break позволит получить лишь одно значение\n",
        "        # Если убрать break, то значения А поползут ещё дальше\n"
      ],
      "execution_count": 34,
      "outputs": [
        {
          "output_type": "stream",
          "text": [
            "10\n"
          ],
          "name": "stdout"
        }
      ]
    },
    {
      "cell_type": "markdown",
      "metadata": {
        "id": "0VSnQPEaTm57"
      },
      "source": [
        "---\n",
        "Р-33.  (С.С. Поляков) Укажите наибольшее целое значение А, при котором выражение  \n",
        "**(y – x != 5) ∨ (A < 2x^3 + y) ∨ (A < y^2 + 16)**  \n",
        "истинно для любых целых положительных значений x и y.\n"
      ]
    },
    {
      "cell_type": "code",
      "metadata": {
        "colab": {
          "base_uri": "https://localhost:8080/",
          "height": 86
        },
        "id": "98bOzX8-TwBq",
        "outputId": "97ca072b-d25f-41fb-970e-f1988a821420"
      },
      "source": [
        "result = []\n",
        "\n",
        "\n",
        "def F(x, y, A):\n",
        "    return (y - x != 5) or (A < 2*(x**3) + y) or (A < y**2 + 16)\n",
        "\n",
        "\n",
        "for A in range(1, 100):\n",
        "    OK = True\n",
        "    for x in range(1, 1000):\n",
        "        for y in range(1, 1000):\n",
        "            if not F(x, y, A):\n",
        "                OK = False\n",
        "                break\n",
        "    if OK:\n",
        "        result.append(A)\n",
        "print(max(result))\n",
        "\n",
        "\"\"\" Перебор А, но в обратную сторону\n",
        "for A in range(100, 0, -1):\n",
        "    OK = True\n",
        "    for k in range(1,1000):\n",
        "        for n in range(1,1000):\n",
        "            if not f(k, n, A):\n",
        "                OK = False\n",
        "                break\n",
        "    if OK:\n",
        "        print(A)\n",
        "        break\n",
        "\"\"\"\n"
      ],
      "execution_count": 35,
      "outputs": [
        {
          "output_type": "stream",
          "text": [
            "51\n"
          ],
          "name": "stdout"
        },
        {
          "output_type": "execute_result",
          "data": {
            "application/vnd.google.colaboratory.intrinsic+json": {
              "type": "string"
            },
            "text/plain": [
              "' Перебор А, но в обратную сторону\\nfor A in range(100, 0, -1):\\n    OK = True\\n    for k in range(1,1000):\\n        for n in range(1,1000):\\n            if not f(k, n, A):\\n                OK = False\\n                break\\n    if OK:\\n        print(A)\\n        break\\n'"
            ]
          },
          "metadata": {
            "tags": []
          },
          "execution_count": 35
        }
      ]
    },
    {
      "cell_type": "markdown",
      "metadata": {
        "id": "zat3Bcg-VNwH"
      },
      "source": [
        "---\n",
        "Р-25. Введём выражение M & K, обозначающее поразрядную конъюнкцию M и K (логическое «И» между соответствующими битами двоичной записи). Определите наименьшее натуральное число a, такое что выражение  \n",
        "**(x & 125 != 1) ∨ ((x & 34 = 2) => (x & a = 0))**  \n",
        "тождественно истинно (то есть принимает значение 1 при любом натуральном значении переменной x)?\n"
      ]
    },
    {
      "cell_type": "code",
      "metadata": {
        "colab": {
          "base_uri": "https://localhost:8080/"
        },
        "id": "ObK0td6vVZuH",
        "outputId": "19673bf2-7e4a-4953-f604-039bac853f86"
      },
      "source": [
        "def F(x, A):\n",
        "    return (x & 125 != 1) or ((x & 34 == 2) <= (x & A == 0))\n",
        "\n",
        "\n",
        "for A in range(1, 1000):\n",
        "    allowance = True\n",
        "    for x in range(1, 1000):\n",
        "        if not F(x, A):\n",
        "            allowance = False\n",
        "            break\n",
        "    if allowance:\n",
        "        print(A)\n",
        "        break\n"
      ],
      "execution_count": 36,
      "outputs": [
        {
          "output_type": "stream",
          "text": [
            "4\n"
          ],
          "name": "stdout"
        }
      ]
    },
    {
      "cell_type": "markdown",
      "metadata": {
        "id": "2zR4gijbW6hN"
      },
      "source": [
        "---\n",
        "Р-24. Введём выражение M & K, обозначающее поразрядную конъюнкцию M и K (логическое «И» между соответствующими битами двоичной записи). Определите наименьшее натуральное число a, такое что выражение  \n",
        "**((x & 28 != 0) ∨ (x & 45 != 0)) → ((x & 48 = 0) → (x & A != 0))**  \n",
        "тождественно истинно (то есть принимает значение 1 при любом натуральном значении переменной x)?  \n",
        "*Ответ: 13*\n"
      ]
    },
    {
      "cell_type": "code",
      "metadata": {
        "id": "mkFOXPKHXQJf"
      },
      "source": [
        "def F(x, A):\n",
        "    return ((x * 28 != 0) or (x & 45 != 0)) <= ((x & 48 == 0) <= (x & A != 0))\n",
        "\n",
        "\n",
        "for A in range(1, 100):\n",
        "    allowance = True\n",
        "    for x in range(1, 1000):\n",
        "        if not F(x, A):\n",
        "            allowance = False\n",
        "            break\n",
        "    if allowance:\n",
        "        print(A)\n",
        "        break\n"
      ],
      "execution_count": 37,
      "outputs": []
    },
    {
      "cell_type": "markdown",
      "metadata": {
        "id": "gTIjlUyEkpFT"
      },
      "source": [
        "---"
      ]
    },
    {
      "cell_type": "code",
      "metadata": {
        "colab": {
          "base_uri": "https://localhost:8080/"
        },
        "id": "pGmnEQLs_MQF",
        "outputId": "47e224af-155e-4d77-cc55-49cfadd6a798"
      },
      "source": [
        "def F(x, y, A):\n",
        "    return ((6*x + 4*y != 34) or (A > 5*x + 3*y) and (A > 4*y + 15*x - 35))\n",
        "\n",
        "\n",
        "for A in range(1, 100):\n",
        "    allowance = True\n",
        "    for x in range(1, 1000):\n",
        "        for y in range(1, 1000):\n",
        "            if not F(x, y, A):\n",
        "                allowance = False\n",
        "                break\n",
        "    if allowance:\n",
        "        print(A)\n",
        "        break\n"
      ],
      "execution_count": 38,
      "outputs": [
        {
          "output_type": "stream",
          "text": [
            "45\n"
          ],
          "name": "stdout"
        }
      ]
    },
    {
      "cell_type": "markdown",
      "metadata": {
        "id": "LjTILWTN_8Ua"
      },
      "source": [
        "---\n",
        "Р-20 (М.В. Кузнецова). Обозначим через ДЕЛ(n, m) утверждение «натуральное число n делится без остатка на натуральное число m». Для какого наименьшего натурального числа А формула\n",
        "ДЕЛ(x, А) → ((ДЕЛ(x, 21) + ДЕЛ(x, 35))\n",
        "тождественно истинна (то есть принимает значение 1 при любом натуральном значении переменной х)?  \n",
        "\n",
        "*Ответ: 21*\n"
      ]
    },
    {
      "cell_type": "code",
      "metadata": {
        "colab": {
          "base_uri": "https://localhost:8080/"
        },
        "id": "Z-E0lwMw_whv",
        "outputId": "cbbd5d1b-b353-47bc-d5b8-d2a405316169"
      },
      "source": [
        "def division(m, n):\n",
        "    return m % n == 0\n",
        "\n",
        "\n",
        "def f(x, A):\n",
        "    return division(x, A) <= (division(x, 21) or division(x, 35))\n",
        "\n",
        "\n",
        "for A in range(1, 100):\n",
        "    let = True\n",
        "    for x in range(1, 1000):\n",
        "        if not f(x, A):\n",
        "            let = False\n",
        "    if let:\n",
        "        print(A)\n",
        "        break\n"
      ],
      "execution_count": 39,
      "outputs": [
        {
          "output_type": "stream",
          "text": [
            "21\n"
          ],
          "name": "stdout"
        }
      ]
    },
    {
      "cell_type": "markdown",
      "metadata": {
        "id": "i52Syjr4BOP0"
      },
      "source": [
        "---\n",
        "Р-18. Пусть P – множество всех 8-битовых цепочек, начинающихся с 1,  Q – множество всех 8-битовых цепочек, оканчивающихся на 000, а A – некоторое множество произвольных 8-битовых цепочек. Сколько элементов содержит минимальное множество A, при котором для любой 8-битовой цепочки x истинно выражение  \n",
        "\n",
        " ¬(x принадлежит A) → (¬(x принадлежит P) ∨ (x принадлежит Q)) "
      ]
    },
    {
      "cell_type": "code",
      "metadata": {
        "colab": {
          "base_uri": "https://localhost:8080/"
        },
        "id": "veP7tJCZBa8q",
        "outputId": "add8ad5f-97f3-4a28-a887-7b8fe0804963"
      },
      "source": [
        "P = {i for i in range(128,256)} # множество Р\n",
        "Q = {i for i in range(0,256,8)} # множество Q\n",
        "print(len(P-Q))\n"
      ],
      "execution_count": 40,
      "outputs": [
        {
          "output_type": "stream",
          "text": [
            "112\n"
          ],
          "name": "stdout"
        }
      ]
    },
    {
      "cell_type": "markdown",
      "metadata": {
        "id": "Ok7HzNrRbWj-"
      },
      "source": [
        "# 17 задание\n",
        "---\n",
        "Перебор целых чисел на заданном отрезке. Проверка делимости  \n",
        "Если ответ содержится внутри текстового задания, то это задание вызвало трудности"
      ]
    },
    {
      "cell_type": "code",
      "metadata": {
        "colab": {
          "base_uri": "https://localhost:8080/"
        },
        "id": "VnGRJ2IxbkVS",
        "outputId": "76924029-5668-47df-bd17-0a520c536a4e"
      },
      "source": [
        "\"\"\"\n",
        "Рассматривается множество целых чисел, принадлежащих числовому отрезку [3089; 9715], \n",
        "которые не делятся нацело на 7, 8, 9, 13 и являются четными.\n",
        "Найдите количество таких чисел и максимальное из них.\n",
        "\"\"\"\n",
        "\n",
        "counter = 0\n",
        "mx = 0\n",
        "\n",
        "for i in range(3089, 9715 + 1):\n",
        "    if i % 7 != 0 and i % 8 != 0 and i % 9 != 0 and i % 13 != 0 and i % 2 == 0:\n",
        "        counter += 1\n",
        "        mx = i\n",
        "print(counter, mx)\n"
      ],
      "execution_count": 13,
      "outputs": [
        {
          "output_type": "stream",
          "text": [
            "1749 9714\n"
          ],
          "name": "stdout"
        }
      ]
    },
    {
      "cell_type": "code",
      "metadata": {
        "colab": {
          "base_uri": "https://localhost:8080/"
        },
        "id": "vbwDorEMccD7",
        "outputId": "c7777591-1fec-4b69-81b7-b41482a949a0"
      },
      "source": [
        "\"\"\"\n",
        "Рассматривается множество целых чисел, принадлежащих числовому отрезку [3712; 8432],\n",
        "которые удовлетворяют следующим условиям:\n",
        "− запись в двоичной и четверичной системах счисления заканчивается одинаковой цифрой;\n",
        "− кратны 13, 14 или 15.\n",
        "Найдите количество таких чисел и минимальное из них.\n",
        "\"\"\"\n",
        "counter = 0\n",
        "\n",
        "for i in range(8432, 3712 + 1, -1):\n",
        "    current_binary_number_i = i\n",
        "    current_quaternary_number_i = i\n",
        "    binary_number_i = ''\n",
        "    quaternary_number_i = ''\n",
        "    while current_binary_number_i > 0:\n",
        "        binary_number_i = str(current_binary_number_i % 2) + binary_number_i\n",
        "        current_binary_number_i //= 2\n",
        "    while current_quaternary_number_i > 0:\n",
        "        quaternary_number_i = str(current_quaternary_number_i % 4) + quaternary_number_i\n",
        "        current_quaternary_number_i //= 4\n",
        "    if binary_number_i[-1] == quaternary_number_i[-1]:\n",
        "        if i % 13 == 0 or i % 14 == 0 or i % 15 == 0:\n",
        "            counter += 1\n",
        "            min_i = i\n",
        "print(counter, min_i)\n"
      ],
      "execution_count": 14,
      "outputs": [
        {
          "output_type": "stream",
          "text": [
            "471 3720\n"
          ],
          "name": "stdout"
        }
      ]
    },
    {
      "cell_type": "code",
      "metadata": {
        "id": "kBzcFJVFiGtG",
        "colab": {
          "base_uri": "https://localhost:8080/"
        },
        "outputId": "ff67c3a2-5404-4fed-8f92-503a75ada714"
      },
      "source": [
        "\"\"\"\n",
        "Рассматривается множество целых чисел, принадлежащих числовому отрезку [246815; 875621], \n",
        "которые удовлетворяют следующим условиям:\n",
        "− третья и четвертая цифры образуют число меньшее 50;\n",
        "− число, составленное из трех старших разрядов, имеет остаток от деления на 5 такой же, \n",
        "как число, составленное из младших трех разрядов.\n",
        "Найдите наибольшее из таких чисел и их количество.\n",
        "Для выполнения этого задания можно написать программу или воспользоваться редактором электронных таблиц. \n",
        "\"\"\"\n",
        "counter = 0\n",
        "\n",
        "for i in range(246815, 875621 + 1):\n",
        "    if i % 100 < 50:\n",
        "        if ((i // 1000) % 5) == ((i % 1000) % 5):\n",
        "            counter += 1\n",
        "            mx = i\n",
        "\n",
        "print(mx, counter)\n"
      ],
      "execution_count": 15,
      "outputs": [
        {
          "output_type": "stream",
          "text": [
            "875620 62882\n"
          ],
          "name": "stdout"
        }
      ]
    },
    {
      "cell_type": "code",
      "metadata": {
        "colab": {
          "base_uri": "https://localhost:8080/"
        },
        "id": "nnPQmv4KYo2k",
        "outputId": "83b49c7f-b82f-43b6-859f-571b87c44744"
      },
      "source": [
        "\"\"\"\n",
        "Рассматривается множество целых чисел, принадлежащих числовому отрезку [8800; 55535], которые удовлетворяют следующим условиям:\n",
        "− произведение разрядов больше 35;\n",
        "− один из разрядов равен 7.\n",
        "Найдите наибольшее из таких чисел и их количество.\n",
        "Для выполнения этого задания можно написать программу или воспользоваться редактором электронных таблиц. \n",
        "\"\"\"\n",
        "counter = 0\n",
        "\n",
        "for i in range(8800, 55535 + 1):\n",
        "    number = i\n",
        "    seven = False\n",
        "    multiplication = 1\n",
        "    while number > 0:\n",
        "        number_last = number % 10\n",
        "        if number_last == 7:\n",
        "            seven = True\n",
        "        multiplication *= number_last\n",
        "        number //= 10\n",
        "    if seven and multiplication > 35:\n",
        "        counter += 1\n",
        "        mx = i\n",
        "print(mx, counter)\n"
      ],
      "execution_count": 16,
      "outputs": [
        {
          "output_type": "stream",
          "text": [
            "55527 10958\n"
          ],
          "name": "stdout"
        }
      ]
    },
    {
      "cell_type": "code",
      "metadata": {
        "colab": {
          "base_uri": "https://localhost:8080/"
        },
        "id": "kGHB3zzrbFVg",
        "outputId": "0a668f0c-10c2-4a07-a5f9-43721781ec80"
      },
      "source": [
        "\"\"\"\n",
        "Рассматривается множество целых чисел, принадлежащих числовому отрезку [1016; 7937], \n",
        "которые делятся на 3 и не делятся на 7, 17, 19, 27. \n",
        "Найдите количество таких чисел и максимальное из них. \n",
        "В ответе запишите два целых числа: сначала количество, затем максимальное число. \n",
        "Для выполнения этого задания можно написать программу или воспользоваться редактором электронных таблиц. \n",
        "\"\"\"\n",
        "counter = 0\n",
        "\n",
        "for i in range(1016, 7937 + 1):\n",
        "    if i % 3 == 0 and i % 7 != 0 and i % 17 != 0 and i % 19 != 0 and i % 27 != 0:\n",
        "        counter += 1\n",
        "        mx = i\n",
        "print(counter, mx)\n"
      ],
      "execution_count": 17,
      "outputs": [
        {
          "output_type": "stream",
          "text": [
            "1568 7935\n"
          ],
          "name": "stdout"
        }
      ]
    },
    {
      "cell_type": "code",
      "metadata": {
        "colab": {
          "base_uri": "https://localhost:8080/"
        },
        "id": "YI1Z8FNJbooP",
        "outputId": "805b3bf1-a9be-4a5b-8e6d-140b92370420"
      },
      "source": [
        "\"\"\"\n",
        "Рассматривается множество целых чисел, принадлежащих числовому отрезку [9999; 99999], \n",
        "которые кратны сумме своих цифр. Найдите количество таких чисел и максимальное из них. \n",
        "В ответе запишите два целых числа: сначала количество, затем – максимальное число.\n",
        "Для выполнения этого задания можно написать программу или воспользоваться редактором электронных таблиц.\n",
        "\"\"\"\n",
        "counter = 0\n",
        "\n",
        "for i in range(9999, 99999 + 1):\n",
        "    number = i\n",
        "    summa = 0\n",
        "    while number > 0:\n",
        "        number_last = number % 10\n",
        "        summa += number_last\n",
        "        number //= 10\n",
        "    if i % summa == 0:\n",
        "        counter += 1\n",
        "        mx = i\n",
        "\n",
        "print(counter, mx)\n"
      ],
      "execution_count": 18,
      "outputs": [
        {
          "output_type": "stream",
          "text": [
            "10334 99972\n"
          ],
          "name": "stdout"
        }
      ]
    },
    {
      "cell_type": "code",
      "metadata": {
        "colab": {
          "base_uri": "https://localhost:8080/"
        },
        "id": "yWv7j4F5cdxA",
        "outputId": "42e594f0-f6a9-4866-9543-defee3b10dda"
      },
      "source": [
        "\"\"\"\n",
        "Рассматривается множество целых чисел, принадлежащих числовому отрезку [1000; 9999], \n",
        "запись которых в пятеричной системе имеет не менее 6 цифр и заканчивается на 21 или 23. \n",
        "Найдите количество таких чисел и минимальное из них.\n",
        "\"\"\"\n",
        "counter = 0\n",
        "\n",
        "for i in range(9999, 1000 + 1, -1):\n",
        "    number = i\n",
        "    fivefold = ''\n",
        "    while number > 0:\n",
        "        fivefold = str(number % 5) + fivefold\n",
        "        number //= 5\n",
        "    # if len(fivefold) >= 6 and (filefold[-1] == '1' or filefold[-1] == '3') and filefold[-2] == '2': \n",
        "    # NameError: name 'filefold' is not defined\n",
        "    if len(fivefold) >= 6:\n",
        "        if (fivefold[-1] == '1' or fivefold[-1] == '3') and fivefold[-2] == '2':\n",
        "            counter += 1\n",
        "            mx = i\n",
        "\n",
        "print(counter, mx)\n"
      ],
      "execution_count": 19,
      "outputs": [
        {
          "output_type": "stream",
          "text": [
            "550 3136\n"
          ],
          "name": "stdout"
        }
      ]
    },
    {
      "cell_type": "code",
      "metadata": {
        "colab": {
          "base_uri": "https://localhost:8080/"
        },
        "id": "hiSPO7b7mYtx",
        "outputId": "7de6f530-5a29-4ad6-8853-e6a229104486"
      },
      "source": [
        "\"\"\"\n",
        "Рассматривается множество целых чисел, принадлежащих числовому отрезку [1000, 70000],\n",
        "которые имеют 5 знаков в восьмеричной и 6 знаков в пятеричной записи,\n",
        "а их запись в шестнадцатеричной системе счисления заканчивается на 'FA'.\n",
        "Найдите количество таких чисел и максимальное из них.\n",
        "В ответе запишите два целых числа: сначала количество, затем максимальное число.\n",
        "\n",
        "45 15610\n",
        "\"\"\"\n",
        "counter = 0\n",
        "mx = 0\n",
        "\n",
        "for i in range(1000, 70000 + 1):\n",
        "    fivefold = ''\n",
        "    fivefold_i = i\n",
        "    while fivefold_i > 0:\n",
        "        fivefold = str(fivefold_i % 5) + fivefold\n",
        "        fivefold_i //= 5\n",
        "    if len(oct(i)) == 7 and len(fivefold) == 6:\n",
        "        if hex(i)[-2] == 'f' and hex(i)[-1] == 'a':\n",
        "            counter += 1\n",
        "            mx = i\n",
        "print(counter, mx)\n"
      ],
      "execution_count": 20,
      "outputs": [
        {
          "output_type": "stream",
          "text": [
            "45 15610\n"
          ],
          "name": "stdout"
        }
      ]
    },
    {
      "cell_type": "code",
      "metadata": {
        "colab": {
          "base_uri": "https://localhost:8080/"
        },
        "id": "Crcya2gcm3QQ",
        "outputId": "bc370095-b592-47b6-d872-c0ace01e4866"
      },
      "source": [
        "\"\"\"\n",
        "Рассматривается множество целых чисел, принадлежащих числовому отрезку [2568; 7858],\n",
        "которые удовлетворяют следующим условиям:\n",
        "− делятся на 4 или на 5;\n",
        "− не делятся на 11, 20, 27.\n",
        "Найдите минимальное и максимальное из таких чисел.\n",
        "\n",
        "2568 7856\n",
        "\"\"\"\n",
        "numbers = []\n",
        "\n",
        "for i in range(2568, 7858 + 1):\n",
        "    if i % 4 == 0 or i % 5 == 0:\n",
        "        if i % 11 != 0 and i % 20 != 0 and i % 27 != 0:\n",
        "            numbers.append(i)\n",
        "\n",
        "print(min(numbers), max(numbers))\n"
      ],
      "execution_count": 21,
      "outputs": [
        {
          "output_type": "stream",
          "text": [
            "2568 7856\n"
          ],
          "name": "stdout"
        }
      ]
    },
    {
      "cell_type": "code",
      "metadata": {
        "colab": {
          "base_uri": "https://localhost:8080/"
        },
        "id": "mJSl-agSm56k",
        "outputId": "90a19532-7270-4220-9c92-021ee1066b83"
      },
      "source": [
        "\"\"\"\n",
        "Рассматривается множество целых чисел, принадлежащих числовому отрезку [1234567; 7654321],\n",
        "которые кратны разнице двух чисел, полученных из двух старших и двух младших разрядов.\n",
        "Например, для числа 2435467 два числа будут 24 и 67.\n",
        "Соответствующая разница – 43.\n",
        "\n",
        "Найдите количество таких чисел и максимальное из них.\n",
        "В ответе запишите два целых числа:\n",
        "сначала количество, затем – максимальное число.\n",
        "\"\"\"\n",
        "counter = 0\n",
        "mx = 0\n",
        "\n",
        "for i in range(1234567, 7654321 + 1):\n",
        "    first_two = i // 100000\n",
        "    last_two = i % 100\n",
        "    difference = abs(last_two - first_two)\n",
        "    if difference != 0 and i % difference == 0:\n",
        "        counter += 1\n",
        "        mx = i\n",
        "\n",
        "print(counter, mx)  # 565701 7654318\n"
      ],
      "execution_count": 22,
      "outputs": [
        {
          "output_type": "stream",
          "text": [
            "565701 7654318\n"
          ],
          "name": "stdout"
        }
      ]
    },
    {
      "cell_type": "code",
      "metadata": {
        "colab": {
          "base_uri": "https://localhost:8080/"
        },
        "id": "vPvjF8B2m8ce",
        "outputId": "a8b51192-c1a9-4c69-bffd-d30338bb2c3f"
      },
      "source": [
        "\"\"\"\n",
        "Рассматривается множество целых чисел, принадлежащих числовому отрезку [1476; 7039],\n",
        "которые удовлетворяют следующим условиям:\n",
        "− кратны 2, но не кратны 16;\n",
        "− цифра в разряде десятков не менее 4.\n",
        "Найдите количество таких чисел и\n",
        "среднее арифметическое минимального и максимального из них.\n",
        "Обратите внимание на то, что второе число не должно содержать десятичной запятой.\n",
        "\n",
        "1455 4237\n",
        "\"\"\"\n",
        "counter = 0\n",
        "numbers = []\n",
        "\n",
        "for i in range(1476, 7039 + 1):\n",
        "    number = i\n",
        "    digits = []\n",
        "    while number > 0:\n",
        "        last_digit = number % 10\n",
        "        digits.append(last_digit)\n",
        "        number //= 10\n",
        "    if i % 2 == 0 and i % 16 != 0 and digits[1] >= 4:\n",
        "        counter += 1\n",
        "        numbers.append(i)\n",
        "\n",
        "print(counter, (max(numbers) + min(numbers)) // 2)\n"
      ],
      "execution_count": 23,
      "outputs": [
        {
          "output_type": "stream",
          "text": [
            "1455 4237\n"
          ],
          "name": "stdout"
        }
      ]
    },
    {
      "cell_type": "code",
      "metadata": {
        "colab": {
          "base_uri": "https://localhost:8080/"
        },
        "id": "g5XHSN8Vm-Ve",
        "outputId": "e5bd470c-43b1-495c-de35-e67df715260a"
      },
      "source": [
        "\"\"\"\n",
        "Рассматривается множество целых чисел, принадлежащих числовому\n",
        "отрезку [4563; 7912], которые удовлетворяют следующим условиям:\n",
        "− число кратно 7;\n",
        "− сумма старшего и младшего разрядов больше 10.\n",
        "Найдите наибольшее из таких чисел и их количество.\n",
        "\"\"\"\n",
        "counter = 0\n",
        "mx = 0\n",
        "\n",
        "for i in range(4563, 7912 + 1):\n",
        "    first = i // 1000\n",
        "    last = i % 10\n",
        "    if i % 7 == 0 and (first + last) > 10:\n",
        "        counter += 1\n",
        "        mx = i\n",
        "\n",
        "print(mx, counter)\n"
      ],
      "execution_count": 24,
      "outputs": [
        {
          "output_type": "stream",
          "text": [
            "7896 225\n"
          ],
          "name": "stdout"
        }
      ]
    },
    {
      "cell_type": "markdown",
      "metadata": {
        "id": "XSfwMGWEanCS"
      },
      "source": [
        "# 22 задание\n",
        "---"
      ]
    },
    {
      "cell_type": "markdown",
      "metadata": {
        "id": "4_pqkLu2aqUo"
      },
      "source": [
        "**Задание 22 (№703).**\n",
        "\n",
        "Получив на вход натуральное число x, этот алгоритм печатает два числа: a и b.  \n",
        "Укажите наибольшее трёхзначное натуральное число, при вводе которого алгоритм печатает сначала 1, а потом 8.\n",
        "```\n",
        "x = int(input())\n",
        "a = 0\n",
        "b = 1\n",
        "while x > 0:\n",
        "    if x % 2 > 0:\n",
        "        a = a + (x % 11)\n",
        "    else:\n",
        "        b = b * (x % 11)\n",
        "    x = x // 11\n",
        "print(a)\n",
        "print(b)\n",
        "```"
      ]
    },
    {
      "cell_type": "code",
      "metadata": {
        "id": "vxE-8z9zapza",
        "colab": {
          "base_uri": "https://localhost:8080/"
        },
        "outputId": "7e1c2cb4-85ec-4331-fa9b-c14472927279"
      },
      "source": [
        "answer_a = 1\n",
        "answer_b = 8\n",
        "answers = []\n",
        "x = 0\n",
        "while x < 1000:\n",
        "    number = x\n",
        "    a = 0\n",
        "    b = 1\n",
        "    while number > 0:\n",
        "        if number % 2 > 0:\n",
        "            a = a + (number % 11)\n",
        "        else:\n",
        "            b = b * (number % 11)\n",
        "        number = number // 11\n",
        "    if answer_a == a and answer_b == b:\n",
        "        answers.append(x)\n",
        "    x += 1\n",
        "\n",
        "print(answers)\n",
        "print(max(answers))\n"
      ],
      "execution_count": null,
      "outputs": [
        {
          "output_type": "stream",
          "text": [
            "[89, 140, 287, 507, 979, 980]\n",
            "980\n"
          ],
          "name": "stdout"
        }
      ]
    },
    {
      "cell_type": "code",
      "metadata": {
        "id": "xYtkueyv91oK",
        "outputId": "a2135a3a-509e-494c-af6c-8c98f05a48a6",
        "colab": {
          "base_uri": "https://localhost:8080/"
        }
      },
      "source": [
        "# L и М, сначала 4, потом 8\n",
        "\n",
        "# x = int(input())\n",
        "# Q = 7\n",
        "# L = 0\n",
        "# while L < x:\n",
        "#     L = L + Q\n",
        "#\n",
        "# L = Q - L + x\n",
        "# if L == Q:\n",
        "#     L = 0\n",
        "# M = (x - L)\n",
        "#\n",
        "# if M < L:\n",
        "#     M, L = L, M\n",
        "#\n",
        "# print(L)\n",
        "# print(M)\n",
        "\n",
        "x = 0\n",
        "answers = []\n",
        "answer_L = 4\n",
        "answer_M = 8\n",
        "# while x < 10000:\n",
        "while x < 200:\n",
        "    number = x\n",
        "    L = 0\n",
        "    Q = 7\n",
        "    while L < number:\n",
        "        L = L + Q\n",
        "\n",
        "    L = Q - L + number\n",
        "    if L == Q:\n",
        "        L = 0\n",
        "    M = (number - L) // Q\n",
        "\n",
        "    if M < L:\n",
        "        M, L = L, M\n",
        "    if L == answer_L and M == answer_M:\n",
        "        answers.append(x)\n",
        "    x += 1\n",
        "print(answers)\n",
        "print(max(answers))\n"
      ],
      "execution_count": 1,
      "outputs": [
        {
          "output_type": "stream",
          "text": [
            "[60]\n",
            "60\n"
          ],
          "name": "stdout"
        }
      ]
    },
    {
      "cell_type": "code",
      "metadata": {
        "id": "jgXGdA0R-BTc",
        "outputId": "1c9726d5-1e06-442f-bcb9-67302077d50c",
        "colab": {
          "base_uri": "https://localhost:8080/"
        }
      },
      "source": [
        "\"\"\"\n",
        "Задание 22 (№585).\n",
        "Ниже на четырех языках программирования записан алгоритм.\n",
        "Получив на вход натуральное десятичное число x, этот алгоритм печатает число S.\n",
        "Укажите наименьшее число x, большее 50,\n",
        "при вводе которого на экран будет выведено число 1.\n",
        "\"\"\"\n",
        "x = int(input())\n",
        "S = 0\n",
        "while x > 0:\n",
        "    if x % 2 > 0:\n",
        "        S = S + (x % 7)\n",
        "    else:\n",
        "        S = S - (x % 7)\n",
        "    x = x // 7\n",
        "print(S)\n",
        "print('Ответ по смыслу', [57, 73, 89, 101, 107, 117, 119, 169, 185])\n",
        "print('Ответ задания: ', 57)\n",
        "\n",
        "\n",
        "x = 50\n",
        "answer = 1\n",
        "answers = []\n",
        "\n",
        "while x < 200:\n",
        "    number = x\n",
        "    S = 0\n",
        "    while number > 0:\n",
        "        if number % 2 > 0:\n",
        "            S = S + (number % 7)\n",
        "        else:\n",
        "            S = S - (number % 7)\n",
        "        number = number // 7\n",
        "    if S == answer:\n",
        "        answers.append(x)\n",
        "    x += 1\n",
        "\n",
        "print(answers)\n",
        "print(min(answers))\n"
      ],
      "execution_count": 2,
      "outputs": [
        {
          "output_type": "stream",
          "text": [
            "57\n",
            "1\n",
            "Ответ по смыслу [57, 73, 89, 101, 107, 117, 119, 169, 185]\n",
            "Ответ задания:  57\n",
            "[57, 73, 89, 101, 107, 117, 119, 169, 185]\n",
            "57\n"
          ],
          "name": "stdout"
        }
      ]
    },
    {
      "cell_type": "code",
      "metadata": {
        "id": "IxpxhOBf-HuP",
        "outputId": "79fbd499-dfe9-46fe-e1b8-84f439a85c9c",
        "colab": {
          "base_uri": "https://localhost:8080/"
        }
      },
      "source": [
        "\"\"\"\n",
        "Задание 22 (№277).\n",
        "Получив на вход число x, эта программа печатает два числа, a и b.\n",
        "Укажите наименьшее натуральное число,\n",
        "при вводе которого эта программа напечатает сначала 2, потом – 9.\n",
        "\"\"\"\n",
        "print('Ответы по смыслу:', [605, 607, 609, 615, 617, 619, 794, 844, 858, 868])\n",
        "print('Ответ по заданию:', 605)\n",
        "x = int(input())\n",
        "a = 0\n",
        "b = 1\n",
        "while x > 0:\n",
        "    if x % 2 > 0:\n",
        "        a += 1\n",
        "    else:\n",
        "        b += x % 5\n",
        "    x = x // 5\n",
        "print(a, b)\n",
        "\n",
        "answer_a = 2\n",
        "answer_b = 9\n",
        "answers = []\n",
        "x = 0\n",
        "\n",
        "while x < 1000:\n",
        "    number = x\n",
        "    a = 0\n",
        "    b = 1\n",
        "    while number > 0:\n",
        "        if number % 2 > 0:\n",
        "            a += 1\n",
        "        else:\n",
        "            b += number % 5\n",
        "        number = number // 5\n",
        "    if a == answer_a and b == answer_b:\n",
        "        answers.append(x)\n",
        "    x += 1\n",
        "\n",
        "print(answers)\n",
        "print(min(answers))\n"
      ],
      "execution_count": 3,
      "outputs": [
        {
          "output_type": "stream",
          "text": [
            "Ответы по смыслу: [605, 607, 609, 615, 617, 619, 794, 844, 858, 868]\n",
            "Ответ по заданию: 605\n",
            "607\n",
            "2 9\n",
            "[605, 607, 609, 615, 617, 619, 794, 844, 858, 868]\n",
            "605\n"
          ],
          "name": "stdout"
        }
      ]
    },
    {
      "cell_type": "code",
      "metadata": {
        "id": "olNNxy9l-Lj6",
        "outputId": "07ed1476-4c72-41d9-a101-6a7d4ad36382",
        "colab": {
          "base_uri": "https://localhost:8080/"
        }
      },
      "source": [
        "\"\"\"\n",
        "Задание 22 (№677).\n",
        "Укажите минимальное натуральное число,\n",
        "при вводе которого этот алгоритм напечатает число, сумма цифр которого равна 15.\n",
        "\"\"\"\n",
        "\n",
        "x = int(input())\n",
        "L = 0\n",
        "M = 1\n",
        "while x > 0:\n",
        "    L = x % 10 * M + L\n",
        "    x = x // 10\n",
        "    M = M * 10\n",
        "print(L)  # Сумма цифр L будет 15\n",
        "\n",
        "sum_of_L = 0\n",
        "answer_sum_of_L = 15\n",
        "number = 0\n",
        "answers = []\n",
        "while number < 500:\n",
        "    x = number\n",
        "    sum_of_L = 0\n",
        "    L = 0\n",
        "    M = 1\n",
        "    while x > 0:\n",
        "        L = x % 10 * M + L\n",
        "        x = x // 10\n",
        "        M = M * 10\n",
        "    number_L = L\n",
        "    while number_L > 0:\n",
        "        sum_of_L += number_L % 10\n",
        "        number_L //= 10\n",
        "    if sum_of_L == answer_sum_of_L:\n",
        "        answers.append(number)\n",
        "    number += 1\n",
        "\n",
        "print(answers)\n",
        "print(min(answers))\n"
      ],
      "execution_count": 5,
      "outputs": [
        {
          "output_type": "stream",
          "text": [
            "69\n",
            "69\n",
            "[69, 78, 87, 96, 159, 168, 177, 186, 195, 249, 258, 267, 276, 285, 294, 339, 348, 357, 366, 375, 384, 393, 429, 438, 447, 456, 465, 474, 483, 492]\n",
            "69\n"
          ],
          "name": "stdout"
        }
      ]
    },
    {
      "cell_type": "code",
      "metadata": {
        "id": "M_jO-3hl-W2u",
        "outputId": "11654c71-8b0c-493c-ab1e-7d8edad70d4b",
        "colab": {
          "base_uri": "https://localhost:8080/"
        }
      },
      "source": [
        "\"\"\"\n",
        "Задание 22 (№632).\n",
        "Ниже приведён алгоритм.\n",
        "Получив на вход число x, этот алгоритм печатает число S.\n",
        "Укажите наибольшее число x, при вводе которого алгоритм печатает 82.\n",
        "\"\"\"\n",
        "\n",
        "# x = int(input())\n",
        "# P = 90\n",
        "# S = 6 * (x - x % 22)\n",
        "# K = 0\n",
        "# while P < 181:\n",
        "#     K = K + 1\n",
        "#     P = P + K\n",
        "#     S = S - 2 * K\n",
        "# print(S)  # 82\n",
        "\n",
        "\n",
        "answer = 82\n",
        "answers = []\n",
        "x = 0\n",
        "while x < 500:\n",
        "    number = x\n",
        "    P = 90\n",
        "    S = 6 * (number - number % 22)\n",
        "    K = 0\n",
        "    while P < 181:\n",
        "        K = K + 1\n",
        "        P = P + K\n",
        "        S = S - 2 * K\n",
        "    if S == answer:\n",
        "        answers.append(x)\n",
        "    x += 1\n",
        "\n",
        "print(answers)\n",
        "print(max(answers))\n"
      ],
      "execution_count": 6,
      "outputs": [
        {
          "output_type": "stream",
          "text": [
            "[44, 45, 46, 47, 48, 49, 50, 51, 52, 53, 54, 55, 56, 57, 58, 59, 60, 61, 62, 63, 64, 65]\n",
            "65\n"
          ],
          "name": "stdout"
        }
      ]
    },
    {
      "cell_type": "code",
      "metadata": {
        "id": "zgjeAWF1-apV",
        "outputId": "ba8a72ca-20a5-46e6-ad15-f40352c182bd",
        "colab": {
          "base_uri": "https://localhost:8080/"
        }
      },
      "source": [
        "\"\"\"\n",
        "Задание 22 (№784).\n",
        "Получив на вход число d, этот алгоритм печатает число c.\n",
        "Сколько положительных значений d существует таких,\n",
        "что в результате выполнения программы на экран будет выведено число меньше 15?\n",
        "Примечание: abs, iabs – функции, находящие абсолютное значение\n",
        "\"\"\"\n",
        "\n",
        "\n",
        "def F(x):\n",
        "    return abs(x - 4) + abs(x + 6) - 3\n",
        "\n",
        "\n",
        "d = int(input())\n",
        "a = -20\n",
        "b = 20\n",
        "c = 1\n",
        "for t in range(a, b + 1):\n",
        "    if F(t) < d:\n",
        "        c += 1\n",
        "print(c)\n",
        "\n",
        "\n",
        "# d = 1\n",
        "# answers = []\n",
        "# answer = 15\n",
        "# while d < 500:\n",
        "#     a = -20\n",
        "#     b = 20\n",
        "#     c = 1\n",
        "#     for t in range(a, b + 1):\n",
        "#         if F(t) < d:\n",
        "#             c += 1\n",
        "#     if c < answer:\n",
        "#         answers.append(d)\n",
        "#     d += 1\n",
        "#\n",
        "# print(answers)\n",
        "# print(len(answers))\n"
      ],
      "execution_count": 7,
      "outputs": [
        {
          "output_type": "stream",
          "text": [
            "11\n",
            "14\n"
          ],
          "name": "stdout"
        }
      ]
    },
    {
      "cell_type": "code",
      "metadata": {
        "id": "hbhKjRjw-0Zo",
        "outputId": "8f60c595-b578-4821-91c7-4e3eb0c5517f",
        "colab": {
          "base_uri": "https://localhost:8080/"
        }
      },
      "source": [
        "\"\"\"\n",
        "Задание 22 (№503).\n",
        "Ниже на четырех языках программирования записан алгоритм.\n",
        "Получив на вход натуральное десятичное число x, этот алгоритм печатает число S.\n",
        "Сколько существует чисел x, не превышающих 500,\n",
        "при вводе которых результате работы программы на экране будет выведено число 13.\n",
        "\"\"\"\n",
        "\n",
        "# x = int(input())\n",
        "# S = 0\n",
        "# while x > 0:\n",
        "#     if x % 5 > 0:\n",
        "#         S = S + (x % 5)\n",
        "#     else:\n",
        "#         S = S * (x % 5)\n",
        "#     x = x // 5\n",
        "# print(S)\n",
        "\n",
        "\n",
        "# def task(x):\n",
        "#     while x > 0:\n",
        "#         if x % 5 > 0:\n",
        "#             S = S + (x % 5)\n",
        "#         else:\n",
        "#             S = S * (x % 5)\n",
        "#         x = x // 5\n",
        "#     return S\n",
        "\n",
        "\n",
        "answer = 13\n",
        "x = 0\n",
        "a = []\n",
        "while x <= 500:\n",
        "    number = x\n",
        "    S = 0\n",
        "    # task(number)\n",
        "    while number > 0:\n",
        "        if number % 5 > 0:\n",
        "            S = S + (number % 5)\n",
        "        else:\n",
        "            S = S * (number % 5)\n",
        "        number = number // 5\n",
        "    if S == answer:\n",
        "        a.append(x)\n",
        "    x += 1\n",
        "print(len(a))\n"
      ],
      "execution_count": 8,
      "outputs": [
        {
          "output_type": "stream",
          "text": [
            "10\n"
          ],
          "name": "stdout"
        }
      ]
    },
    {
      "cell_type": "code",
      "metadata": {
        "id": "jEnEEOgW-1pc",
        "outputId": "e85919bc-a316-44da-877e-e593794f8395",
        "colab": {
          "base_uri": "https://localhost:8080/"
        }
      },
      "source": [
        "\"\"\"\n",
        "Задание 22 (№585).\n",
        "Ниже на четырех языках программирования записан алгоритм.\n",
        "Получив на вход натуральное десятичное число x, этот алгоритм печатает число S.\n",
        "Укажите наименьшее число x, большее 50,\n",
        "при вводе которого на экран будет выведено число 1.\n",
        "\"\"\"\n",
        "# x = int(input())\n",
        "# S = 0\n",
        "# while x > 0:\n",
        "#     if x % 2 > 0:\n",
        "#         S = S + (x % 7)\n",
        "#     else:\n",
        "#         S = S - (x % 7)\n",
        "#     x = x // 7\n",
        "# print(S)\n",
        "\n",
        "x = 50\n",
        "answer = 1\n",
        "answers = []\n",
        "\n",
        "while x < 200:\n",
        "    number = x\n",
        "    S = 0\n",
        "    while number > 0:\n",
        "        if number % 2 > 0:\n",
        "            S = S + (number % 7)\n",
        "        else:\n",
        "            S = S - (number % 7)\n",
        "        number = number // 7\n",
        "    if S == answer:\n",
        "        answers.append(x)\n",
        "    x += 1\n",
        "\n",
        "print(answers)\n",
        "print(min(answers))\n",
        "\n"
      ],
      "execution_count": 9,
      "outputs": [
        {
          "output_type": "stream",
          "text": [
            "[57, 73, 89, 101, 107, 117, 119, 169, 185]\n",
            "57\n"
          ],
          "name": "stdout"
        }
      ]
    },
    {
      "cell_type": "code",
      "metadata": {
        "id": "gu0gwkUJ-4Wn",
        "outputId": "dc80d3a0-61db-47b0-aa2f-dca8d7672c13",
        "colab": {
          "base_uri": "https://localhost:8080/"
        }
      },
      "source": [
        "\"\"\"\n",
        "Задание 22 (№728).\n",
        "Получив на вход число x, этот алгоритм печатает число M. Известно, что x > 100.\n",
        "Укажите наименьшее такое (т. е. большее 100) число x,\n",
        "при вводе которого алгоритм печатает 9.\n",
        "\"\"\"\n",
        "# x = int(input())\n",
        "# L = x - 18\n",
        "# M = x + 36\n",
        "# while L != M:\n",
        "#     if L > M:\n",
        "#         L = L - M\n",
        "#     else:\n",
        "#         M = M - L\n",
        "# print(M)\n",
        "\n",
        "x = 100\n",
        "answer = 9\n",
        "answers = []\n",
        "\n",
        "while x < 1000:\n",
        "    number = x\n",
        "    L = number - 18\n",
        "    M = number + 36\n",
        "    while L != M:\n",
        "        if L > M:\n",
        "            L = L - M\n",
        "        else:\n",
        "            M = M - L\n",
        "    if M == answer:\n",
        "        answers.append(x)\n",
        "    x += 1\n",
        "\n",
        "print(answers)\n",
        "print(min(answers))\n"
      ],
      "execution_count": 10,
      "outputs": [
        {
          "output_type": "stream",
          "text": [
            "[117, 135, 171, 189, 225, 243, 279, 297, 333, 351, 387, 405, 441, 459, 495, 513, 549, 567, 603, 621, 657, 675, 711, 729, 765, 783, 819, 837, 873, 891, 927, 945, 981, 999]\n",
            "117\n"
          ],
          "name": "stdout"
        }
      ]
    },
    {
      "cell_type": "code",
      "metadata": {
        "id": "WmYbESN9-6xC",
        "outputId": "12685e76-3310-484c-fe14-65ef30e09caa",
        "colab": {
          "base_uri": "https://localhost:8080/"
        }
      },
      "source": [
        "# 22 задание\n",
        "# Сколько существует чисел x, не превышающих 500, при вводе которых программа выведет 13\n",
        "# x = int(input())\n",
        "# S = 0\n",
        "# while x > 0:\n",
        "#     if x % 5 > 0:\n",
        "#         S = S + (x % 5)\n",
        "#     else:\n",
        "#         S = S * (x % 5)\n",
        "#     x = x // 5\n",
        "# print(S)  # 13\n",
        "\n",
        "\n",
        "answer = 13\n",
        "x = 0\n",
        "list_x = []\n",
        "while x <= 500:\n",
        "    S = 0\n",
        "    number = x\n",
        "    while number > 0:\n",
        "        if number % 5 > 0:\n",
        "            S = S + (number % 5)\n",
        "        else:\n",
        "            S = S * (number % 5)\n",
        "        number = number // 5\n",
        "    if S == answer:\n",
        "        list_x.append(x)\n",
        "    x += 1\n",
        "# print(S)  # 13\n",
        "print(list_x)\n",
        "print(len(list_x))\n"
      ],
      "execution_count": 11,
      "outputs": [
        {
          "output_type": "stream",
          "text": [
            "[249, 349, 369, 373, 449, 469, 473, 489, 493, 497]\n",
            "10\n"
          ],
          "name": "stdout"
        }
      ]
    },
    {
      "cell_type": "code",
      "metadata": {
        "id": "LExr2HTq--Yo",
        "outputId": "75ffbc01-7f4d-4979-82c4-f63526943e9b",
        "colab": {
          "base_uri": "https://localhost:8080/"
        }
      },
      "source": [
        "\"\"\"\n",
        "**Задание 22 (№703).**\n",
        "\n",
        "Получив на вход натуральное число x, этот алгоритм печатает два числа: a и b.\n",
        "Укажите наибольшее трёхзначное натуральное число, при вводе которого алгоритм печатает сначала 1, а потом 8.\n",
        "```\n",
        "x = int(input())\n",
        "a = 0\n",
        "b = 1\n",
        "while x > 0:\n",
        "    if x % 2 > 0:\n",
        "        a = a + (x % 11)\n",
        "    else:\n",
        "        b = b * (x % 11)\n",
        "    x = x // 11\n",
        "print(a)\n",
        "print(b)\n",
        "```\n",
        "\"\"\"\n",
        "\n",
        "\n",
        "answer_a = 1\n",
        "answer_b = 8\n",
        "answers = []\n",
        "x = 0\n",
        "while x < 1000:\n",
        "    number = x\n",
        "    a = 0\n",
        "    b = 1\n",
        "    while number > 0:\n",
        "        if number % 2 > 0:\n",
        "            a = a + (number % 11)\n",
        "        else:\n",
        "            b = b * (number % 11)\n",
        "        number = number // 11\n",
        "    if answer_a == a and answer_b == b:\n",
        "        answers.append(x)\n",
        "    x += 1\n",
        "\n",
        "print(answers)\n",
        "print(max(answers))\n"
      ],
      "execution_count": 12,
      "outputs": [
        {
          "output_type": "stream",
          "text": [
            "[89, 140, 287, 507, 979, 980]\n",
            "980\n"
          ],
          "name": "stdout"
        }
      ]
    },
    {
      "cell_type": "markdown",
      "metadata": {
        "id": "MJp3EEfVFjAm"
      },
      "source": [
        "# 24 задание\n",
        "---"
      ]
    },
    {
      "cell_type": "code",
      "metadata": {
        "id": "oZgEHYUec2pm",
        "outputId": "18351a2d-4032-4e2e-8c7a-c3dd6c630adc",
        "colab": {
          "base_uri": "https://localhost:8080/",
          "height": 266
        }
      },
      "source": [
        "\"\"\" OV 24 задание\r\n",
        "Текстовый файл содержит только заглавные буквы латинского алфавита (ABC…Z).\r\n",
        "Определите символ, который чаще всего встречается в файле сразу после буквы A.\r\n",
        "Например, в тексте ABCAABADDD после буквы A два раза стоит B, по одному разу – A и D.\r\n",
        "Для этого текста ответом будет B.\r\n",
        "AB, AA, AB, AD считаются\r\n",
        "\"\"\"\r\n",
        "# https://github.com/htmlprogrammist/unified-state-exam/blob/master/EGE/online-olimpiada-OV/22.txt\r\n",
        "document = open('22.txt')\r\n",
        "a = document.read()\r\n",
        "alphabet = []\r\n",
        "max_counter = 0\r\n",
        "max_counter_index = 0\r\n",
        "\r\n",
        "# chr[65:90]\r\n",
        "\r\n",
        "# Создаю массив с нулями для каждой буквы алфавита\r\n",
        "for j in range(26):\r\n",
        "    alphabet.append(0)\r\n",
        "\r\n",
        "for i in range(len(a) - 1):\r\n",
        "    if a[i] == 'A':\r\n",
        "        symbol = ord(a[i + 1])  # Определяю символ\r\n",
        "        index = symbol - 65  # Место в алфавите\r\n",
        "        alphabet[index] += 1  # Счётчик, сколько раз\r\n",
        "# print(alphabet)\r\n",
        "\r\n",
        "# Нахожу максимальное количество и индекс буквы с максимальным количеством\r\n",
        "for k in range(len(alphabet)):\r\n",
        "    if alphabet[k] > max_counter:\r\n",
        "        max_counter_index = k\r\n",
        "        max_counter = alphabet[k]\r\n",
        "# Используя индекс вывожу букву\r\n",
        "print(chr(max_counter_index + 65))\r\n",
        "# print(max_counter == max(alphabet)) Проверка, совпадают ли значения максимума через функцию Питона\r\n",
        "# и то, как я нашёл максимум\r\n"
      ],
      "execution_count": 41,
      "outputs": [
        {
          "output_type": "error",
          "ename": "FileNotFoundError",
          "evalue": "ignored",
          "traceback": [
            "\u001b[0;31m---------------------------------------------------------------------------\u001b[0m",
            "\u001b[0;31mFileNotFoundError\u001b[0m                         Traceback (most recent call last)",
            "\u001b[0;32m<ipython-input-41-a2911400b594>\u001b[0m in \u001b[0;36m<module>\u001b[0;34m()\u001b[0m\n\u001b[1;32m      8\u001b[0m \u001b[0;31m# https://github.com/htmlprogrammist/unified-state-exam/blob/master/EGE/online-olimpiada-OV/22.txt\u001b[0m\u001b[0;34m\u001b[0m\u001b[0;34m\u001b[0m\u001b[0;34m\u001b[0m\u001b[0m\n\u001b[1;32m      9\u001b[0m \u001b[0;31m# document = open('22.txt')\u001b[0m\u001b[0;34m\u001b[0m\u001b[0;34m\u001b[0m\u001b[0;34m\u001b[0m\u001b[0m\n\u001b[0;32m---> 10\u001b[0;31m \u001b[0mdocument\u001b[0m \u001b[0;34m=\u001b[0m \u001b[0mopen\u001b[0m\u001b[0;34m(\u001b[0m\u001b[0;34m'https://github.com/htmlprogrammist/unified-state-exam/blob/master/EGE/online-olimpiada-OV/22.txt'\u001b[0m\u001b[0;34m)\u001b[0m\u001b[0;34m\u001b[0m\u001b[0;34m\u001b[0m\u001b[0m\n\u001b[0m\u001b[1;32m     11\u001b[0m \u001b[0ma\u001b[0m \u001b[0;34m=\u001b[0m \u001b[0mdocument\u001b[0m\u001b[0;34m.\u001b[0m\u001b[0mread\u001b[0m\u001b[0;34m(\u001b[0m\u001b[0;34m)\u001b[0m\u001b[0;34m\u001b[0m\u001b[0;34m\u001b[0m\u001b[0m\n\u001b[1;32m     12\u001b[0m \u001b[0malphabet\u001b[0m \u001b[0;34m=\u001b[0m \u001b[0;34m[\u001b[0m\u001b[0;34m]\u001b[0m\u001b[0;34m\u001b[0m\u001b[0;34m\u001b[0m\u001b[0m\n",
            "\u001b[0;31mFileNotFoundError\u001b[0m: [Errno 2] No such file or directory: 'https://github.com/htmlprogrammist/unified-state-exam/blob/master/EGE/online-olimpiada-OV/22.txt'"
          ]
        }
      ]
    },
    {
      "cell_type": "markdown",
      "metadata": {
        "id": "iglCtjTkFd3W"
      },
      "source": [
        "# 25 задание\r\n",
        "---"
      ]
    },
    {
      "cell_type": "markdown",
      "metadata": {
        "id": "Pmm_q6CjCfzD"
      },
      "source": [
        "**Неправильное решение**. Комментарий с \"#!\" фиксит это задание и оно станет правильным\n",
        "* [Ссылка на правильное решение](https://colab.research.google.com/github/htmlprogrammist/unified-state-exam/blob/master/google.colab.ipynb?#scrollTo=miyfNQFUOkCg&line=4&uniqifier=1)"
      ]
    },
    {
      "cell_type": "code",
      "metadata": {
        "id": "5gcJCad9SJvV"
      },
      "source": [
        "\"\"\"\n",
        "Напишите программу, которая ищет среди целых чисел, принадлежащих числовому отрезку [326496; 649632],\n",
        "числа, у которых количество четных делителей равно количеству нечетных делителей. При этом\n",
        "в каждой из таких групп делителей не менее 70 элементов. Для каждого найденного числа запишите само число и\n",
        "минимальный делитель, больший 1000.\n",
        "\n",
        "Например, для числа 2018 имеем следующие делители 2 и 1009. Поэтому результатом\n",
        "(не принимая во внимание количества делителей) будет пара чисел 2018 1009\n",
        "\n",
        "450450 1001\n",
        "589050 1050\n",
        "630630 1001\n",
        "\"\"\"\n",
        "\n",
        "counter1 = 0\n",
        "counter2 = 0\n",
        "a = []\n",
        "for i in range(326496, 649632 + 1):\n",
        "    #! counter1 = 0\n",
        "    #! counter2 = 0\n",
        "    for j in range(2, i // 2 + 1):\n",
        "        if i % j == 0:\n",
        "            if j % 2 == 0:\n",
        "                counter1 += 1\n",
        "            else:\n",
        "                counter2 += 1\n",
        "    if counter1 == counter2 and counter1 >= 70:\n",
        "        k = 1001\n",
        "        while i % k != 0:\n",
        "            k += 1\n",
        "        print(i, k)\n",
        "        # print('Есть 70 делитетей')\n",
        "        # if i == 450450 or i == 589050 or i == 630630:\n",
        "        #     print('Ура, есть одно из трёх чисел.')\n",
        "print(a)\n"
      ],
      "execution_count": null,
      "outputs": []
    },
    {
      "cell_type": "markdown",
      "metadata": {
        "id": "UW3tn4kkC57h"
      },
      "source": [
        "*Правильное решение*. Оптимизированное решение [ниже](https://colab.research.google.com/github/htmlprogrammist/unified-state-exam/blob/master/google.colab.ipynb?authuser=1#scrollTo=EfZvOdLVNjnB&line=3&uniqifier=1)."
      ]
    },
    {
      "cell_type": "code",
      "metadata": {
        "id": "DYKtKohg8EPs",
        "colab": {
          "base_uri": "https://localhost:8080/"
        },
        "outputId": "8f0a7a71-e87d-4d80-ef6c-3e333a520ea4"
      },
      "source": [
        "\"\"\"\n",
        "Напишите программу, которая ищет среди целых чисел, принадлежащих числовому отрезку [135790; 163228],\n",
        "числа, сумма натуральных делителей которых больше 460000. Для каждого найденного числа запишите количество\n",
        "делителей и их сумму. В качестве делителей не рассматривать числа 1 и исследуемое число.\n",
        "Так, например, для числа 8 учитываются только делители 2 и 4.\n",
        "Например, для числа 36 имеем следующие делители 2, 3, 4, 6, 9, 12, 18.\n",
        "Следовательно для него необходимо вывести два числа: 7 54\n",
        "\n",
        "Ответы:\n",
        "142 473759\n",
        "118 462767\n",
        "126 464999\n",
        "118 461969\n",
        "118 477071\n",
        "\"\"\"\n",
        "total = 0\n",
        "counter = 0\n",
        "# a = []\n",
        "for i in range(135790, 163228 + 1):\n",
        "    # a = []\n",
        "    counter = 0\n",
        "    total = 0\n",
        "    for j in range(2, i // 2 + 1):\n",
        "        # total = 0\n",
        "        # counter = 0\n",
        "        if i % j == 0:\n",
        "            total += j\n",
        "            counter += 1\n",
        "    # print('total', total)\n",
        "    # print(counter, total)\n",
        "    if total > 460000:\n",
        "        print(counter, total)\n",
        "        # print(a)\n"
      ],
      "execution_count": null,
      "outputs": [
        {
          "output_type": "stream",
          "text": [
            "142 473759\n",
            "118 462767\n",
            "126 464999\n",
            "118 461969\n",
            "118 477071\n"
          ],
          "name": "stdout"
        }
      ]
    },
    {
      "cell_type": "markdown",
      "metadata": {
        "id": "plIagpUZC0jY"
      },
      "source": [
        "*Правильное решение*"
      ]
    },
    {
      "cell_type": "code",
      "metadata": {
        "id": "QHtw7G9BHnFv",
        "colab": {
          "base_uri": "https://localhost:8080/"
        },
        "outputId": "433b1f51-9615-4267-b0c2-c6290da5227f"
      },
      "source": [
        "\"\"\"\n",
        "Задание 25 (№67).\n",
        "Напишите программу, которая ищет среди целых чисел, принадлежащих числовому отрезку [81234; 134689], \n",
        "числа, имеющие ровно три различных натуральных делителя, не считая единицы и самого числа. \n",
        "Для каждого найденного числа запишите эти два делителя в таблицу на экране \n",
        "с новой строки в порядке возрастания произведения этих трех делителей. \n",
        "Делители в строке таблицы также должны следовать в порядке возрастания.\n",
        "\n",
        "17 289 4913 83521\n",
        "19 361 6859 130321\n",
        "\"\"\"\n",
        "import math\n",
        "a = []\n",
        "counter = 0\n",
        "for i in range(81234, 134689+1):\n",
        "    counter = 0\n",
        "    a = []\n",
        "    # for j in range(2, int(math.sqrt(i)) + 1):\n",
        "    for j in range(2, i // 2 + 1):\n",
        "        if i % j == 0:\n",
        "            a.append(j)\n",
        "            # a.append(i // j)\n",
        "            counter += 1\n",
        "    if counter == 3:\n",
        "        print(a[0], a[1], a[2], i)\n"
      ],
      "execution_count": null,
      "outputs": [
        {
          "output_type": "stream",
          "text": [
            "17 289 4913 83521\n",
            "19 361 6859 130321\n"
          ],
          "name": "stdout"
        }
      ]
    },
    {
      "cell_type": "markdown",
      "metadata": {
        "id": "sH14Ypd-K6Ab"
      },
      "source": [
        "Тест. Нечетное количество делителей и int(sqrt(i)). (Оно не работает с нечетным количеством делитетей, поэтому решение, представленное ниже - **неправильное**)"
      ]
    },
    {
      "cell_type": "code",
      "metadata": {
        "id": "tdFaRUiCK2Pz",
        "colab": {
          "base_uri": "https://localhost:8080/"
        },
        "outputId": "d974a5fc-e26f-40f9-ff26-7d05726c1a53"
      },
      "source": [
        "import math\n",
        "a = []\n",
        "counter = 0\n",
        "for i in range(81234, 134689+1):\n",
        "    counter = 0\n",
        "    a = []\n",
        "    for j in range(2, int(math.sqrt(i)) + 1):\n",
        "    # for j in range(2, i // 2 + 1):\n",
        "        if i % j == 0:\n",
        "            a.append(j)\n",
        "            a.append(i // j)\n",
        "            counter += 2\n",
        "    if i == int(math.sqrt(i)) ** 2:\n",
        "        counter += 1\n",
        "        a.append(int(math.sqrt(i)))\n",
        "    if counter == 3:\n",
        "        print(a[0], a[1], a[2])\n",
        "  "
      ],
      "execution_count": null,
      "outputs": [
        {
          "output_type": "stream",
          "text": [
            "293 293 293\n",
            "307 307 307\n",
            "311 311 311\n",
            "313 313 313\n",
            "317 317 317\n",
            "331 331 331\n",
            "337 337 337\n",
            "347 347 347\n",
            "349 349 349\n",
            "353 353 353\n",
            "359 359 359\n",
            "367 367 367\n"
          ],
          "name": "stdout"
        }
      ]
    },
    {
      "cell_type": "markdown",
      "metadata": {
        "id": "0ADBT511DXV0"
      },
      "source": [
        "*Правильное решение* самой первой задачи (+оптимизированное)\n",
        "\n",
        "---\n",
        "\n"
      ]
    },
    {
      "cell_type": "code",
      "metadata": {
        "id": "miyfNQFUOkCg",
        "colab": {
          "base_uri": "https://localhost:8080/"
        },
        "outputId": "23fa5e73-9a8e-4ea7-acff-7ee4079ddd3a"
      },
      "source": [
        "\"\"\"\n",
        "Задание 25 (№315).\n",
        "\n",
        "Напишите программу, которая ищет среди целых чисел, принадлежащих числовому отрезку [326496; 649632],\n",
        "числа, у которых количество четных делителей равно количеству нечетных делителей.\n",
        "При этом в каждой из таких групп делителей не менее 70 элементов.\n",
        "Для каждого найденного числа запишите само число и минимальный делитель, больший 1000.\n",
        "\n",
        "Например, для числа 2018 имеем следующие делители 2 и 1009.\n",
        "Поэтому результатом (не принимая во внимание количества делителей) будет пара чисел 2018 1009\n",
        "\n",
        "450450 1001\n",
        "589050 1050\n",
        "630630 1001\n",
        "\"\"\"\n",
        "import math\n",
        "\n",
        "a = []\n",
        "counter1 = 0\n",
        "counter2 = 0\n",
        "for i in range(326496, 649632 + 1):\n",
        "    sqrt_i = int(math.sqrt(i))\n",
        "    k = 0\n",
        "    counter1 = 0\n",
        "    counter2 = 0\n",
        "    if sqrt_i ** 2 == i:\n",
        "        k += 1\n",
        "    for j in range(2, int(math.sqrt(i)) + 1 - k):\n",
        "        if i % j == 0:\n",
        "            if j % 2 == 0:\n",
        "                counter1 += 1\n",
        "            else:\n",
        "                counter2 += 1\n",
        "            if i // j % 2 == 0:\n",
        "                counter1 += 1\n",
        "            if i // j % 2 != 0:\n",
        "                counter2 += 1\n",
        "    if counter1 == counter2 and counter1 >= 70:\n",
        "        k = 1001\n",
        "        while i % k != 0:\n",
        "            k += 1\n",
        "        print(i, k)\n"
      ],
      "execution_count": null,
      "outputs": [
        {
          "output_type": "stream",
          "text": [
            "450450 1001\n",
            "589050 1050\n",
            "630630 1001\n"
          ],
          "name": "stdout"
        }
      ]
    },
    {
      "cell_type": "markdown",
      "metadata": {
        "id": "7h3pX7lcCE5I"
      },
      "source": [
        "**Неправильное решение.** Правильное будет [ниже](https://colab.research.google.com/github/htmlprogrammist/unified-state-exam/blob/master/google.colab.ipynb?authuser=1#scrollTo=UA0FUlzz3t1j&line=8&uniqifier=1) (от 16 ноября, поэтому лучше просто пролистать)"
      ]
    },
    {
      "cell_type": "code",
      "metadata": {
        "id": "OyRaXsx2qf71"
      },
      "source": [
        "\"\"\"\n",
        "Задание 25 (№506).\n",
        "Напишите программу, которая ищет среди целых чисел, принадлежащих числовому отрезку [25317; 51237],\n",
        "которые имеют хотя бы 6 различных простых делителей. Делители 1 и само число не учитываются.\n",
        "В качестве результата работы программы приведите\n",
        "найденное число и максимальный простой делитель этого числа.\n",
        "\n",
        "30030 13\n",
        "39270 17\n",
        "43890 19\n",
        "46410 17\n",
        "\"\"\"\n",
        "from math import sqrt\n",
        "\n",
        "a = []\n",
        "counter = 0\n",
        "counter_of_simple_numbers = 0\n",
        "\n",
        "for i in range(25317, 51237 + 1):\n",
        "    a = []\n",
        "    counter = 0\n",
        "    # for j in range(2, int(sqrt(i)) + 1):\n",
        "    #     a.append(j)\n",
        "    #     a.append(i // j)\n",
        "    #     counter += 2\n",
        "    for j in range(2, i // 2 + 1):\n",
        "        a.append(j)\n",
        "        counter += 1\n",
        "    if counter >= 6:\n",
        "        for k in range(len(a)):\n",
        "            # print(k, a[k])\n",
        "            # print(a.index(k))\n",
        "            ranger = a[k]\n",
        "            for m in range(1, ranger + 1):\n",
        "                if ranger % m == 0:\n",
        "                    counter_of_simple_numbers += 1\n",
        "    if counter_of_simple_numbers == 2:\n",
        "        print(i, ranger)\n",
        "        # ranger = a[k]\n",
        "        # for k in range(1, ranger + 1):\n",
        "        #     if i % k == 0:\n",
        "        #         counter_of_simple_numbers += 1\n",
        "        # if counter_of_simple_numbers == 2:\n",
        "        #     print(i, k)\n"
      ],
      "execution_count": null,
      "outputs": []
    },
    {
      "cell_type": "markdown",
      "metadata": {
        "id": "VMPO7fSnWycK"
      },
      "source": [
        "16 ноября 2020 года.\n",
        "* *Правильное решение*\n"
      ]
    },
    {
      "cell_type": "code",
      "metadata": {
        "id": "UA0FUlzz3t1j",
        "colab": {
          "base_uri": "https://localhost:8080/"
        },
        "outputId": "f342f281-53ae-4006-8da7-03e8437ad067"
      },
      "source": [
        "\"\"\"\n",
        "Задание 25 (№506).\n",
        "Напишите программу, которая ищет среди целых чисел, принадлежащих числовому отрезку [25317; 51237],\n",
        "которые имеют хотя бы 6 различных простых делителей. Делители 1 и само число не учитываются.\n",
        "В качестве результата работы программы приведите\n",
        "найденное число и максимальный простой делитель этого числа.\n",
        "\n",
        "30030 13\n",
        "39270 17\n",
        "43890 19\n",
        "46410 17\n",
        "\"\"\"\n",
        "import math\n",
        "\n",
        "max_d = 1\n",
        "\n",
        "for i in range(25317, 51237 + 1):\n",
        "    simple_counter = 0\n",
        "    dividers = []\n",
        "    for d in range(2, int(math.sqrt(i)) + 1):\n",
        "        if i % d == 0:\n",
        "            k = 0\n",
        "            for j in range(2, int(math.sqrt(d)) + 1):\n",
        "                if d % j == 0:\n",
        "                    k += 1\n",
        "            if k == 0:\n",
        "                simple_counter += 1\n",
        "                max_d = d\n",
        "    if simple_counter >= 6:\n",
        "        print(i, max_d)\n"
      ],
      "execution_count": null,
      "outputs": [
        {
          "output_type": "stream",
          "text": [
            "30030 13\n",
            "39270 17\n",
            "43890 19\n",
            "46410 17\n"
          ],
          "name": "stdout"
        }
      ]
    },
    {
      "cell_type": "markdown",
      "metadata": {
        "id": "MWh6h2hfXIC9"
      },
      "source": [
        "Домашнее задание: 16 ноября 2020 года"
      ]
    },
    {
      "cell_type": "markdown",
      "metadata": {
        "id": "BU-mCXpyELXO"
      },
      "source": [
        "Тут количество ответов совпало, но числа разные. Причем в их ответах (первые) не принадлежат отрезку [6638225; 6638322], а мои ответы (вторые) - совпадают. Алгоритм верный."
      ]
    },
    {
      "cell_type": "code",
      "metadata": {
        "id": "PgZ2HOYvXNCg",
        "colab": {
          "base_uri": "https://localhost:8080/"
        },
        "outputId": "9cf20bd4-4692-404f-8567-4235b99a4b16"
      },
      "source": [
        "\"\"\"\n",
        "Задание 25 (№706).\n",
        "Напишите программу, которая ищет среди целых чисел,\n",
        "принадлежащих числовому отрезку [6638225; 6638322], простые числа.\n",
        "Выведите все найденные простые числа в порядке возрастания,\n",
        "слева от каждого числа выведите его номер по порядку.\n",
        "\n",
        "1 5336753\n",
        "2 5336761\n",
        "3 5336789\n",
        "4 5336797\n",
        "5 5336801\n",
        "6 5336813\n",
        "7 5336831\n",
        "8 5336833\n",
        "\n",
        "1 6638227\n",
        "2 6638231\n",
        "3 6638249\n",
        "4 6638251\n",
        "5 6638263\n",
        "6 6638273\n",
        "7 6638299\n",
        "8 6638321\n",
        "\"\"\"\n",
        "import math\n",
        "\n",
        "counter_simple = 0\n",
        "number = 0\n",
        "for i in range(6638225, 6638322 + 1):\n",
        "    counter_simple = 0\n",
        "    for j in range(2, int(math.sqrt(i)) + 1):\n",
        "        if i % j == 0:\n",
        "            counter_simple += 1\n",
        "    if counter_simple == 0:\n",
        "        number += 1\n",
        "        print(number, i)\n"
      ],
      "execution_count": null,
      "outputs": [
        {
          "output_type": "stream",
          "text": [
            "1 6638227\n",
            "2 6638231\n",
            "3 6638249\n",
            "4 6638251\n",
            "5 6638263\n",
            "6 6638273\n",
            "7 6638299\n",
            "8 6638321\n"
          ],
          "name": "stdout"
        }
      ]
    },
    {
      "cell_type": "markdown",
      "metadata": {
        "id": "hC857_2FEfQ1"
      },
      "source": [
        "*Правильное решение*"
      ]
    },
    {
      "cell_type": "code",
      "metadata": {
        "id": "dF_nH4xcXPvT",
        "colab": {
          "base_uri": "https://localhost:8080/"
        },
        "outputId": "aa9ebfd5-adda-422c-8ca1-1587cce3f416"
      },
      "source": [
        "\"\"\"\n",
        "Задание 25 (№680).\n",
        "Рассматриваются целые числа, принадлежащих числовому отрезку [485617; 529678],\n",
        "которые представляют собой произведение трёх различных простых делителей,\n",
        "оканчивающихся на одну и ту же цифру. В качестве ответа приведите все числа,\n",
        "разность максимального и минимального простых делителей которого меньше 100.\n",
        "Для каждого такого числа сначала запишите само число,\n",
        "а затем разность максимального и минимального простых делителей\n",
        "\n",
        "487813 60\n",
        "497087 60\n",
        "500477 70\n",
        "502793 90\n",
        "508049 50\n",
        "\"\"\"\n",
        "import math\n",
        "simple_counter = 0\n",
        "dividers = []\n",
        "k, j = 0, 0\n",
        "\n",
        "for i in range(485617, 529678 + 1):\n",
        "    simple_counter = 0\n",
        "    dividers = []\n",
        "    for d in range(2, int(math.sqrt(i)) + 1):\n",
        "        if i % d == 0:\n",
        "            k = 0\n",
        "            for j in range(2, int(math.sqrt(d)) + 1):\n",
        "                if d % j == 0:\n",
        "                    k += 1\n",
        "            if k == 0:\n",
        "                simple_counter += 1\n",
        "                dividers.append(d)\n",
        "    if simple_counter == 3:\n",
        "        # if i == 487813:\n",
        "        #     print('487813', dividers)  # 487813 [47, 97, 107]\n",
        "        # if i == 497087:\n",
        "        #     print('497087', dividers)  # 497087 [53, 83, 113]\n",
        "        # if i == 500477:\n",
        "        #     print('500477', dividers)  # 500477 [43, 103, 113]\n",
        "        # if i == 502793:\n",
        "        #     print('502793', dividers)  # 502793 [37, 107, 127]\n",
        "        # if i == 508049:\n",
        "        #     print('508049', dividers)  # 508049 [59, 79, 109]\n",
        "        if dividers[0] * dividers[1] * dividers[2] == i:\n",
        "            difference = dividers[2] - dividers[0]\n",
        "            if difference < 100:\n",
        "                if dividers[0] % 10 == dividers[1] % 10 == dividers[2] % 10:\n",
        "                    print(i, difference)\n"
      ],
      "execution_count": null,
      "outputs": [
        {
          "output_type": "stream",
          "text": [
            "487813 60\n",
            "497087 60\n",
            "500477 70\n",
            "502793 90\n",
            "508049 50\n"
          ],
          "name": "stdout"
        }
      ]
    },
    {
      "cell_type": "markdown",
      "metadata": {
        "id": "ucHuqxRBNiVT"
      },
      "source": [
        "17 ноября 2020\n",
        "* *Правильное решение*"
      ]
    },
    {
      "cell_type": "code",
      "metadata": {
        "id": "EfZvOdLVNjnB",
        "colab": {
          "base_uri": "https://localhost:8080/"
        },
        "outputId": "e058d626-af6b-404d-ae39-ae33eecdb418"
      },
      "source": [
        "\"\"\"\n",
        "Задание 25 (№106).\n",
        "Напишите программу, которая ищет среди целых чисел, принадлежащих числовому отрезку [135790; 163228], \n",
        "числа, сумма натуральных делителей которых больше 460000. \n",
        "Для каждого найденного числа запишите количество делителей и их сумму.\n",
        "В качестве делителей не рассматривать числа 1 и исследуемое число. \n",
        "Так, например, для числа 8 учитываются только делители 2 и 4.\n",
        "Например, для числа 36 имеем следующие делители 2, 3, 4, 6, 9, 12, 18. \n",
        "Следовательно для него необходимо вывести два числа: 7 54\n",
        "\n",
        "142 473759\n",
        "118 462767\n",
        "126 464999\n",
        "118 461969\n",
        "118 477071\n",
        "\"\"\"\n",
        "import math\n",
        "\n",
        "dividers = []\n",
        "\n",
        "for i in range(135790, 163228 + 1):\n",
        "    dividers = []\n",
        "    for j in range(2, int(math.sqrt(i)) + 1):\n",
        "        if i % j == 0:\n",
        "            dividers.append(j)\n",
        "            dividers.append(i // j)\n",
        "    if sum(dividers) > 460000:\n",
        "        print(len(dividers), sum(dividers))\n"
      ],
      "execution_count": null,
      "outputs": [
        {
          "output_type": "stream",
          "text": [
            "142 473759\n",
            "118 462767\n",
            "126 464999\n",
            "118 461969\n",
            "118 477071\n"
          ],
          "name": "stdout"
        }
      ]
    },
    {
      "cell_type": "markdown",
      "metadata": {
        "id": "Zd1opJplEozs"
      },
      "source": [
        "*Правильное решение* (Алина)"
      ]
    },
    {
      "cell_type": "code",
      "metadata": {
        "id": "61_O8v9MO3wn",
        "colab": {
          "base_uri": "https://localhost:8080/"
        },
        "outputId": "2de3f77a-037d-4447-c24f-6e5aaa56ff9d"
      },
      "source": [
        "'''Задание 25 (№106).\n",
        "\n",
        "Напишите программу, которая ищет среди целых чисел, принадлежащих числовому отрезку [135790; 163228], числа, сумма натуральных делителей \n",
        "которых больше 460000. Для каждого найденного числа запишите количество делителей и их сумму. В качестве делителей не рассматривать числа 1 \n",
        "и исследуемое число. Так, например, для числа 8 учитываются только делители 2 и 4.'''\n",
        "from math import sqrt\n",
        "s=0\n",
        "k=0\n",
        "for i in range(135790,163228+1):\n",
        "    s=0\n",
        "    k=0\n",
        "    for j in range(2,int(sqrt(i))+1):\n",
        "        if i%j==0:\n",
        "            s+=j\n",
        "            s+=i//j\n",
        "            k+=2\n",
        "    if s>460000:\n",
        "        print(k,s)\n"
      ],
      "execution_count": null,
      "outputs": [
        {
          "output_type": "stream",
          "text": [
            "142 473759\n",
            "118 462767\n",
            "126 464999\n",
            "118 461969\n",
            "118 477071\n"
          ],
          "name": "stdout"
        }
      ]
    },
    {
      "cell_type": "markdown",
      "metadata": {
        "id": "DY5bclfyEaKO"
      },
      "source": [
        "21 ноября 2020 года. Немного самодеятельности.\n",
        "* *Правильное решение*\n",
        "\n",
        "---\n",
        "\n"
      ]
    },
    {
      "cell_type": "code",
      "metadata": {
        "id": "hViwRzc-EZ12",
        "colab": {
          "base_uri": "https://localhost:8080/"
        },
        "outputId": "08c1bd08-b144-4875-f86d-46395cb1cd88"
      },
      "source": [
        "\"\"\"\n",
        "Задание 25 (№280).\n",
        "Напишите программу, которая ищет среди целых чисел, принадлежащих числовому отрезку [333555; 777999], \n",
        "числа, среди делителей которых есть ровно 35 двузначных чисел. \n",
        "Для каждого найденного числа запишите наименьший и наибольший из них. \n",
        "Так, например, для числа 36 учитываются только делители 12 и 18.\n",
        "Следовательно, для него необходимо вывести два числа:12 18\n",
        "\n",
        "10 96\n",
        "10 99\n",
        "10 99\n",
        "10 91\n",
        "10 99\n",
        "\"\"\"\n",
        "from math import sqrt\n",
        "\n",
        "k = 0\n",
        "dividers = []\n",
        "\n",
        "for i in range(333555, 777999 + 1):\n",
        "    k = 0\n",
        "    dividers = []\n",
        "    for j in range(2, int(sqrt(i)) + 1):\n",
        "        if i % j == 0:\n",
        "            if 9 < j < 100:\n",
        "                k += 1\n",
        "                dividers.append(j)\n",
        "    if len(dividers) == 35:\n",
        "        print(min(dividers), max(dividers))\n"
      ],
      "execution_count": null,
      "outputs": [
        {
          "output_type": "stream",
          "text": [
            "10 96\n",
            "10 99\n",
            "10 99\n",
            "10 91\n",
            "10 99\n"
          ],
          "name": "stdout"
        }
      ]
    },
    {
      "cell_type": "markdown",
      "metadata": {
        "id": "KIDxxF_RZb6P"
      },
      "source": [
        "---\n",
        "23 ноября 2020\n",
        "* **Неправильное решение**"
      ]
    },
    {
      "cell_type": "code",
      "metadata": {
        "id": "RjpSvZNdZdKH"
      },
      "source": [
        "\"\"\"\n",
        "Задание 25 (№224).\n",
        "Напишите программу, которая ищет среди целых чисел, принадлежащих числовому отрезку [228224; 531135], \n",
        "числа, среди делителей которых есть хотя бы 4 различных куба натуральных нечетных чисел. \n",
        "Для каждого найденного числа запишите количество таких делителей и наибольший из них. \n",
        "В качестве делителей не рассматривать число 1. Так, например, для числа 8 учитываются только делители 2 и 4.\n",
        "Например, для числа 54 имеем следующие делители 2, 3, 6, 9, 18, 27. \n",
        "Следовательно для него необходимо вывести два числа: 1 27\n",
        "\n",
        "5 250047\n",
        "5 91125\n",
        "5 91125\n",
        "5 421875\n",
        "5 91125\n",
        "5 250047\n",
        "\"\"\"\n",
        "import math\n",
        "\n",
        "for i in range(228224, 531135 + 1):\n",
        "    dividers = []\n",
        "    for j in range(2, int(math.sqrt(i)) + 1):\n",
        "        cube_t1 = int(j ** (1/3))\n",
        "        cube_t2 = int(i // j ** (1/3))\n",
        "        if j % 2 != 0:\n",
        "            if j == cube_t ** 3:\n",
        "                # print(True, j, cube_t)\n",
        "                dividers.append(j)\n",
        "    if len(dividers) > 4:\n",
        "        print(len(dividers), max(dividers))\n"
      ],
      "execution_count": null,
      "outputs": []
    },
    {
      "cell_type": "markdown",
      "metadata": {
        "id": "67XahKKfNKc9"
      },
      "source": [
        "# 26 задание\r\n",
        "---"
      ]
    },
    {
      "cell_type": "markdown",
      "metadata": {
        "id": "fUtlonmwNNkk"
      },
      "source": [
        "# 27 задание\r\n",
        "---"
      ]
    }
  ]
}